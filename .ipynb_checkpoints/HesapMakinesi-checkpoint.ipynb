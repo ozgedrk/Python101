{
 "cells": [
  {
   "cell_type": "code",
   "execution_count": 1,
   "id": "fa72e68c-071d-480b-b9d5-3898fde69a06",
   "metadata": {},
   "outputs": [],
   "source": [
    "def topla(*args):\n",
    "    toplam = 0\n",
    "    for i in args:\n",
    "        toplam = toplam + i\n",
    "    return toplam"
   ]
  }
 ],
 "metadata": {
  "kernelspec": {
   "display_name": "Python 3 (ipykernel)",
   "language": "python",
   "name": "python3"
  },
  "language_info": {
   "codemirror_mode": {
    "name": "ipython",
    "version": 3
   },
   "file_extension": ".py",
   "mimetype": "text/x-python",
   "name": "python",
   "nbconvert_exporter": "python",
   "pygments_lexer": "ipython3",
   "version": "3.12.4"
  }
 },
 "nbformat": 4,
 "nbformat_minor": 5
}
