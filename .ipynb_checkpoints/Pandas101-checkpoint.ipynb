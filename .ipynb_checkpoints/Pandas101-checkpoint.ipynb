{
 "cells": [
  {
   "cell_type": "markdown",
   "id": "ed2bfd29-c7c4-4c1c-9be9-92b837439fb1",
   "metadata": {},
   "source": [
    "# Pandas"
   ]
  },
  {
   "cell_type": "code",
   "execution_count": 160,
   "id": "863bb261-bf89-4099-adec-0c5fa2aed9c3",
   "metadata": {},
   "outputs": [],
   "source": [
    "import numpy as np\n",
    "import pandas as pd"
   ]
  },
  {
   "cell_type": "markdown",
   "id": "010bd22e-4a0f-4289-a281-631dc2095bb5",
   "metadata": {},
   "source": [
    "#### Series "
   ]
  },
  {
   "cell_type": "code",
   "execution_count": 161,
   "id": "64c86f24-1b2a-465c-8b45-9663458e14af",
   "metadata": {},
   "outputs": [],
   "source": [
    "myDictionary = {\"Ozge\" : 24, \"Zeynep\" : 40, \"Atil\" : 50, \"Mehmet\" : 30}"
   ]
  },
  {
   "cell_type": "code",
   "execution_count": 162,
   "id": "3973559c-46b9-4cbc-945c-145abd63b1e4",
   "metadata": {},
   "outputs": [
    {
     "data": {
      "text/plain": [
       "pandas.core.series.Series"
      ]
     },
     "execution_count": 162,
     "metadata": {},
     "output_type": "execute_result"
    }
   ],
   "source": [
    "type(pd.Series(myDictionary))"
   ]
  },
  {
   "cell_type": "code",
   "execution_count": 163,
   "id": "18e44480-a51a-48f3-85ad-ed34c95d7039",
   "metadata": {},
   "outputs": [
    {
     "data": {
      "text/plain": [
       "Ozge      24\n",
       "Zeynep    40\n",
       "Atil      50\n",
       "Mehmet    30\n",
       "dtype: int64"
      ]
     },
     "execution_count": 163,
     "metadata": {},
     "output_type": "execute_result"
    }
   ],
   "source": [
    "pd.Series(myDictionary)"
   ]
  },
  {
   "cell_type": "code",
   "execution_count": 164,
   "id": "d492e9d2-6988-4af1-a183-440e33f1d679",
   "metadata": {},
   "outputs": [],
   "source": [
    "myAges = [24,40,30]\n",
    "myNames = [\"Ozge\", \"Zeynep\", \"Mehmet\"]"
   ]
  },
  {
   "cell_type": "code",
   "execution_count": 165,
   "id": "37fbfa93-188e-4a9d-a4d1-880060ffb0f2",
   "metadata": {},
   "outputs": [
    {
     "data": {
      "text/plain": [
       "0    24\n",
       "1    40\n",
       "2    30\n",
       "dtype: int64"
      ]
     },
     "execution_count": 165,
     "metadata": {},
     "output_type": "execute_result"
    }
   ],
   "source": [
    "pd.Series(myAges)"
   ]
  },
  {
   "cell_type": "code",
   "execution_count": 166,
   "id": "82167a1d-28aa-4dfd-9550-d5b481d59ed2",
   "metadata": {},
   "outputs": [
    {
     "data": {
      "text/plain": [
       "0      Ozge\n",
       "1    Zeynep\n",
       "2    Mehmet\n",
       "dtype: object"
      ]
     },
     "execution_count": 166,
     "metadata": {},
     "output_type": "execute_result"
    }
   ],
   "source": [
    "pd.Series(myNames)"
   ]
  },
  {
   "cell_type": "code",
   "execution_count": 167,
   "id": "6d8a840e-cc68-4676-953c-e4a20cdea1cb",
   "metadata": {},
   "outputs": [
    {
     "data": {
      "text/plain": [
       "Ozge      24\n",
       "Zeynep    40\n",
       "Mehmet    30\n",
       "dtype: int64"
      ]
     },
     "execution_count": 167,
     "metadata": {},
     "output_type": "execute_result"
    }
   ],
   "source": [
    "pd.Series(myAges,myNames)"
   ]
  },
  {
   "cell_type": "code",
   "execution_count": 168,
   "id": "c8ffa4f7-aed6-4827-9f26-97a16229cd18",
   "metadata": {},
   "outputs": [],
   "source": [
    "numpyArray = np.array([24,40,30])"
   ]
  },
  {
   "cell_type": "code",
   "execution_count": 169,
   "id": "4fcd1076-5ea0-4dfe-b93f-a2a3507d6ab1",
   "metadata": {},
   "outputs": [
    {
     "data": {
      "text/plain": [
       "array([24, 40, 30])"
      ]
     },
     "execution_count": 169,
     "metadata": {},
     "output_type": "execute_result"
    }
   ],
   "source": [
    "numpyArray"
   ]
  },
  {
   "cell_type": "code",
   "execution_count": 170,
   "id": "add2cbd2-2eb2-4fbd-bd74-a84e566bc9c6",
   "metadata": {},
   "outputs": [
    {
     "data": {
      "text/plain": [
       "0    24\n",
       "1    40\n",
       "2    30\n",
       "dtype: int64"
      ]
     },
     "execution_count": 170,
     "metadata": {},
     "output_type": "execute_result"
    }
   ],
   "source": [
    "pd.Series(numpyArray)"
   ]
  },
  {
   "cell_type": "code",
   "execution_count": 171,
   "id": "0dc78ec3-cf50-4fc2-b221-d7299a1444bf",
   "metadata": {},
   "outputs": [
    {
     "data": {
      "text/plain": [
       "Ozge      24\n",
       "Zeynep    40\n",
       "Mehmet    30\n",
       "dtype: int64"
      ]
     },
     "execution_count": 171,
     "metadata": {},
     "output_type": "execute_result"
    }
   ],
   "source": [
    "pd.Series(numpyArray,myNames)"
   ]
  },
  {
   "cell_type": "code",
   "execution_count": 172,
   "id": "741134f2-74e7-4cc7-b8a1-5c9d2049bcf5",
   "metadata": {},
   "outputs": [
    {
     "data": {
      "text/plain": [
       "1     Atil\n",
       "2    Atlas\n",
       "3    Osman\n",
       "dtype: object"
      ]
     },
     "execution_count": 172,
     "metadata": {},
     "output_type": "execute_result"
    }
   ],
   "source": [
    "pd.Series([\"Atil\",\"Atlas\",\"Osman\"],[1,2,3])"
   ]
  },
  {
   "cell_type": "code",
   "execution_count": 173,
   "id": "359dd624-daef-4b69-bda1-db828385d394",
   "metadata": {},
   "outputs": [],
   "source": [
    "yarismaSonucu1 = pd.Series([10,5,1],[\"Atil\",\"Atlas\",\"Osman\"])"
   ]
  },
  {
   "cell_type": "code",
   "execution_count": 174,
   "id": "b6ac422d-fa5f-45ca-b48f-89e0a0f034bd",
   "metadata": {},
   "outputs": [
    {
     "data": {
      "text/plain": [
       "Atil     10\n",
       "Atlas     5\n",
       "Osman     1\n",
       "dtype: int64"
      ]
     },
     "execution_count": 174,
     "metadata": {},
     "output_type": "execute_result"
    }
   ],
   "source": [
    "yarismaSonucu1"
   ]
  },
  {
   "cell_type": "code",
   "execution_count": 175,
   "id": "6b293945-e55f-4ab9-9c18-164060eb8610",
   "metadata": {},
   "outputs": [],
   "source": [
    "yarismaSonucu2 = pd.Series([20,10,18],[\"Atil\",\"Atlas\",\"Osman\"])"
   ]
  },
  {
   "cell_type": "code",
   "execution_count": 176,
   "id": "acc6a7a6-c234-4aff-87d3-ecf22a3acf6a",
   "metadata": {},
   "outputs": [
    {
     "data": {
      "text/plain": [
       "Atil     20\n",
       "Atlas    10\n",
       "Osman    18\n",
       "dtype: int64"
      ]
     },
     "execution_count": 176,
     "metadata": {},
     "output_type": "execute_result"
    }
   ],
   "source": [
    "yarismaSonucu2"
   ]
  },
  {
   "cell_type": "code",
   "execution_count": 177,
   "id": "f17fd0f8-630f-4313-bc6d-9b778c8f646d",
   "metadata": {},
   "outputs": [
    {
     "data": {
      "text/plain": [
       "np.int64(10)"
      ]
     },
     "execution_count": 177,
     "metadata": {},
     "output_type": "execute_result"
    }
   ],
   "source": [
    "yarismaSonucu2[\"Atlas\"]"
   ]
  },
  {
   "cell_type": "code",
   "execution_count": 178,
   "id": "3f4abfeb-f88c-4792-b779-928f59ec70d5",
   "metadata": {},
   "outputs": [
    {
     "data": {
      "text/plain": [
       "np.int64(5)"
      ]
     },
     "execution_count": 178,
     "metadata": {},
     "output_type": "execute_result"
    }
   ],
   "source": [
    "yarismaSonucu1[\"Atlas\"]"
   ]
  },
  {
   "cell_type": "code",
   "execution_count": 179,
   "id": "332bfbd0-b1d9-4fa4-b6c5-7348487cc2cc",
   "metadata": {},
   "outputs": [],
   "source": [
    "sonSonuc = yarismaSonucu1 + yarismaSonucu2"
   ]
  },
  {
   "cell_type": "code",
   "execution_count": 180,
   "id": "939beec9-3108-4216-8bcb-e7e78e423fc7",
   "metadata": {},
   "outputs": [
    {
     "data": {
      "text/plain": [
       "Atil     30\n",
       "Atlas    15\n",
       "Osman    19\n",
       "dtype: int64"
      ]
     },
     "execution_count": 180,
     "metadata": {},
     "output_type": "execute_result"
    }
   ],
   "source": [
    "sonSonuc"
   ]
  },
  {
   "cell_type": "code",
   "execution_count": 181,
   "id": "f2d0d1d8-1770-4552-9a4c-a17eef561775",
   "metadata": {},
   "outputs": [],
   "source": [
    "farkliSeries1 = pd.Series([33,14,28,22],[\"a\",\"b\",\"c\",\"d\"])"
   ]
  },
  {
   "cell_type": "code",
   "execution_count": 182,
   "id": "4f49dbd3-595d-4e3b-82ed-051d129be51f",
   "metadata": {},
   "outputs": [],
   "source": [
    "farkliSeries2 = pd.Series([10,4,8,13],[\"a\",\"c\",\"f\",\"g\"])"
   ]
  },
  {
   "cell_type": "code",
   "execution_count": 183,
   "id": "47dd947e-d1ad-4545-b810-6ed72f0c4c79",
   "metadata": {},
   "outputs": [
    {
     "data": {
      "text/plain": [
       "a    33\n",
       "b    14\n",
       "c    28\n",
       "d    22\n",
       "dtype: int64"
      ]
     },
     "execution_count": 183,
     "metadata": {},
     "output_type": "execute_result"
    }
   ],
   "source": [
    "farkliSeries1"
   ]
  },
  {
   "cell_type": "code",
   "execution_count": 184,
   "id": "8a027055-12f8-4b65-9679-0eeb0907ca05",
   "metadata": {},
   "outputs": [
    {
     "data": {
      "text/plain": [
       "a    10\n",
       "c     4\n",
       "f     8\n",
       "g    13\n",
       "dtype: int64"
      ]
     },
     "execution_count": 184,
     "metadata": {},
     "output_type": "execute_result"
    }
   ],
   "source": [
    "farkliSeries2"
   ]
  },
  {
   "cell_type": "code",
   "execution_count": 185,
   "id": "f9508f99-2834-49bc-98d1-83c392e564d7",
   "metadata": {},
   "outputs": [],
   "source": [
    "farkliSeriesSonuc = farkliSeries1 + farkliSeries2"
   ]
  },
  {
   "cell_type": "code",
   "execution_count": 186,
   "id": "797a0541-04db-40c0-8ef9-d215f5735e8c",
   "metadata": {},
   "outputs": [
    {
     "data": {
      "text/plain": [
       "a    43.0\n",
       "b     NaN\n",
       "c    32.0\n",
       "d     NaN\n",
       "f     NaN\n",
       "g     NaN\n",
       "dtype: float64"
      ]
     },
     "execution_count": 186,
     "metadata": {},
     "output_type": "execute_result"
    }
   ],
   "source": [
    "farkliSeriesSonuc"
   ]
  },
  {
   "cell_type": "markdown",
   "id": "a638e7ec-8e7a-435c-9b55-caf93a78de61",
   "metadata": {},
   "source": [
    "# Data Frame "
   ]
  },
  {
   "cell_type": "code",
   "execution_count": 187,
   "id": "45be2c47-19ad-47c4-98c1-a5565548a7b8",
   "metadata": {},
   "outputs": [],
   "source": [
    "data = np.random.randn(4,3)"
   ]
  },
  {
   "cell_type": "code",
   "execution_count": 188,
   "id": "ba601488-9e8e-47af-99ff-eccc6d03c1ac",
   "metadata": {},
   "outputs": [
    {
     "data": {
      "text/plain": [
       "array([[ 1.03167608, -0.89087382,  0.04481196],\n",
       "       [ 0.18585335,  0.9021894 , -1.95671116],\n",
       "       [ 0.47295697,  1.29885852,  0.03213799],\n",
       "       [-1.09507936, -1.46918793,  1.04724372]])"
      ]
     },
     "execution_count": 188,
     "metadata": {},
     "output_type": "execute_result"
    }
   ],
   "source": [
    "data"
   ]
  },
  {
   "cell_type": "code",
   "execution_count": 189,
   "id": "bc9cf2e2-3b8f-481d-b9f7-046ca9d001c8",
   "metadata": {},
   "outputs": [],
   "source": [
    "dataFrame = pd.DataFrame(data)"
   ]
  },
  {
   "cell_type": "code",
   "execution_count": 190,
   "id": "951d1d26-2be8-4021-90ea-028ed5ef4a63",
   "metadata": {},
   "outputs": [
    {
     "data": {
      "text/html": [
       "<div>\n",
       "<style scoped>\n",
       "    .dataframe tbody tr th:only-of-type {\n",
       "        vertical-align: middle;\n",
       "    }\n",
       "\n",
       "    .dataframe tbody tr th {\n",
       "        vertical-align: top;\n",
       "    }\n",
       "\n",
       "    .dataframe thead th {\n",
       "        text-align: right;\n",
       "    }\n",
       "</style>\n",
       "<table border=\"1\" class=\"dataframe\">\n",
       "  <thead>\n",
       "    <tr style=\"text-align: right;\">\n",
       "      <th></th>\n",
       "      <th>0</th>\n",
       "      <th>1</th>\n",
       "      <th>2</th>\n",
       "    </tr>\n",
       "  </thead>\n",
       "  <tbody>\n",
       "    <tr>\n",
       "      <th>0</th>\n",
       "      <td>1.031676</td>\n",
       "      <td>-0.890874</td>\n",
       "      <td>0.044812</td>\n",
       "    </tr>\n",
       "    <tr>\n",
       "      <th>1</th>\n",
       "      <td>0.185853</td>\n",
       "      <td>0.902189</td>\n",
       "      <td>-1.956711</td>\n",
       "    </tr>\n",
       "    <tr>\n",
       "      <th>2</th>\n",
       "      <td>0.472957</td>\n",
       "      <td>1.298859</td>\n",
       "      <td>0.032138</td>\n",
       "    </tr>\n",
       "    <tr>\n",
       "      <th>3</th>\n",
       "      <td>-1.095079</td>\n",
       "      <td>-1.469188</td>\n",
       "      <td>1.047244</td>\n",
       "    </tr>\n",
       "  </tbody>\n",
       "</table>\n",
       "</div>"
      ],
      "text/plain": [
       "          0         1         2\n",
       "0  1.031676 -0.890874  0.044812\n",
       "1  0.185853  0.902189 -1.956711\n",
       "2  0.472957  1.298859  0.032138\n",
       "3 -1.095079 -1.469188  1.047244"
      ]
     },
     "execution_count": 190,
     "metadata": {},
     "output_type": "execute_result"
    }
   ],
   "source": [
    "dataFrame"
   ]
  },
  {
   "cell_type": "code",
   "execution_count": 191,
   "id": "eeb8688a-5790-4495-823b-d95497cd66b0",
   "metadata": {},
   "outputs": [
    {
     "data": {
      "text/plain": [
       "0    1.031676\n",
       "1    0.185853\n",
       "2    0.472957\n",
       "3   -1.095079\n",
       "Name: 0, dtype: float64"
      ]
     },
     "execution_count": 191,
     "metadata": {},
     "output_type": "execute_result"
    }
   ],
   "source": [
    "dataFrame[0]"
   ]
  },
  {
   "cell_type": "code",
   "execution_count": 192,
   "id": "7de03529-2eb7-4d10-874e-449a64df2165",
   "metadata": {},
   "outputs": [
    {
     "data": {
      "text/plain": [
       "pandas.core.series.Series"
      ]
     },
     "execution_count": 192,
     "metadata": {},
     "output_type": "execute_result"
    }
   ],
   "source": [
    "type(dataFrame[0])"
   ]
  },
  {
   "cell_type": "code",
   "execution_count": 193,
   "id": "0c1a293e-0037-4b53-84de-da1ea2c0330f",
   "metadata": {},
   "outputs": [],
   "source": [
    "newDataFrame = pd.DataFrame(data,index=[\"Ozge\",\"Zeynep\",\"Atil\",\"Atlas\"],columns = [\"Maas\",\"Yas\",\"Saat\"])"
   ]
  },
  {
   "cell_type": "code",
   "execution_count": 194,
   "id": "4480a188-cbc1-4e94-8aa8-02c17bd1fef1",
   "metadata": {},
   "outputs": [
    {
     "data": {
      "text/html": [
       "<div>\n",
       "<style scoped>\n",
       "    .dataframe tbody tr th:only-of-type {\n",
       "        vertical-align: middle;\n",
       "    }\n",
       "\n",
       "    .dataframe tbody tr th {\n",
       "        vertical-align: top;\n",
       "    }\n",
       "\n",
       "    .dataframe thead th {\n",
       "        text-align: right;\n",
       "    }\n",
       "</style>\n",
       "<table border=\"1\" class=\"dataframe\">\n",
       "  <thead>\n",
       "    <tr style=\"text-align: right;\">\n",
       "      <th></th>\n",
       "      <th>Maas</th>\n",
       "      <th>Yas</th>\n",
       "      <th>Saat</th>\n",
       "    </tr>\n",
       "  </thead>\n",
       "  <tbody>\n",
       "    <tr>\n",
       "      <th>Ozge</th>\n",
       "      <td>1.031676</td>\n",
       "      <td>-0.890874</td>\n",
       "      <td>0.044812</td>\n",
       "    </tr>\n",
       "    <tr>\n",
       "      <th>Zeynep</th>\n",
       "      <td>0.185853</td>\n",
       "      <td>0.902189</td>\n",
       "      <td>-1.956711</td>\n",
       "    </tr>\n",
       "    <tr>\n",
       "      <th>Atil</th>\n",
       "      <td>0.472957</td>\n",
       "      <td>1.298859</td>\n",
       "      <td>0.032138</td>\n",
       "    </tr>\n",
       "    <tr>\n",
       "      <th>Atlas</th>\n",
       "      <td>-1.095079</td>\n",
       "      <td>-1.469188</td>\n",
       "      <td>1.047244</td>\n",
       "    </tr>\n",
       "  </tbody>\n",
       "</table>\n",
       "</div>"
      ],
      "text/plain": [
       "            Maas       Yas      Saat\n",
       "Ozge    1.031676 -0.890874  0.044812\n",
       "Zeynep  0.185853  0.902189 -1.956711\n",
       "Atil    0.472957  1.298859  0.032138\n",
       "Atlas  -1.095079 -1.469188  1.047244"
      ]
     },
     "execution_count": 194,
     "metadata": {},
     "output_type": "execute_result"
    }
   ],
   "source": [
    "newDataFrame"
   ]
  },
  {
   "cell_type": "code",
   "execution_count": 195,
   "id": "84061b7f-3a76-4ae4-834d-01544a83eb2d",
   "metadata": {},
   "outputs": [
    {
     "data": {
      "text/plain": [
       "Ozge     -0.890874\n",
       "Zeynep    0.902189\n",
       "Atil      1.298859\n",
       "Atlas    -1.469188\n",
       "Name: Yas, dtype: float64"
      ]
     },
     "execution_count": 195,
     "metadata": {},
     "output_type": "execute_result"
    }
   ],
   "source": [
    "newDataFrame[\"Yas\"]"
   ]
  },
  {
   "cell_type": "code",
   "execution_count": 196,
   "id": "26958e38-818c-4223-b439-80af5d75fc69",
   "metadata": {},
   "outputs": [
    {
     "data": {
      "text/plain": [
       "Ozge      0.044812\n",
       "Zeynep   -1.956711\n",
       "Atil      0.032138\n",
       "Atlas     1.047244\n",
       "Name: Saat, dtype: float64"
      ]
     },
     "execution_count": 196,
     "metadata": {},
     "output_type": "execute_result"
    }
   ],
   "source": [
    "newDataFrame[\"Saat\"]"
   ]
  },
  {
   "cell_type": "code",
   "execution_count": 197,
   "id": "092232c2-e6ad-44f9-9a2a-12e0e5c48dcb",
   "metadata": {},
   "outputs": [
    {
     "data": {
      "text/plain": [
       "Ozge      1.031676\n",
       "Zeynep    0.185853\n",
       "Atil      0.472957\n",
       "Atlas    -1.095079\n",
       "Name: Maas, dtype: float64"
      ]
     },
     "execution_count": 197,
     "metadata": {},
     "output_type": "execute_result"
    }
   ],
   "source": [
    "newDataFrame[\"Maas\"]"
   ]
  },
  {
   "cell_type": "code",
   "execution_count": 198,
   "id": "eec49366-c3d2-47f3-9780-7b86b67a19ef",
   "metadata": {},
   "outputs": [
    {
     "data": {
      "text/html": [
       "<div>\n",
       "<style scoped>\n",
       "    .dataframe tbody tr th:only-of-type {\n",
       "        vertical-align: middle;\n",
       "    }\n",
       "\n",
       "    .dataframe tbody tr th {\n",
       "        vertical-align: top;\n",
       "    }\n",
       "\n",
       "    .dataframe thead th {\n",
       "        text-align: right;\n",
       "    }\n",
       "</style>\n",
       "<table border=\"1\" class=\"dataframe\">\n",
       "  <thead>\n",
       "    <tr style=\"text-align: right;\">\n",
       "      <th></th>\n",
       "      <th>Maas</th>\n",
       "      <th>Yas</th>\n",
       "    </tr>\n",
       "  </thead>\n",
       "  <tbody>\n",
       "    <tr>\n",
       "      <th>Ozge</th>\n",
       "      <td>1.031676</td>\n",
       "      <td>-0.890874</td>\n",
       "    </tr>\n",
       "    <tr>\n",
       "      <th>Zeynep</th>\n",
       "      <td>0.185853</td>\n",
       "      <td>0.902189</td>\n",
       "    </tr>\n",
       "    <tr>\n",
       "      <th>Atil</th>\n",
       "      <td>0.472957</td>\n",
       "      <td>1.298859</td>\n",
       "    </tr>\n",
       "    <tr>\n",
       "      <th>Atlas</th>\n",
       "      <td>-1.095079</td>\n",
       "      <td>-1.469188</td>\n",
       "    </tr>\n",
       "  </tbody>\n",
       "</table>\n",
       "</div>"
      ],
      "text/plain": [
       "            Maas       Yas\n",
       "Ozge    1.031676 -0.890874\n",
       "Zeynep  0.185853  0.902189\n",
       "Atil    0.472957  1.298859\n",
       "Atlas  -1.095079 -1.469188"
      ]
     },
     "execution_count": 198,
     "metadata": {},
     "output_type": "execute_result"
    }
   ],
   "source": [
    "newDataFrame[[\"Maas\",\"Yas\"]]"
   ]
  },
  {
   "cell_type": "code",
   "execution_count": 199,
   "id": "1a4510d0-fa35-447b-a15c-027bdf55c022",
   "metadata": {},
   "outputs": [
    {
     "data": {
      "text/html": [
       "<div>\n",
       "<style scoped>\n",
       "    .dataframe tbody tr th:only-of-type {\n",
       "        vertical-align: middle;\n",
       "    }\n",
       "\n",
       "    .dataframe tbody tr th {\n",
       "        vertical-align: top;\n",
       "    }\n",
       "\n",
       "    .dataframe thead th {\n",
       "        text-align: right;\n",
       "    }\n",
       "</style>\n",
       "<table border=\"1\" class=\"dataframe\">\n",
       "  <thead>\n",
       "    <tr style=\"text-align: right;\">\n",
       "      <th></th>\n",
       "      <th>Maas</th>\n",
       "      <th>Yas</th>\n",
       "      <th>Saat</th>\n",
       "    </tr>\n",
       "  </thead>\n",
       "  <tbody>\n",
       "    <tr>\n",
       "      <th>Ozge</th>\n",
       "      <td>1.031676</td>\n",
       "      <td>-0.890874</td>\n",
       "      <td>0.044812</td>\n",
       "    </tr>\n",
       "    <tr>\n",
       "      <th>Zeynep</th>\n",
       "      <td>0.185853</td>\n",
       "      <td>0.902189</td>\n",
       "      <td>-1.956711</td>\n",
       "    </tr>\n",
       "    <tr>\n",
       "      <th>Atil</th>\n",
       "      <td>0.472957</td>\n",
       "      <td>1.298859</td>\n",
       "      <td>0.032138</td>\n",
       "    </tr>\n",
       "    <tr>\n",
       "      <th>Atlas</th>\n",
       "      <td>-1.095079</td>\n",
       "      <td>-1.469188</td>\n",
       "      <td>1.047244</td>\n",
       "    </tr>\n",
       "  </tbody>\n",
       "</table>\n",
       "</div>"
      ],
      "text/plain": [
       "            Maas       Yas      Saat\n",
       "Ozge    1.031676 -0.890874  0.044812\n",
       "Zeynep  0.185853  0.902189 -1.956711\n",
       "Atil    0.472957  1.298859  0.032138\n",
       "Atlas  -1.095079 -1.469188  1.047244"
      ]
     },
     "execution_count": 199,
     "metadata": {},
     "output_type": "execute_result"
    }
   ],
   "source": [
    "newDataFrame"
   ]
  },
  {
   "cell_type": "code",
   "execution_count": 200,
   "id": "b882896b-be28-47ea-8a42-7670c6632651",
   "metadata": {},
   "outputs": [
    {
     "data": {
      "text/plain": [
       "Maas    0.472957\n",
       "Yas     1.298859\n",
       "Saat    0.032138\n",
       "Name: Atil, dtype: float64"
      ]
     },
     "execution_count": 200,
     "metadata": {},
     "output_type": "execute_result"
    }
   ],
   "source": [
    "newDataFrame.loc[\"Atil\"]"
   ]
  },
  {
   "cell_type": "code",
   "execution_count": 201,
   "id": "cc9731a1-b1a3-4ff3-ae7f-8107726349ad",
   "metadata": {},
   "outputs": [
    {
     "data": {
      "text/plain": [
       "Maas    1.031676\n",
       "Yas    -0.890874\n",
       "Saat    0.044812\n",
       "Name: Ozge, dtype: float64"
      ]
     },
     "execution_count": 201,
     "metadata": {},
     "output_type": "execute_result"
    }
   ],
   "source": [
    "newDataFrame.loc[\"Ozge\"]"
   ]
  },
  {
   "cell_type": "code",
   "execution_count": 202,
   "id": "6a63ea50-7fb7-4872-bc46-b94124f4a132",
   "metadata": {},
   "outputs": [
    {
     "data": {
      "text/plain": [
       "Maas    0.185853\n",
       "Yas     0.902189\n",
       "Saat   -1.956711\n",
       "Name: Zeynep, dtype: float64"
      ]
     },
     "execution_count": 202,
     "metadata": {},
     "output_type": "execute_result"
    }
   ],
   "source": [
    "newDataFrame.iloc[1]"
   ]
  },
  {
   "cell_type": "code",
   "execution_count": 203,
   "id": "16663856-f99c-41e7-8dbb-a7086eeb05c7",
   "metadata": {},
   "outputs": [
    {
     "data": {
      "text/plain": [
       "Maas    1.031676\n",
       "Yas    -0.890874\n",
       "Saat    0.044812\n",
       "Name: Ozge, dtype: float64"
      ]
     },
     "execution_count": 203,
     "metadata": {},
     "output_type": "execute_result"
    }
   ],
   "source": [
    "newDataFrame.iloc[0]"
   ]
  },
  {
   "cell_type": "code",
   "execution_count": 204,
   "id": "49827ec9-4981-4cef-a596-fd070d51a582",
   "metadata": {},
   "outputs": [],
   "source": [
    "newDataFrame[\"EYT\"] = newDataFrame[\"Yas\"] + newDataFrame[\"Yas\"]"
   ]
  },
  {
   "cell_type": "code",
   "execution_count": 205,
   "id": "377cfc06-40e6-42cb-ad49-a71289271222",
   "metadata": {},
   "outputs": [
    {
     "data": {
      "text/html": [
       "<div>\n",
       "<style scoped>\n",
       "    .dataframe tbody tr th:only-of-type {\n",
       "        vertical-align: middle;\n",
       "    }\n",
       "\n",
       "    .dataframe tbody tr th {\n",
       "        vertical-align: top;\n",
       "    }\n",
       "\n",
       "    .dataframe thead th {\n",
       "        text-align: right;\n",
       "    }\n",
       "</style>\n",
       "<table border=\"1\" class=\"dataframe\">\n",
       "  <thead>\n",
       "    <tr style=\"text-align: right;\">\n",
       "      <th></th>\n",
       "      <th>Maas</th>\n",
       "      <th>Yas</th>\n",
       "      <th>Saat</th>\n",
       "      <th>EYT</th>\n",
       "    </tr>\n",
       "  </thead>\n",
       "  <tbody>\n",
       "    <tr>\n",
       "      <th>Ozge</th>\n",
       "      <td>1.031676</td>\n",
       "      <td>-0.890874</td>\n",
       "      <td>0.044812</td>\n",
       "      <td>-1.781748</td>\n",
       "    </tr>\n",
       "    <tr>\n",
       "      <th>Zeynep</th>\n",
       "      <td>0.185853</td>\n",
       "      <td>0.902189</td>\n",
       "      <td>-1.956711</td>\n",
       "      <td>1.804379</td>\n",
       "    </tr>\n",
       "    <tr>\n",
       "      <th>Atil</th>\n",
       "      <td>0.472957</td>\n",
       "      <td>1.298859</td>\n",
       "      <td>0.032138</td>\n",
       "      <td>2.597717</td>\n",
       "    </tr>\n",
       "    <tr>\n",
       "      <th>Atlas</th>\n",
       "      <td>-1.095079</td>\n",
       "      <td>-1.469188</td>\n",
       "      <td>1.047244</td>\n",
       "      <td>-2.938376</td>\n",
       "    </tr>\n",
       "  </tbody>\n",
       "</table>\n",
       "</div>"
      ],
      "text/plain": [
       "            Maas       Yas      Saat       EYT\n",
       "Ozge    1.031676 -0.890874  0.044812 -1.781748\n",
       "Zeynep  0.185853  0.902189 -1.956711  1.804379\n",
       "Atil    0.472957  1.298859  0.032138  2.597717\n",
       "Atlas  -1.095079 -1.469188  1.047244 -2.938376"
      ]
     },
     "execution_count": 205,
     "metadata": {},
     "output_type": "execute_result"
    }
   ],
   "source": [
    "newDataFrame"
   ]
  },
  {
   "cell_type": "code",
   "execution_count": 206,
   "id": "953c49c4-e226-45f2-b5bc-70deb8f5e1c0",
   "metadata": {},
   "outputs": [
    {
     "data": {
      "text/html": [
       "<div>\n",
       "<style scoped>\n",
       "    .dataframe tbody tr th:only-of-type {\n",
       "        vertical-align: middle;\n",
       "    }\n",
       "\n",
       "    .dataframe tbody tr th {\n",
       "        vertical-align: top;\n",
       "    }\n",
       "\n",
       "    .dataframe thead th {\n",
       "        text-align: right;\n",
       "    }\n",
       "</style>\n",
       "<table border=\"1\" class=\"dataframe\">\n",
       "  <thead>\n",
       "    <tr style=\"text-align: right;\">\n",
       "      <th></th>\n",
       "      <th>Maas</th>\n",
       "      <th>Yas</th>\n",
       "      <th>Saat</th>\n",
       "    </tr>\n",
       "  </thead>\n",
       "  <tbody>\n",
       "    <tr>\n",
       "      <th>Ozge</th>\n",
       "      <td>1.031676</td>\n",
       "      <td>-0.890874</td>\n",
       "      <td>0.044812</td>\n",
       "    </tr>\n",
       "    <tr>\n",
       "      <th>Zeynep</th>\n",
       "      <td>0.185853</td>\n",
       "      <td>0.902189</td>\n",
       "      <td>-1.956711</td>\n",
       "    </tr>\n",
       "    <tr>\n",
       "      <th>Atil</th>\n",
       "      <td>0.472957</td>\n",
       "      <td>1.298859</td>\n",
       "      <td>0.032138</td>\n",
       "    </tr>\n",
       "    <tr>\n",
       "      <th>Atlas</th>\n",
       "      <td>-1.095079</td>\n",
       "      <td>-1.469188</td>\n",
       "      <td>1.047244</td>\n",
       "    </tr>\n",
       "  </tbody>\n",
       "</table>\n",
       "</div>"
      ],
      "text/plain": [
       "            Maas       Yas      Saat\n",
       "Ozge    1.031676 -0.890874  0.044812\n",
       "Zeynep  0.185853  0.902189 -1.956711\n",
       "Atil    0.472957  1.298859  0.032138\n",
       "Atlas  -1.095079 -1.469188  1.047244"
      ]
     },
     "execution_count": 206,
     "metadata": {},
     "output_type": "execute_result"
    }
   ],
   "source": [
    "newDataFrame.drop(\"EYT\",axis = 1)"
   ]
  },
  {
   "cell_type": "code",
   "execution_count": 207,
   "id": "4319e78a-60df-4f70-8bcb-029096d14f4c",
   "metadata": {},
   "outputs": [
    {
     "data": {
      "text/html": [
       "<div>\n",
       "<style scoped>\n",
       "    .dataframe tbody tr th:only-of-type {\n",
       "        vertical-align: middle;\n",
       "    }\n",
       "\n",
       "    .dataframe tbody tr th {\n",
       "        vertical-align: top;\n",
       "    }\n",
       "\n",
       "    .dataframe thead th {\n",
       "        text-align: right;\n",
       "    }\n",
       "</style>\n",
       "<table border=\"1\" class=\"dataframe\">\n",
       "  <thead>\n",
       "    <tr style=\"text-align: right;\">\n",
       "      <th></th>\n",
       "      <th>Maas</th>\n",
       "      <th>Yas</th>\n",
       "      <th>Saat</th>\n",
       "      <th>EYT</th>\n",
       "    </tr>\n",
       "  </thead>\n",
       "  <tbody>\n",
       "    <tr>\n",
       "      <th>Ozge</th>\n",
       "      <td>1.031676</td>\n",
       "      <td>-0.890874</td>\n",
       "      <td>0.044812</td>\n",
       "      <td>-1.781748</td>\n",
       "    </tr>\n",
       "    <tr>\n",
       "      <th>Atil</th>\n",
       "      <td>0.472957</td>\n",
       "      <td>1.298859</td>\n",
       "      <td>0.032138</td>\n",
       "      <td>2.597717</td>\n",
       "    </tr>\n",
       "    <tr>\n",
       "      <th>Atlas</th>\n",
       "      <td>-1.095079</td>\n",
       "      <td>-1.469188</td>\n",
       "      <td>1.047244</td>\n",
       "      <td>-2.938376</td>\n",
       "    </tr>\n",
       "  </tbody>\n",
       "</table>\n",
       "</div>"
      ],
      "text/plain": [
       "           Maas       Yas      Saat       EYT\n",
       "Ozge   1.031676 -0.890874  0.044812 -1.781748\n",
       "Atil   0.472957  1.298859  0.032138  2.597717\n",
       "Atlas -1.095079 -1.469188  1.047244 -2.938376"
      ]
     },
     "execution_count": 207,
     "metadata": {},
     "output_type": "execute_result"
    }
   ],
   "source": [
    "newDataFrame.drop(\"Zeynep\", axis = 0)"
   ]
  },
  {
   "cell_type": "code",
   "execution_count": 208,
   "id": "3d5af112-9849-4123-8be2-f5e1a50f72e5",
   "metadata": {},
   "outputs": [],
   "source": [
    "newDataFrame.drop(\"EYT\",axis = 1, inplace = True)\n",
    "## inplace ile temelli silinir"
   ]
  },
  {
   "cell_type": "code",
   "execution_count": 209,
   "id": "7e9fe99e-7553-46ec-b623-0b930378fbaa",
   "metadata": {},
   "outputs": [
    {
     "data": {
      "text/html": [
       "<div>\n",
       "<style scoped>\n",
       "    .dataframe tbody tr th:only-of-type {\n",
       "        vertical-align: middle;\n",
       "    }\n",
       "\n",
       "    .dataframe tbody tr th {\n",
       "        vertical-align: top;\n",
       "    }\n",
       "\n",
       "    .dataframe thead th {\n",
       "        text-align: right;\n",
       "    }\n",
       "</style>\n",
       "<table border=\"1\" class=\"dataframe\">\n",
       "  <thead>\n",
       "    <tr style=\"text-align: right;\">\n",
       "      <th></th>\n",
       "      <th>Maas</th>\n",
       "      <th>Yas</th>\n",
       "      <th>Saat</th>\n",
       "    </tr>\n",
       "  </thead>\n",
       "  <tbody>\n",
       "    <tr>\n",
       "      <th>Ozge</th>\n",
       "      <td>1.031676</td>\n",
       "      <td>-0.890874</td>\n",
       "      <td>0.044812</td>\n",
       "    </tr>\n",
       "    <tr>\n",
       "      <th>Zeynep</th>\n",
       "      <td>0.185853</td>\n",
       "      <td>0.902189</td>\n",
       "      <td>-1.956711</td>\n",
       "    </tr>\n",
       "    <tr>\n",
       "      <th>Atil</th>\n",
       "      <td>0.472957</td>\n",
       "      <td>1.298859</td>\n",
       "      <td>0.032138</td>\n",
       "    </tr>\n",
       "    <tr>\n",
       "      <th>Atlas</th>\n",
       "      <td>-1.095079</td>\n",
       "      <td>-1.469188</td>\n",
       "      <td>1.047244</td>\n",
       "    </tr>\n",
       "  </tbody>\n",
       "</table>\n",
       "</div>"
      ],
      "text/plain": [
       "            Maas       Yas      Saat\n",
       "Ozge    1.031676 -0.890874  0.044812\n",
       "Zeynep  0.185853  0.902189 -1.956711\n",
       "Atil    0.472957  1.298859  0.032138\n",
       "Atlas  -1.095079 -1.469188  1.047244"
      ]
     },
     "execution_count": 209,
     "metadata": {},
     "output_type": "execute_result"
    }
   ],
   "source": [
    "newDataFrame"
   ]
  },
  {
   "cell_type": "code",
   "execution_count": 210,
   "id": "bc575010-a76b-4769-8060-a7a305f3b284",
   "metadata": {},
   "outputs": [
    {
     "data": {
      "text/plain": [
       "np.float64(-0.8908738154145872)"
      ]
     },
     "execution_count": 210,
     "metadata": {},
     "output_type": "execute_result"
    }
   ],
   "source": [
    "newDataFrame.loc[\"Ozge\"][\"Yas\"]"
   ]
  },
  {
   "cell_type": "code",
   "execution_count": 211,
   "id": "eda49758-2165-429a-a919-7768dbe2c524",
   "metadata": {},
   "outputs": [
    {
     "data": {
      "text/plain": [
       "np.float64(1.0316760844974313)"
      ]
     },
     "execution_count": 211,
     "metadata": {},
     "output_type": "execute_result"
    }
   ],
   "source": [
    "newDataFrame.loc[\"Ozge\"][\"Maas\"]"
   ]
  },
  {
   "cell_type": "code",
   "execution_count": 212,
   "id": "f713252a-7dc6-4f8c-861c-b5c088b4675b",
   "metadata": {},
   "outputs": [
    {
     "data": {
      "text/plain": [
       "np.float64(1.0316760844974313)"
      ]
     },
     "execution_count": 212,
     "metadata": {},
     "output_type": "execute_result"
    }
   ],
   "source": [
    "newDataFrame.loc[\"Ozge\",\"Maas\"]"
   ]
  },
  {
   "cell_type": "code",
   "execution_count": 213,
   "id": "59b14f7b-1940-4ff3-9ab0-0fa88b50e135",
   "metadata": {},
   "outputs": [
    {
     "data": {
      "text/html": [
       "<div>\n",
       "<style scoped>\n",
       "    .dataframe tbody tr th:only-of-type {\n",
       "        vertical-align: middle;\n",
       "    }\n",
       "\n",
       "    .dataframe tbody tr th {\n",
       "        vertical-align: top;\n",
       "    }\n",
       "\n",
       "    .dataframe thead th {\n",
       "        text-align: right;\n",
       "    }\n",
       "</style>\n",
       "<table border=\"1\" class=\"dataframe\">\n",
       "  <thead>\n",
       "    <tr style=\"text-align: right;\">\n",
       "      <th></th>\n",
       "      <th>Maas</th>\n",
       "      <th>Yas</th>\n",
       "      <th>Saat</th>\n",
       "    </tr>\n",
       "  </thead>\n",
       "  <tbody>\n",
       "    <tr>\n",
       "      <th>Ozge</th>\n",
       "      <td>1.031676</td>\n",
       "      <td>-0.890874</td>\n",
       "      <td>0.044812</td>\n",
       "    </tr>\n",
       "    <tr>\n",
       "      <th>Zeynep</th>\n",
       "      <td>0.185853</td>\n",
       "      <td>0.902189</td>\n",
       "      <td>-1.956711</td>\n",
       "    </tr>\n",
       "    <tr>\n",
       "      <th>Atil</th>\n",
       "      <td>0.472957</td>\n",
       "      <td>1.298859</td>\n",
       "      <td>0.032138</td>\n",
       "    </tr>\n",
       "    <tr>\n",
       "      <th>Atlas</th>\n",
       "      <td>-1.095079</td>\n",
       "      <td>-1.469188</td>\n",
       "      <td>1.047244</td>\n",
       "    </tr>\n",
       "  </tbody>\n",
       "</table>\n",
       "</div>"
      ],
      "text/plain": [
       "            Maas       Yas      Saat\n",
       "Ozge    1.031676 -0.890874  0.044812\n",
       "Zeynep  0.185853  0.902189 -1.956711\n",
       "Atil    0.472957  1.298859  0.032138\n",
       "Atlas  -1.095079 -1.469188  1.047244"
      ]
     },
     "execution_count": 213,
     "metadata": {},
     "output_type": "execute_result"
    }
   ],
   "source": [
    "newDataFrame"
   ]
  },
  {
   "cell_type": "code",
   "execution_count": 214,
   "id": "e843dca2-a5b2-43c8-96d5-1eeadeca5a32",
   "metadata": {},
   "outputs": [],
   "source": [
    "booleanFrame = newDataFrame < 0"
   ]
  },
  {
   "cell_type": "code",
   "execution_count": 215,
   "id": "86d2b88b-7938-474f-88ba-c16b635818dc",
   "metadata": {},
   "outputs": [
    {
     "data": {
      "text/html": [
       "<div>\n",
       "<style scoped>\n",
       "    .dataframe tbody tr th:only-of-type {\n",
       "        vertical-align: middle;\n",
       "    }\n",
       "\n",
       "    .dataframe tbody tr th {\n",
       "        vertical-align: top;\n",
       "    }\n",
       "\n",
       "    .dataframe thead th {\n",
       "        text-align: right;\n",
       "    }\n",
       "</style>\n",
       "<table border=\"1\" class=\"dataframe\">\n",
       "  <thead>\n",
       "    <tr style=\"text-align: right;\">\n",
       "      <th></th>\n",
       "      <th>Maas</th>\n",
       "      <th>Yas</th>\n",
       "      <th>Saat</th>\n",
       "    </tr>\n",
       "  </thead>\n",
       "  <tbody>\n",
       "    <tr>\n",
       "      <th>Ozge</th>\n",
       "      <td>False</td>\n",
       "      <td>True</td>\n",
       "      <td>False</td>\n",
       "    </tr>\n",
       "    <tr>\n",
       "      <th>Zeynep</th>\n",
       "      <td>False</td>\n",
       "      <td>False</td>\n",
       "      <td>True</td>\n",
       "    </tr>\n",
       "    <tr>\n",
       "      <th>Atil</th>\n",
       "      <td>False</td>\n",
       "      <td>False</td>\n",
       "      <td>False</td>\n",
       "    </tr>\n",
       "    <tr>\n",
       "      <th>Atlas</th>\n",
       "      <td>True</td>\n",
       "      <td>True</td>\n",
       "      <td>False</td>\n",
       "    </tr>\n",
       "  </tbody>\n",
       "</table>\n",
       "</div>"
      ],
      "text/plain": [
       "         Maas    Yas   Saat\n",
       "Ozge    False   True  False\n",
       "Zeynep  False  False   True\n",
       "Atil    False  False  False\n",
       "Atlas    True   True  False"
      ]
     },
     "execution_count": 215,
     "metadata": {},
     "output_type": "execute_result"
    }
   ],
   "source": [
    "booleanFrame"
   ]
  },
  {
   "cell_type": "code",
   "execution_count": 216,
   "id": "c034b777-b71a-4084-b8d2-4e7a0413370e",
   "metadata": {},
   "outputs": [
    {
     "data": {
      "text/html": [
       "<div>\n",
       "<style scoped>\n",
       "    .dataframe tbody tr th:only-of-type {\n",
       "        vertical-align: middle;\n",
       "    }\n",
       "\n",
       "    .dataframe tbody tr th {\n",
       "        vertical-align: top;\n",
       "    }\n",
       "\n",
       "    .dataframe thead th {\n",
       "        text-align: right;\n",
       "    }\n",
       "</style>\n",
       "<table border=\"1\" class=\"dataframe\">\n",
       "  <thead>\n",
       "    <tr style=\"text-align: right;\">\n",
       "      <th></th>\n",
       "      <th>Maas</th>\n",
       "      <th>Yas</th>\n",
       "      <th>Saat</th>\n",
       "    </tr>\n",
       "  </thead>\n",
       "  <tbody>\n",
       "    <tr>\n",
       "      <th>Ozge</th>\n",
       "      <td>1.031676</td>\n",
       "      <td>-0.890874</td>\n",
       "      <td>0.044812</td>\n",
       "    </tr>\n",
       "    <tr>\n",
       "      <th>Zeynep</th>\n",
       "      <td>0.185853</td>\n",
       "      <td>0.902189</td>\n",
       "      <td>-1.956711</td>\n",
       "    </tr>\n",
       "    <tr>\n",
       "      <th>Atil</th>\n",
       "      <td>0.472957</td>\n",
       "      <td>1.298859</td>\n",
       "      <td>0.032138</td>\n",
       "    </tr>\n",
       "    <tr>\n",
       "      <th>Atlas</th>\n",
       "      <td>-1.095079</td>\n",
       "      <td>-1.469188</td>\n",
       "      <td>1.047244</td>\n",
       "    </tr>\n",
       "  </tbody>\n",
       "</table>\n",
       "</div>"
      ],
      "text/plain": [
       "            Maas       Yas      Saat\n",
       "Ozge    1.031676 -0.890874  0.044812\n",
       "Zeynep  0.185853  0.902189 -1.956711\n",
       "Atil    0.472957  1.298859  0.032138\n",
       "Atlas  -1.095079 -1.469188  1.047244"
      ]
     },
     "execution_count": 216,
     "metadata": {},
     "output_type": "execute_result"
    }
   ],
   "source": [
    "newDataFrame"
   ]
  },
  {
   "cell_type": "code",
   "execution_count": 217,
   "id": "5aa9134b-7013-4608-8732-98c8d623cf5a",
   "metadata": {},
   "outputs": [
    {
     "data": {
      "text/html": [
       "<div>\n",
       "<style scoped>\n",
       "    .dataframe tbody tr th:only-of-type {\n",
       "        vertical-align: middle;\n",
       "    }\n",
       "\n",
       "    .dataframe tbody tr th {\n",
       "        vertical-align: top;\n",
       "    }\n",
       "\n",
       "    .dataframe thead th {\n",
       "        text-align: right;\n",
       "    }\n",
       "</style>\n",
       "<table border=\"1\" class=\"dataframe\">\n",
       "  <thead>\n",
       "    <tr style=\"text-align: right;\">\n",
       "      <th></th>\n",
       "      <th>Maas</th>\n",
       "      <th>Yas</th>\n",
       "      <th>Saat</th>\n",
       "    </tr>\n",
       "  </thead>\n",
       "  <tbody>\n",
       "    <tr>\n",
       "      <th>Ozge</th>\n",
       "      <td>NaN</td>\n",
       "      <td>-0.890874</td>\n",
       "      <td>NaN</td>\n",
       "    </tr>\n",
       "    <tr>\n",
       "      <th>Zeynep</th>\n",
       "      <td>NaN</td>\n",
       "      <td>NaN</td>\n",
       "      <td>-1.956711</td>\n",
       "    </tr>\n",
       "    <tr>\n",
       "      <th>Atil</th>\n",
       "      <td>NaN</td>\n",
       "      <td>NaN</td>\n",
       "      <td>NaN</td>\n",
       "    </tr>\n",
       "    <tr>\n",
       "      <th>Atlas</th>\n",
       "      <td>-1.095079</td>\n",
       "      <td>-1.469188</td>\n",
       "      <td>NaN</td>\n",
       "    </tr>\n",
       "  </tbody>\n",
       "</table>\n",
       "</div>"
      ],
      "text/plain": [
       "            Maas       Yas      Saat\n",
       "Ozge         NaN -0.890874       NaN\n",
       "Zeynep       NaN       NaN -1.956711\n",
       "Atil         NaN       NaN       NaN\n",
       "Atlas  -1.095079 -1.469188       NaN"
      ]
     },
     "execution_count": 217,
     "metadata": {},
     "output_type": "execute_result"
    }
   ],
   "source": [
    "newDataFrame[booleanFrame]"
   ]
  },
  {
   "cell_type": "code",
   "execution_count": 218,
   "id": "393317c9-a72d-467c-ae09-593b5ac5ead8",
   "metadata": {},
   "outputs": [
    {
     "data": {
      "text/html": [
       "<div>\n",
       "<style scoped>\n",
       "    .dataframe tbody tr th:only-of-type {\n",
       "        vertical-align: middle;\n",
       "    }\n",
       "\n",
       "    .dataframe tbody tr th {\n",
       "        vertical-align: top;\n",
       "    }\n",
       "\n",
       "    .dataframe thead th {\n",
       "        text-align: right;\n",
       "    }\n",
       "</style>\n",
       "<table border=\"1\" class=\"dataframe\">\n",
       "  <thead>\n",
       "    <tr style=\"text-align: right;\">\n",
       "      <th></th>\n",
       "      <th>Maas</th>\n",
       "      <th>Yas</th>\n",
       "      <th>Saat</th>\n",
       "    </tr>\n",
       "  </thead>\n",
       "  <tbody>\n",
       "    <tr>\n",
       "      <th>Ozge</th>\n",
       "      <td>NaN</td>\n",
       "      <td>-0.890874</td>\n",
       "      <td>NaN</td>\n",
       "    </tr>\n",
       "    <tr>\n",
       "      <th>Zeynep</th>\n",
       "      <td>NaN</td>\n",
       "      <td>NaN</td>\n",
       "      <td>-1.956711</td>\n",
       "    </tr>\n",
       "    <tr>\n",
       "      <th>Atil</th>\n",
       "      <td>NaN</td>\n",
       "      <td>NaN</td>\n",
       "      <td>NaN</td>\n",
       "    </tr>\n",
       "    <tr>\n",
       "      <th>Atlas</th>\n",
       "      <td>-1.095079</td>\n",
       "      <td>-1.469188</td>\n",
       "      <td>NaN</td>\n",
       "    </tr>\n",
       "  </tbody>\n",
       "</table>\n",
       "</div>"
      ],
      "text/plain": [
       "            Maas       Yas      Saat\n",
       "Ozge         NaN -0.890874       NaN\n",
       "Zeynep       NaN       NaN -1.956711\n",
       "Atil         NaN       NaN       NaN\n",
       "Atlas  -1.095079 -1.469188       NaN"
      ]
     },
     "execution_count": 218,
     "metadata": {},
     "output_type": "execute_result"
    }
   ],
   "source": [
    "newDataFrame[newDataFrame < 0]"
   ]
  },
  {
   "cell_type": "code",
   "execution_count": 219,
   "id": "f552a828-e165-4f66-ae3b-7db9264cf1c6",
   "metadata": {},
   "outputs": [
    {
     "data": {
      "text/plain": [
       "Ozge      False\n",
       "Zeynep    False\n",
       "Atil       True\n",
       "Atlas     False\n",
       "Name: Yas, dtype: bool"
      ]
     },
     "execution_count": 219,
     "metadata": {},
     "output_type": "execute_result"
    }
   ],
   "source": [
    "newDataFrame[\"Yas\" ] > 1"
   ]
  },
  {
   "cell_type": "code",
   "execution_count": 220,
   "id": "d36fc48a-58f5-40a7-add8-ff807dec9049",
   "metadata": {},
   "outputs": [
    {
     "data": {
      "text/html": [
       "<div>\n",
       "<style scoped>\n",
       "    .dataframe tbody tr th:only-of-type {\n",
       "        vertical-align: middle;\n",
       "    }\n",
       "\n",
       "    .dataframe tbody tr th {\n",
       "        vertical-align: top;\n",
       "    }\n",
       "\n",
       "    .dataframe thead th {\n",
       "        text-align: right;\n",
       "    }\n",
       "</style>\n",
       "<table border=\"1\" class=\"dataframe\">\n",
       "  <thead>\n",
       "    <tr style=\"text-align: right;\">\n",
       "      <th></th>\n",
       "      <th>Maas</th>\n",
       "      <th>Yas</th>\n",
       "      <th>Saat</th>\n",
       "    </tr>\n",
       "  </thead>\n",
       "  <tbody>\n",
       "    <tr>\n",
       "      <th>Atil</th>\n",
       "      <td>0.472957</td>\n",
       "      <td>1.298859</td>\n",
       "      <td>0.032138</td>\n",
       "    </tr>\n",
       "  </tbody>\n",
       "</table>\n",
       "</div>"
      ],
      "text/plain": [
       "          Maas       Yas      Saat\n",
       "Atil  0.472957  1.298859  0.032138"
      ]
     },
     "execution_count": 220,
     "metadata": {},
     "output_type": "execute_result"
    }
   ],
   "source": [
    "newDataFrame[newDataFrame[\"Yas\" ] > 1]"
   ]
  },
  {
   "cell_type": "code",
   "execution_count": 221,
   "id": "17b45d4d-bdee-412b-8918-2e5de85ac28b",
   "metadata": {},
   "outputs": [
    {
     "data": {
      "text/html": [
       "<div>\n",
       "<style scoped>\n",
       "    .dataframe tbody tr th:only-of-type {\n",
       "        vertical-align: middle;\n",
       "    }\n",
       "\n",
       "    .dataframe tbody tr th {\n",
       "        vertical-align: top;\n",
       "    }\n",
       "\n",
       "    .dataframe thead th {\n",
       "        text-align: right;\n",
       "    }\n",
       "</style>\n",
       "<table border=\"1\" class=\"dataframe\">\n",
       "  <thead>\n",
       "    <tr style=\"text-align: right;\">\n",
       "      <th></th>\n",
       "      <th>Maas</th>\n",
       "      <th>Yas</th>\n",
       "      <th>Saat</th>\n",
       "    </tr>\n",
       "  </thead>\n",
       "  <tbody>\n",
       "    <tr>\n",
       "      <th>Ozge</th>\n",
       "      <td>1.031676</td>\n",
       "      <td>-0.890874</td>\n",
       "      <td>0.044812</td>\n",
       "    </tr>\n",
       "    <tr>\n",
       "      <th>Atil</th>\n",
       "      <td>0.472957</td>\n",
       "      <td>1.298859</td>\n",
       "      <td>0.032138</td>\n",
       "    </tr>\n",
       "    <tr>\n",
       "      <th>Atlas</th>\n",
       "      <td>-1.095079</td>\n",
       "      <td>-1.469188</td>\n",
       "      <td>1.047244</td>\n",
       "    </tr>\n",
       "  </tbody>\n",
       "</table>\n",
       "</div>"
      ],
      "text/plain": [
       "           Maas       Yas      Saat\n",
       "Ozge   1.031676 -0.890874  0.044812\n",
       "Atil   0.472957  1.298859  0.032138\n",
       "Atlas -1.095079 -1.469188  1.047244"
      ]
     },
     "execution_count": 221,
     "metadata": {},
     "output_type": "execute_result"
    }
   ],
   "source": [
    "newDataFrame[newDataFrame[\"Saat\" ] > 0]"
   ]
  },
  {
   "cell_type": "code",
   "execution_count": 222,
   "id": "b03558ef-b280-46f9-8078-3a7f9534e199",
   "metadata": {},
   "outputs": [
    {
     "data": {
      "text/html": [
       "<div>\n",
       "<style scoped>\n",
       "    .dataframe tbody tr th:only-of-type {\n",
       "        vertical-align: middle;\n",
       "    }\n",
       "\n",
       "    .dataframe tbody tr th {\n",
       "        vertical-align: top;\n",
       "    }\n",
       "\n",
       "    .dataframe thead th {\n",
       "        text-align: right;\n",
       "    }\n",
       "</style>\n",
       "<table border=\"1\" class=\"dataframe\">\n",
       "  <thead>\n",
       "    <tr style=\"text-align: right;\">\n",
       "      <th></th>\n",
       "      <th>index</th>\n",
       "      <th>Maas</th>\n",
       "      <th>Yas</th>\n",
       "      <th>Saat</th>\n",
       "    </tr>\n",
       "  </thead>\n",
       "  <tbody>\n",
       "    <tr>\n",
       "      <th>0</th>\n",
       "      <td>Ozge</td>\n",
       "      <td>1.031676</td>\n",
       "      <td>-0.890874</td>\n",
       "      <td>0.044812</td>\n",
       "    </tr>\n",
       "    <tr>\n",
       "      <th>1</th>\n",
       "      <td>Zeynep</td>\n",
       "      <td>0.185853</td>\n",
       "      <td>0.902189</td>\n",
       "      <td>-1.956711</td>\n",
       "    </tr>\n",
       "    <tr>\n",
       "      <th>2</th>\n",
       "      <td>Atil</td>\n",
       "      <td>0.472957</td>\n",
       "      <td>1.298859</td>\n",
       "      <td>0.032138</td>\n",
       "    </tr>\n",
       "    <tr>\n",
       "      <th>3</th>\n",
       "      <td>Atlas</td>\n",
       "      <td>-1.095079</td>\n",
       "      <td>-1.469188</td>\n",
       "      <td>1.047244</td>\n",
       "    </tr>\n",
       "  </tbody>\n",
       "</table>\n",
       "</div>"
      ],
      "text/plain": [
       "    index      Maas       Yas      Saat\n",
       "0    Ozge  1.031676 -0.890874  0.044812\n",
       "1  Zeynep  0.185853  0.902189 -1.956711\n",
       "2    Atil  0.472957  1.298859  0.032138\n",
       "3   Atlas -1.095079 -1.469188  1.047244"
      ]
     },
     "execution_count": 222,
     "metadata": {},
     "output_type": "execute_result"
    }
   ],
   "source": [
    "newDataFrame.reset_index()"
   ]
  },
  {
   "cell_type": "code",
   "execution_count": 223,
   "id": "2fdab58c-6029-4b29-a813-c15d4f9c5dba",
   "metadata": {},
   "outputs": [
    {
     "data": {
      "text/html": [
       "<div>\n",
       "<style scoped>\n",
       "    .dataframe tbody tr th:only-of-type {\n",
       "        vertical-align: middle;\n",
       "    }\n",
       "\n",
       "    .dataframe tbody tr th {\n",
       "        vertical-align: top;\n",
       "    }\n",
       "\n",
       "    .dataframe thead th {\n",
       "        text-align: right;\n",
       "    }\n",
       "</style>\n",
       "<table border=\"1\" class=\"dataframe\">\n",
       "  <thead>\n",
       "    <tr style=\"text-align: right;\">\n",
       "      <th></th>\n",
       "      <th>Maas</th>\n",
       "      <th>Yas</th>\n",
       "      <th>Saat</th>\n",
       "    </tr>\n",
       "  </thead>\n",
       "  <tbody>\n",
       "    <tr>\n",
       "      <th>Ozge</th>\n",
       "      <td>1.031676</td>\n",
       "      <td>-0.890874</td>\n",
       "      <td>0.044812</td>\n",
       "    </tr>\n",
       "    <tr>\n",
       "      <th>Zeynep</th>\n",
       "      <td>0.185853</td>\n",
       "      <td>0.902189</td>\n",
       "      <td>-1.956711</td>\n",
       "    </tr>\n",
       "    <tr>\n",
       "      <th>Atil</th>\n",
       "      <td>0.472957</td>\n",
       "      <td>1.298859</td>\n",
       "      <td>0.032138</td>\n",
       "    </tr>\n",
       "    <tr>\n",
       "      <th>Atlas</th>\n",
       "      <td>-1.095079</td>\n",
       "      <td>-1.469188</td>\n",
       "      <td>1.047244</td>\n",
       "    </tr>\n",
       "  </tbody>\n",
       "</table>\n",
       "</div>"
      ],
      "text/plain": [
       "            Maas       Yas      Saat\n",
       "Ozge    1.031676 -0.890874  0.044812\n",
       "Zeynep  0.185853  0.902189 -1.956711\n",
       "Atil    0.472957  1.298859  0.032138\n",
       "Atlas  -1.095079 -1.469188  1.047244"
      ]
     },
     "execution_count": 223,
     "metadata": {},
     "output_type": "execute_result"
    }
   ],
   "source": [
    "newDataFrame"
   ]
  },
  {
   "cell_type": "code",
   "execution_count": 225,
   "id": "61dde0db-a6f6-40e6-b8ec-6019f660d2a3",
   "metadata": {},
   "outputs": [],
   "source": [
    "newIndexList = [\"Ozg\",\"Zey\",\"Ati\",\"Atl\"]"
   ]
  },
  {
   "cell_type": "code",
   "execution_count": 226,
   "id": "890bf238-6e6f-4fcf-bb68-aff71bee7ff6",
   "metadata": {},
   "outputs": [],
   "source": [
    "newDataFrame[\"Yeni Index\"] = newIndexList"
   ]
  },
  {
   "cell_type": "code",
   "execution_count": 227,
   "id": "e7b22fe6-1453-49f1-808b-3051d5da2e3d",
   "metadata": {},
   "outputs": [
    {
     "data": {
      "text/html": [
       "<div>\n",
       "<style scoped>\n",
       "    .dataframe tbody tr th:only-of-type {\n",
       "        vertical-align: middle;\n",
       "    }\n",
       "\n",
       "    .dataframe tbody tr th {\n",
       "        vertical-align: top;\n",
       "    }\n",
       "\n",
       "    .dataframe thead th {\n",
       "        text-align: right;\n",
       "    }\n",
       "</style>\n",
       "<table border=\"1\" class=\"dataframe\">\n",
       "  <thead>\n",
       "    <tr style=\"text-align: right;\">\n",
       "      <th></th>\n",
       "      <th>Maas</th>\n",
       "      <th>Yas</th>\n",
       "      <th>Saat</th>\n",
       "      <th>Yeni Index</th>\n",
       "    </tr>\n",
       "  </thead>\n",
       "  <tbody>\n",
       "    <tr>\n",
       "      <th>Ozge</th>\n",
       "      <td>1.031676</td>\n",
       "      <td>-0.890874</td>\n",
       "      <td>0.044812</td>\n",
       "      <td>Ozg</td>\n",
       "    </tr>\n",
       "    <tr>\n",
       "      <th>Zeynep</th>\n",
       "      <td>0.185853</td>\n",
       "      <td>0.902189</td>\n",
       "      <td>-1.956711</td>\n",
       "      <td>Zey</td>\n",
       "    </tr>\n",
       "    <tr>\n",
       "      <th>Atil</th>\n",
       "      <td>0.472957</td>\n",
       "      <td>1.298859</td>\n",
       "      <td>0.032138</td>\n",
       "      <td>Ati</td>\n",
       "    </tr>\n",
       "    <tr>\n",
       "      <th>Atlas</th>\n",
       "      <td>-1.095079</td>\n",
       "      <td>-1.469188</td>\n",
       "      <td>1.047244</td>\n",
       "      <td>Atl</td>\n",
       "    </tr>\n",
       "  </tbody>\n",
       "</table>\n",
       "</div>"
      ],
      "text/plain": [
       "            Maas       Yas      Saat Yeni Index\n",
       "Ozge    1.031676 -0.890874  0.044812        Ozg\n",
       "Zeynep  0.185853  0.902189 -1.956711        Zey\n",
       "Atil    0.472957  1.298859  0.032138        Ati\n",
       "Atlas  -1.095079 -1.469188  1.047244        Atl"
      ]
     },
     "execution_count": 227,
     "metadata": {},
     "output_type": "execute_result"
    }
   ],
   "source": [
    "newDataFrame"
   ]
  },
  {
   "cell_type": "code",
   "execution_count": 229,
   "id": "2810746d-2766-4afd-a4a2-81e0fa1b5034",
   "metadata": {},
   "outputs": [
    {
     "data": {
      "text/html": [
       "<div>\n",
       "<style scoped>\n",
       "    .dataframe tbody tr th:only-of-type {\n",
       "        vertical-align: middle;\n",
       "    }\n",
       "\n",
       "    .dataframe tbody tr th {\n",
       "        vertical-align: top;\n",
       "    }\n",
       "\n",
       "    .dataframe thead th {\n",
       "        text-align: right;\n",
       "    }\n",
       "</style>\n",
       "<table border=\"1\" class=\"dataframe\">\n",
       "  <thead>\n",
       "    <tr style=\"text-align: right;\">\n",
       "      <th></th>\n",
       "      <th>Maas</th>\n",
       "      <th>Yas</th>\n",
       "      <th>Saat</th>\n",
       "    </tr>\n",
       "    <tr>\n",
       "      <th>Yeni Index</th>\n",
       "      <th></th>\n",
       "      <th></th>\n",
       "      <th></th>\n",
       "    </tr>\n",
       "  </thead>\n",
       "  <tbody>\n",
       "    <tr>\n",
       "      <th>Ozg</th>\n",
       "      <td>1.031676</td>\n",
       "      <td>-0.890874</td>\n",
       "      <td>0.044812</td>\n",
       "    </tr>\n",
       "    <tr>\n",
       "      <th>Zey</th>\n",
       "      <td>0.185853</td>\n",
       "      <td>0.902189</td>\n",
       "      <td>-1.956711</td>\n",
       "    </tr>\n",
       "    <tr>\n",
       "      <th>Ati</th>\n",
       "      <td>0.472957</td>\n",
       "      <td>1.298859</td>\n",
       "      <td>0.032138</td>\n",
       "    </tr>\n",
       "    <tr>\n",
       "      <th>Atl</th>\n",
       "      <td>-1.095079</td>\n",
       "      <td>-1.469188</td>\n",
       "      <td>1.047244</td>\n",
       "    </tr>\n",
       "  </tbody>\n",
       "</table>\n",
       "</div>"
      ],
      "text/plain": [
       "                Maas       Yas      Saat\n",
       "Yeni Index                              \n",
       "Ozg         1.031676 -0.890874  0.044812\n",
       "Zey         0.185853  0.902189 -1.956711\n",
       "Ati         0.472957  1.298859  0.032138\n",
       "Atl        -1.095079 -1.469188  1.047244"
      ]
     },
     "execution_count": 229,
     "metadata": {},
     "output_type": "execute_result"
    }
   ],
   "source": [
    "newDataFrame.set_index(\"Yeni Index\")"
   ]
  },
  {
   "cell_type": "code",
   "execution_count": 230,
   "id": "8604568b-436e-4ed8-9a97-4cfbd3c644f4",
   "metadata": {},
   "outputs": [
    {
     "data": {
      "text/html": [
       "<div>\n",
       "<style scoped>\n",
       "    .dataframe tbody tr th:only-of-type {\n",
       "        vertical-align: middle;\n",
       "    }\n",
       "\n",
       "    .dataframe tbody tr th {\n",
       "        vertical-align: top;\n",
       "    }\n",
       "\n",
       "    .dataframe thead th {\n",
       "        text-align: right;\n",
       "    }\n",
       "</style>\n",
       "<table border=\"1\" class=\"dataframe\">\n",
       "  <thead>\n",
       "    <tr style=\"text-align: right;\">\n",
       "      <th></th>\n",
       "      <th>Maas</th>\n",
       "      <th>Yas</th>\n",
       "      <th>Saat</th>\n",
       "      <th>Yeni Index</th>\n",
       "    </tr>\n",
       "  </thead>\n",
       "  <tbody>\n",
       "    <tr>\n",
       "      <th>Ozge</th>\n",
       "      <td>1.031676</td>\n",
       "      <td>-0.890874</td>\n",
       "      <td>0.044812</td>\n",
       "      <td>Ozg</td>\n",
       "    </tr>\n",
       "    <tr>\n",
       "      <th>Zeynep</th>\n",
       "      <td>0.185853</td>\n",
       "      <td>0.902189</td>\n",
       "      <td>-1.956711</td>\n",
       "      <td>Zey</td>\n",
       "    </tr>\n",
       "    <tr>\n",
       "      <th>Atil</th>\n",
       "      <td>0.472957</td>\n",
       "      <td>1.298859</td>\n",
       "      <td>0.032138</td>\n",
       "      <td>Ati</td>\n",
       "    </tr>\n",
       "    <tr>\n",
       "      <th>Atlas</th>\n",
       "      <td>-1.095079</td>\n",
       "      <td>-1.469188</td>\n",
       "      <td>1.047244</td>\n",
       "      <td>Atl</td>\n",
       "    </tr>\n",
       "  </tbody>\n",
       "</table>\n",
       "</div>"
      ],
      "text/plain": [
       "            Maas       Yas      Saat Yeni Index\n",
       "Ozge    1.031676 -0.890874  0.044812        Ozg\n",
       "Zeynep  0.185853  0.902189 -1.956711        Zey\n",
       "Atil    0.472957  1.298859  0.032138        Ati\n",
       "Atlas  -1.095079 -1.469188  1.047244        Atl"
      ]
     },
     "execution_count": 230,
     "metadata": {},
     "output_type": "execute_result"
    }
   ],
   "source": [
    "newDataFrame"
   ]
  },
  {
   "cell_type": "code",
   "execution_count": 231,
   "id": "1a80b53c-97d9-4227-86c4-bf7535690cc3",
   "metadata": {},
   "outputs": [],
   "source": [
    "newDataFrame.set_index(\"Yeni Index\", inplace = True)"
   ]
  },
  {
   "cell_type": "code",
   "execution_count": 232,
   "id": "ed83f469-8dc7-4fa4-bfd9-792c698db295",
   "metadata": {},
   "outputs": [
    {
     "data": {
      "text/html": [
       "<div>\n",
       "<style scoped>\n",
       "    .dataframe tbody tr th:only-of-type {\n",
       "        vertical-align: middle;\n",
       "    }\n",
       "\n",
       "    .dataframe tbody tr th {\n",
       "        vertical-align: top;\n",
       "    }\n",
       "\n",
       "    .dataframe thead th {\n",
       "        text-align: right;\n",
       "    }\n",
       "</style>\n",
       "<table border=\"1\" class=\"dataframe\">\n",
       "  <thead>\n",
       "    <tr style=\"text-align: right;\">\n",
       "      <th></th>\n",
       "      <th>Maas</th>\n",
       "      <th>Yas</th>\n",
       "      <th>Saat</th>\n",
       "    </tr>\n",
       "    <tr>\n",
       "      <th>Yeni Index</th>\n",
       "      <th></th>\n",
       "      <th></th>\n",
       "      <th></th>\n",
       "    </tr>\n",
       "  </thead>\n",
       "  <tbody>\n",
       "    <tr>\n",
       "      <th>Ozg</th>\n",
       "      <td>1.031676</td>\n",
       "      <td>-0.890874</td>\n",
       "      <td>0.044812</td>\n",
       "    </tr>\n",
       "    <tr>\n",
       "      <th>Zey</th>\n",
       "      <td>0.185853</td>\n",
       "      <td>0.902189</td>\n",
       "      <td>-1.956711</td>\n",
       "    </tr>\n",
       "    <tr>\n",
       "      <th>Ati</th>\n",
       "      <td>0.472957</td>\n",
       "      <td>1.298859</td>\n",
       "      <td>0.032138</td>\n",
       "    </tr>\n",
       "    <tr>\n",
       "      <th>Atl</th>\n",
       "      <td>-1.095079</td>\n",
       "      <td>-1.469188</td>\n",
       "      <td>1.047244</td>\n",
       "    </tr>\n",
       "  </tbody>\n",
       "</table>\n",
       "</div>"
      ],
      "text/plain": [
       "                Maas       Yas      Saat\n",
       "Yeni Index                              \n",
       "Ozg         1.031676 -0.890874  0.044812\n",
       "Zey         0.185853  0.902189 -1.956711\n",
       "Ati         0.472957  1.298859  0.032138\n",
       "Atl        -1.095079 -1.469188  1.047244"
      ]
     },
     "execution_count": 232,
     "metadata": {},
     "output_type": "execute_result"
    }
   ],
   "source": [
    "newDataFrame"
   ]
  },
  {
   "cell_type": "code",
   "execution_count": 235,
   "id": "1b40507f-ef36-4f05-a484-f16c11e1a0bf",
   "metadata": {},
   "outputs": [
    {
     "data": {
      "text/plain": [
       "Maas    0.472957\n",
       "Yas     1.298859\n",
       "Saat    0.032138\n",
       "Name: Ati, dtype: float64"
      ]
     },
     "execution_count": 235,
     "metadata": {},
     "output_type": "execute_result"
    }
   ],
   "source": [
    "newDataFrame.loc[\"Ati\"]"
   ]
  },
  {
   "cell_type": "code",
   "execution_count": 236,
   "id": "72f03f4d-2e66-4e7c-8a88-9035cf952e0b",
   "metadata": {},
   "outputs": [],
   "source": [
    "ilkIndeksler = [\"Simpson\",\"Simpson\",\"Simpson\", \"South Park\", \"South Park\", \"South Park\", \"South Park\"]"
   ]
  },
  {
   "cell_type": "code",
   "execution_count": 237,
   "id": "65fc79d3-6b78-42ba-ac0a-d736464d78fd",
   "metadata": {},
   "outputs": [],
   "source": [
    "icIndeksler = [\"Homer\", \"Bart\", \"Marge\", \"Cartman\", \"Kenny\", \"Kyle\"]"
   ]
  },
  {
   "cell_type": "code",
   "execution_count": 238,
   "id": "5cdfd9f0-cda6-456c-9180-83c662d17fb7",
   "metadata": {},
   "outputs": [],
   "source": [
    "birlesmisIndeksler = list(zip(ilkIndeksler,icIndeksler))"
   ]
  },
  {
   "cell_type": "code",
   "execution_count": 239,
   "id": "7b0ef39c-2123-4c3d-98d3-2ac72ced7823",
   "metadata": {},
   "outputs": [
    {
     "data": {
      "text/plain": [
       "[('Simpson', 'Homer'),\n",
       " ('Simpson', 'Bart'),\n",
       " ('Simpson', 'Marge'),\n",
       " ('South Park', 'Cartman'),\n",
       " ('South Park', 'Kenny'),\n",
       " ('South Park', 'Kyle')]"
      ]
     },
     "execution_count": 239,
     "metadata": {},
     "output_type": "execute_result"
    }
   ],
   "source": [
    "birlesmisIndeksler"
   ]
  },
  {
   "cell_type": "code",
   "execution_count": 240,
   "id": "66cf5b8e-19cd-4c84-bff5-28a9354d1e35",
   "metadata": {},
   "outputs": [],
   "source": [
    "birlesmisIndeksler = pd.MultiIndex.from_tuples(birlesmisIndeksler)"
   ]
  },
  {
   "cell_type": "code",
   "execution_count": 241,
   "id": "e519181b-ee65-4fa6-a2e7-f11e0e3f7332",
   "metadata": {},
   "outputs": [
    {
     "data": {
      "text/plain": [
       "MultiIndex([(   'Simpson',   'Homer'),\n",
       "            (   'Simpson',    'Bart'),\n",
       "            (   'Simpson',   'Marge'),\n",
       "            ('South Park', 'Cartman'),\n",
       "            ('South Park',   'Kenny'),\n",
       "            ('South Park',    'Kyle')],\n",
       "           )"
      ]
     },
     "execution_count": 241,
     "metadata": {},
     "output_type": "execute_result"
    }
   ],
   "source": [
    "birlesmisIndeksler"
   ]
  },
  {
   "cell_type": "code",
   "execution_count": 242,
   "id": "d27b36b5-7707-4af7-b9ba-b2c3d98186ce",
   "metadata": {},
   "outputs": [
    {
     "data": {
      "text/plain": [
       "pandas.core.indexes.multi.MultiIndex"
      ]
     },
     "execution_count": 242,
     "metadata": {},
     "output_type": "execute_result"
    }
   ],
   "source": [
    "type(birlesmisIndeksler)"
   ]
  },
  {
   "cell_type": "code",
   "execution_count": 244,
   "id": "09e7ec1a-9750-4001-bd3b-32138061b822",
   "metadata": {},
   "outputs": [],
   "source": [
    "benimCizgiFilmListem = [[40,\"A\"],[10,\"B\"],[33,\"C\"],[22,\"D\"],[18,\"E\"],[24,\"F\"]]"
   ]
  },
  {
   "cell_type": "code",
   "execution_count": 245,
   "id": "b3065626-ac77-4a78-9343-0e8b1a95e19a",
   "metadata": {},
   "outputs": [],
   "source": [
    "cizgiFilmNumpyDizisi = np.array(benimCizgiFilmListem)"
   ]
  },
  {
   "cell_type": "code",
   "execution_count": 246,
   "id": "3fc7566b-4fc4-45ae-a0d5-04121ad3ad08",
   "metadata": {},
   "outputs": [],
   "source": [
    "cizgiFilmDataFrame = pd.DataFrame(cizgiFilmNumpyDizisi,index=birlesmisIndeksler,columns=[\"Yas\",\"Meslek\"])"
   ]
  },
  {
   "cell_type": "code",
   "execution_count": 247,
   "id": "8204723a-16d4-4d5f-affe-17e2f8b15ab3",
   "metadata": {},
   "outputs": [
    {
     "data": {
      "text/html": [
       "<div>\n",
       "<style scoped>\n",
       "    .dataframe tbody tr th:only-of-type {\n",
       "        vertical-align: middle;\n",
       "    }\n",
       "\n",
       "    .dataframe tbody tr th {\n",
       "        vertical-align: top;\n",
       "    }\n",
       "\n",
       "    .dataframe thead th {\n",
       "        text-align: right;\n",
       "    }\n",
       "</style>\n",
       "<table border=\"1\" class=\"dataframe\">\n",
       "  <thead>\n",
       "    <tr style=\"text-align: right;\">\n",
       "      <th></th>\n",
       "      <th></th>\n",
       "      <th>Yas</th>\n",
       "      <th>Meslek</th>\n",
       "    </tr>\n",
       "  </thead>\n",
       "  <tbody>\n",
       "    <tr>\n",
       "      <th rowspan=\"3\" valign=\"top\">Simpson</th>\n",
       "      <th>Homer</th>\n",
       "      <td>40</td>\n",
       "      <td>A</td>\n",
       "    </tr>\n",
       "    <tr>\n",
       "      <th>Bart</th>\n",
       "      <td>10</td>\n",
       "      <td>B</td>\n",
       "    </tr>\n",
       "    <tr>\n",
       "      <th>Marge</th>\n",
       "      <td>33</td>\n",
       "      <td>C</td>\n",
       "    </tr>\n",
       "    <tr>\n",
       "      <th rowspan=\"3\" valign=\"top\">South Park</th>\n",
       "      <th>Cartman</th>\n",
       "      <td>22</td>\n",
       "      <td>D</td>\n",
       "    </tr>\n",
       "    <tr>\n",
       "      <th>Kenny</th>\n",
       "      <td>18</td>\n",
       "      <td>E</td>\n",
       "    </tr>\n",
       "    <tr>\n",
       "      <th>Kyle</th>\n",
       "      <td>24</td>\n",
       "      <td>F</td>\n",
       "    </tr>\n",
       "  </tbody>\n",
       "</table>\n",
       "</div>"
      ],
      "text/plain": [
       "                   Yas Meslek\n",
       "Simpson    Homer    40      A\n",
       "           Bart     10      B\n",
       "           Marge    33      C\n",
       "South Park Cartman  22      D\n",
       "           Kenny    18      E\n",
       "           Kyle     24      F"
      ]
     },
     "execution_count": 247,
     "metadata": {},
     "output_type": "execute_result"
    }
   ],
   "source": [
    "cizgiFilmDataFrame"
   ]
  },
  {
   "cell_type": "code",
   "execution_count": 248,
   "id": "05c91f85-e371-4f9b-ae28-932ec8ba5403",
   "metadata": {},
   "outputs": [
    {
     "data": {
      "text/html": [
       "<div>\n",
       "<style scoped>\n",
       "    .dataframe tbody tr th:only-of-type {\n",
       "        vertical-align: middle;\n",
       "    }\n",
       "\n",
       "    .dataframe tbody tr th {\n",
       "        vertical-align: top;\n",
       "    }\n",
       "\n",
       "    .dataframe thead th {\n",
       "        text-align: right;\n",
       "    }\n",
       "</style>\n",
       "<table border=\"1\" class=\"dataframe\">\n",
       "  <thead>\n",
       "    <tr style=\"text-align: right;\">\n",
       "      <th></th>\n",
       "      <th>Yas</th>\n",
       "      <th>Meslek</th>\n",
       "    </tr>\n",
       "  </thead>\n",
       "  <tbody>\n",
       "    <tr>\n",
       "      <th>Homer</th>\n",
       "      <td>40</td>\n",
       "      <td>A</td>\n",
       "    </tr>\n",
       "    <tr>\n",
       "      <th>Bart</th>\n",
       "      <td>10</td>\n",
       "      <td>B</td>\n",
       "    </tr>\n",
       "    <tr>\n",
       "      <th>Marge</th>\n",
       "      <td>33</td>\n",
       "      <td>C</td>\n",
       "    </tr>\n",
       "  </tbody>\n",
       "</table>\n",
       "</div>"
      ],
      "text/plain": [
       "      Yas Meslek\n",
       "Homer  40      A\n",
       "Bart   10      B\n",
       "Marge  33      C"
      ]
     },
     "execution_count": 248,
     "metadata": {},
     "output_type": "execute_result"
    }
   ],
   "source": [
    "cizgiFilmDataFrame.loc[\"Simpson\"]"
   ]
  },
  {
   "cell_type": "code",
   "execution_count": 249,
   "id": "0f757592-2793-4c9b-85b6-de0fa88cbca8",
   "metadata": {},
   "outputs": [
    {
     "data": {
      "text/html": [
       "<div>\n",
       "<style scoped>\n",
       "    .dataframe tbody tr th:only-of-type {\n",
       "        vertical-align: middle;\n",
       "    }\n",
       "\n",
       "    .dataframe tbody tr th {\n",
       "        vertical-align: top;\n",
       "    }\n",
       "\n",
       "    .dataframe thead th {\n",
       "        text-align: right;\n",
       "    }\n",
       "</style>\n",
       "<table border=\"1\" class=\"dataframe\">\n",
       "  <thead>\n",
       "    <tr style=\"text-align: right;\">\n",
       "      <th></th>\n",
       "      <th>Yas</th>\n",
       "      <th>Meslek</th>\n",
       "    </tr>\n",
       "  </thead>\n",
       "  <tbody>\n",
       "    <tr>\n",
       "      <th>Cartman</th>\n",
       "      <td>22</td>\n",
       "      <td>D</td>\n",
       "    </tr>\n",
       "    <tr>\n",
       "      <th>Kenny</th>\n",
       "      <td>18</td>\n",
       "      <td>E</td>\n",
       "    </tr>\n",
       "    <tr>\n",
       "      <th>Kyle</th>\n",
       "      <td>24</td>\n",
       "      <td>F</td>\n",
       "    </tr>\n",
       "  </tbody>\n",
       "</table>\n",
       "</div>"
      ],
      "text/plain": [
       "        Yas Meslek\n",
       "Cartman  22      D\n",
       "Kenny    18      E\n",
       "Kyle     24      F"
      ]
     },
     "execution_count": 249,
     "metadata": {},
     "output_type": "execute_result"
    }
   ],
   "source": [
    "cizgiFilmDataFrame.loc[\"South Park\"]"
   ]
  },
  {
   "cell_type": "code",
   "execution_count": 250,
   "id": "785debf5-f883-4267-a409-7b5872daff82",
   "metadata": {},
   "outputs": [
    {
     "data": {
      "text/plain": [
       "Yas       18\n",
       "Meslek     E\n",
       "Name: Kenny, dtype: object"
      ]
     },
     "execution_count": 250,
     "metadata": {},
     "output_type": "execute_result"
    }
   ],
   "source": [
    "cizgiFilmDataFrame.loc[\"South Park\"].loc[\"Kenny\"]"
   ]
  },
  {
   "cell_type": "code",
   "execution_count": 252,
   "id": "45e233e9-a16e-4044-bbde-89a9af84234b",
   "metadata": {},
   "outputs": [],
   "source": [
    "cizgiFilmDataFrame.index.names = [\"Film Adi\",\"Isim\"]"
   ]
  },
  {
   "cell_type": "code",
   "execution_count": 253,
   "id": "086322d3-5c0c-445b-b716-41d0d60469da",
   "metadata": {},
   "outputs": [
    {
     "data": {
      "text/html": [
       "<div>\n",
       "<style scoped>\n",
       "    .dataframe tbody tr th:only-of-type {\n",
       "        vertical-align: middle;\n",
       "    }\n",
       "\n",
       "    .dataframe tbody tr th {\n",
       "        vertical-align: top;\n",
       "    }\n",
       "\n",
       "    .dataframe thead th {\n",
       "        text-align: right;\n",
       "    }\n",
       "</style>\n",
       "<table border=\"1\" class=\"dataframe\">\n",
       "  <thead>\n",
       "    <tr style=\"text-align: right;\">\n",
       "      <th></th>\n",
       "      <th></th>\n",
       "      <th>Yas</th>\n",
       "      <th>Meslek</th>\n",
       "    </tr>\n",
       "    <tr>\n",
       "      <th>Film Adi</th>\n",
       "      <th>Isim</th>\n",
       "      <th></th>\n",
       "      <th></th>\n",
       "    </tr>\n",
       "  </thead>\n",
       "  <tbody>\n",
       "    <tr>\n",
       "      <th rowspan=\"3\" valign=\"top\">Simpson</th>\n",
       "      <th>Homer</th>\n",
       "      <td>40</td>\n",
       "      <td>A</td>\n",
       "    </tr>\n",
       "    <tr>\n",
       "      <th>Bart</th>\n",
       "      <td>10</td>\n",
       "      <td>B</td>\n",
       "    </tr>\n",
       "    <tr>\n",
       "      <th>Marge</th>\n",
       "      <td>33</td>\n",
       "      <td>C</td>\n",
       "    </tr>\n",
       "    <tr>\n",
       "      <th rowspan=\"3\" valign=\"top\">South Park</th>\n",
       "      <th>Cartman</th>\n",
       "      <td>22</td>\n",
       "      <td>D</td>\n",
       "    </tr>\n",
       "    <tr>\n",
       "      <th>Kenny</th>\n",
       "      <td>18</td>\n",
       "      <td>E</td>\n",
       "    </tr>\n",
       "    <tr>\n",
       "      <th>Kyle</th>\n",
       "      <td>24</td>\n",
       "      <td>F</td>\n",
       "    </tr>\n",
       "  </tbody>\n",
       "</table>\n",
       "</div>"
      ],
      "text/plain": [
       "                   Yas Meslek\n",
       "Film Adi   Isim              \n",
       "Simpson    Homer    40      A\n",
       "           Bart     10      B\n",
       "           Marge    33      C\n",
       "South Park Cartman  22      D\n",
       "           Kenny    18      E\n",
       "           Kyle     24      F"
      ]
     },
     "execution_count": 253,
     "metadata": {},
     "output_type": "execute_result"
    }
   ],
   "source": [
    "cizgiFilmDataFrame"
   ]
  },
  {
   "cell_type": "code",
   "execution_count": null,
   "id": "a1d3fe62-8f55-4f6f-8462-4db12a917a6f",
   "metadata": {},
   "outputs": [],
   "source": []
  }
 ],
 "metadata": {
  "kernelspec": {
   "display_name": "Python 3 (ipykernel)",
   "language": "python",
   "name": "python3"
  },
  "language_info": {
   "codemirror_mode": {
    "name": "ipython",
    "version": 3
   },
   "file_extension": ".py",
   "mimetype": "text/x-python",
   "name": "python",
   "nbconvert_exporter": "python",
   "pygments_lexer": "ipython3",
   "version": "3.12.4"
  }
 },
 "nbformat": 4,
 "nbformat_minor": 5
}
