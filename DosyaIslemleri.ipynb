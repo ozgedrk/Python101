{
 "cells": [
  {
   "cell_type": "markdown",
   "id": "50b9bc6c-558e-4cc5-b7a7-0b920d4a7827",
   "metadata": {},
   "source": [
    "# Pythonda Dosya Islemleri"
   ]
  },
  {
   "cell_type": "code",
   "execution_count": 13,
   "id": "4ae345a0-e7ae-4584-86c2-d78179d469e4",
   "metadata": {},
   "outputs": [],
   "source": [
    "dosya = open(\"dosya.txt\",mode = \"w\",encoding = \"utf-8\")"
   ]
  },
  {
   "cell_type": "code",
   "execution_count": 14,
   "id": "8673df9e-76b8-4ea8-ab2d-30d913eb49d8",
   "metadata": {},
   "outputs": [
    {
     "data": {
      "text/plain": [
       "47"
      ]
     },
     "execution_count": 14,
     "metadata": {},
     "output_type": "execute_result"
    }
   ],
   "source": [
    "dosya.write(\"Merhaba github bu benim ilk dosya yazma denemem\")"
   ]
  },
  {
   "cell_type": "code",
   "execution_count": 15,
   "id": "f83fa344-09dc-4293-8588-0d6efc55a85d",
   "metadata": {},
   "outputs": [],
   "source": [
    "dosya.close()"
   ]
  },
  {
   "cell_type": "code",
   "execution_count": 16,
   "id": "cf752e38-d957-4471-be38-8cd27cfaea76",
   "metadata": {},
   "outputs": [],
   "source": [
    "dosya = open(\"dosya.txt\",mode = \"a\",encoding = \"utf-8\")"
   ]
  },
  {
   "cell_type": "code",
   "execution_count": 17,
   "id": "2cb2d059-810b-4eba-a806-7dd8d8c9db92",
   "metadata": {},
   "outputs": [
    {
     "data": {
      "text/plain": [
       "62"
      ]
     },
     "execution_count": 17,
     "metadata": {},
     "output_type": "execute_result"
    }
   ],
   "source": [
    "dosya.write(\" Merhaba github bu benim ilk dosyaya yazi ekleme yazma denemem\")"
   ]
  },
  {
   "cell_type": "code",
   "execution_count": 18,
   "id": "f07d2159-fe3d-4478-9e1f-6f5aaf2062a7",
   "metadata": {},
   "outputs": [],
   "source": [
    "dosya.close()"
   ]
  },
  {
   "cell_type": "code",
   "execution_count": 19,
   "id": "4198ce84-0934-4087-a024-487e88da4ff1",
   "metadata": {},
   "outputs": [
    {
     "ename": "FileExistsError",
     "evalue": "[Errno 17] File exists: 'dosya.txt'",
     "output_type": "error",
     "traceback": [
      "\u001b[1;31m---------------------------------------------------------------------------\u001b[0m",
      "\u001b[1;31mFileExistsError\u001b[0m                           Traceback (most recent call last)",
      "Cell \u001b[1;32mIn[19], line 1\u001b[0m\n\u001b[1;32m----> 1\u001b[0m dosya \u001b[38;5;241m=\u001b[39m \u001b[38;5;28;43mopen\u001b[39;49m\u001b[43m(\u001b[49m\u001b[38;5;124;43m\"\u001b[39;49m\u001b[38;5;124;43mdosya.txt\u001b[39;49m\u001b[38;5;124;43m\"\u001b[39;49m\u001b[43m,\u001b[49m\u001b[43mmode\u001b[49m\u001b[43m \u001b[49m\u001b[38;5;241;43m=\u001b[39;49m\u001b[43m \u001b[49m\u001b[38;5;124;43m\"\u001b[39;49m\u001b[38;5;124;43mx\u001b[39;49m\u001b[38;5;124;43m\"\u001b[39;49m\u001b[43m,\u001b[49m\u001b[43mencoding\u001b[49m\u001b[43m \u001b[49m\u001b[38;5;241;43m=\u001b[39;49m\u001b[43m \u001b[49m\u001b[38;5;124;43m\"\u001b[39;49m\u001b[38;5;124;43mutf-8\u001b[39;49m\u001b[38;5;124;43m\"\u001b[39;49m\u001b[43m)\u001b[49m\n",
      "File \u001b[1;32mC:\\Python312\\Lib\\site-packages\\IPython\\core\\interactiveshell.py:324\u001b[0m, in \u001b[0;36m_modified_open\u001b[1;34m(file, *args, **kwargs)\u001b[0m\n\u001b[0;32m    317\u001b[0m \u001b[38;5;28;01mif\u001b[39;00m file \u001b[38;5;129;01min\u001b[39;00m {\u001b[38;5;241m0\u001b[39m, \u001b[38;5;241m1\u001b[39m, \u001b[38;5;241m2\u001b[39m}:\n\u001b[0;32m    318\u001b[0m     \u001b[38;5;28;01mraise\u001b[39;00m \u001b[38;5;167;01mValueError\u001b[39;00m(\n\u001b[0;32m    319\u001b[0m         \u001b[38;5;124mf\u001b[39m\u001b[38;5;124m\"\u001b[39m\u001b[38;5;124mIPython won\u001b[39m\u001b[38;5;124m'\u001b[39m\u001b[38;5;124mt let you open fd=\u001b[39m\u001b[38;5;132;01m{\u001b[39;00mfile\u001b[38;5;132;01m}\u001b[39;00m\u001b[38;5;124m by default \u001b[39m\u001b[38;5;124m\"\u001b[39m\n\u001b[0;32m    320\u001b[0m         \u001b[38;5;124m\"\u001b[39m\u001b[38;5;124mas it is likely to crash IPython. If you know what you are doing, \u001b[39m\u001b[38;5;124m\"\u001b[39m\n\u001b[0;32m    321\u001b[0m         \u001b[38;5;124m\"\u001b[39m\u001b[38;5;124myou can use builtins\u001b[39m\u001b[38;5;124m'\u001b[39m\u001b[38;5;124m open.\u001b[39m\u001b[38;5;124m\"\u001b[39m\n\u001b[0;32m    322\u001b[0m     )\n\u001b[1;32m--> 324\u001b[0m \u001b[38;5;28;01mreturn\u001b[39;00m \u001b[43mio_open\u001b[49m\u001b[43m(\u001b[49m\u001b[43mfile\u001b[49m\u001b[43m,\u001b[49m\u001b[43m \u001b[49m\u001b[38;5;241;43m*\u001b[39;49m\u001b[43margs\u001b[49m\u001b[43m,\u001b[49m\u001b[43m \u001b[49m\u001b[38;5;241;43m*\u001b[39;49m\u001b[38;5;241;43m*\u001b[39;49m\u001b[43mkwargs\u001b[49m\u001b[43m)\u001b[49m\n",
      "\u001b[1;31mFileExistsError\u001b[0m: [Errno 17] File exists: 'dosya.txt'"
     ]
    }
   ],
   "source": [
    "dosya = open(\"dosya.txt\",mode = \"x\",encoding = \"utf-8\")"
   ]
  },
  {
   "cell_type": "code",
   "execution_count": 20,
   "id": "37a98789-4a04-42ef-a034-e2f1516e12b6",
   "metadata": {},
   "outputs": [],
   "source": [
    "dosya = open(\"dosya.txt\",mode = \"r\",encoding = \"utf-8\")"
   ]
  },
  {
   "cell_type": "code",
   "execution_count": 21,
   "id": "34f0ebb8-c3ec-463f-90b0-7397b90bd799",
   "metadata": {},
   "outputs": [
    {
     "data": {
      "text/plain": [
       "\"Merhaba github bu benim ilk dosya yazma denemem.\\nMerhaba github bu benim ilk dosyaya yazi ekleme yazma denemem.\\nLorem ipsum, or lipsum as it is sometimes known, is dummy text \\nused in laying out print, graphic or web designs. \\nThe passage is attributed to an unknown typesetter in the 15th \\ncentury who is thought to have scrambled parts of Cicero's De Finibus\\nBonorum et Malorum for use in a type specimen book.\""
      ]
     },
     "execution_count": 21,
     "metadata": {},
     "output_type": "execute_result"
    }
   ],
   "source": [
    "dosya.read()"
   ]
  },
  {
   "cell_type": "code",
   "execution_count": 22,
   "id": "199e5624-3aaa-4ac4-a667-c14b39de70ab",
   "metadata": {},
   "outputs": [],
   "source": [
    "dosya.close()"
   ]
  },
  {
   "cell_type": "code",
   "execution_count": 23,
   "id": "5785fca8-8d7f-4dcd-b8c9-314db73c6f72",
   "metadata": {},
   "outputs": [
    {
     "ename": "FileNotFoundError",
     "evalue": "[Errno 2] No such file or directory: 'dos.txt'",
     "output_type": "error",
     "traceback": [
      "\u001b[1;31m---------------------------------------------------------------------------\u001b[0m",
      "\u001b[1;31mFileNotFoundError\u001b[0m                         Traceback (most recent call last)",
      "Cell \u001b[1;32mIn[23], line 1\u001b[0m\n\u001b[1;32m----> 1\u001b[0m dosya \u001b[38;5;241m=\u001b[39m \u001b[38;5;28;43mopen\u001b[39;49m\u001b[43m(\u001b[49m\u001b[38;5;124;43m\"\u001b[39;49m\u001b[38;5;124;43mdos.txt\u001b[39;49m\u001b[38;5;124;43m\"\u001b[39;49m\u001b[43m,\u001b[49m\u001b[43mmode\u001b[49m\u001b[43m \u001b[49m\u001b[38;5;241;43m=\u001b[39;49m\u001b[43m \u001b[49m\u001b[38;5;124;43m\"\u001b[39;49m\u001b[38;5;124;43mr\u001b[39;49m\u001b[38;5;124;43m\"\u001b[39;49m\u001b[43m,\u001b[49m\u001b[43mencoding\u001b[49m\u001b[43m \u001b[49m\u001b[38;5;241;43m=\u001b[39;49m\u001b[43m \u001b[49m\u001b[38;5;124;43m\"\u001b[39;49m\u001b[38;5;124;43mutf-8\u001b[39;49m\u001b[38;5;124;43m\"\u001b[39;49m\u001b[43m)\u001b[49m\n",
      "File \u001b[1;32mC:\\Python312\\Lib\\site-packages\\IPython\\core\\interactiveshell.py:324\u001b[0m, in \u001b[0;36m_modified_open\u001b[1;34m(file, *args, **kwargs)\u001b[0m\n\u001b[0;32m    317\u001b[0m \u001b[38;5;28;01mif\u001b[39;00m file \u001b[38;5;129;01min\u001b[39;00m {\u001b[38;5;241m0\u001b[39m, \u001b[38;5;241m1\u001b[39m, \u001b[38;5;241m2\u001b[39m}:\n\u001b[0;32m    318\u001b[0m     \u001b[38;5;28;01mraise\u001b[39;00m \u001b[38;5;167;01mValueError\u001b[39;00m(\n\u001b[0;32m    319\u001b[0m         \u001b[38;5;124mf\u001b[39m\u001b[38;5;124m\"\u001b[39m\u001b[38;5;124mIPython won\u001b[39m\u001b[38;5;124m'\u001b[39m\u001b[38;5;124mt let you open fd=\u001b[39m\u001b[38;5;132;01m{\u001b[39;00mfile\u001b[38;5;132;01m}\u001b[39;00m\u001b[38;5;124m by default \u001b[39m\u001b[38;5;124m\"\u001b[39m\n\u001b[0;32m    320\u001b[0m         \u001b[38;5;124m\"\u001b[39m\u001b[38;5;124mas it is likely to crash IPython. If you know what you are doing, \u001b[39m\u001b[38;5;124m\"\u001b[39m\n\u001b[0;32m    321\u001b[0m         \u001b[38;5;124m\"\u001b[39m\u001b[38;5;124myou can use builtins\u001b[39m\u001b[38;5;124m'\u001b[39m\u001b[38;5;124m open.\u001b[39m\u001b[38;5;124m\"\u001b[39m\n\u001b[0;32m    322\u001b[0m     )\n\u001b[1;32m--> 324\u001b[0m \u001b[38;5;28;01mreturn\u001b[39;00m \u001b[43mio_open\u001b[49m\u001b[43m(\u001b[49m\u001b[43mfile\u001b[49m\u001b[43m,\u001b[49m\u001b[43m \u001b[49m\u001b[38;5;241;43m*\u001b[39;49m\u001b[43margs\u001b[49m\u001b[43m,\u001b[49m\u001b[43m \u001b[49m\u001b[38;5;241;43m*\u001b[39;49m\u001b[38;5;241;43m*\u001b[39;49m\u001b[43mkwargs\u001b[49m\u001b[43m)\u001b[49m\n",
      "\u001b[1;31mFileNotFoundError\u001b[0m: [Errno 2] No such file or directory: 'dos.txt'"
     ]
    }
   ],
   "source": [
    "dosya = open(\"dos.txt\",mode = \"r\",encoding = \"utf-8\")"
   ]
  },
  {
   "cell_type": "code",
   "execution_count": 24,
   "id": "fd875094-83fe-4ca0-bf66-d63e9492b3ab",
   "metadata": {},
   "outputs": [],
   "source": [
    "dosya = open(\"dosya.txt\",mode = \"r\",encoding = \"utf-8\")"
   ]
  },
  {
   "cell_type": "code",
   "execution_count": 25,
   "id": "3716fda2-9f7e-42a9-85f1-16f44a8d1eb0",
   "metadata": {},
   "outputs": [
    {
     "data": {
      "text/plain": [
       "\"Merhaba github bu benim ilk dosya yazma denemem.\\nMerhaba github bu benim ilk dosyaya yazi ekleme yazma denemem.\\nLorem ipsum, or lipsum as it is sometimes known, is dummy text \\nused in laying out print, graphic or web designs. \\nThe passage is attributed to an unknown typesetter in the 15th \\ncentury who is thought to have scrambled parts of Cicero's De Finibus\\nBonorum et Malorum for use in a type specimen book.\""
      ]
     },
     "execution_count": 25,
     "metadata": {},
     "output_type": "execute_result"
    }
   ],
   "source": [
    "dosya.read()"
   ]
  },
  {
   "cell_type": "code",
   "execution_count": 26,
   "id": "7e8f0e57-25cb-48d4-9758-86a22c5e480a",
   "metadata": {},
   "outputs": [
    {
     "data": {
      "text/plain": [
       "''"
      ]
     },
     "execution_count": 26,
     "metadata": {},
     "output_type": "execute_result"
    }
   ],
   "source": [
    "dosya.read()"
   ]
  },
  {
   "cell_type": "code",
   "execution_count": 27,
   "id": "5749cbee-ff57-48c7-a87a-4cbb3a4a572c",
   "metadata": {},
   "outputs": [],
   "source": [
    "dosya.close()"
   ]
  },
  {
   "cell_type": "code",
   "execution_count": 29,
   "id": "6c6cb112-c963-49c6-aee9-8a5e34dcc634",
   "metadata": {},
   "outputs": [],
   "source": [
    "dosya = open(\"dosya.txt\",mode = \"r\",encoding = \"utf-8\")"
   ]
  },
  {
   "cell_type": "code",
   "execution_count": 30,
   "id": "82d0a519-d62d-442a-ba47-26a1f49b3193",
   "metadata": {},
   "outputs": [
    {
     "name": "stdout",
     "output_type": "stream",
     "text": [
      "Merhaba github bu benim ilk dosya yazma denemem.\n",
      "\n",
      "Merhaba github bu benim ilk dosyaya yazi ekleme yazma denemem.\n",
      "\n",
      "Lorem ipsum, or lipsum as it is sometimes known, is dummy text \n",
      "\n",
      "used in laying out print, graphic or web designs. \n",
      "\n",
      "The passage is attributed to an unknown typesetter in the 15th \n",
      "\n",
      "century who is thought to have scrambled parts of Cicero's De Finibus\n",
      "\n",
      "Bonorum et Malorum for use in a type specimen book.\n"
     ]
    }
   ],
   "source": [
    "for i in dosya:\n",
    "    print(i)"
   ]
  },
  {
   "cell_type": "code",
   "execution_count": 31,
   "id": "85512841-5e33-48aa-8a2c-36dbe6357854",
   "metadata": {},
   "outputs": [],
   "source": [
    "dosya.close()"
   ]
  },
  {
   "cell_type": "code",
   "execution_count": 32,
   "id": "0ed8f440-3ee9-4a57-a66e-554e25f13184",
   "metadata": {},
   "outputs": [],
   "source": [
    "dosya = open(\"dosya.txt\",mode = \"r\",encoding = \"utf-8\")"
   ]
  },
  {
   "cell_type": "code",
   "execution_count": 33,
   "id": "64268cad-728b-4a59-aede-ce8717ff33a2",
   "metadata": {},
   "outputs": [
    {
     "data": {
      "text/plain": [
       "'Merhaba github bu benim ilk dosya yazma denemem.\\n'"
      ]
     },
     "execution_count": 33,
     "metadata": {},
     "output_type": "execute_result"
    }
   ],
   "source": [
    "dosya.readline()"
   ]
  },
  {
   "cell_type": "code",
   "execution_count": 34,
   "id": "e88d9abb-b1bd-4f4e-b31d-73b3d12e5137",
   "metadata": {},
   "outputs": [
    {
     "data": {
      "text/plain": [
       "'Merhaba github bu benim ilk dosyaya yazi ekleme yazma denemem.\\n'"
      ]
     },
     "execution_count": 34,
     "metadata": {},
     "output_type": "execute_result"
    }
   ],
   "source": [
    "dosya.readline()"
   ]
  },
  {
   "cell_type": "code",
   "execution_count": 35,
   "id": "bf4046d9-200a-488c-9289-d856c007b258",
   "metadata": {},
   "outputs": [
    {
     "data": {
      "text/plain": [
       "'Lorem ipsum, or lipsum as it is sometimes known, is dummy text \\n'"
      ]
     },
     "execution_count": 35,
     "metadata": {},
     "output_type": "execute_result"
    }
   ],
   "source": [
    "dosya.readline()"
   ]
  },
  {
   "cell_type": "code",
   "execution_count": 36,
   "id": "3b546360-bf4e-4ed6-a6ec-c9f6996b44bf",
   "metadata": {},
   "outputs": [
    {
     "data": {
      "text/plain": [
       "'used in laying out print, graphic or web designs. \\n'"
      ]
     },
     "execution_count": 36,
     "metadata": {},
     "output_type": "execute_result"
    }
   ],
   "source": [
    "dosya.readline()"
   ]
  },
  {
   "cell_type": "code",
   "execution_count": 37,
   "id": "33fc36ae-8afe-418b-837a-8ed5395edbad",
   "metadata": {},
   "outputs": [
    {
     "data": {
      "text/plain": [
       "'The passage is attributed to an unknown typesetter in the 15th \\n'"
      ]
     },
     "execution_count": 37,
     "metadata": {},
     "output_type": "execute_result"
    }
   ],
   "source": [
    "dosya.readline()"
   ]
  },
  {
   "cell_type": "code",
   "execution_count": 38,
   "id": "ca4c4d54-4e97-4cf8-8c1b-fe57e766ddfd",
   "metadata": {},
   "outputs": [
    {
     "data": {
      "text/plain": [
       "\"century who is thought to have scrambled parts of Cicero's De Finibus\\n\""
      ]
     },
     "execution_count": 38,
     "metadata": {},
     "output_type": "execute_result"
    }
   ],
   "source": [
    "dosya.readline()"
   ]
  },
  {
   "cell_type": "code",
   "execution_count": 39,
   "id": "7f2f621d-eaf4-4501-8694-98b6b8702580",
   "metadata": {},
   "outputs": [
    {
     "data": {
      "text/plain": [
       "'Bonorum et Malorum for use in a type specimen book.'"
      ]
     },
     "execution_count": 39,
     "metadata": {},
     "output_type": "execute_result"
    }
   ],
   "source": [
    "dosya.readline()"
   ]
  },
  {
   "cell_type": "code",
   "execution_count": 40,
   "id": "514b73cc-79d0-46e7-a401-99001b82a318",
   "metadata": {},
   "outputs": [
    {
     "data": {
      "text/plain": [
       "''"
      ]
     },
     "execution_count": 40,
     "metadata": {},
     "output_type": "execute_result"
    }
   ],
   "source": [
    "dosya.readline()"
   ]
  },
  {
   "cell_type": "code",
   "execution_count": 41,
   "id": "fc2f4850-1152-4181-9512-da8a7a42f663",
   "metadata": {},
   "outputs": [],
   "source": [
    "dosya.close()"
   ]
  },
  {
   "cell_type": "code",
   "execution_count": 46,
   "id": "3f1f57e2-8632-4268-9821-bc67b9006214",
   "metadata": {},
   "outputs": [],
   "source": [
    "dosya = open(\"dosya.txt\",mode = \"r\",encoding = \"utf-8\")"
   ]
  },
  {
   "cell_type": "code",
   "execution_count": 47,
   "id": "c15b1f10-6605-4178-b120-651538ca2374",
   "metadata": {},
   "outputs": [
    {
     "data": {
      "text/plain": [
       "['Merhaba github bu benim ilk dosya yazma denemem.\\n',\n",
       " 'Merhaba github bu benim ilk dosyaya yazi ekleme yazma denemem.\\n',\n",
       " 'Lorem ipsum, or lipsum as it is sometimes known, is dummy text \\n',\n",
       " 'used in laying out print, graphic or web designs. \\n',\n",
       " 'The passage is attributed to an unknown typesetter in the 15th \\n',\n",
       " \"century who is thought to have scrambled parts of Cicero's De Finibus\\n\",\n",
       " 'Bonorum et Malorum for use in a type specimen book.']"
      ]
     },
     "execution_count": 47,
     "metadata": {},
     "output_type": "execute_result"
    }
   ],
   "source": [
    "liste = dosya.readlines()\n",
    "liste"
   ]
  },
  {
   "cell_type": "code",
   "execution_count": 48,
   "id": "33806118-9785-4e2f-a8db-972edb354fd4",
   "metadata": {},
   "outputs": [
    {
     "data": {
      "text/plain": [
       "'Merhaba github bu benim ilk dosya yazma denemem.\\n'"
      ]
     },
     "execution_count": 48,
     "metadata": {},
     "output_type": "execute_result"
    }
   ],
   "source": [
    "liste[0]"
   ]
  },
  {
   "cell_type": "code",
   "execution_count": 51,
   "id": "67d54ac1-a4db-4b52-a2b2-1b728d45aa61",
   "metadata": {},
   "outputs": [],
   "source": [
    "dosya.close()"
   ]
  },
  {
   "cell_type": "code",
   "execution_count": 52,
   "id": "2f56c1ad-a4e0-472d-a5b7-529eddd5969d",
   "metadata": {},
   "outputs": [],
   "source": [
    "with open(\"cv.txt\",\"w\",encoding = \"utf-8\") as cv:\n",
    "    cv.write(\"I am a computer engineer who graduated from Gazi University, Department of Computer Engineering. \")\n",
    "    cv.write(\"I worked on network, SAP-ERP and web development with ASP.NET and SQL \")\n",
    "    cv.write(\"I continue to strive to become a successful developer by further improving my skills.\")"
   ]
  },
  {
   "cell_type": "code",
   "execution_count": 54,
   "id": "4c16db99-d374-4f17-8524-6b83d8dca30b",
   "metadata": {},
   "outputs": [
    {
     "name": "stdout",
     "output_type": "stream",
     "text": [
      "who graduated from Gazi University,\n",
      "60\n"
     ]
    }
   ],
   "source": [
    "with open(\"cv.txt\",\"r\",encoding = \"utf-8\") as cv:\n",
    "    cv.seek(25)\n",
    "    print(cv.read(35))\n",
    "    print(cv.tell())"
   ]
  },
  {
   "cell_type": "code",
   "execution_count": 59,
   "id": "8b801035-7a53-4583-9add-fdb381b7954e",
   "metadata": {},
   "outputs": [
    {
     "name": "stdout",
     "output_type": "stream",
     "text": [
      "I am a computer engineer who graduated\n"
     ]
    }
   ],
   "source": [
    "with open(\"cv.txt\",\"r+\",encoding = \"utf-8\") as cv:\n",
    "        print(cv.read(38))\n",
    "        cv.write(\"Throughout my education journey,\")"
   ]
  },
  {
   "cell_type": "code",
   "execution_count": null,
   "id": "52a7d527-2f55-430a-8936-76049ac30c2f",
   "metadata": {},
   "outputs": [],
   "source": []
  },
  {
   "cell_type": "markdown",
   "id": "fd4a5b9a-722b-4967-9d26-cf7e17c63348",
   "metadata": {},
   "source": [
    "###    \n",
    "1. \"r+\" modu kullanın hem okuma hem yazma için (Dosyanın var olması gerekir)\n",
    "2. \"w+\" modu kullanın hem okuma hem yazma için (Dosya varsa siler)\n",
    "3. \"a+\" modu ile de hem okuma hem yazma yapabilirsiniz (Eğer çağrılan dosya bulunursa, en sonundan eklemeye devam eder. Eğer dosya yoksa yazma ve okuma işlemleri yapacak yeni bir dosya oluşturur.)\n",
    "4. \"x+\" modu ile de yine hem okuma ve hem yazma yapabilirsiniz (Dosya yoksa hata verir.)"
   ]
  },
  {
   "cell_type": "code",
   "execution_count": 61,
   "id": "68ab02c4-dc50-4614-97c8-0d86cd939726",
   "metadata": {},
   "outputs": [],
   "source": [
    "with open(\"cv.txt\",\"r+\",encoding = \"utf-8\") as cv:\n",
    "    yazi = cv.read()\n",
    "    yazi = \"Ozge Dirik\" + yazi\n",
    "    cv.seek(0)\n",
    "    cv.write(yazi)"
   ]
  },
  {
   "cell_type": "code",
   "execution_count": 77,
   "id": "2adeb131-c179-4e12-aae9-1d38725d1c90",
   "metadata": {},
   "outputs": [],
   "source": [
    "with open(\"cv.txt\",\"r+\",encoding = \"utf-8\") as cv:\n",
    "    cv.seek(50)\n",
    "    cv.write(\" I had the chance to gain experience in different fields. \")"
   ]
  },
  {
   "cell_type": "code",
   "execution_count": 79,
   "id": "35852f08-0076-423e-8b8b-1cfe08453d47",
   "metadata": {},
   "outputs": [],
   "source": [
    "with open(\"new.txt\",\"w\",encoding= \"utf-8\") as new:\n",
    "    new.write(\" I worked as a long-term software development intern. \")"
   ]
  },
  {
   "cell_type": "code",
   "execution_count": 81,
   "id": "d008f337-c2b8-4911-9a5f-e2705e5d58ab",
   "metadata": {},
   "outputs": [
    {
     "ename": "NameError",
     "evalue": "name 'seek' is not defined",
     "output_type": "error",
     "traceback": [
      "\u001b[1;31m---------------------------------------------------------------------------\u001b[0m",
      "\u001b[1;31mNameError\u001b[0m                                 Traceback (most recent call last)",
      "Cell \u001b[1;32mIn[81], line 4\u001b[0m\n\u001b[0;32m      2\u001b[0m liste \u001b[38;5;241m=\u001b[39m new\u001b[38;5;241m.\u001b[39mreadlines()\n\u001b[0;32m      3\u001b[0m liste\u001b[38;5;241m.\u001b[39minsert(\u001b[38;5;241m2\u001b[39m,\u001b[38;5;124m\"\u001b[39m\u001b[38;5;124mPython Development\u001b[39m\u001b[38;5;124m\"\u001b[39m)\n\u001b[1;32m----> 4\u001b[0m \u001b[43mseek\u001b[49m(\u001b[38;5;241m0\u001b[39m)\n\u001b[0;32m      5\u001b[0m new\u001b[38;5;241m.\u001b[39mwritelines(liste)\n",
      "\u001b[1;31mNameError\u001b[0m: name 'seek' is not defined"
     ]
    }
   ],
   "source": [
    "with open(\"new.txt\",\"r+\",encoding= \"utf-8\") as new:\n",
    "    liste = new.readlines()\n",
    "    liste.insert(2,\"Python Development\")\n",
    "    seek(0)\n",
    "    new.writelines(liste)"
   ]
  },
  {
   "cell_type": "code",
   "execution_count": null,
   "id": "5c3eafe9-fd96-4dcf-89a0-f77dff88f163",
   "metadata": {},
   "outputs": [],
   "source": []
  },
  {
   "cell_type": "code",
   "execution_count": null,
   "id": "45c0e1ef-c393-4c18-8a4d-d335ec003466",
   "metadata": {},
   "outputs": [],
   "source": []
  },
  {
   "cell_type": "code",
   "execution_count": null,
   "id": "3f8a3af2-9b92-484c-80eb-336ebe2092ad",
   "metadata": {},
   "outputs": [],
   "source": []
  },
  {
   "cell_type": "code",
   "execution_count": null,
   "id": "a7480572-b605-4847-b46a-4e38167c414d",
   "metadata": {},
   "outputs": [],
   "source": []
  },
  {
   "cell_type": "code",
   "execution_count": null,
   "id": "fc519a1b-09bc-422f-a032-52911ef336ed",
   "metadata": {},
   "outputs": [],
   "source": []
  },
  {
   "cell_type": "code",
   "execution_count": null,
   "id": "58b8a065-dd9c-4901-902f-a7f518586af4",
   "metadata": {},
   "outputs": [],
   "source": []
  },
  {
   "cell_type": "code",
   "execution_count": null,
   "id": "6d9323a2-3482-48df-b66b-2bc231b7773a",
   "metadata": {},
   "outputs": [],
   "source": []
  },
  {
   "cell_type": "code",
   "execution_count": null,
   "id": "53fd7b9e-bc68-4a9d-a665-3d7ae6bc6722",
   "metadata": {},
   "outputs": [],
   "source": []
  },
  {
   "cell_type": "code",
   "execution_count": null,
   "id": "96635741-4790-4657-8946-ae7b0aa69e9f",
   "metadata": {},
   "outputs": [],
   "source": []
  },
  {
   "cell_type": "code",
   "execution_count": null,
   "id": "9c26c20b-0a6b-4f95-b286-6b042ccea985",
   "metadata": {},
   "outputs": [],
   "source": []
  },
  {
   "cell_type": "code",
   "execution_count": null,
   "id": "4495d82a-44f8-415d-b1dc-1f72977ec374",
   "metadata": {},
   "outputs": [],
   "source": []
  },
  {
   "cell_type": "code",
   "execution_count": null,
   "id": "0506b887-4e97-4bc7-8c6b-95d0584dd027",
   "metadata": {},
   "outputs": [],
   "source": []
  },
  {
   "cell_type": "code",
   "execution_count": null,
   "id": "96066f91-cf2a-4310-a65c-466effa308a9",
   "metadata": {},
   "outputs": [],
   "source": []
  },
  {
   "cell_type": "code",
   "execution_count": null,
   "id": "fc84cbe1-d4b2-41ba-8c25-5ff8991d2ebf",
   "metadata": {},
   "outputs": [],
   "source": []
  },
  {
   "cell_type": "code",
   "execution_count": null,
   "id": "842814d3-1569-49f6-b3a0-4d849740afdc",
   "metadata": {},
   "outputs": [],
   "source": []
  }
 ],
 "metadata": {
  "kernelspec": {
   "display_name": "Python 3 (ipykernel)",
   "language": "python",
   "name": "python3"
  },
  "language_info": {
   "codemirror_mode": {
    "name": "ipython",
    "version": 3
   },
   "file_extension": ".py",
   "mimetype": "text/x-python",
   "name": "python",
   "nbconvert_exporter": "python",
   "pygments_lexer": "ipython3",
   "version": "3.12.4"
  }
 },
 "nbformat": 4,
 "nbformat_minor": 5
}
