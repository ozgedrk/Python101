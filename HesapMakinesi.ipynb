{
 "cells": [
  {
   "cell_type": "code",
   "execution_count": null,
   "id": "11a0a26f-41c4-4768-85a6-099e7a1bbc88",
   "metadata": {},
   "outputs": [
    {
     "name": "stdin",
     "output_type": "stream",
     "text": [
      "Ilk sayiyi giriniz:  10\n",
      "Ikinci sayiyi giriniz:  10\n",
      "Isleminizi seciniz + - * /  : *\n"
     ]
    },
    {
     "name": "stdout",
     "output_type": "stream",
     "text": [
      "\n",
      "10 * 10 = 100\n"
     ]
    },
    {
     "name": "stdin",
     "output_type": "stream",
     "text": [
      "Ilk sayiyi giriniz:  aa\n"
     ]
    },
    {
     "name": "stdout",
     "output_type": "stream",
     "text": [
      "Lutfen sayilari dogru giriniz\n"
     ]
    },
    {
     "name": "stdin",
     "output_type": "stream",
     "text": [
      "Ilk sayiyi giriniz:  10\n",
      "Ikinci sayiyi giriniz:  10\n",
      "Isleminizi seciniz + - * /  : k\n"
     ]
    },
    {
     "name": "stdout",
     "output_type": "stream",
     "text": [
      "\n",
      "Lutfen gecerli islemlerden birini seciniz\n",
      "Lutfen sayilari dogru giriniz\n"
     ]
    }
   ],
   "source": [
    " def hesapla(a,b,islem):\n",
    "     if islem not in \"+ - * /\":\n",
    "         return \"Lutfen gecerli islemlerden birini seciniz!!\"\n",
    "     if islem == \"+\":\n",
    "        return (str(a) + \" + \" + str(b) + \" = \" + str(a + b))\n",
    "     if islem == \"-\":\n",
    "        return (str(a) + \" - \" + str(b) + \" = \" + str(a - b))\n",
    "     if islem == \"*\":\n",
    "        return (str(a) + \" * \" + str(b) + \" = \" + str(a * b))\n",
    "     if islem == \"/\":\n",
    "        return (str(a) + \" / \" + str(b) + \" = \" + str(a / b))\n",
    "while True:\n",
    "    try:\n",
    "        a = int(input(\"Ilk sayiyi giriniz: \"))\n",
    "        b = int(input(\"Ikinci sayiyi giriniz: \"))\n",
    "        islem = input(\"Isleminizi seciniz + - * /  :\")\n",
    "        print()\n",
    "        print(hesapla(a,b,islem))\n",
    "    except:\n",
    "        print(\"Lutfen sayilari dogru giriniz!!\")"
   ]
  },
  {
   "cell_type": "code",
   "execution_count": 8,
   "id": "a3e829da-5f0e-4a64-8d5b-b3be6c3b5a80",
   "metadata": {},
   "outputs": [
    {
     "name": "stdin",
     "output_type": "stream",
     "text": [
      "İlk sayıyı giriniz:  1\n",
      "İkinci sayıyı giriniz:  1\n",
      "İşleminizi seçiniz (+, -, *, /):  +\n"
     ]
    },
    {
     "name": "stdout",
     "output_type": "stream",
     "text": [
      "1.0 + 1.0 = 2.0\n"
     ]
    }
   ],
   "source": [
    "def hesapla(a, b, islem):\n",
    "    if islem == \"+\":\n",
    "        return f\"{a} + {b} = {a + b}\"\n",
    "    elif islem == \"-\":\n",
    "        return f\"{a} - {b} = {a - b}\"\n",
    "    elif islem == \"*\":\n",
    "        return f\"{a} * {b} = {a * b}\"\n",
    "    elif islem == \"/\":\n",
    "        return f\"{a} / {b} = {a / b}\"\n",
    "    else:\n",
    "        return \"Geçersiz işlem\"\n",
    "\n",
    "a = float(input(\"İlk sayıyı giriniz: \"))\n",
    "b = float(input(\"İkinci sayıyı giriniz: \"))\n",
    "islem = input(\"İşleminizi seçiniz (+, -, *, /): \")\n",
    "\n",
    "print(hesapla(a, b, islem))\n"
   ]
  },
  {
   "cell_type": "code",
   "execution_count": null,
   "id": "fe564e67-d024-4def-9937-58c17aea9204",
   "metadata": {},
   "outputs": [],
   "source": []
  }
 ],
 "metadata": {
  "kernelspec": {
   "display_name": "Python 3 (ipykernel)",
   "language": "python",
   "name": "python3"
  },
  "language_info": {
   "codemirror_mode": {
    "name": "ipython",
    "version": 3
   },
   "file_extension": ".py",
   "mimetype": "text/x-python",
   "name": "python",
   "nbconvert_exporter": "python",
   "pygments_lexer": "ipython3",
   "version": "3.12.4"
  }
 },
 "nbformat": 4,
 "nbformat_minor": 5
}
