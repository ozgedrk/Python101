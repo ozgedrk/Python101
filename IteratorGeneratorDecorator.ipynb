{
 "cells": [
  {
   "cell_type": "markdown",
   "id": "22bc73fe-9011-483d-8e15-097812c71bd8",
   "metadata": {},
   "source": [
    "# Iterator\n",
    "Iteravle(donulebilir) bir objedeki elemanlari sirali sekilde ziyaret etme islemi olarak tanimlayabiliriz."
   ]
  },
  {
   "cell_type": "code",
   "execution_count": 1,
   "id": "6f603528-019d-4008-a059-15ed77aa2b64",
   "metadata": {},
   "outputs": [],
   "source": [
    "x = \"Ozge\""
   ]
  },
  {
   "cell_type": "code",
   "execution_count": 2,
   "id": "a56faee7-bd6b-427f-b685-5b6afe971298",
   "metadata": {},
   "outputs": [
    {
     "name": "stdout",
     "output_type": "stream",
     "text": [
      "O\n",
      "z\n",
      "g\n",
      "e\n"
     ]
    }
   ],
   "source": [
    "for i in x:\n",
    "    print(i)"
   ]
  },
  {
   "cell_type": "code",
   "execution_count": 3,
   "id": "5f842634-b0fc-403b-81f5-b5a581f7f53e",
   "metadata": {},
   "outputs": [],
   "source": [
    "y = [1,2,3,4,5,6,7]"
   ]
  },
  {
   "cell_type": "code",
   "execution_count": 4,
   "id": "0c1d623f-645d-4abb-98e1-554466d72d12",
   "metadata": {},
   "outputs": [
    {
     "name": "stdout",
     "output_type": "stream",
     "text": [
      "1\n",
      "2\n",
      "3\n",
      "4\n",
      "5\n",
      "6\n",
      "7\n"
     ]
    }
   ],
   "source": [
    "for i in y:\n",
    "    print(i)"
   ]
  },
  {
   "cell_type": "code",
   "execution_count": 5,
   "id": "1cdd3c5c-ff6e-4a00-8b25-5c86af376ac8",
   "metadata": {},
   "outputs": [],
   "source": [
    "iterasyon = iter(x)"
   ]
  },
  {
   "cell_type": "code",
   "execution_count": 6,
   "id": "492564f5-e2ba-4ac2-ae8e-dfe3adafa26b",
   "metadata": {},
   "outputs": [
    {
     "data": {
      "text/plain": [
       "'O'"
      ]
     },
     "execution_count": 6,
     "metadata": {},
     "output_type": "execute_result"
    }
   ],
   "source": [
    "next(iterasyon)"
   ]
  },
  {
   "cell_type": "code",
   "execution_count": 7,
   "id": "a1c13850-6f38-4800-adac-c1ee5c36a3f2",
   "metadata": {},
   "outputs": [
    {
     "data": {
      "text/plain": [
       "'z'"
      ]
     },
     "execution_count": 7,
     "metadata": {},
     "output_type": "execute_result"
    }
   ],
   "source": [
    "next(iterasyon)"
   ]
  },
  {
   "cell_type": "code",
   "execution_count": 8,
   "id": "ed69fa88-d24a-4998-a98d-48223b38eaad",
   "metadata": {},
   "outputs": [
    {
     "data": {
      "text/plain": [
       "'g'"
      ]
     },
     "execution_count": 8,
     "metadata": {},
     "output_type": "execute_result"
    }
   ],
   "source": [
    "next(iterasyon)"
   ]
  },
  {
   "cell_type": "code",
   "execution_count": 9,
   "id": "4b860859-cfbd-4853-b8d3-27063cc94eb7",
   "metadata": {},
   "outputs": [
    {
     "data": {
      "text/plain": [
       "'e'"
      ]
     },
     "execution_count": 9,
     "metadata": {},
     "output_type": "execute_result"
    }
   ],
   "source": [
    "next(iterasyon)"
   ]
  },
  {
   "cell_type": "code",
   "execution_count": 10,
   "id": "511572e8-7cd1-489a-8f43-b7e1c99e7448",
   "metadata": {},
   "outputs": [
    {
     "ename": "StopIteration",
     "evalue": "",
     "output_type": "error",
     "traceback": [
      "\u001b[1;31m---------------------------------------------------------------------------\u001b[0m",
      "\u001b[1;31mStopIteration\u001b[0m                             Traceback (most recent call last)",
      "Cell \u001b[1;32mIn[10], line 1\u001b[0m\n\u001b[1;32m----> 1\u001b[0m \u001b[38;5;28;43mnext\u001b[39;49m\u001b[43m(\u001b[49m\u001b[43miterasyon\u001b[49m\u001b[43m)\u001b[49m\n",
      "\u001b[1;31mStopIteration\u001b[0m: "
     ]
    }
   ],
   "source": [
    "next(iterasyon)"
   ]
  },
  {
   "cell_type": "code",
   "execution_count": 11,
   "id": "b7d95fba-f61d-4d8e-b9d4-dcba3ecdf296",
   "metadata": {},
   "outputs": [
    {
     "name": "stdout",
     "output_type": "stream",
     "text": [
      "O\n",
      "z\n",
      "g\n",
      "e\n"
     ]
    }
   ],
   "source": [
    "iterasyon = iter(x)\n",
    "while True:\n",
    "    try:\n",
    "        eleman = next(iterasyon)\n",
    "        print(eleman)\n",
    "    except StopIteration:\n",
    "        break"
   ]
  },
  {
   "cell_type": "markdown",
   "id": "782dd15f-7d66-441f-b662-b493afea62e7",
   "metadata": {},
   "source": [
    "##### __iter__() ve __next__() metotlarini kullanarak kolaylikla kendi iteratorlerimizi de yapabiliriz"
   ]
  },
  {
   "cell_type": "code",
   "execution_count": 26,
   "id": "1a553ba1-c962-4fe7-ba5d-676789377f2a",
   "metadata": {},
   "outputs": [
    {
     "name": "stdout",
     "output_type": "stream",
     "text": [
      "0\n",
      "5\n",
      "10\n",
      "15\n",
      "20\n",
      "25\n",
      "30\n"
     ]
    }
   ],
   "source": [
    "class Sayilar:\n",
    "    def __iter__(self):\n",
    "        self.sayi = 0\n",
    "        return self\n",
    "    def __next__(self):\n",
    "        x = self.sayi\n",
    "        self.sayi += 5\n",
    "        return x\n",
    "besartan = Sayilar()\n",
    "iterasyon = iter(besartan)\n",
    "\n",
    "print(next(iterasyon))\n",
    "print(next(iterasyon))\n",
    "print(next(iterasyon))\n",
    "print(next(iterasyon))\n",
    "print(next(iterasyon))\n",
    "print(next(iterasyon))\n",
    "print(next(iterasyon))"
   ]
  },
  {
   "cell_type": "markdown",
   "id": "32357751-653d-480f-8c15-4cafa73f9ee8",
   "metadata": {},
   "source": [
    "# Generator (Uretecler)\n",
    "Iterable obje uretmek icin kullanilirlar, bellekte yer tutmazlar.\n",
    "Return yerine yield anahtar kelimesi kullanilir"
   ]
  },
  {
   "cell_type": "code",
   "execution_count": 29,
   "id": "aff91608-2572-49a3-ba63-9c9ea1003be8",
   "metadata": {},
   "outputs": [],
   "source": [
    "def cift(sayi):\n",
    "    cift_sayilar = []\n",
    "    for i in range(sayi):\n",
    "        cift_sayilar.append(i*2)\n",
    "    return cift_sayilar"
   ]
  },
  {
   "cell_type": "code",
   "execution_count": 30,
   "id": "6b71cbf3-bc17-41fa-ac15-a41dc62a90e8",
   "metadata": {},
   "outputs": [
    {
     "data": {
      "text/plain": [
       "[0, 2, 4]"
      ]
     },
     "execution_count": 30,
     "metadata": {},
     "output_type": "execute_result"
    }
   ],
   "source": [
    "cift(3)"
   ]
  },
  {
   "cell_type": "code",
   "execution_count": 31,
   "id": "98e87042-6bfc-484c-8b87-a0077b403ca8",
   "metadata": {},
   "outputs": [
    {
     "data": {
      "text/plain": [
       "[0, 2, 4, 6, 8, 10, 12, 14, 16, 18, 20, 22, 24, 26, 28, 30, 32, 34, 36, 38]"
      ]
     },
     "execution_count": 31,
     "metadata": {},
     "output_type": "execute_result"
    }
   ],
   "source": [
    "cift(20)"
   ]
  },
  {
   "cell_type": "code",
   "execution_count": 32,
   "id": "9673d6a2-70df-4360-a0d7-02350ebdfd6a",
   "metadata": {},
   "outputs": [],
   "source": [
    "def cift(sayi):\n",
    "    for i in range(sayi):\n",
    "        yield i*2"
   ]
  },
  {
   "cell_type": "code",
   "execution_count": 33,
   "id": "0ab1f950-fcbb-4d42-b355-5f33a9bae67c",
   "metadata": {},
   "outputs": [
    {
     "data": {
      "text/plain": [
       "<generator object cift at 0x0000016D0DD01A40>"
      ]
     },
     "execution_count": 33,
     "metadata": {},
     "output_type": "execute_result"
    }
   ],
   "source": [
    "cift(20)"
   ]
  },
  {
   "cell_type": "code",
   "execution_count": 36,
   "id": "f2b16080-94ce-4ecd-8e5d-1121a06f2b37",
   "metadata": {
    "scrolled": true
   },
   "outputs": [
    {
     "name": "stdout",
     "output_type": "stream",
     "text": [
      "0\n",
      "2\n",
      "4\n",
      "6\n",
      "8\n",
      "10\n",
      "12\n",
      "14\n",
      "16\n",
      "18\n",
      "20\n",
      "22\n",
      "24\n",
      "26\n",
      "28\n",
      "30\n",
      "32\n",
      "34\n",
      "36\n",
      "38\n",
      "40\n",
      "42\n",
      "44\n",
      "46\n",
      "48\n",
      "50\n",
      "52\n",
      "54\n",
      "56\n",
      "58\n"
     ]
    }
   ],
   "source": [
    "for i in cift(30):\n",
    "    print(i)"
   ]
  }
 ],
 "metadata": {
  "kernelspec": {
   "display_name": "Python 3 (ipykernel)",
   "language": "python",
   "name": "python3"
  },
  "language_info": {
   "codemirror_mode": {
    "name": "ipython",
    "version": 3
   },
   "file_extension": ".py",
   "mimetype": "text/x-python",
   "name": "python",
   "nbconvert_exporter": "python",
   "pygments_lexer": "ipython3",
   "version": "3.12.4"
  }
 },
 "nbformat": 4,
 "nbformat_minor": 5
}
