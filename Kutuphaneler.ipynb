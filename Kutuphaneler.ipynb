{
 "cells": [
  {
   "cell_type": "code",
   "execution_count": 19,
   "id": "e0240990-d912-497f-8ca4-2cd57411863a",
   "metadata": {},
   "outputs": [],
   "source": [
    "import numpy\n",
    "import matplotlib.pyplot as matplot\n",
    "#numpy verileri olusturur matplotlib de gorsellestirir"
   ]
  },
  {
   "cell_type": "code",
   "execution_count": 20,
   "id": "fc1eee70-4f93-40d1-8855-7d322ba6c56a",
   "metadata": {},
   "outputs": [
    {
     "name": "stdout",
     "output_type": "stream",
     "text": [
      "4013.755153620838\n"
     ]
    }
   ],
   "source": [
    "maasListesi = numpy.random.normal(4000,500,1000)\n",
    "#4000 lira civarinda 500 standart sapmali 1000 tane veri olusturur\n",
    "ortmaas =  numpy.mean(maasListesi)\n",
    "print(ortmaas)"
   ]
  },
  {
   "cell_type": "code",
   "execution_count": 21,
   "id": "c62d0192-aa57-4ae5-87bc-443a5ce1851b",
   "metadata": {},
   "outputs": [
    {
     "data": {
      "image/png": "[encoded data removed]",
      "text/plain": [
       "<Figure size 640x480 with 1 Axes>"
      ]
     },
     "metadata": {},
     "output_type": "display_data"
    }
   ],
   "source": [
    "matplot.hist(maasListesi,50)\n",
    "#maas listesini cizdirir ve 50 tane histogram yapar\n",
    "matplot.show()"
   ]
  },
  {
   "cell_type": "code",
   "execution_count": null,
   "id": "661734f3-ead5-4096-851c-427ea3aed7c8",
   "metadata": {},
   "outputs": [],
   "source": []
  }
 ],
 "metadata": {
  "kernelspec": {
   "display_name": "Python 3 (ipykernel)",
   "language": "python",
   "name": "python3"
  },
  "language_info": {
   "codemirror_mode": {
    "name": "ipython",
    "version": 3
   },
   "file_extension": ".py",
   "mimetype": "text/x-python",
   "name": "python",
   "nbconvert_exporter": "python",
   "pygments_lexer": "ipython3",
   "version": "3.12.4"
  }
 },
 "nbformat": 4,
 "nbformat_minor": 5
}
