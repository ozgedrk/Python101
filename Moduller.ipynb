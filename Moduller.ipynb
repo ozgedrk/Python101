{
 "cells": [
  {
   "cell_type": "markdown",
   "id": "5c6e9422-73ba-475f-8f19-d13eb7527f73",
   "metadata": {},
   "source": [
    "# Modüller\n",
    "moduller birleserek paketleri olusturur.\n",
    "paketler de birleserek kutuphaneleri olusturur.\n",
    "modul < paket < kutuphane\n"
   ]
  },
  {
   "cell_type": "markdown",
   "id": "15b349ba-565d-4e3b-aef6-6f7a93d77bb5",
   "metadata": {},
   "source": [
    "##### Math modulu"
   ]
  },
  {
   "cell_type": "code",
   "execution_count": 1,
   "id": "1cc49355-073c-4ab2-ac35-00af8097f2be",
   "metadata": {},
   "outputs": [],
   "source": [
    "import math"
   ]
  },
  {
   "cell_type": "code",
   "execution_count": 2,
   "id": "e1c6bb76-9f6d-45d9-a408-ba3902d45a6a",
   "metadata": {},
   "outputs": [
    {
     "data": {
      "text/plain": [
       "120"
      ]
     },
     "execution_count": 2,
     "metadata": {},
     "output_type": "execute_result"
    }
   ],
   "source": [
    "math.factorial(5)"
   ]
  },
  {
   "cell_type": "code",
   "execution_count": 3,
   "id": "53b0cab4-7529-4907-a21a-901c0056fd1c",
   "metadata": {},
   "outputs": [
    {
     "data": {
      "text/plain": [
       "2.0"
      ]
     },
     "execution_count": 3,
     "metadata": {},
     "output_type": "execute_result"
    }
   ],
   "source": [
    "math.sqrt(4)"
   ]
  },
  {
   "cell_type": "code",
   "execution_count": 4,
   "id": "da591c04-01ef-4d60-b970-aa1eaaec1882",
   "metadata": {},
   "outputs": [
    {
     "data": {
      "text/plain": [
       "2.23606797749979"
      ]
     },
     "execution_count": 4,
     "metadata": {},
     "output_type": "execute_result"
    }
   ],
   "source": [
    "math.sqrt(5)"
   ]
  },
  {
   "cell_type": "code",
   "execution_count": 5,
   "id": "0851889d-17d4-4da7-8048-df42d74c731f",
   "metadata": {},
   "outputs": [
    {
     "data": {
      "text/plain": [
       "16.0"
      ]
     },
     "execution_count": 5,
     "metadata": {},
     "output_type": "execute_result"
    }
   ],
   "source": [
    "math.pow(4,2)"
   ]
  },
  {
   "cell_type": "code",
   "execution_count": 6,
   "id": "3fae9bec-ec82-4c23-81de-747f82e98d9f",
   "metadata": {},
   "outputs": [
    {
     "data": {
      "text/plain": [
       "3.141592653589793"
      ]
     },
     "execution_count": 6,
     "metadata": {},
     "output_type": "execute_result"
    }
   ],
   "source": [
    "math.pi"
   ]
  },
  {
   "cell_type": "code",
   "execution_count": 4,
   "id": "04d5d63c-8142-45f3-8706-b2a263c03b8e",
   "metadata": {},
   "outputs": [],
   "source": [
    "import math as matematik"
   ]
  },
  {
   "cell_type": "code",
   "execution_count": 5,
   "id": "5690043b-6ea9-4d72-a68c-cc79fb074fb2",
   "metadata": {},
   "outputs": [
    {
     "ename": "NameError",
     "evalue": "name 'math' is not defined",
     "output_type": "error",
     "traceback": [
      "\u001b[1;31m---------------------------------------------------------------------------\u001b[0m",
      "\u001b[1;31mNameError\u001b[0m                                 Traceback (most recent call last)",
      "Cell \u001b[1;32mIn[5], line 1\u001b[0m\n\u001b[1;32m----> 1\u001b[0m \u001b[43mmath\u001b[49m\u001b[38;5;241m.\u001b[39mpi\n",
      "\u001b[1;31mNameError\u001b[0m: name 'math' is not defined"
     ]
    }
   ],
   "source": [
    "math.pi"
   ]
  },
  {
   "cell_type": "code",
   "execution_count": 6,
   "id": "1b9eeb85-2661-4121-9b98-42ec541e572c",
   "metadata": {},
   "outputs": [
    {
     "data": {
      "text/plain": [
       "3.141592653589793"
      ]
     },
     "execution_count": 6,
     "metadata": {},
     "output_type": "execute_result"
    }
   ],
   "source": [
    "matematik.pi"
   ]
  },
  {
   "cell_type": "code",
   "execution_count": 1,
   "id": "f1fd6463-c6e6-4021-99a2-bfc7d7ce5121",
   "metadata": {},
   "outputs": [],
   "source": [
    "from math import factorial"
   ]
  },
  {
   "cell_type": "code",
   "execution_count": 2,
   "id": "9a567d42-388a-4c72-a47e-64ed263eed37",
   "metadata": {},
   "outputs": [
    {
     "ename": "NameError",
     "evalue": "name 'math' is not defined",
     "output_type": "error",
     "traceback": [
      "\u001b[1;31m---------------------------------------------------------------------------\u001b[0m",
      "\u001b[1;31mNameError\u001b[0m                                 Traceback (most recent call last)",
      "Cell \u001b[1;32mIn[2], line 1\u001b[0m\n\u001b[1;32m----> 1\u001b[0m \u001b[43mmath\u001b[49m\u001b[38;5;241m.\u001b[39mfactorial(\u001b[38;5;241m5\u001b[39m)\n",
      "\u001b[1;31mNameError\u001b[0m: name 'math' is not defined"
     ]
    }
   ],
   "source": [
    "math.factorial(5)"
   ]
  },
  {
   "cell_type": "code",
   "execution_count": 3,
   "id": "42d91991-0c3c-4ac0-b834-ff9d567cae88",
   "metadata": {},
   "outputs": [
    {
     "data": {
      "text/plain": [
       "120"
      ]
     },
     "execution_count": 3,
     "metadata": {},
     "output_type": "execute_result"
    }
   ],
   "source": [
    "factorial(5)"
   ]
  },
  {
   "cell_type": "code",
   "execution_count": 5,
   "id": "86d72254-549a-451f-ae5d-60dcfcac93ca",
   "metadata": {},
   "outputs": [],
   "source": [
    "from math import sqrt"
   ]
  },
  {
   "cell_type": "code",
   "execution_count": 6,
   "id": "3b00950d-adcd-4da0-a991-f5487769f581",
   "metadata": {},
   "outputs": [
    {
     "data": {
      "text/plain": [
       "5.0"
      ]
     },
     "execution_count": 6,
     "metadata": {},
     "output_type": "execute_result"
    }
   ],
   "source": [
    "sqrt(25)"
   ]
  },
  {
   "cell_type": "code",
   "execution_count": 7,
   "id": "da78b7db-0119-4750-8246-566af22bd4f5",
   "metadata": {},
   "outputs": [
    {
     "data": {
      "text/plain": [
       "32"
      ]
     },
     "execution_count": 7,
     "metadata": {},
     "output_type": "execute_result"
    }
   ],
   "source": [
    "pow(2,5)"
   ]
  },
  {
   "cell_type": "code",
   "execution_count": 8,
   "id": "00dc7aea-fac4-4a48-b3bf-2b9cdb79af6b",
   "metadata": {},
   "outputs": [],
   "source": [
    "from math import *"
   ]
  },
  {
   "cell_type": "code",
   "execution_count": 11,
   "id": "556cc32b-594a-4c48-8b07-0f9b34a7c237",
   "metadata": {},
   "outputs": [],
   "source": [
    "import datetime"
   ]
  },
  {
   "cell_type": "code",
   "execution_count": 14,
   "id": "050a0192-bdad-4726-975d-da2bd0a71cac",
   "metadata": {},
   "outputs": [],
   "source": [
    "simdi = datetime.datetime.now()"
   ]
  },
  {
   "cell_type": "code",
   "execution_count": 13,
   "id": "f558971c-73e6-4a9c-bbe4-c74534c6db15",
   "metadata": {},
   "outputs": [
    {
     "data": {
      "text/plain": [
       "datetime.datetime(2024, 8, 1, 14, 34, 18, 262158)"
      ]
     },
     "execution_count": 13,
     "metadata": {},
     "output_type": "execute_result"
    }
   ],
   "source": [
    "datetime.datetime.today()"
   ]
  },
  {
   "cell_type": "code",
   "execution_count": 22,
   "id": "ac430746-05ef-401b-8924-b37227f37b63",
   "metadata": {},
   "outputs": [
    {
     "data": {
      "text/plain": [
       "'01/08/2024/  14:34:39'"
      ]
     },
     "execution_count": 22,
     "metadata": {},
     "output_type": "execute_result"
    }
   ],
   "source": [
    "simdi.strftime(\"%d/%m/%Y/  %H:%M:%S\")"
   ]
  },
  {
   "cell_type": "code",
   "execution_count": 23,
   "id": "131b6b7c-deae-41a2-aa9e-34e62517f613",
   "metadata": {},
   "outputs": [
    {
     "data": {
      "text/plain": [
       "'01/August/2024/  14:34:39'"
      ]
     },
     "execution_count": 23,
     "metadata": {},
     "output_type": "execute_result"
    }
   ],
   "source": [
    "simdi.strftime(\"%d/%B/%Y/  %H:%M:%S\")"
   ]
  },
  {
   "cell_type": "code",
   "execution_count": 24,
   "id": "3b303587-6b98-401b-becb-2023279f0ed2",
   "metadata": {},
   "outputs": [
    {
     "data": {
      "text/plain": [
       "['MAXYEAR',\n",
       " 'MINYEAR',\n",
       " 'UTC',\n",
       " '__all__',\n",
       " '__builtins__',\n",
       " '__cached__',\n",
       " '__doc__',\n",
       " '__file__',\n",
       " '__loader__',\n",
       " '__name__',\n",
       " '__package__',\n",
       " '__spec__',\n",
       " 'date',\n",
       " 'datetime',\n",
       " 'datetime_CAPI',\n",
       " 'time',\n",
       " 'timedelta',\n",
       " 'timezone',\n",
       " 'tzinfo']"
      ]
     },
     "execution_count": 24,
     "metadata": {},
     "output_type": "execute_result"
    }
   ],
   "source": [
    "dir(datetime)"
   ]
  },
  {
   "cell_type": "code",
   "execution_count": 1,
   "id": "ab9359a1-e2c3-49f2-a3a1-e3fa469d900a",
   "metadata": {},
   "outputs": [],
   "source": [
    "from datetime import date"
   ]
  },
  {
   "cell_type": "code",
   "execution_count": 3,
   "id": "80020c9b-5767-40f3-a636-7f9d9b9a5d27",
   "metadata": {},
   "outputs": [],
   "source": [
    "bugun = date.today()"
   ]
  },
  {
   "cell_type": "code",
   "execution_count": 4,
   "id": "86921a6b-dfc9-4f5d-a4d6-d3bba1d35c34",
   "metadata": {},
   "outputs": [
    {
     "data": {
      "text/plain": [
       "1"
      ]
     },
     "execution_count": 4,
     "metadata": {},
     "output_type": "execute_result"
    }
   ],
   "source": [
    "bugun.day"
   ]
  },
  {
   "cell_type": "code",
   "execution_count": 5,
   "id": "a0cfbd67-199c-4d34-8f60-594a8aa2cbc8",
   "metadata": {},
   "outputs": [
    {
     "data": {
      "text/plain": [
       "8"
      ]
     },
     "execution_count": 5,
     "metadata": {},
     "output_type": "execute_result"
    }
   ],
   "source": [
    "bugun.month"
   ]
  },
  {
   "cell_type": "code",
   "execution_count": 6,
   "id": "5e974f72-09a9-4843-882d-bdc748621a21",
   "metadata": {},
   "outputs": [
    {
     "data": {
      "text/plain": [
       "2024"
      ]
     },
     "execution_count": 6,
     "metadata": {},
     "output_type": "execute_result"
    }
   ],
   "source": [
    "bugun.year"
   ]
  },
  {
   "cell_type": "code",
   "execution_count": 14,
   "id": "387ff6fb-bd8e-43ed-b0f8-9df2e771a441",
   "metadata": {},
   "outputs": [],
   "source": [
    "yeni = date(2018,6,2)"
   ]
  },
  {
   "cell_type": "code",
   "execution_count": 15,
   "id": "9e5589de-ed0d-47f2-b53f-b44a39b67331",
   "metadata": {},
   "outputs": [
    {
     "data": {
      "text/plain": [
       "datetime.date(2018, 6, 2)"
      ]
     },
     "execution_count": 15,
     "metadata": {},
     "output_type": "execute_result"
    }
   ],
   "source": [
    "yeni"
   ]
  },
  {
   "cell_type": "code",
   "execution_count": 16,
   "id": "35230b17-cc6a-42ca-a5f6-913d0222ee69",
   "metadata": {},
   "outputs": [],
   "source": [
    "from datetime import time"
   ]
  },
  {
   "cell_type": "code",
   "execution_count": 17,
   "id": "d5ac0868-704f-47b7-9f49-1f25d38f1f7e",
   "metadata": {},
   "outputs": [],
   "source": [
    "zaman = time(10,23,45,245)"
   ]
  },
  {
   "cell_type": "code",
   "execution_count": null,
   "id": "1300c263-50c9-41c1-9ab2-4ea83af379d6",
   "metadata": {},
   "outputs": [],
   "source": []
  },
  {
   "cell_type": "code",
   "execution_count": 19,
   "id": "19e8bfbf-0a0e-4f04-a0c6-8426ef9c74b0",
   "metadata": {},
   "outputs": [
    {
     "data": {
      "text/plain": [
       "10"
      ]
     },
     "execution_count": 19,
     "metadata": {},
     "output_type": "execute_result"
    }
   ],
   "source": [
    "zaman.hour"
   ]
  },
  {
   "cell_type": "code",
   "execution_count": 21,
   "id": "662f6792-506d-4d0c-b4db-2e34ab765e97",
   "metadata": {},
   "outputs": [
    {
     "data": {
      "text/plain": [
       "23"
      ]
     },
     "execution_count": 21,
     "metadata": {},
     "output_type": "execute_result"
    }
   ],
   "source": [
    "zaman.minute"
   ]
  },
  {
   "cell_type": "code",
   "execution_count": 22,
   "id": "2812aafc-0fdc-4d1e-814b-8a461905e2c5",
   "metadata": {},
   "outputs": [
    {
     "data": {
      "text/plain": [
       "45"
      ]
     },
     "execution_count": 22,
     "metadata": {},
     "output_type": "execute_result"
    }
   ],
   "source": [
    "zaman.second"
   ]
  },
  {
   "cell_type": "code",
   "execution_count": 23,
   "id": "ff6968f0-d3ea-493e-a2f2-7cbfb9fea599",
   "metadata": {},
   "outputs": [
    {
     "data": {
      "text/plain": [
       "245"
      ]
     },
     "execution_count": 23,
     "metadata": {},
     "output_type": "execute_result"
    }
   ],
   "source": [
    "zaman.microsecond"
   ]
  },
  {
   "cell_type": "code",
   "execution_count": 24,
   "id": "eed291d5-f3e3-4803-9d81-a29f398b0db6",
   "metadata": {},
   "outputs": [
    {
     "data": {
      "text/plain": [
       "datetime.time(10, 23, 45, 245)"
      ]
     },
     "execution_count": 24,
     "metadata": {},
     "output_type": "execute_result"
    }
   ],
   "source": [
    "zaman"
   ]
  },
  {
   "cell_type": "code",
   "execution_count": 25,
   "id": "3456ae39-1d89-4d82-97a0-334ebc14840c",
   "metadata": {},
   "outputs": [
    {
     "name": "stdout",
     "output_type": "stream",
     "text": [
      "10:23:45.000245\n"
     ]
    }
   ],
   "source": [
    "print(zaman)"
   ]
  },
  {
   "cell_type": "code",
   "execution_count": 26,
   "id": "213cce31-fb69-4b86-a5f8-3fe30c313783",
   "metadata": {},
   "outputs": [],
   "source": [
    "zaman1 = date(2020,5,22)"
   ]
  },
  {
   "cell_type": "code",
   "execution_count": 27,
   "id": "3db3b572-9a7b-4432-b789-6cdc3ab07c2e",
   "metadata": {},
   "outputs": [],
   "source": [
    "zaman2 = date(2017,4,21)"
   ]
  },
  {
   "cell_type": "code",
   "execution_count": 30,
   "id": "6f7d7338-8c02-468e-94a2-9768856cb059",
   "metadata": {},
   "outputs": [
    {
     "data": {
      "text/plain": [
       "datetime.timedelta(days=1127)"
      ]
     },
     "execution_count": 30,
     "metadata": {},
     "output_type": "execute_result"
    }
   ],
   "source": [
    "zaman1 - zaman2"
   ]
  },
  {
   "cell_type": "code",
   "execution_count": 31,
   "id": "457aa61a-af7d-49cb-96f4-6db361332725",
   "metadata": {},
   "outputs": [],
   "source": [
    "import time"
   ]
  },
  {
   "cell_type": "code",
   "execution_count": 32,
   "id": "1df33357-6864-4695-b8a7-b48464287aa0",
   "metadata": {},
   "outputs": [
    {
     "data": {
      "text/plain": [
       "time.struct_time(tm_year=2024, tm_mon=8, tm_mday=1, tm_hour=15, tm_min=4, tm_sec=17, tm_wday=3, tm_yday=214, tm_isdst=0)"
      ]
     },
     "execution_count": 32,
     "metadata": {},
     "output_type": "execute_result"
    }
   ],
   "source": [
    "time.localtime()"
   ]
  },
  {
   "cell_type": "code",
   "execution_count": 33,
   "id": "a1c8ef48-2f9e-4ef7-905c-97c7a21ae922",
   "metadata": {},
   "outputs": [
    {
     "data": {
      "text/plain": [
       "'01/August/2024/  15:04:56'"
      ]
     },
     "execution_count": 33,
     "metadata": {},
     "output_type": "execute_result"
    }
   ],
   "source": [
    "time.strftime(\"%d/%B/%Y/  %H:%M:%S\")"
   ]
  },
  {
   "cell_type": "code",
   "execution_count": 36,
   "id": "50d289e6-54d3-44c7-ae60-56daac242718",
   "metadata": {},
   "outputs": [
    {
     "data": {
      "text/plain": [
       "'15:05:25'"
      ]
     },
     "execution_count": 36,
     "metadata": {},
     "output_type": "execute_result"
    }
   ],
   "source": [
    "time.strftime(\"%H:%M:%S\")"
   ]
  },
  {
   "cell_type": "code",
   "execution_count": 37,
   "id": "4578ac3a-088c-4846-a9a9-caef4f297d3c",
   "metadata": {},
   "outputs": [
    {
     "data": {
      "text/plain": [
       "'15:05:28'"
      ]
     },
     "execution_count": 37,
     "metadata": {},
     "output_type": "execute_result"
    }
   ],
   "source": [
    "time.strftime(\"%H:%M:%S\")"
   ]
  },
  {
   "cell_type": "code",
   "execution_count": 38,
   "id": "8f405489-8ff4-4144-992a-bbf10bda7724",
   "metadata": {},
   "outputs": [
    {
     "data": {
      "text/plain": [
       "'15:05:30'"
      ]
     },
     "execution_count": 38,
     "metadata": {},
     "output_type": "execute_result"
    }
   ],
   "source": [
    "time.strftime(\"%H:%M:%S\")"
   ]
  },
  {
   "cell_type": "code",
   "execution_count": 40,
   "id": "e69efd49-02f8-4d98-81a5-9fd4e7e234de",
   "metadata": {},
   "outputs": [
    {
     "data": {
      "text/plain": [
       "'15:05:37'"
      ]
     },
     "execution_count": 40,
     "metadata": {},
     "output_type": "execute_result"
    }
   ],
   "source": [
    "time.strftime(\"%H:%M:%S\")"
   ]
  },
  {
   "cell_type": "code",
   "execution_count": 46,
   "id": "8a15c885-57ab-4f63-9f3d-a18eb45deb80",
   "metadata": {
    "scrolled": true
   },
   "outputs": [
    {
     "name": "stdout",
     "output_type": "stream",
     "text": [
      "15:07:56\n",
      "15:07:57\n",
      "15:07:58\n",
      "15:07:59\n",
      "15:08:00\n",
      "15:08:01\n",
      "15:08:02\n",
      "15:08:03\n",
      "15:08:04\n",
      "15:08:05\n",
      "15:08:06\n",
      "15:08:07\n",
      "15:08:08\n",
      "15:08:09\n",
      "15:08:10\n",
      "15:08:11\n",
      "15:08:12\n",
      "15:08:13\n",
      "15:08:14\n",
      "15:08:15\n",
      "15:08:16\n",
      "15:08:17\n",
      "15:08:18\n",
      "15:08:19\n",
      "15:08:20\n",
      "15:08:21\n"
     ]
    },
    {
     "ename": "KeyboardInterrupt",
     "evalue": "",
     "output_type": "error",
     "traceback": [
      "\u001b[1;31m---------------------------------------------------------------------------\u001b[0m",
      "\u001b[1;31mKeyboardInterrupt\u001b[0m                         Traceback (most recent call last)",
      "Cell \u001b[1;32mIn[46], line 4\u001b[0m\n\u001b[0;32m      2\u001b[0m zaman \u001b[38;5;241m=\u001b[39m time\u001b[38;5;241m.\u001b[39mstrftime(\u001b[38;5;124m\"\u001b[39m\u001b[38;5;124m%\u001b[39m\u001b[38;5;124mH:\u001b[39m\u001b[38;5;124m%\u001b[39m\u001b[38;5;124mM:\u001b[39m\u001b[38;5;124m%\u001b[39m\u001b[38;5;124mS\u001b[39m\u001b[38;5;124m\"\u001b[39m)\n\u001b[0;32m      3\u001b[0m \u001b[38;5;28mprint\u001b[39m(zaman)\n\u001b[1;32m----> 4\u001b[0m \u001b[43mtime\u001b[49m\u001b[38;5;241;43m.\u001b[39;49m\u001b[43msleep\u001b[49m\u001b[43m(\u001b[49m\u001b[38;5;241;43m1\u001b[39;49m\u001b[43m)\u001b[49m\n",
      "\u001b[1;31mKeyboardInterrupt\u001b[0m: "
     ]
    }
   ],
   "source": [
    "while True:\n",
    "   zaman = time.strftime(\"%H:%M:%S\")\n",
    "   print(zaman)\n",
    "   time.sleep(1)"
   ]
  },
  {
   "cell_type": "code",
   "execution_count": null,
   "id": "1d6ce9f4-355d-417d-b8b4-5a0490c528f4",
   "metadata": {},
   "outputs": [],
   "source": []
  },
  {
   "cell_type": "code",
   "execution_count": null,
   "id": "1d6e2749-6df7-40c5-b81d-a79f66292915",
   "metadata": {},
   "outputs": [],
   "source": []
  },
  {
   "cell_type": "code",
   "execution_count": null,
   "id": "b2e8cb7c-8e56-4b7c-ba3f-5eada474c08f",
   "metadata": {},
   "outputs": [],
   "source": []
  },
  {
   "cell_type": "code",
   "execution_count": null,
   "id": "880fc6ae-d5c3-48d3-8459-9f150a1dc4dc",
   "metadata": {},
   "outputs": [],
   "source": []
  },
  {
   "cell_type": "code",
   "execution_count": null,
   "id": "564b83d7-4c4f-4b6f-a161-aca442404bcc",
   "metadata": {},
   "outputs": [],
   "source": []
  },
  {
   "cell_type": "code",
   "execution_count": null,
   "id": "c7a0e847-5f59-4b4f-b333-7c1961653ea5",
   "metadata": {},
   "outputs": [],
   "source": []
  },
  {
   "cell_type": "code",
   "execution_count": null,
   "id": "8268d763-9b10-45a8-9f94-5a55868fe45c",
   "metadata": {},
   "outputs": [],
   "source": []
  },
  {
   "cell_type": "code",
   "execution_count": null,
   "id": "061aad9d-1e48-4c38-83b9-30d7622d1353",
   "metadata": {},
   "outputs": [],
   "source": []
  },
  {
   "cell_type": "code",
   "execution_count": null,
   "id": "c8e38460-9805-455b-a8cb-42575b10d2b1",
   "metadata": {},
   "outputs": [],
   "source": []
  },
  {
   "cell_type": "code",
   "execution_count": null,
   "id": "2a41bdc1-184e-4594-97b0-feb4cecc042f",
   "metadata": {},
   "outputs": [],
   "source": []
  },
  {
   "cell_type": "code",
   "execution_count": null,
   "id": "1a6460b1-179f-452d-90f6-6205a2d8e9a0",
   "metadata": {},
   "outputs": [],
   "source": []
  },
  {
   "cell_type": "code",
   "execution_count": null,
   "id": "9ce73089-ec84-4f28-90c5-b7020b3ad1e7",
   "metadata": {},
   "outputs": [],
   "source": []
  },
  {
   "cell_type": "code",
   "execution_count": null,
   "id": "9caf369b-9c78-45a7-a34b-1600b6af5f68",
   "metadata": {},
   "outputs": [],
   "source": []
  },
  {
   "cell_type": "code",
   "execution_count": null,
   "id": "9ced07ec-fd4e-41a4-bd43-2059b1a0e7b6",
   "metadata": {},
   "outputs": [],
   "source": []
  },
  {
   "cell_type": "code",
   "execution_count": null,
   "id": "62c604b4-ad9d-4fb1-b1ac-9853bae1c72e",
   "metadata": {},
   "outputs": [],
   "source": []
  },
  {
   "cell_type": "code",
   "execution_count": null,
   "id": "8090f4c0-e237-456a-9705-653dd5b2bc20",
   "metadata": {},
   "outputs": [],
   "source": []
  },
  {
   "cell_type": "code",
   "execution_count": null,
   "id": "25394097-7e07-4480-829f-fe84215d963e",
   "metadata": {},
   "outputs": [],
   "source": []
  },
  {
   "cell_type": "code",
   "execution_count": null,
   "id": "39359aad-4cb4-4685-97a9-15db336cb2a9",
   "metadata": {},
   "outputs": [],
   "source": []
  },
  {
   "cell_type": "code",
   "execution_count": null,
   "id": "f7d86c8c-307b-4945-a6d1-a85be025287c",
   "metadata": {},
   "outputs": [],
   "source": []
  },
  {
   "cell_type": "code",
   "execution_count": null,
   "id": "f0b8f431-f5c7-4caf-a7c0-60327cf9d976",
   "metadata": {},
   "outputs": [],
   "source": []
  },
  {
   "cell_type": "code",
   "execution_count": null,
   "id": "120c25b4-49f9-4494-aa10-5a6f6022c75a",
   "metadata": {},
   "outputs": [],
   "source": []
  },
  {
   "cell_type": "code",
   "execution_count": null,
   "id": "ce06d041-57bb-49d2-aa98-c07c959a197f",
   "metadata": {},
   "outputs": [],
   "source": []
  },
  {
   "cell_type": "code",
   "execution_count": null,
   "id": "86ccd6b3-6510-4472-8b18-b3d80da8e584",
   "metadata": {},
   "outputs": [],
   "source": []
  },
  {
   "cell_type": "code",
   "execution_count": null,
   "id": "3e291928-0cb8-41b9-acef-159fe681369d",
   "metadata": {},
   "outputs": [],
   "source": []
  },
  {
   "cell_type": "code",
   "execution_count": null,
   "id": "1638ded5-3b25-46aa-bdac-49d3ed353bd1",
   "metadata": {},
   "outputs": [],
   "source": []
  },
  {
   "cell_type": "code",
   "execution_count": null,
   "id": "ec2b6153-f1d3-4ddd-8d46-e1eca7ee41ac",
   "metadata": {},
   "outputs": [],
   "source": []
  },
  {
   "cell_type": "code",
   "execution_count": null,
   "id": "c153a17e-8a91-45c9-ae47-0152fead0dfa",
   "metadata": {},
   "outputs": [],
   "source": []
  },
  {
   "cell_type": "code",
   "execution_count": null,
   "id": "aaae693d-9436-4803-8b58-a9a547746757",
   "metadata": {},
   "outputs": [],
   "source": []
  },
  {
   "cell_type": "code",
   "execution_count": null,
   "id": "0ae673e0-2681-447a-b8a5-a51c30e90be2",
   "metadata": {},
   "outputs": [],
   "source": []
  },
  {
   "cell_type": "code",
   "execution_count": null,
   "id": "07ecfa09-6772-4445-b836-a766f144a935",
   "metadata": {},
   "outputs": [],
   "source": []
  },
  {
   "cell_type": "code",
   "execution_count": null,
   "id": "f14707a0-781a-4fb3-bda8-f1652097698d",
   "metadata": {},
   "outputs": [],
   "source": []
  },
  {
   "cell_type": "code",
   "execution_count": null,
   "id": "6ad79695-9106-48c5-ae59-cfa42676e525",
   "metadata": {},
   "outputs": [],
   "source": []
  },
  {
   "cell_type": "code",
   "execution_count": null,
   "id": "8afebdc5-7df2-4755-848e-0e6507d293e7",
   "metadata": {},
   "outputs": [],
   "source": []
  },
  {
   "cell_type": "code",
   "execution_count": null,
   "id": "278a791f-a14c-4f6f-bb70-27e6d38b914c",
   "metadata": {},
   "outputs": [],
   "source": []
  },
  {
   "cell_type": "code",
   "execution_count": null,
   "id": "eee2ebf0-d0da-443e-8df2-1eab79230ecf",
   "metadata": {},
   "outputs": [],
   "source": []
  },
  {
   "cell_type": "code",
   "execution_count": null,
   "id": "c91d7089-f298-4a0f-a3e2-2185c3705f3e",
   "metadata": {},
   "outputs": [],
   "source": []
  },
  {
   "cell_type": "code",
   "execution_count": null,
   "id": "00038a6e-723a-49b9-abb6-6585ff7a1e26",
   "metadata": {},
   "outputs": [],
   "source": []
  },
  {
   "cell_type": "code",
   "execution_count": null,
   "id": "c5fb0ff2-4b95-4718-8b5c-584fdc1cd58a",
   "metadata": {},
   "outputs": [],
   "source": []
  },
  {
   "cell_type": "code",
   "execution_count": null,
   "id": "9ffe7371-43bd-410b-820b-cd7da6c38b0f",
   "metadata": {},
   "outputs": [],
   "source": []
  },
  {
   "cell_type": "code",
   "execution_count": null,
   "id": "62fae0f0-aaee-429b-87e7-0be6e1314dba",
   "metadata": {},
   "outputs": [],
   "source": []
  },
  {
   "cell_type": "code",
   "execution_count": null,
   "id": "c41aa5d9-8338-4fa6-83c2-b1b2c5f63b3b",
   "metadata": {},
   "outputs": [],
   "source": []
  },
  {
   "cell_type": "code",
   "execution_count": null,
   "id": "2fe46265-274e-483b-bbd7-de29a49cfb36",
   "metadata": {},
   "outputs": [],
   "source": []
  },
  {
   "cell_type": "code",
   "execution_count": null,
   "id": "5dad8e4d-4196-4bc6-ba20-d1eab3f1620e",
   "metadata": {},
   "outputs": [],
   "source": []
  },
  {
   "cell_type": "code",
   "execution_count": null,
   "id": "0d30743a-b963-4967-9c4a-3a4e317f3b3c",
   "metadata": {},
   "outputs": [],
   "source": []
  },
  {
   "cell_type": "code",
   "execution_count": null,
   "id": "5fdecdc1-38ad-4a5f-9fb1-f324588058d4",
   "metadata": {},
   "outputs": [],
   "source": []
  },
  {
   "cell_type": "code",
   "execution_count": null,
   "id": "c3b8311c-5aec-448c-a6a4-d8363a724552",
   "metadata": {},
   "outputs": [],
   "source": []
  },
  {
   "cell_type": "code",
   "execution_count": null,
   "id": "9e496d60-5069-495c-bebc-2a81555bf85b",
   "metadata": {},
   "outputs": [],
   "source": []
  },
  {
   "cell_type": "code",
   "execution_count": null,
   "id": "856cd2e5-ba92-40c8-ba4e-a14e8becef24",
   "metadata": {},
   "outputs": [],
   "source": []
  },
  {
   "cell_type": "code",
   "execution_count": null,
   "id": "38f4087a-2711-4a4b-ac41-5f9ae866f38e",
   "metadata": {},
   "outputs": [],
   "source": []
  }
 ],
 "metadata": {
  "kernelspec": {
   "display_name": "Python 3 (ipykernel)",
   "language": "python",
   "name": "python3"
  },
  "language_info": {
   "codemirror_mode": {
    "name": "ipython",
    "version": 3
   },
   "file_extension": ".py",
   "mimetype": "text/x-python",
   "name": "python",
   "nbconvert_exporter": "python",
   "pygments_lexer": "ipython3",
   "version": "3.12.4"
  }
 },
 "nbformat": 4,
 "nbformat_minor": 5
}
