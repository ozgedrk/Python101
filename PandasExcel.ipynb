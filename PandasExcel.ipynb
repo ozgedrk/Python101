{
 "cells": [
  {
   "cell_type": "code",
   "execution_count": 1,
   "id": "4bb7f7f6-504c-4497-b904-86c4b4b9a524",
   "metadata": {},
   "outputs": [],
   "source": [
    "import pandas as pd"
   ]
  },
  {
   "cell_type": "code",
   "execution_count": 5,
   "id": "3a880e48-879f-4ada-8011-1510de331e7d",
   "metadata": {},
   "outputs": [],
   "source": [
    "dataFrame = pd.read_excel(\"maas.xlsx\")"
   ]
  },
  {
   "cell_type": "code",
   "execution_count": 12,
   "id": "d83125e6-80fc-4dc1-92e7-cdab70cc8e9a",
   "metadata": {},
   "outputs": [
    {
     "data": {
      "text/html": [
       "<div>\n",
       "<style scoped>\n",
       "    .dataframe tbody tr th:only-of-type {\n",
       "        vertical-align: middle;\n",
       "    }\n",
       "\n",
       "    .dataframe tbody tr th {\n",
       "        vertical-align: top;\n",
       "    }\n",
       "\n",
       "    .dataframe thead th {\n",
       "        text-align: right;\n",
       "    }\n",
       "</style>\n",
       "<table border=\"1\" class=\"dataframe\">\n",
       "  <thead>\n",
       "    <tr style=\"text-align: right;\">\n",
       "      <th></th>\n",
       "      <th>Unnamed: 0</th>\n",
       "      <th>Maas</th>\n",
       "      <th>Yas</th>\n",
       "      <th>Departman</th>\n",
       "    </tr>\n",
       "  </thead>\n",
       "  <tbody>\n",
       "    <tr>\n",
       "      <th>0</th>\n",
       "      <td>Atil</td>\n",
       "      <td>100</td>\n",
       "      <td>40.0</td>\n",
       "      <td>Yazilim</td>\n",
       "    </tr>\n",
       "    <tr>\n",
       "      <th>1</th>\n",
       "      <td>Zeynep</td>\n",
       "      <td>150</td>\n",
       "      <td>24.0</td>\n",
       "      <td>Satis</td>\n",
       "    </tr>\n",
       "    <tr>\n",
       "      <th>2</th>\n",
       "      <td>Mehmet</td>\n",
       "      <td>260</td>\n",
       "      <td>33.0</td>\n",
       "      <td>NaN</td>\n",
       "    </tr>\n",
       "    <tr>\n",
       "      <th>3</th>\n",
       "      <td>Atlas</td>\n",
       "      <td>432</td>\n",
       "      <td>NaN</td>\n",
       "      <td>Pazarlama</td>\n",
       "    </tr>\n",
       "    <tr>\n",
       "      <th>4</th>\n",
       "      <td>Fatma</td>\n",
       "      <td>555</td>\n",
       "      <td>23.0</td>\n",
       "      <td>Finans</td>\n",
       "    </tr>\n",
       "    <tr>\n",
       "      <th>5</th>\n",
       "      <td>Ahmet</td>\n",
       "      <td>432</td>\n",
       "      <td>25.0</td>\n",
       "      <td>Hukuk</td>\n",
       "    </tr>\n",
       "  </tbody>\n",
       "</table>\n",
       "</div>"
      ],
      "text/plain": [
       "  Unnamed: 0  Maas   Yas  Departman\n",
       "0       Atil   100  40.0    Yazilim\n",
       "1     Zeynep   150  24.0      Satis\n",
       "2     Mehmet   260  33.0        NaN\n",
       "3      Atlas   432   NaN  Pazarlama\n",
       "4      Fatma   555  23.0     Finans\n",
       "5      Ahmet   432  25.0      Hukuk"
      ]
     },
     "execution_count": 12,
     "metadata": {},
     "output_type": "execute_result"
    }
   ],
   "source": [
    "dataFrame"
   ]
  },
  {
   "cell_type": "code",
   "execution_count": 10,
   "id": "8318b4b0-4f95-47bc-8d7d-ea2e99fd87c2",
   "metadata": {},
   "outputs": [],
   "source": [
    "doluDegerlerDataFrame = dataFrame.dropna()"
   ]
  },
  {
   "cell_type": "code",
   "execution_count": 11,
   "id": "353dae61-8d56-47a0-b8a2-e4a0e3827a51",
   "metadata": {},
   "outputs": [
    {
     "data": {
      "text/html": [
       "<div>\n",
       "<style scoped>\n",
       "    .dataframe tbody tr th:only-of-type {\n",
       "        vertical-align: middle;\n",
       "    }\n",
       "\n",
       "    .dataframe tbody tr th {\n",
       "        vertical-align: top;\n",
       "    }\n",
       "\n",
       "    .dataframe thead th {\n",
       "        text-align: right;\n",
       "    }\n",
       "</style>\n",
       "<table border=\"1\" class=\"dataframe\">\n",
       "  <thead>\n",
       "    <tr style=\"text-align: right;\">\n",
       "      <th></th>\n",
       "      <th>Unnamed: 0</th>\n",
       "      <th>Maas</th>\n",
       "      <th>Yas</th>\n",
       "      <th>Departman</th>\n",
       "    </tr>\n",
       "  </thead>\n",
       "  <tbody>\n",
       "    <tr>\n",
       "      <th>0</th>\n",
       "      <td>Atil</td>\n",
       "      <td>100</td>\n",
       "      <td>40.0</td>\n",
       "      <td>Yazilim</td>\n",
       "    </tr>\n",
       "    <tr>\n",
       "      <th>1</th>\n",
       "      <td>Zeynep</td>\n",
       "      <td>150</td>\n",
       "      <td>24.0</td>\n",
       "      <td>Satis</td>\n",
       "    </tr>\n",
       "    <tr>\n",
       "      <th>4</th>\n",
       "      <td>Fatma</td>\n",
       "      <td>555</td>\n",
       "      <td>23.0</td>\n",
       "      <td>Finans</td>\n",
       "    </tr>\n",
       "    <tr>\n",
       "      <th>5</th>\n",
       "      <td>Ahmet</td>\n",
       "      <td>432</td>\n",
       "      <td>25.0</td>\n",
       "      <td>Hukuk</td>\n",
       "    </tr>\n",
       "  </tbody>\n",
       "</table>\n",
       "</div>"
      ],
      "text/plain": [
       "  Unnamed: 0  Maas   Yas Departman\n",
       "0       Atil   100  40.0   Yazilim\n",
       "1     Zeynep   150  24.0     Satis\n",
       "4      Fatma   555  23.0    Finans\n",
       "5      Ahmet   432  25.0     Hukuk"
      ]
     },
     "execution_count": 11,
     "metadata": {},
     "output_type": "execute_result"
    }
   ],
   "source": [
    "doluDegerlerDataFrame"
   ]
  },
  {
   "cell_type": "code",
   "execution_count": 13,
   "id": "64e258d4-be4a-4b44-85be-fb76840d053b",
   "metadata": {},
   "outputs": [],
   "source": [
    "doluDegerlerDataFrame.to_excel(\"yenimaas.xlsx\")"
   ]
  },
  {
   "cell_type": "code",
   "execution_count": 14,
   "id": "54378dc8-eed9-40aa-a51a-68425480ff4a",
   "metadata": {},
   "outputs": [],
   "source": [
    "## read_csv\n",
    "## to_csv\n",
    "## diger format"
   ]
  },
  {
   "cell_type": "code",
   "execution_count": null,
   "id": "c37a0f77-3832-4f02-a33d-63a747f85e25",
   "metadata": {},
   "outputs": [],
   "source": []
  }
 ],
 "metadata": {
  "kernelspec": {
   "display_name": "Python 3 (ipykernel)",
   "language": "python",
   "name": "python3"
  },
  "language_info": {
   "codemirror_mode": {
    "name": "ipython",
    "version": 3
   },
   "file_extension": ".py",
   "mimetype": "text/x-python",
   "name": "python",
   "nbconvert_exporter": "python",
   "pygments_lexer": "ipython3",
   "version": "3.12.4"
  }
 },
 "nbformat": 4,
 "nbformat_minor": 5
}
