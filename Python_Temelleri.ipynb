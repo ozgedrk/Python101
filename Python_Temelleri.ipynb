{
 "cells": [
  {
   "cell_type": "markdown",
   "id": "5cf7155b-ccbe-48d3-89e0-be8e33c45dd0",
   "metadata": {},
   "source": [
    "# PYTHON PROGRAMLAMA DİLİ TEMELLERİ"
   ]
  },
  {
   "cell_type": "markdown",
   "id": "564fcf5a-bdde-4052-978f-3529909a4144",
   "metadata": {},
   "source": [
    "Best way to learn a language is to use it."
   ]
  },
  {
   "cell_type": "code",
   "execution_count": 1,
   "id": "318dd342-482b-45be-9c18-da425732888c",
   "metadata": {},
   "outputs": [
    {
     "name": "stdout",
     "output_type": "stream",
     "text": [
      "Ozge Dirik\n"
     ]
    }
   ],
   "source": [
    "print(\"Ozge Dirik\")"
   ]
  },
  {
   "cell_type": "code",
   "execution_count": null,
   "id": "ad14ea46-01ce-444b-8c24-c0002903558c",
   "metadata": {},
   "outputs": [],
   "source": []
  },
  {
   "cell_type": "raw",
   "id": "d35c9ec2-38eb-4022-9ac4-660c53558947",
   "metadata": {},
   "source": []
  },
  {
   "cell_type": "raw",
   "id": "db072f26-b601-483f-8a99-427099c96b71",
   "metadata": {},
   "source": [
    "input (\"isminiz nedir ?\")\n",
    "input (\"isminiz nedir ?\")"
   ]
  },
  {
   "cell_type": "markdown",
   "id": "fb0df2ee-8115-4a1f-bb3c-546b98fb767b",
   "metadata": {},
   "source": [
    "### Degiskenler Ve Sabitler (Variables And Constants)"
   ]
  },
  {
   "cell_type": "code",
   "execution_count": 7,
   "id": "934abb39-9838-420e-86ac-014c7bf2e2d5",
   "metadata": {},
   "outputs": [
    {
     "name": "stdout",
     "output_type": "stream",
     "text": [
      "ozge\n",
      "Dirik\n"
     ]
    }
   ],
   "source": [
    "isim = \"ozge\"\n",
    "soyisim = \"Dirik\"\n",
    "\n",
    "print(isim)\n",
    "print(soyisim)"
   ]
  },
  {
   "cell_type": "code",
   "execution_count": 8,
   "id": "765a358f-d3f7-4a5f-847a-a6a1c6a0cac3",
   "metadata": {},
   "outputs": [],
   "source": [
    "PI = 3.14"
   ]
  },
  {
   "cell_type": "code",
   "execution_count": 14,
   "id": "244b342e-bad9-4dba-99af-0ae30bef24df",
   "metadata": {},
   "outputs": [],
   "source": [
    "isim = \"Ozgeee\""
   ]
  },
  {
   "cell_type": "code",
   "execution_count": 15,
   "id": "6f152f52-e3f9-464c-8232-dc3c1066f99b",
   "metadata": {},
   "outputs": [
    {
     "name": "stdout",
     "output_type": "stream",
     "text": [
      "Ozgeee\n"
     ]
    }
   ],
   "source": [
    "print(isim)"
   ]
  },
  {
   "cell_type": "code",
   "execution_count": 30,
   "id": "0963b633-c2af-4823-b6c9-5494817e63a1",
   "metadata": {},
   "outputs": [],
   "source": [
    "isim,soyisim = \"Ozge\",\"Dirikkk\""
   ]
  },
  {
   "cell_type": "code",
   "execution_count": 31,
   "id": "073f2cfd-3352-4387-8281-b58eeb64ea84",
   "metadata": {},
   "outputs": [
    {
     "name": "stdout",
     "output_type": "stream",
     "text": [
      "Ozge\n"
     ]
    }
   ],
   "source": [
    "print(isim)"
   ]
  },
  {
   "cell_type": "code",
   "execution_count": 32,
   "id": "ccdf775a-9c8a-497f-ac1a-e468d234e523",
   "metadata": {},
   "outputs": [],
   "source": [
    "isim,soyisim = soyisim, isim"
   ]
  },
  {
   "cell_type": "code",
   "execution_count": 33,
   "id": "a29b26e9-24d1-4ce3-9b29-c918b801f7a3",
   "metadata": {},
   "outputs": [
    {
     "name": "stdout",
     "output_type": "stream",
     "text": [
      "Dirikkk\n"
     ]
    }
   ],
   "source": [
    "print(isim)"
   ]
  },
  {
   "cell_type": "markdown",
   "id": "10d67786-e689-49bf-9e63-9bd3141451cb",
   "metadata": {},
   "source": [
    "#### Veri Tipleri (Data Types)"
   ]
  },
  {
   "cell_type": "code",
   "execution_count": 28,
   "id": "62b5dd58-29ee-4a69-bfef-5875941a63a7",
   "metadata": {},
   "outputs": [],
   "source": [
    "Yas = 29 "
   ]
  },
  {
   "cell_type": "code",
   "execution_count": 34,
   "id": "32da430f-69e6-4f82-9f09-1818c95dd5cb",
   "metadata": {},
   "outputs": [
    {
     "name": "stdout",
     "output_type": "stream",
     "text": [
      "29\n"
     ]
    }
   ],
   "source": [
    "print(yas)"
   ]
  },
  {
   "cell_type": "markdown",
   "id": "e5609d82-6c63-4ea0-a6c1-93f884e1eb42",
   "metadata": {},
   "source": [
    "# Karesini ve kupunu alma\n"
   ]
  },
  {
   "cell_type": "code",
   "execution_count": 37,
   "id": "0cda3121-4a55-4b29-9e85-ccdcfadf791c",
   "metadata": {},
   "outputs": [
    {
     "data": {
      "text/plain": [
       "16"
      ]
     },
     "execution_count": 37,
     "metadata": {},
     "output_type": "execute_result"
    }
   ],
   "source": [
    "4 ** 2"
   ]
  },
  {
   "cell_type": "code",
   "execution_count": 38,
   "id": "9a0c0473-47cd-46fd-9e6b-8c786174b1b0",
   "metadata": {},
   "outputs": [
    {
     "data": {
      "text/plain": [
       "64"
      ]
     },
     "execution_count": 38,
     "metadata": {},
     "output_type": "execute_result"
    }
   ],
   "source": [
    "4 ** 3"
   ]
  },
  {
   "cell_type": "markdown",
   "id": "049bee8b-4305-42f4-9db9-c364aa5b8f63",
   "metadata": {},
   "source": [
    "# Kalansiz bolme\n"
   ]
  },
  {
   "cell_type": "code",
   "execution_count": 39,
   "id": "f83a84b4-8463-4a75-8bb7-2ff45f45d59c",
   "metadata": {},
   "outputs": [
    {
     "data": {
      "text/plain": [
       "6"
      ]
     },
     "execution_count": 39,
     "metadata": {},
     "output_type": "execute_result"
    }
   ],
   "source": [
    "40 // 6"
   ]
  },
  {
   "cell_type": "code",
   "execution_count": 40,
   "id": "47b721da-9685-4de4-93af-a79335c136bf",
   "metadata": {},
   "outputs": [
    {
     "data": {
      "text/plain": [
       "6.666666666666667"
      ]
     },
     "execution_count": 40,
     "metadata": {},
     "output_type": "execute_result"
    }
   ],
   "source": [
    "40 / 6"
   ]
  },
  {
   "cell_type": "markdown",
   "id": "7ccecd1a-b979-42b8-b5df-8308cb3b0b9f",
   "metadata": {},
   "source": [
    "## Stringler\n"
   ]
  },
  {
   "cell_type": "code",
   "execution_count": 44,
   "id": "8dbb0343-9b87-40fd-bfc8-e3f35be035fd",
   "metadata": {},
   "outputs": [
    {
     "data": {
      "text/plain": [
       "'tek satir icin tek veya cift tirnak'"
      ]
     },
     "execution_count": 44,
     "metadata": {},
     "output_type": "execute_result"
    }
   ],
   "source": [
    "\"tek satir icin tek veya cift tirnak\"\n"
   ]
  },
  {
   "cell_type": "code",
   "execution_count": 45,
   "id": "3001c6f8-ce63-403c-a0be-f406e849a8be",
   "metadata": {},
   "outputs": [
    {
     "data": {
      "text/plain": [
       "'ornek'"
      ]
     },
     "execution_count": 45,
     "metadata": {},
     "output_type": "execute_result"
    }
   ],
   "source": [
    "'ornek'"
   ]
  },
  {
   "cell_type": "code",
   "execution_count": 49,
   "id": "38acf9ea-d182-4b0a-a04f-85eb40be1097",
   "metadata": {},
   "outputs": [
    {
     "data": {
      "text/plain": [
       "' PARAGRAF ICIN\\nkbhkfrjkrtfjtgr\\ngtr\\ngtr\\ngtr\\ngt\\ngt\\ntrgt\\nr\\nr\\nt\\ntgr\\ntrjldvgfljdv1!!!       '"
      ]
     },
     "execution_count": 49,
     "metadata": {},
     "output_type": "execute_result"
    }
   ],
   "source": [
    "\"\"\" PARAGRAF ICIN\n",
    "kbhkfrjkrtfjtgr\n",
    "gtr\n",
    "gtr\n",
    "gtr\n",
    "gt\n",
    "gt\n",
    "trgt\n",
    "r\n",
    "r\n",
    "t\n",
    "tgr\n",
    "trjldvgfljdv1!!!       \"\"\""
   ]
  },
  {
   "cell_type": "code",
   "execution_count": 51,
   "id": "42f3de5b-3b35-44bc-960a-7154af4f6fe0",
   "metadata": {},
   "outputs": [],
   "source": [
    "isim = \"Ozge Dirik\""
   ]
  },
  {
   "cell_type": "code",
   "execution_count": 55,
   "id": "1c04366e-f513-4f4c-89bc-52ed2068d485",
   "metadata": {},
   "outputs": [
    {
     "data": {
      "text/plain": [
       "'e'"
      ]
     },
     "execution_count": 55,
     "metadata": {},
     "output_type": "execute_result"
    }
   ],
   "source": [
    "isim[3]"
   ]
  },
  {
   "cell_type": "code",
   "execution_count": 56,
   "id": "294568de-da8d-45c2-882c-8f05b5a70ae0",
   "metadata": {},
   "outputs": [
    {
     "data": {
      "text/plain": [
       "'i'"
      ]
     },
     "execution_count": 56,
     "metadata": {},
     "output_type": "execute_result"
    }
   ],
   "source": [
    "isim[-2]"
   ]
  },
  {
   "cell_type": "code",
   "execution_count": 60,
   "id": "4ac73abf-0857-41bb-9493-80caab1cbbe0",
   "metadata": {},
   "outputs": [
    {
     "data": {
      "text/plain": [
       "'Ozg'"
      ]
     },
     "execution_count": 60,
     "metadata": {},
     "output_type": "execute_result"
    }
   ],
   "source": [
    "isim[0:3]"
   ]
  },
  {
   "cell_type": "code",
   "execution_count": 61,
   "id": "21c7b375-2025-427a-a770-c8f495853ad2",
   "metadata": {},
   "outputs": [
    {
     "data": {
      "text/plain": [
       "'Og'"
      ]
     },
     "execution_count": 61,
     "metadata": {},
     "output_type": "execute_result"
    }
   ],
   "source": [
    "isim[0:3:2]"
   ]
  },
  {
   "cell_type": "code",
   "execution_count": 64,
   "id": "c05c21c7-5bf5-487c-ab6b-189dbc7c1903",
   "metadata": {},
   "outputs": [
    {
     "data": {
      "text/plain": [
       "\"Turkiye'nin en buyuk sehri Ankara\""
      ]
     },
     "execution_count": 64,
     "metadata": {},
     "output_type": "execute_result"
    }
   ],
   "source": [
    "'Turkiye\\'nin en buyuk sehri Ankara'"
   ]
  },
  {
   "cell_type": "code",
   "execution_count": 65,
   "id": "0102a5b6-ed30-4124-8d41-3429c92232bd",
   "metadata": {},
   "outputs": [
    {
     "data": {
      "text/plain": [
       "\"Turkiye'nin en buyuk sehri Ankara\""
      ]
     },
     "execution_count": 65,
     "metadata": {},
     "output_type": "execute_result"
    }
   ],
   "source": [
    "\"Turkiye'nin en buyuk sehri Ankara\""
   ]
  },
  {
   "cell_type": "code",
   "execution_count": 1,
   "id": "b74e5deb-88fc-41b8-85ea-39ea38880643",
   "metadata": {},
   "outputs": [
    {
     "name": "stdout",
     "output_type": "stream",
     "text": [
      "Turkiye'\t nin en buyuk sehri Ankara\n"
     ]
    }
   ],
   "source": [
    "print(\"Turkiye'\\t nin en buyuk sehri Ankara\")"
   ]
  },
  {
   "cell_type": "code",
   "execution_count": 2,
   "id": "1dd15a34-8a25-4484-b723-568e167597d4",
   "metadata": {},
   "outputs": [
    {
     "name": "stdout",
     "output_type": "stream",
     "text": [
      "Turkiye'nin en buyuk \n",
      " sehri Ankara\n"
     ]
    }
   ],
   "source": [
    "print(\"Turkiye'nin en buyuk \\n sehri Ankara\")"
   ]
  },
  {
   "cell_type": "code",
   "execution_count": 5,
   "id": "64f2f539-c1eb-4a44-b0ec-15f9fa73fc5f",
   "metadata": {},
   "outputs": [
    {
     "data": {
      "text/plain": [
       "'ozge ozge ozge '"
      ]
     },
     "execution_count": 5,
     "metadata": {},
     "output_type": "execute_result"
    }
   ],
   "source": [
    "\"ozge \" * 3"
   ]
  },
  {
   "cell_type": "code",
   "execution_count": 8,
   "id": "13828790-8c40-413b-a952-262470c8975c",
   "metadata": {},
   "outputs": [
    {
     "data": {
      "text/plain": [
       "'ozge dirik'"
      ]
     },
     "execution_count": 8,
     "metadata": {},
     "output_type": "execute_result"
    }
   ],
   "source": [
    "\"ozge \" + \"dirik\""
   ]
  },
  {
   "cell_type": "markdown",
   "id": "1c9f02d9-e677-4f94-b90b-488384fd19de",
   "metadata": {},
   "source": [
    "# Metodlar\n"
   ]
  },
  {
   "cell_type": "code",
   "execution_count": 9,
   "id": "f21dd3f4-71d3-4dcd-8c19-c5ed346cbc5d",
   "metadata": {},
   "outputs": [
    {
     "data": {
      "text/plain": [
       "'OZGE DIRIK'"
      ]
     },
     "execution_count": 9,
     "metadata": {},
     "output_type": "execute_result"
    }
   ],
   "source": [
    "\"ozge dirik\".upper()"
   ]
  },
  {
   "cell_type": "code",
   "execution_count": 11,
   "id": "72450200-ae78-449c-9cf7-69fffd663186",
   "metadata": {},
   "outputs": [
    {
     "data": {
      "text/plain": [
       "'ozge dirik'"
      ]
     },
     "execution_count": 11,
     "metadata": {},
     "output_type": "execute_result"
    }
   ],
   "source": [
    "\"OZGE DIRIK\".lower()"
   ]
  },
  {
   "cell_type": "code",
   "execution_count": 12,
   "id": "65e8ea2e-abe4-49d1-b3b7-e3e55cbfa9bf",
   "metadata": {},
   "outputs": [
    {
     "data": {
      "text/plain": [
       "'Ozge dirik'"
      ]
     },
     "execution_count": 12,
     "metadata": {},
     "output_type": "execute_result"
    }
   ],
   "source": [
    "\"ozge dirik\".capitalize()"
   ]
  },
  {
   "cell_type": "code",
   "execution_count": 13,
   "id": "340aa97c-f6ed-40e5-b5b8-8f943907dde5",
   "metadata": {},
   "outputs": [],
   "source": [
    "name = 'ozge dirik'"
   ]
  },
  {
   "cell_type": "code",
   "execution_count": 15,
   "id": "f8f8d59e-48b8-4306-b5f1-32150156ad2f",
   "metadata": {},
   "outputs": [
    {
     "data": {
      "text/plain": [
       "1"
      ]
     },
     "execution_count": 15,
     "metadata": {},
     "output_type": "execute_result"
    }
   ],
   "source": [
    "name.count(\"e\")"
   ]
  },
  {
   "cell_type": "code",
   "execution_count": 19,
   "id": "76c973cb-5a93-44ef-8ce9-ffac744e5e65",
   "metadata": {},
   "outputs": [
    {
     "data": {
      "text/plain": [
       "5"
      ]
     },
     "execution_count": 19,
     "metadata": {},
     "output_type": "execute_result"
    }
   ],
   "source": [
    "name.find(\"di\")"
   ]
  },
  {
   "cell_type": "code",
   "execution_count": 18,
   "id": "3477f8d9-0758-4c6c-94bc-134eaccd6157",
   "metadata": {},
   "outputs": [
    {
     "data": {
      "text/plain": [
       "6"
      ]
     },
     "execution_count": 18,
     "metadata": {},
     "output_type": "execute_result"
    }
   ],
   "source": [
    "name.index(\"i\")"
   ]
  },
  {
   "cell_type": "code",
   "execution_count": 20,
   "id": "de0d6efb-26c9-4e81-a232-98c14e4f7fd5",
   "metadata": {},
   "outputs": [
    {
     "data": {
      "text/plain": [
       "0"
      ]
     },
     "execution_count": 20,
     "metadata": {},
     "output_type": "execute_result"
    }
   ],
   "source": [
    "name.index(\"o\")"
   ]
  },
  {
   "cell_type": "code",
   "execution_count": 22,
   "id": "65e9eb9c-cec6-4389-ab12-e0236baa9a9a",
   "metadata": {},
   "outputs": [],
   "source": [
    "new = \"          Ozge Dirik         \""
   ]
  },
  {
   "cell_type": "code",
   "execution_count": 23,
   "id": "f4609619-0f44-4dcd-96e1-f565d322d865",
   "metadata": {},
   "outputs": [
    {
     "data": {
      "text/plain": [
       "'Ozge Dirik         '"
      ]
     },
     "execution_count": 23,
     "metadata": {},
     "output_type": "execute_result"
    }
   ],
   "source": [
    "new.lstrip()"
   ]
  },
  {
   "cell_type": "code",
   "execution_count": 24,
   "id": "57b81036-5105-4882-b4e3-cc909b7b256c",
   "metadata": {},
   "outputs": [
    {
     "data": {
      "text/plain": [
       "'          Ozge Dirik'"
      ]
     },
     "execution_count": 24,
     "metadata": {},
     "output_type": "execute_result"
    }
   ],
   "source": [
    "new.rstrip()"
   ]
  },
  {
   "cell_type": "code",
   "execution_count": 25,
   "id": "2a9c84af-fd18-4db9-964c-dd5973822059",
   "metadata": {},
   "outputs": [
    {
     "data": {
      "text/plain": [
       "'Ozge Dirik'"
      ]
     },
     "execution_count": 25,
     "metadata": {},
     "output_type": "execute_result"
    }
   ],
   "source": [
    "new.strip()"
   ]
  },
  {
   "cell_type": "code",
   "execution_count": 26,
   "id": "ae1c53b1-4f79-4aaf-9f95-211648a856b9",
   "metadata": {},
   "outputs": [
    {
     "data": {
      "text/plain": [
       "'ozge kirik'"
      ]
     },
     "execution_count": 26,
     "metadata": {},
     "output_type": "execute_result"
    }
   ],
   "source": [
    "name.replace(\"dir\",\"kir\")"
   ]
  },
  {
   "cell_type": "code",
   "execution_count": 29,
   "id": "469c6dbf-e146-4e63-bb97-f8dbfcede9ca",
   "metadata": {},
   "outputs": [],
   "source": [
    "name = \"ozge\""
   ]
  },
  {
   "cell_type": "code",
   "execution_count": 30,
   "id": "063ef93d-531d-4c4e-9e4e-7369866fbaca",
   "metadata": {},
   "outputs": [],
   "source": [
    "surname =\"dirik\""
   ]
  },
  {
   "cell_type": "code",
   "execution_count": 32,
   "id": "b66b864a-1fd2-4b21-bbb4-806fda249d0c",
   "metadata": {},
   "outputs": [
    {
     "name": "stdout",
     "output_type": "stream",
     "text": [
      "Benim ismin ozge soyadim dirik \n"
     ]
    }
   ],
   "source": [
    "print(\"Benim ismin {} soyadim {} \".format(name,surname))"
   ]
  },
  {
   "cell_type": "markdown",
   "id": "9da0b95d-cda1-4c8f-ba8c-c9a40989e984",
   "metadata": {},
   "source": [
    "### Boolean Veri Tipi\n"
   ]
  },
  {
   "cell_type": "code",
   "execution_count": 33,
   "id": "77496b0d-fe0a-48b6-ae0d-164fc957fcb2",
   "metadata": {},
   "outputs": [
    {
     "data": {
      "text/plain": [
       "True"
      ]
     },
     "execution_count": 33,
     "metadata": {},
     "output_type": "execute_result"
    }
   ],
   "source": [
    "5 > 4"
   ]
  },
  {
   "cell_type": "code",
   "execution_count": 34,
   "id": "b379a3d2-ecf7-4b09-a3c9-6e46a01e42d3",
   "metadata": {},
   "outputs": [
    {
     "data": {
      "text/plain": [
       "False"
      ]
     },
     "execution_count": 34,
     "metadata": {},
     "output_type": "execute_result"
    }
   ],
   "source": [
    "4>5"
   ]
  },
  {
   "cell_type": "markdown",
   "id": "d8d6ac2c-04ce-44ed-83af-8e854b0d6d3f",
   "metadata": {},
   "source": [
    "##### Karsilastirma operatoru olan esittir == seklinde\n"
   ]
  },
  {
   "cell_type": "code",
   "execution_count": 1,
   "id": "d30af9dd-849c-46e6-ab10-7c2f5e08f3c1",
   "metadata": {},
   "outputs": [
    {
     "data": {
      "text/plain": [
       "True"
      ]
     },
     "execution_count": 1,
     "metadata": {},
     "output_type": "execute_result"
    }
   ],
   "source": [
    " 5 == 5"
   ]
  },
  {
   "cell_type": "code",
   "execution_count": 2,
   "id": "ada50971-a3d9-4fd5-9257-129cbddfd28d",
   "metadata": {},
   "outputs": [
    {
     "data": {
      "text/plain": [
       "False"
      ]
     },
     "execution_count": 2,
     "metadata": {},
     "output_type": "execute_result"
    }
   ],
   "source": [
    "6 != 6"
   ]
  },
  {
   "cell_type": "markdown",
   "id": "dc1a850f-237e-4a51-ab60-39aa2e6489aa",
   "metadata": {},
   "source": [
    "## Lists "
   ]
  },
  {
   "cell_type": "code",
   "execution_count": 15,
   "id": "ac9c3cd7-a228-4b9a-965e-7c26ca468ef1",
   "metadata": {},
   "outputs": [],
   "source": [
    " people = [\"Ozge\",\"Dirik\",23,\"Python\"]"
   ]
  },
  {
   "cell_type": "code",
   "execution_count": 16,
   "id": "dd3ce79b-c177-4aeb-8539-41ecbaa9eb96",
   "metadata": {},
   "outputs": [
    {
     "data": {
      "text/plain": [
       "['Ozge', 'Dirik', 23, 'Python']"
      ]
     },
     "execution_count": 16,
     "metadata": {},
     "output_type": "execute_result"
    }
   ],
   "source": [
    "people"
   ]
  },
  {
   "cell_type": "code",
   "execution_count": 17,
   "id": "27ca9319-1b6e-44cd-bdee-8bd4c2798c53",
   "metadata": {},
   "outputs": [
    {
     "data": {
      "text/plain": [
       "['Ozge', 'Dirik']"
      ]
     },
     "execution_count": 17,
     "metadata": {},
     "output_type": "execute_result"
    }
   ],
   "source": [
    "people[0:2]"
   ]
  },
  {
   "cell_type": "code",
   "execution_count": 13,
   "id": "2f6ad97c-e001-4056-874c-db86886af1ba",
   "metadata": {},
   "outputs": [],
   "source": [
    "people[0] = \"OZQ\""
   ]
  },
  {
   "cell_type": "code",
   "execution_count": 18,
   "id": "c78f95e9-ffa8-4f9b-b346-629a12d8d1e8",
   "metadata": {},
   "outputs": [],
   "source": [
    "peoples = [[\"Ozge\",\"Dirik\"],[\"Gulender\",\"Simsek\"],[\"Sude\",\"Arslan\"]]"
   ]
  },
  {
   "cell_type": "code",
   "execution_count": 20,
   "id": "65b4ef51-9185-4ba7-92e9-86435ae135f2",
   "metadata": {},
   "outputs": [
    {
     "data": {
      "text/plain": [
       "['Ozge', 'Dirik']"
      ]
     },
     "execution_count": 20,
     "metadata": {},
     "output_type": "execute_result"
    }
   ],
   "source": [
    "peoples[0]"
   ]
  },
  {
   "cell_type": "code",
   "execution_count": 22,
   "id": "cbb6d211-6929-4fa4-bb76-4010e908cc49",
   "metadata": {},
   "outputs": [
    {
     "data": {
      "text/plain": [
       "'Ozge'"
      ]
     },
     "execution_count": 22,
     "metadata": {},
     "output_type": "execute_result"
    }
   ],
   "source": [
    "peoples[0][0]"
   ]
  },
  {
   "cell_type": "code",
   "execution_count": 23,
   "id": "3044504e-bd40-4532-a353-ea5471d798c0",
   "metadata": {},
   "outputs": [
    {
     "data": {
      "text/plain": [
       "'Dirik'"
      ]
     },
     "execution_count": 23,
     "metadata": {},
     "output_type": "execute_result"
    }
   ],
   "source": [
    "peoples[0][1]"
   ]
  },
  {
   "cell_type": "code",
   "execution_count": 24,
   "id": "394d5ded-d107-44a8-b2dd-614cc205fc8f",
   "metadata": {},
   "outputs": [
    {
     "data": {
      "text/plain": [
       "'Gulender'"
      ]
     },
     "execution_count": 24,
     "metadata": {},
     "output_type": "execute_result"
    }
   ],
   "source": [
    "peoples[1][0]"
   ]
  },
  {
   "cell_type": "code",
   "execution_count": 25,
   "id": "9ef9e995-8410-42c4-b4f8-5fac38d6f2d1",
   "metadata": {},
   "outputs": [
    {
     "data": {
      "text/plain": [
       "'Simsek'"
      ]
     },
     "execution_count": 25,
     "metadata": {},
     "output_type": "execute_result"
    }
   ],
   "source": [
    "peoples[1][1]"
   ]
  },
  {
   "cell_type": "code",
   "execution_count": 26,
   "id": "cc00f042-2445-4dc6-8290-511bca2f919e",
   "metadata": {},
   "outputs": [
    {
     "data": {
      "text/plain": [
       "3"
      ]
     },
     "execution_count": 26,
     "metadata": {},
     "output_type": "execute_result"
    }
   ],
   "source": [
    "len(peoples)"
   ]
  },
  {
   "cell_type": "code",
   "execution_count": 27,
   "id": "b2a34e6f-2653-43a4-8e3c-a76737e89951",
   "metadata": {},
   "outputs": [
    {
     "data": {
      "text/plain": [
       "4"
      ]
     },
     "execution_count": 27,
     "metadata": {},
     "output_type": "execute_result"
    }
   ],
   "source": [
    "len(people)"
   ]
  },
  {
   "cell_type": "code",
   "execution_count": 29,
   "id": "8fe99f7c-a58b-4d4e-ab22-89fd7a6beecf",
   "metadata": {},
   "outputs": [],
   "source": [
    "numbers = [1,2,3,4,5,6,7,8,887,544,4,444,449]"
   ]
  },
  {
   "cell_type": "code",
   "execution_count": 30,
   "id": "ea5e511a-512f-4b78-8740-9dec0269cf15",
   "metadata": {},
   "outputs": [
    {
     "data": {
      "text/plain": [
       "13"
      ]
     },
     "execution_count": 30,
     "metadata": {},
     "output_type": "execute_result"
    }
   ],
   "source": [
    "len(numbers)"
   ]
  },
  {
   "cell_type": "code",
   "execution_count": 33,
   "id": "3d965f5a-eac0-4f0b-a886-87f72ae29d7d",
   "metadata": {},
   "outputs": [
    {
     "data": {
      "text/plain": [
       "887"
      ]
     },
     "execution_count": 33,
     "metadata": {},
     "output_type": "execute_result"
    }
   ],
   "source": [
    "numbers[-5]"
   ]
  },
  {
   "cell_type": "code",
   "execution_count": 34,
   "id": "7e300710-e715-4bf4-b814-fa276fe580d9",
   "metadata": {},
   "outputs": [
    {
     "data": {
      "text/plain": [
       "[8, 887, 544, 4]"
      ]
     },
     "execution_count": 34,
     "metadata": {},
     "output_type": "execute_result"
    }
   ],
   "source": [
    "numbers[-6:-2]"
   ]
  },
  {
   "cell_type": "code",
   "execution_count": 35,
   "id": "6743372a-8e68-482c-a0b6-af1df48d3bf8",
   "metadata": {},
   "outputs": [
    {
     "data": {
      "text/plain": [
       "[8, 544]"
      ]
     },
     "execution_count": 35,
     "metadata": {},
     "output_type": "execute_result"
    }
   ],
   "source": [
    "numbers[-6:-2:2]"
   ]
  },
  {
   "cell_type": "code",
   "execution_count": 36,
   "id": "64766e56-de04-43c5-a0d8-de997b784d46",
   "metadata": {},
   "outputs": [
    {
     "data": {
      "text/plain": [
       "[3, 4, 5, 6, 7, 8, 887, 544, 4, 444, 449]"
      ]
     },
     "execution_count": 36,
     "metadata": {},
     "output_type": "execute_result"
    }
   ],
   "source": [
    "numbers[2:]"
   ]
  },
  {
   "cell_type": "code",
   "execution_count": 37,
   "id": "312d747a-5bdd-434a-afc8-19591e9874b5",
   "metadata": {},
   "outputs": [],
   "source": [
    "isim = \"Ozge\""
   ]
  },
  {
   "cell_type": "code",
   "execution_count": 38,
   "id": "03d83f4e-5b5c-4570-b055-d2d519cfa0ef",
   "metadata": {},
   "outputs": [
    {
     "data": {
      "text/plain": [
       "4"
      ]
     },
     "execution_count": 38,
     "metadata": {},
     "output_type": "execute_result"
    }
   ],
   "source": [
    "len(isim)"
   ]
  },
  {
   "cell_type": "markdown",
   "id": "6e1b7b82-00f7-46fb-9179-f055643f5f51",
   "metadata": {},
   "source": [
    "## listeye ekleme metodu"
   ]
  },
  {
   "cell_type": "code",
   "execution_count": 39,
   "id": "ed2aedfd-8c15-4e9c-8624-c256d701a22b",
   "metadata": {},
   "outputs": [],
   "source": [
    "numbers.append(1000)"
   ]
  },
  {
   "cell_type": "code",
   "execution_count": 40,
   "id": "8172b980-9356-426e-8826-292378dea419",
   "metadata": {},
   "outputs": [
    {
     "data": {
      "text/plain": [
       "[1, 2, 3, 4, 5, 6, 7, 8, 887, 544, 4, 444, 449, 1000]"
      ]
     },
     "execution_count": 40,
     "metadata": {},
     "output_type": "execute_result"
    }
   ],
   "source": [
    "numbers"
   ]
  },
  {
   "cell_type": "markdown",
   "id": "20b6366c-0e4d-4d70-8f1e-897074b73035",
   "metadata": {},
   "source": [
    "## listeden silme metodu\n"
   ]
  },
  {
   "cell_type": "code",
   "execution_count": 41,
   "id": "76352c6e-9a01-4354-b9d1-fc57b47b523d",
   "metadata": {},
   "outputs": [],
   "source": [
    "numbers.remove(4)"
   ]
  },
  {
   "cell_type": "code",
   "execution_count": 42,
   "id": "2de5b691-ff70-4157-8f67-458d9834c382",
   "metadata": {},
   "outputs": [
    {
     "data": {
      "text/plain": [
       "[1, 2, 3, 5, 6, 7, 8, 887, 544, 4, 444, 449, 1000]"
      ]
     },
     "execution_count": 42,
     "metadata": {},
     "output_type": "execute_result"
    }
   ],
   "source": [
    "numbers"
   ]
  },
  {
   "cell_type": "markdown",
   "id": "b9d94d51-c4e8-48d9-ad9b-1c9229019932",
   "metadata": {},
   "source": [
    "## son sayiyi cikartan metod"
   ]
  },
  {
   "cell_type": "code",
   "execution_count": 43,
   "id": "c3b6b195-30fe-4233-a234-84b4d2a8024b",
   "metadata": {},
   "outputs": [
    {
     "data": {
      "text/plain": [
       "1000"
      ]
     },
     "execution_count": 43,
     "metadata": {},
     "output_type": "execute_result"
    }
   ],
   "source": [
    "numbers.pop()"
   ]
  },
  {
   "cell_type": "code",
   "execution_count": 44,
   "id": "50fb53db-fe66-4b4a-9180-298d557b0211",
   "metadata": {},
   "outputs": [
    {
     "data": {
      "text/plain": [
       "[1, 2, 3, 5, 6, 7, 8, 887, 544, 4, 444, 449]"
      ]
     },
     "execution_count": 44,
     "metadata": {},
     "output_type": "execute_result"
    }
   ],
   "source": [
    "numbers"
   ]
  },
  {
   "cell_type": "code",
   "execution_count": 45,
   "id": "7218e84f-23b2-4c06-a78e-ab8c5b5876a0",
   "metadata": {},
   "outputs": [
    {
     "data": {
      "text/plain": [
       "449"
      ]
     },
     "execution_count": 45,
     "metadata": {},
     "output_type": "execute_result"
    }
   ],
   "source": [
    "numbers.pop()"
   ]
  },
  {
   "cell_type": "code",
   "execution_count": 46,
   "id": "e889ccc3-3ad3-4c05-a1a8-15dbd723fcc8",
   "metadata": {},
   "outputs": [
    {
     "data": {
      "text/plain": [
       "[1, 2, 3, 5, 6, 7, 8, 887, 544, 4, 444]"
      ]
     },
     "execution_count": 46,
     "metadata": {},
     "output_type": "execute_result"
    }
   ],
   "source": [
    "numbers"
   ]
  },
  {
   "cell_type": "code",
   "execution_count": 47,
   "id": "698a1125-db37-44c2-afc2-a0a5ecb5a88f",
   "metadata": {},
   "outputs": [],
   "source": [
    "yeni = numbers.copy()"
   ]
  },
  {
   "cell_type": "code",
   "execution_count": 48,
   "id": "5459f0f1-0104-4556-b777-eb1cf4435451",
   "metadata": {},
   "outputs": [
    {
     "data": {
      "text/plain": [
       "[1, 2, 3, 5, 6, 7, 8, 887, 544, 4, 444]"
      ]
     },
     "execution_count": 48,
     "metadata": {},
     "output_type": "execute_result"
    }
   ],
   "source": [
    "yeni"
   ]
  },
  {
   "cell_type": "code",
   "execution_count": 50,
   "id": "a2440ec4-c832-498b-a50f-986292cde147",
   "metadata": {},
   "outputs": [],
   "source": [
    "a = [1,2,3,4]\n",
    "b = [5,6,7,8]"
   ]
  },
  {
   "cell_type": "code",
   "execution_count": 51,
   "id": "8bff1e6e-c488-47fb-990c-f1e35d7ff85b",
   "metadata": {},
   "outputs": [
    {
     "data": {
      "text/plain": [
       "[1, 2, 3, 4, 5, 6, 7, 8]"
      ]
     },
     "execution_count": 51,
     "metadata": {},
     "output_type": "execute_result"
    }
   ],
   "source": [
    "a + b"
   ]
  },
  {
   "cell_type": "code",
   "execution_count": 52,
   "id": "8a42583c-6d08-40ae-822b-9259dc305f5f",
   "metadata": {},
   "outputs": [
    {
     "data": {
      "text/plain": [
       "[5, 6, 7, 8, 1, 2, 3, 4]"
      ]
     },
     "execution_count": 52,
     "metadata": {},
     "output_type": "execute_result"
    }
   ],
   "source": [
    "b + a"
   ]
  },
  {
   "cell_type": "code",
   "execution_count": 54,
   "id": "0f60f5f3-c689-4751-846d-3217c0cb6ca2",
   "metadata": {},
   "outputs": [],
   "source": [
    "c = [1,2,3,4]\n",
    "d = [5,6,7,8,9,66,33,683,58]"
   ]
  },
  {
   "cell_type": "code",
   "execution_count": 55,
   "id": "16a7928b-17c8-4cdb-a776-4045a9f5f871",
   "metadata": {},
   "outputs": [],
   "source": [
    "c.extend(d)"
   ]
  },
  {
   "cell_type": "code",
   "execution_count": 56,
   "id": "9ff890a4-f62c-4d92-af59-da99f06b839f",
   "metadata": {},
   "outputs": [
    {
     "data": {
      "text/plain": [
       "[1, 2, 3, 4, 5, 6, 7, 8, 9, 66, 33, 683, 58]"
      ]
     },
     "execution_count": 56,
     "metadata": {},
     "output_type": "execute_result"
    }
   ],
   "source": [
    "c\n"
   ]
  },
  {
   "cell_type": "code",
   "execution_count": 57,
   "id": "0fbecede-ab81-42a1-9cb9-c341ab66ef82",
   "metadata": {},
   "outputs": [],
   "source": [
    "d = [5,6,7,8,9,66,33,683,58,5,5,5,5,5,5]"
   ]
  },
  {
   "cell_type": "code",
   "execution_count": 58,
   "id": "e3eb724d-25f3-4866-afa2-f75550028628",
   "metadata": {},
   "outputs": [
    {
     "data": {
      "text/plain": [
       "7"
      ]
     },
     "execution_count": 58,
     "metadata": {},
     "output_type": "execute_result"
    }
   ],
   "source": [
    "d.count(5)"
   ]
  },
  {
   "cell_type": "code",
   "execution_count": 60,
   "id": "5b9ee427-6e8c-4b6f-9733-16d5174903d2",
   "metadata": {},
   "outputs": [
    {
     "data": {
      "text/plain": [
       "1"
      ]
     },
     "execution_count": 60,
     "metadata": {},
     "output_type": "execute_result"
    }
   ],
   "source": [
    "d.index(6)"
   ]
  },
  {
   "cell_type": "code",
   "execution_count": 61,
   "id": "b9e0a240-b8f7-4e8f-a8e4-248d876ffb86",
   "metadata": {},
   "outputs": [],
   "source": [
    "d.insert(3,\"tek\")"
   ]
  },
  {
   "cell_type": "code",
   "execution_count": 62,
   "id": "502d4d7a-3356-4dca-9361-c17629d72584",
   "metadata": {},
   "outputs": [
    {
     "data": {
      "text/plain": [
       "[5, 6, 7, 'tek', 8, 9, 66, 33, 683, 58, 5, 5, 5, 5, 5, 5]"
      ]
     },
     "execution_count": 62,
     "metadata": {},
     "output_type": "execute_result"
    }
   ],
   "source": [
    "d"
   ]
  },
  {
   "cell_type": "code",
   "execution_count": 63,
   "id": "c374404e-515c-4267-9509-1da0a6014f1c",
   "metadata": {},
   "outputs": [
    {
     "data": {
      "text/plain": [
       "'tek'"
      ]
     },
     "execution_count": 63,
     "metadata": {},
     "output_type": "execute_result"
    }
   ],
   "source": [
    "d.pop(3)"
   ]
  },
  {
   "cell_type": "code",
   "execution_count": 64,
   "id": "8db8518d-06c1-482e-b51e-203d0bcf48bd",
   "metadata": {},
   "outputs": [
    {
     "data": {
      "text/plain": [
       "[5, 6, 7, 8, 9, 66, 33, 683, 58, 5, 5, 5, 5, 5, 5]"
      ]
     },
     "execution_count": 64,
     "metadata": {},
     "output_type": "execute_result"
    }
   ],
   "source": [
    "d"
   ]
  },
  {
   "cell_type": "code",
   "execution_count": 65,
   "id": "e7de0453-1728-4e5b-919b-796b724a1db8",
   "metadata": {},
   "outputs": [],
   "source": [
    "g = [3,5,2,8,23,55,1,54,26,33]"
   ]
  },
  {
   "cell_type": "code",
   "execution_count": 66,
   "id": "f10c4d4e-7e23-4c07-8888-4430bee3550a",
   "metadata": {},
   "outputs": [],
   "source": [
    "g.sort()"
   ]
  },
  {
   "cell_type": "code",
   "execution_count": 67,
   "id": "43431848-4919-4238-b53b-543fc23080ed",
   "metadata": {},
   "outputs": [
    {
     "data": {
      "text/plain": [
       "[1, 2, 3, 5, 8, 23, 26, 33, 54, 55]"
      ]
     },
     "execution_count": 67,
     "metadata": {},
     "output_type": "execute_result"
    }
   ],
   "source": [
    "g\n"
   ]
  },
  {
   "cell_type": "code",
   "execution_count": 68,
   "id": "b1541189-03e9-483c-b174-fe07ce7c0c8c",
   "metadata": {},
   "outputs": [],
   "source": [
    "g.sort(reverse = True)"
   ]
  },
  {
   "cell_type": "code",
   "execution_count": 69,
   "id": "8e2d24f2-c2d9-4b2a-aecd-cfda41efc818",
   "metadata": {},
   "outputs": [
    {
     "data": {
      "text/plain": [
       "[55, 54, 33, 26, 23, 8, 5, 3, 2, 1]"
      ]
     },
     "execution_count": 69,
     "metadata": {},
     "output_type": "execute_result"
    }
   ],
   "source": [
    "g"
   ]
  },
  {
   "cell_type": "code",
   "execution_count": 70,
   "id": "0f5b17f9-fbe0-48f7-88a8-c2b3237a472b",
   "metadata": {},
   "outputs": [],
   "source": [
    "isimler = [ \"Mehmet\" , \"Ali\" , \"Ozge\" , \"Cemil\" ]"
   ]
  },
  {
   "cell_type": "code",
   "execution_count": 71,
   "id": "a1fb6493-5931-4144-ad21-3c48beaaf186",
   "metadata": {},
   "outputs": [],
   "source": [
    "isimler.reverse()"
   ]
  },
  {
   "cell_type": "code",
   "execution_count": 72,
   "id": "b612ff79-a6e2-4248-8200-f083c73825a9",
   "metadata": {},
   "outputs": [
    {
     "data": {
      "text/plain": [
       "['Cemil', 'Ozge', 'Ali', 'Mehmet']"
      ]
     },
     "execution_count": 72,
     "metadata": {},
     "output_type": "execute_result"
    }
   ],
   "source": [
    "isimler"
   ]
  },
  {
   "cell_type": "code",
   "execution_count": 73,
   "id": "9e2843e4-004f-40ae-be4e-8540d82b0f6c",
   "metadata": {},
   "outputs": [],
   "source": [
    "isimler.sort(reverse = True)"
   ]
  },
  {
   "cell_type": "code",
   "execution_count": 74,
   "id": "7704ffa3-4ad8-4fc0-bbc8-8c39975e49e8",
   "metadata": {},
   "outputs": [
    {
     "data": {
      "text/plain": [
       "['Ozge', 'Mehmet', 'Cemil', 'Ali']"
      ]
     },
     "execution_count": 74,
     "metadata": {},
     "output_type": "execute_result"
    }
   ],
   "source": [
    "isimler"
   ]
  },
  {
   "cell_type": "code",
   "execution_count": 77,
   "id": "cbe07786-4076-45f1-a0f8-1bbb8d529bca",
   "metadata": {},
   "outputs": [],
   "source": [
    "isimler.sort()"
   ]
  },
  {
   "cell_type": "code",
   "execution_count": 78,
   "id": "1a1151c2-4183-4d0f-96b5-5e8e1e495da5",
   "metadata": {},
   "outputs": [
    {
     "data": {
      "text/plain": [
       "['Ali', 'Cemil', 'Mehmet', 'Ozge']"
      ]
     },
     "execution_count": 78,
     "metadata": {},
     "output_type": "execute_result"
    }
   ],
   "source": [
    "isimler"
   ]
  },
  {
   "cell_type": "code",
   "execution_count": 79,
   "id": "c9914df5-4870-4da9-9ba7-28be65a4560d",
   "metadata": {},
   "outputs": [],
   "source": [
    "isimler.clear()"
   ]
  },
  {
   "cell_type": "code",
   "execution_count": 80,
   "id": "8aa657c1-9a96-4bf7-8604-6e38ffe249a6",
   "metadata": {},
   "outputs": [
    {
     "data": {
      "text/plain": [
       "[]"
      ]
     },
     "execution_count": 80,
     "metadata": {},
     "output_type": "execute_result"
    }
   ],
   "source": [
    "isimler"
   ]
  },
  {
   "cell_type": "markdown",
   "id": "370b0726-2554-4d28-9438-ebad8334d73c",
   "metadata": {},
   "source": [
    "# Dictionaries -- Sozlukler\n",
    "(sirasizlardir indexe gore calismaz)"
   ]
  },
  {
   "cell_type": "code",
   "execution_count": 83,
   "id": "4b819d1c-83bd-4429-8a38-88292b852109",
   "metadata": {},
   "outputs": [],
   "source": [
    "kimlik = {\n",
    "          \"isim\":\"Ozge\",\n",
    "          \"soyisim\":\"Dirik\",\n",
    "          \"tc_no\":465723427729,\n",
    "          \"yer\": \"Ankara\"\n",
    "         }"
   ]
  },
  {
   "cell_type": "code",
   "execution_count": 84,
   "id": "d4276f72-01ab-459d-87c2-a59c8f55204b",
   "metadata": {},
   "outputs": [
    {
     "data": {
      "text/plain": [
       "'Ozge'"
      ]
     },
     "execution_count": 84,
     "metadata": {},
     "output_type": "execute_result"
    }
   ],
   "source": [
    "kimlik [\"isim\"]"
   ]
  },
  {
   "cell_type": "code",
   "execution_count": 86,
   "id": "f3513a48-e1e3-4242-930f-d1c40a555e9d",
   "metadata": {},
   "outputs": [
    {
     "data": {
      "text/plain": [
       "'Ankara'"
      ]
     },
     "execution_count": 86,
     "metadata": {},
     "output_type": "execute_result"
    }
   ],
   "source": [
    "kimlik [\"yer\"]"
   ]
  },
  {
   "cell_type": "code",
   "execution_count": 88,
   "id": "ed9f761f-cd2f-4971-9da3-7701d236c08d",
   "metadata": {},
   "outputs": [],
   "source": [
    "kimlik [\"soyisim\"] = \"Simsek\""
   ]
  },
  {
   "cell_type": "code",
   "execution_count": 89,
   "id": "034018e3-840b-4f56-83ee-7dbc139520b0",
   "metadata": {},
   "outputs": [
    {
     "data": {
      "text/plain": [
       "{'isim': 'Ozge', 'soyisim': 'Simsek', 'tc_no': 465723427729, 'yer': 'Ankara'}"
      ]
     },
     "execution_count": 89,
     "metadata": {},
     "output_type": "execute_result"
    }
   ],
   "source": [
    "kimlik"
   ]
  },
  {
   "cell_type": "code",
   "execution_count": 90,
   "id": "0301cd45-6615-4a4f-80fb-13b3b24317c3",
   "metadata": {},
   "outputs": [
    {
     "data": {
      "text/plain": [
       "4"
      ]
     },
     "execution_count": 90,
     "metadata": {},
     "output_type": "execute_result"
    }
   ],
   "source": [
    "len(kimlik)"
   ]
  },
  {
   "cell_type": "code",
   "execution_count": 91,
   "id": "a81772e1-87ea-482f-9c89-4f194c8d084c",
   "metadata": {},
   "outputs": [],
   "source": [
    "kimlik[\"yil\"] = 2000"
   ]
  },
  {
   "cell_type": "code",
   "execution_count": 92,
   "id": "dc761751-1f35-424a-9b4c-ad36311de616",
   "metadata": {},
   "outputs": [
    {
     "data": {
      "text/plain": [
       "{'isim': 'Ozge',\n",
       " 'soyisim': 'Simsek',\n",
       " 'tc_no': 465723427729,\n",
       " 'yer': 'Ankara',\n",
       " 'yil': 2000}"
      ]
     },
     "execution_count": 92,
     "metadata": {},
     "output_type": "execute_result"
    }
   ],
   "source": [
    "kimlik\n"
   ]
  },
  {
   "cell_type": "code",
   "execution_count": 97,
   "id": "f135f9a3-f273-476d-9b88-ab578a126781",
   "metadata": {},
   "outputs": [],
   "source": [
    "kimlik = {\n",
    "          \"isim\":\"Ozge\",\n",
    "          \"soyisim\":\"Dirik\",\n",
    "          \"tc_no\":465723427729,\n",
    "          \"yer\": [\"Ankara\",\"Istanul\"],\n",
    "          \"bilgiler\" : {\n",
    "              \"email\" : \"ozge.dirik@gmail.com\",\n",
    "              \"kardes_sayisi\" : 2,\n",
    "              \"dogum_tarihi\" : 2000,\n",
    "              \"ikamet\" : \"Ankara\"\n",
    "          }\n",
    "         }"
   ]
  },
  {
   "cell_type": "code",
   "execution_count": 98,
   "id": "6a184c37-e8ca-40dc-a17c-c7d442afe7f1",
   "metadata": {},
   "outputs": [
    {
     "data": {
      "text/plain": [
       "{'isim': 'Ozge',\n",
       " 'soyisim': 'Dirik',\n",
       " 'tc_no': 465723427729,\n",
       " 'yer': ['Ankara', 'Istanul'],\n",
       " 'bilgiler': {'email': 'ozge.dirik@gmail.com',\n",
       "  'kardes_sayisi': 2,\n",
       "  'dogum_tarihi': 2000,\n",
       "  'ikamet': 'Ankara'}}"
      ]
     },
     "execution_count": 98,
     "metadata": {},
     "output_type": "execute_result"
    }
   ],
   "source": [
    "kimlik"
   ]
  },
  {
   "cell_type": "code",
   "execution_count": 99,
   "id": "7b5c67f0-aa8c-4034-964e-d31f60257c8d",
   "metadata": {},
   "outputs": [
    {
     "data": {
      "text/plain": [
       "dict_keys(['isim', 'soyisim', 'tc_no', 'yer', 'bilgiler'])"
      ]
     },
     "execution_count": 99,
     "metadata": {},
     "output_type": "execute_result"
    }
   ],
   "source": [
    "kimlik.keys()"
   ]
  },
  {
   "cell_type": "code",
   "execution_count": 100,
   "id": "b067189b-eddd-44fd-b2c4-a079df907f17",
   "metadata": {},
   "outputs": [
    {
     "data": {
      "text/plain": [
       "dict_values(['Ozge', 'Dirik', 465723427729, ['Ankara', 'Istanul'], {'email': 'ozge.dirik@gmail.com', 'kardes_sayisi': 2, 'dogum_tarihi': 2000, 'ikamet': 'Ankara'}])"
      ]
     },
     "execution_count": 100,
     "metadata": {},
     "output_type": "execute_result"
    }
   ],
   "source": [
    "kimlik.values()"
   ]
  },
  {
   "cell_type": "code",
   "execution_count": 101,
   "id": "6707830e-7bcb-4fd4-b07c-576f75f389dc",
   "metadata": {},
   "outputs": [
    {
     "data": {
      "text/plain": [
       "dict_items([('isim', 'Ozge'), ('soyisim', 'Dirik'), ('tc_no', 465723427729), ('yer', ['Ankara', 'Istanul']), ('bilgiler', {'email': 'ozge.dirik@gmail.com', 'kardes_sayisi': 2, 'dogum_tarihi': 2000, 'ikamet': 'Ankara'})])"
      ]
     },
     "execution_count": 101,
     "metadata": {},
     "output_type": "execute_result"
    }
   ],
   "source": [
    "kimlik.items()"
   ]
  },
  {
   "cell_type": "code",
   "execution_count": 102,
   "id": "2c0e551e-dfae-411e-8f66-e8c21f21132f",
   "metadata": {},
   "outputs": [
    {
     "data": {
      "text/plain": [
       "['Ankara', 'Istanul']"
      ]
     },
     "execution_count": 102,
     "metadata": {},
     "output_type": "execute_result"
    }
   ],
   "source": [
    "kimlik.get(\"yer\")"
   ]
  },
  {
   "cell_type": "code",
   "execution_count": 103,
   "id": "280105b9-41fa-450f-9d85-adbdae04a46e",
   "metadata": {},
   "outputs": [],
   "source": [
    "kimlik.update({\"anne_adi\": \"Gulender\"})"
   ]
  },
  {
   "cell_type": "code",
   "execution_count": 104,
   "id": "09bfc24e-60f0-4409-96a6-e064de371f25",
   "metadata": {},
   "outputs": [
    {
     "data": {
      "text/plain": [
       "{'isim': 'Ozge',\n",
       " 'soyisim': 'Dirik',\n",
       " 'tc_no': 465723427729,\n",
       " 'yer': ['Ankara', 'Istanul'],\n",
       " 'bilgiler': {'email': 'ozge.dirik@gmail.com',\n",
       "  'kardes_sayisi': 2,\n",
       "  'dogum_tarihi': 2000,\n",
       "  'ikamet': 'Ankara'},\n",
       " 'anne_adi': 'Gulender'}"
      ]
     },
     "execution_count": 104,
     "metadata": {},
     "output_type": "execute_result"
    }
   ],
   "source": [
    "kimlik"
   ]
  },
  {
   "cell_type": "code",
   "execution_count": 108,
   "id": "95214a9f-4c6a-4b82-a43e-d181e30d90a9",
   "metadata": {},
   "outputs": [],
   "source": [
    "copy = kimlik.copy()"
   ]
  },
  {
   "cell_type": "code",
   "execution_count": 109,
   "id": "4c630a55-3116-4230-b959-5ed7eb702463",
   "metadata": {},
   "outputs": [
    {
     "data": {
      "text/plain": [
       "{'isim': 'Ozge',\n",
       " 'soyisim': 'Dirik',\n",
       " 'tc_no': 465723427729,\n",
       " 'yer': ['Ankara', 'Istanul'],\n",
       " 'bilgiler': {'email': 'ozge.dirik@gmail.com',\n",
       "  'kardes_sayisi': 2,\n",
       "  'dogum_tarihi': 2000,\n",
       "  'ikamet': 'Ankara'},\n",
       " 'anne_adi': 'Gulender'}"
      ]
     },
     "execution_count": 109,
     "metadata": {},
     "output_type": "execute_result"
    }
   ],
   "source": [
    "copy"
   ]
  },
  {
   "cell_type": "code",
   "execution_count": 111,
   "id": "315c8bfe-c146-4fe3-a06d-a921ec84b5fb",
   "metadata": {},
   "outputs": [
    {
     "data": {
      "text/plain": [
       "'Ozge'"
      ]
     },
     "execution_count": 111,
     "metadata": {},
     "output_type": "execute_result"
    }
   ],
   "source": [
    "copy.pop(\"isim\")"
   ]
  },
  {
   "cell_type": "code",
   "execution_count": 112,
   "id": "984a1283-e8af-4554-80af-f01a426e8448",
   "metadata": {},
   "outputs": [
    {
     "data": {
      "text/plain": [
       "{'soyisim': 'Dirik',\n",
       " 'tc_no': 465723427729,\n",
       " 'yer': ['Ankara', 'Istanul'],\n",
       " 'bilgiler': {'email': 'ozge.dirik@gmail.com',\n",
       "  'kardes_sayisi': 2,\n",
       "  'dogum_tarihi': 2000,\n",
       "  'ikamet': 'Ankara'},\n",
       " 'anne_adi': 'Gulender'}"
      ]
     },
     "execution_count": 112,
     "metadata": {},
     "output_type": "execute_result"
    }
   ],
   "source": [
    "copy"
   ]
  },
  {
   "cell_type": "code",
   "execution_count": 113,
   "id": "3df440b6-271c-44f6-9f01-8de5dae0939d",
   "metadata": {},
   "outputs": [],
   "source": [
    "copy.clear()"
   ]
  },
  {
   "cell_type": "code",
   "execution_count": 114,
   "id": "cbcd50c1-a3cf-48b0-b69b-7d4c8d6fd08d",
   "metadata": {},
   "outputs": [
    {
     "data": {
      "text/plain": [
       "{}"
      ]
     },
     "execution_count": 114,
     "metadata": {},
     "output_type": "execute_result"
    }
   ],
   "source": [
    "copy"
   ]
  },
  {
   "cell_type": "markdown",
   "id": "5e374c0b-3b77-4559-8f61-50429e2f7cc8",
   "metadata": {},
   "source": [
    "## Demetler (TUPLES)\n",
    "listelerden farki degistirilemiyo olmalari - - - -\n",
    "indexleri vardir"
   ]
  },
  {
   "cell_type": "code",
   "execution_count": 115,
   "id": "5d56bba2-f301-452f-b2b8-d8f2d6f25765",
   "metadata": {},
   "outputs": [],
   "source": [
    "zamirler = (\"ben\", \"sen\" , \"o\" , \"biz\" , \"siz\" , \"onlar\")"
   ]
  },
  {
   "cell_type": "code",
   "execution_count": 116,
   "id": "f8ced805-8ed3-46e7-a517-956bfe0d60fb",
   "metadata": {},
   "outputs": [
    {
     "ename": "AttributeError",
     "evalue": "'tuple' object has no attribute 'pop'",
     "output_type": "error",
     "traceback": [
      "\u001b[1;31m---------------------------------------------------------------------------\u001b[0m",
      "\u001b[1;31mAttributeError\u001b[0m                            Traceback (most recent call last)",
      "Cell \u001b[1;32mIn[116], line 1\u001b[0m\n\u001b[1;32m----> 1\u001b[0m \u001b[43mzamirler\u001b[49m\u001b[38;5;241;43m.\u001b[39;49m\u001b[43mpop\u001b[49m()\n",
      "\u001b[1;31mAttributeError\u001b[0m: 'tuple' object has no attribute 'pop'"
     ]
    }
   ],
   "source": [
    "zamirler.pop()"
   ]
  },
  {
   "cell_type": "code",
   "execution_count": 117,
   "id": "4df31360-1412-4a8d-a359-807b44f74d3d",
   "metadata": {},
   "outputs": [
    {
     "data": {
      "text/plain": [
       "'ben'"
      ]
     },
     "execution_count": 117,
     "metadata": {},
     "output_type": "execute_result"
    }
   ],
   "source": [
    "zamirler[0]"
   ]
  },
  {
   "cell_type": "code",
   "execution_count": 119,
   "id": "367de1af-bf94-4230-9b47-eb805f2e48af",
   "metadata": {},
   "outputs": [
    {
     "data": {
      "text/plain": [
       "('ben', 'sen', 'o')"
      ]
     },
     "execution_count": 119,
     "metadata": {},
     "output_type": "execute_result"
    }
   ],
   "source": [
    "zamirler[0:3]"
   ]
  },
  {
   "cell_type": "code",
   "execution_count": 122,
   "id": "f089ef66-05bf-42d4-8b46-87a4f4c6eb70",
   "metadata": {},
   "outputs": [
    {
     "data": {
      "text/plain": [
       "('biz', 'siz')"
      ]
     },
     "execution_count": 122,
     "metadata": {},
     "output_type": "execute_result"
    }
   ],
   "source": [
    "zamirler[-3:-1]"
   ]
  },
  {
   "cell_type": "code",
   "execution_count": 123,
   "id": "7223d6a8-be36-47a2-aa2e-b3d6ec761dda",
   "metadata": {},
   "outputs": [
    {
     "data": {
      "text/plain": [
       "6"
      ]
     },
     "execution_count": 123,
     "metadata": {},
     "output_type": "execute_result"
    }
   ],
   "source": [
    "len(zamirler)"
   ]
  },
  {
   "cell_type": "code",
   "execution_count": 124,
   "id": "6e5353e5-6a79-4386-9907-53905a3db405",
   "metadata": {},
   "outputs": [],
   "source": [
    "sayilars = (1,2,3,6,33,6,63,56,32)"
   ]
  },
  {
   "cell_type": "code",
   "execution_count": 125,
   "id": "8ce2e0dd-b809-4827-b32f-16abc19c3e75",
   "metadata": {},
   "outputs": [
    {
     "data": {
      "text/plain": [
       "('ben', 'sen', 'o', 'biz', 'siz', 'onlar', 1, 2, 3, 6, 33, 6, 63, 56, 32)"
      ]
     },
     "execution_count": 125,
     "metadata": {},
     "output_type": "execute_result"
    }
   ],
   "source": [
    "zamirler + sayilars"
   ]
  },
  {
   "cell_type": "code",
   "execution_count": 126,
   "id": "ed61acd0-62c6-4634-b319-c115b35452a2",
   "metadata": {},
   "outputs": [
    {
     "data": {
      "text/plain": [
       "0"
      ]
     },
     "execution_count": 126,
     "metadata": {},
     "output_type": "execute_result"
    }
   ],
   "source": [
    "sayilars.count(7)"
   ]
  },
  {
   "cell_type": "code",
   "execution_count": 128,
   "id": "91af6346-b2a2-4032-8990-540305b233ae",
   "metadata": {},
   "outputs": [
    {
     "data": {
      "text/plain": [
       "2"
      ]
     },
     "execution_count": 128,
     "metadata": {},
     "output_type": "execute_result"
    }
   ],
   "source": [
    "sayilars.index(3)"
   ]
  },
  {
   "cell_type": "markdown",
   "id": "084e7061-743a-4b5b-a7d5-d44c860b546f",
   "metadata": {},
   "source": [
    "# tek elemanli tuple olusturma"
   ]
  },
  {
   "cell_type": "code",
   "execution_count": 52,
   "id": "205fd2cd-e82a-471b-9bb8-f75193768cc7",
   "metadata": {},
   "outputs": [],
   "source": [
    "t = (4)"
   ]
  },
  {
   "cell_type": "code",
   "execution_count": 53,
   "id": "0236efd5-0b1f-445e-8474-27192a5a24d6",
   "metadata": {},
   "outputs": [
    {
     "data": {
      "text/plain": [
       "4"
      ]
     },
     "execution_count": 53,
     "metadata": {},
     "output_type": "execute_result"
    }
   ],
   "source": [
    "t"
   ]
  },
  {
   "cell_type": "code",
   "execution_count": 54,
   "id": "c8344b9f-b64b-42f2-a9c0-cf551344feeb",
   "metadata": {},
   "outputs": [],
   "source": [
    "f = (4,)"
   ]
  },
  {
   "cell_type": "code",
   "execution_count": 55,
   "id": "a3f4f004-4e2d-46ac-8b71-206830169ec5",
   "metadata": {},
   "outputs": [
    {
     "data": {
      "text/plain": [
       "(4,)"
      ]
     },
     "execution_count": 55,
     "metadata": {},
     "output_type": "execute_result"
    }
   ],
   "source": [
    "f"
   ]
  },
  {
   "cell_type": "markdown",
   "id": "9a52838b-fa7d-48f1-9d83-9882b002ccc4",
   "metadata": {},
   "source": [
    "# Sets (Kumeler)\n",
    "kullanimlari farkli bir listedir------suslu parantez kullanilir ---ayni elemanlari dahil etmez----indexlenemez"
   ]
  },
  {
   "cell_type": "code",
   "execution_count": 131,
   "id": "725035a7-be3e-4e8f-b470-efd4aafddfb7",
   "metadata": {},
   "outputs": [],
   "source": [
    "sayi = {1,2,3,4,5,6,6,6,6,7,8,9,90,33,45,32,67}"
   ]
  },
  {
   "cell_type": "code",
   "execution_count": 132,
   "id": "cd415078-554a-41c0-b25c-2d3e6a766a54",
   "metadata": {},
   "outputs": [
    {
     "data": {
      "text/plain": [
       "{1, 2, 3, 4, 5, 6, 7, 8, 9, 32, 33, 45, 67, 90}"
      ]
     },
     "execution_count": 132,
     "metadata": {},
     "output_type": "execute_result"
    }
   ],
   "source": [
    "sayi"
   ]
  },
  {
   "cell_type": "code",
   "execution_count": 133,
   "id": "b112e541-6ebe-4473-87ae-f581dc855b54",
   "metadata": {},
   "outputs": [
    {
     "ename": "TypeError",
     "evalue": "'set' object is not subscriptable",
     "output_type": "error",
     "traceback": [
      "\u001b[1;31m---------------------------------------------------------------------------\u001b[0m",
      "\u001b[1;31mTypeError\u001b[0m                                 Traceback (most recent call last)",
      "Cell \u001b[1;32mIn[133], line 1\u001b[0m\n\u001b[1;32m----> 1\u001b[0m \u001b[43msayi\u001b[49m\u001b[43m[\u001b[49m\u001b[38;5;241;43m1\u001b[39;49m\u001b[43m]\u001b[49m\n",
      "\u001b[1;31mTypeError\u001b[0m: 'set' object is not subscriptable"
     ]
    }
   ],
   "source": [
    "sayi[1]"
   ]
  },
  {
   "cell_type": "code",
   "execution_count": 134,
   "id": "30cb0388-8359-4848-9260-96c930d50887",
   "metadata": {},
   "outputs": [],
   "source": [
    "sayi.add(100)"
   ]
  },
  {
   "cell_type": "code",
   "execution_count": 135,
   "id": "f7755dd9-9750-4944-abef-bc5ddac7ecdc",
   "metadata": {},
   "outputs": [
    {
     "data": {
      "text/plain": [
       "{1, 2, 3, 4, 5, 6, 7, 8, 9, 32, 33, 45, 67, 90, 100}"
      ]
     },
     "execution_count": 135,
     "metadata": {},
     "output_type": "execute_result"
    }
   ],
   "source": [
    "sayi"
   ]
  },
  {
   "cell_type": "code",
   "execution_count": 136,
   "id": "8aca45d6-6d1f-4734-9540-8be9bdf73e86",
   "metadata": {},
   "outputs": [],
   "source": [
    "sayi.discard(7)"
   ]
  },
  {
   "cell_type": "code",
   "execution_count": 137,
   "id": "16b4345b-9c85-406a-a45b-d3816affe524",
   "metadata": {},
   "outputs": [
    {
     "data": {
      "text/plain": [
       "{1, 2, 3, 4, 5, 6, 8, 9, 32, 33, 45, 67, 90, 100}"
      ]
     },
     "execution_count": 137,
     "metadata": {},
     "output_type": "execute_result"
    }
   ],
   "source": [
    "sayi"
   ]
  },
  {
   "cell_type": "code",
   "execution_count": 138,
   "id": "ff6659c1-8070-4f05-8578-0cb98dba6dd7",
   "metadata": {},
   "outputs": [],
   "source": [
    "sayi.remove(6)"
   ]
  },
  {
   "cell_type": "code",
   "execution_count": 139,
   "id": "1a179e36-dbf8-4b91-a961-37f3a933f842",
   "metadata": {},
   "outputs": [
    {
     "data": {
      "text/plain": [
       "{1, 2, 3, 4, 5, 8, 9, 32, 33, 45, 67, 90, 100}"
      ]
     },
     "execution_count": 139,
     "metadata": {},
     "output_type": "execute_result"
    }
   ],
   "source": [
    "sayi"
   ]
  },
  {
   "cell_type": "code",
   "execution_count": 140,
   "id": "78851361-df23-4c55-a1eb-c6b9402fda27",
   "metadata": {},
   "outputs": [],
   "source": [
    "yeni = {11,12,13,14,15,16,16,16,16,17,18,19,1901,313,145,132,167}\n",
    "sayi.update(yeni)"
   ]
  },
  {
   "cell_type": "code",
   "execution_count": 141,
   "id": "8b11ef48-6690-4456-ab2a-5019a53ee6d7",
   "metadata": {},
   "outputs": [
    {
     "data": {
      "text/plain": [
       "{1,\n",
       " 2,\n",
       " 3,\n",
       " 4,\n",
       " 5,\n",
       " 8,\n",
       " 9,\n",
       " 11,\n",
       " 12,\n",
       " 13,\n",
       " 14,\n",
       " 15,\n",
       " 16,\n",
       " 17,\n",
       " 18,\n",
       " 19,\n",
       " 32,\n",
       " 33,\n",
       " 45,\n",
       " 67,\n",
       " 90,\n",
       " 100,\n",
       " 132,\n",
       " 145,\n",
       " 167,\n",
       " 313,\n",
       " 1901}"
      ]
     },
     "execution_count": 141,
     "metadata": {},
     "output_type": "execute_result"
    }
   ],
   "source": [
    "sayi"
   ]
  },
  {
   "cell_type": "code",
   "execution_count": 142,
   "id": "4e459ec1-d017-4a94-97e2-04352137a527",
   "metadata": {},
   "outputs": [],
   "source": [
    "a = {1,2,3,4,5,6}\n",
    "b = {4,5,6,8,9}"
   ]
  },
  {
   "cell_type": "code",
   "execution_count": 143,
   "id": "bcc47c23-79fa-43ee-b7e2-956c6efeccf2",
   "metadata": {},
   "outputs": [
    {
     "data": {
      "text/plain": [
       "{1, 2, 3}"
      ]
     },
     "execution_count": 143,
     "metadata": {},
     "output_type": "execute_result"
    }
   ],
   "source": [
    "a.difference(b)"
   ]
  },
  {
   "cell_type": "code",
   "execution_count": 144,
   "id": "14176567-9ade-494c-bd7f-e8fc7e15a26b",
   "metadata": {},
   "outputs": [
    {
     "data": {
      "text/plain": [
       "{4, 5, 6}"
      ]
     },
     "execution_count": 144,
     "metadata": {},
     "output_type": "execute_result"
    }
   ],
   "source": [
    "a.intersection(b)"
   ]
  },
  {
   "cell_type": "code",
   "execution_count": 145,
   "id": "2fcc8fdc-6e9d-46c9-84bc-c27f3f4f2bad",
   "metadata": {},
   "outputs": [
    {
     "data": {
      "text/plain": [
       "{8, 9}"
      ]
     },
     "execution_count": 145,
     "metadata": {},
     "output_type": "execute_result"
    }
   ],
   "source": [
    "b.difference(a)"
   ]
  },
  {
   "cell_type": "code",
   "execution_count": 147,
   "id": "58fe5ff1-c6a3-4962-a176-d00f32b4ed71",
   "metadata": {},
   "outputs": [
    {
     "data": {
      "text/plain": [
       "{1, 2, 3, 4, 5, 6, 8, 9}"
      ]
     },
     "execution_count": 147,
     "metadata": {},
     "output_type": "execute_result"
    }
   ],
   "source": [
    "a.union(b)"
   ]
  },
  {
   "cell_type": "code",
   "execution_count": 148,
   "id": "a9d1fa0d-0a73-489d-b688-33cd274abffa",
   "metadata": {},
   "outputs": [
    {
     "data": {
      "text/plain": [
       "6"
      ]
     },
     "execution_count": 148,
     "metadata": {},
     "output_type": "execute_result"
    }
   ],
   "source": [
    "len(a)"
   ]
  },
  {
   "cell_type": "code",
   "execution_count": 3,
   "id": "68cab246-cb06-4d13-8207-7c84eb5a7196",
   "metadata": {},
   "outputs": [],
   "source": [
    "x = 9.9"
   ]
  },
  {
   "cell_type": "code",
   "execution_count": 9,
   "id": "1dbddc06-8a9e-4071-9545-0b35b578c114",
   "metadata": {},
   "outputs": [
    {
     "data": {
      "text/plain": [
       "float"
      ]
     },
     "execution_count": 9,
     "metadata": {},
     "output_type": "execute_result"
    }
   ],
   "source": [
    "type(x)"
   ]
  },
  {
   "cell_type": "code",
   "execution_count": 13,
   "id": "07010a96-fa0c-426a-a75f-ade18a243827",
   "metadata": {},
   "outputs": [],
   "source": [
    "y = str(x)"
   ]
  },
  {
   "cell_type": "code",
   "execution_count": 14,
   "id": "b25bc92e-2ede-4ff3-80f3-668f9728d02f",
   "metadata": {},
   "outputs": [
    {
     "data": {
      "text/plain": [
       "'9.95'"
      ]
     },
     "execution_count": 14,
     "metadata": {},
     "output_type": "execute_result"
    }
   ],
   "source": [
    "y + \"5\""
   ]
  },
  {
   "cell_type": "code",
   "execution_count": 15,
   "id": "8810e99e-207b-4cf9-af7b-738688e3dcad",
   "metadata": {},
   "outputs": [
    {
     "ename": "TypeError",
     "evalue": "can only concatenate str (not \"int\") to str",
     "output_type": "error",
     "traceback": [
      "\u001b[1;31m---------------------------------------------------------------------------\u001b[0m",
      "\u001b[1;31mTypeError\u001b[0m                                 Traceback (most recent call last)",
      "Cell \u001b[1;32mIn[15], line 1\u001b[0m\n\u001b[1;32m----> 1\u001b[0m \u001b[43my\u001b[49m\u001b[43m \u001b[49m\u001b[38;5;241;43m+\u001b[39;49m\u001b[43m \u001b[49m\u001b[38;5;241;43m5\u001b[39;49m\n",
      "\u001b[1;31mTypeError\u001b[0m: can only concatenate str (not \"int\") to str"
     ]
    }
   ],
   "source": [
    "y + 5"
   ]
  },
  {
   "cell_type": "code",
   "execution_count": 18,
   "id": "c24aef3b-d765-4225-82d4-c801e33e6ecf",
   "metadata": {},
   "outputs": [],
   "source": [
    "d = float(y)"
   ]
  },
  {
   "cell_type": "code",
   "execution_count": 19,
   "id": "2fe13561-d0ab-47a5-91d9-4ee43f3e61f0",
   "metadata": {},
   "outputs": [
    {
     "data": {
      "text/plain": [
       "9"
      ]
     },
     "execution_count": 19,
     "metadata": {},
     "output_type": "execute_result"
    }
   ],
   "source": [
    "int(d)"
   ]
  },
  {
   "cell_type": "code",
   "execution_count": 20,
   "id": "10b0d26d-2bfb-47f4-85c2-ed89c8283cea",
   "metadata": {},
   "outputs": [
    {
     "data": {
      "text/plain": [
       "float"
      ]
     },
     "execution_count": 20,
     "metadata": {},
     "output_type": "execute_result"
    }
   ],
   "source": [
    "type(d)"
   ]
  },
  {
   "cell_type": "code",
   "execution_count": 46,
   "id": "2a8df827-1a47-44db-a1ed-fdccdb756386",
   "metadata": {},
   "outputs": [],
   "source": [
    "a = [3,6,8,9,4,3]"
   ]
  },
  {
   "cell_type": "code",
   "execution_count": 24,
   "id": "6e0fd93e-61f7-40e8-8365-899fd6631baf",
   "metadata": {},
   "outputs": [
    {
     "data": {
      "text/plain": [
       "(3, 6, 8, 9, 4, 3)"
      ]
     },
     "execution_count": 24,
     "metadata": {},
     "output_type": "execute_result"
    }
   ],
   "source": [
    "tuple(list)"
   ]
  },
  {
   "cell_type": "code",
   "execution_count": 25,
   "id": "7bbc0318-2f3d-4c77-a94a-c66d3e58f892",
   "metadata": {},
   "outputs": [
    {
     "data": {
      "text/plain": [
       "{3, 4, 6, 8, 9}"
      ]
     },
     "execution_count": 25,
     "metadata": {},
     "output_type": "execute_result"
    }
   ],
   "source": [
    "set(list)"
   ]
  },
  {
   "cell_type": "code",
   "execution_count": 26,
   "id": "c67444e4-ace5-4ecf-a23d-6fdae7b3b40e",
   "metadata": {},
   "outputs": [
    {
     "data": {
      "text/plain": [
       "{'x': 7, 'y': 9}"
      ]
     },
     "execution_count": 26,
     "metadata": {},
     "output_type": "execute_result"
    }
   ],
   "source": [
    "dict(x = 7 , y =9)"
   ]
  },
  {
   "cell_type": "code",
   "execution_count": 47,
   "id": "d63f4bfc-6f53-45f7-88d4-0daf89cafa44",
   "metadata": {},
   "outputs": [],
   "source": [
    "t = (5,6,7,9,4,3)"
   ]
  },
  {
   "cell_type": "code",
   "execution_count": 49,
   "id": "b5aae411-c2a2-4dd8-add6-b227d3d6989c",
   "metadata": {},
   "outputs": [],
   "source": [
    "y = list(t)"
   ]
  },
  {
   "cell_type": "code",
   "execution_count": 50,
   "id": "60d43375-f7c5-494b-84ed-f02d53e8da69",
   "metadata": {},
   "outputs": [
    {
     "data": {
      "text/plain": [
       "[5, 6, 7, 9, 4, 3]"
      ]
     },
     "execution_count": 50,
     "metadata": {},
     "output_type": "execute_result"
    }
   ],
   "source": [
    "y"
   ]
  },
  {
   "cell_type": "code",
   "execution_count": 51,
   "id": "8a932d73-7df5-4616-b686-ceba6a37c8c5",
   "metadata": {},
   "outputs": [
    {
     "data": {
      "text/plain": [
       "list"
      ]
     },
     "execution_count": 51,
     "metadata": {},
     "output_type": "execute_result"
    }
   ],
   "source": [
    "type(y)"
   ]
  },
  {
   "cell_type": "markdown",
   "id": "14a291ff-68fa-4297-b9f1-e8d86c106847",
   "metadata": {},
   "source": [
    "# Mantik Operatorleri"
   ]
  },
  {
   "cell_type": "code",
   "execution_count": 56,
   "id": "b8776508-cff6-4ade-b274-2a6b5f61b0aa",
   "metadata": {},
   "outputs": [
    {
     "data": {
      "text/plain": [
       "True"
      ]
     },
     "execution_count": 56,
     "metadata": {},
     "output_type": "execute_result"
    }
   ],
   "source": [
    "5 < 10 and 3 < 8"
   ]
  },
  {
   "cell_type": "code",
   "execution_count": 57,
   "id": "e5ef0c11-34d9-4d3c-a1d2-0178d70ac839",
   "metadata": {},
   "outputs": [
    {
     "data": {
      "text/plain": [
       "False"
      ]
     },
     "execution_count": 57,
     "metadata": {},
     "output_type": "execute_result"
    }
   ],
   "source": [
    "5 > 10 and 3 < 9 "
   ]
  },
  {
   "cell_type": "code",
   "execution_count": 58,
   "id": "5c42d4b1-7c70-4a33-8364-a1bb6fcb869e",
   "metadata": {},
   "outputs": [
    {
     "data": {
      "text/plain": [
       "True"
      ]
     },
     "execution_count": 58,
     "metadata": {},
     "output_type": "execute_result"
    }
   ],
   "source": [
    "5 > 10 or 3 < 9 "
   ]
  },
  {
   "cell_type": "code",
   "execution_count": 60,
   "id": "f6d634ab-07dd-40b7-ba0f-2d5f003eef19",
   "metadata": {},
   "outputs": [
    {
     "data": {
      "text/plain": [
       "False"
      ]
     },
     "execution_count": 60,
     "metadata": {},
     "output_type": "execute_result"
    }
   ],
   "source": [
    "not 10 > 1"
   ]
  },
  {
   "cell_type": "code",
   "execution_count": 61,
   "id": "5b0554fe-de0c-4910-96e1-323aebdc3358",
   "metadata": {},
   "outputs": [
    {
     "data": {
      "text/plain": [
       "True"
      ]
     },
     "execution_count": 61,
     "metadata": {},
     "output_type": "execute_result"
    }
   ],
   "source": [
    "not 10 < 1"
   ]
  },
  {
   "cell_type": "markdown",
   "id": "7c6a6283-e57b-422d-8833-bbcdd86429e3",
   "metadata": {},
   "source": [
    "### aitlik operatoru (in)"
   ]
  },
  {
   "cell_type": "code",
   "execution_count": 62,
   "id": "a716dd83-2b38-4f41-9d86-b83f3a1abd81",
   "metadata": {},
   "outputs": [],
   "source": [
    "s = [1,2,3,4,5,6,7,8,9]"
   ]
  },
  {
   "cell_type": "code",
   "execution_count": 64,
   "id": "96ac45a0-b153-4dbd-804f-d35779822d28",
   "metadata": {},
   "outputs": [
    {
     "data": {
      "text/plain": [
       "True"
      ]
     },
     "execution_count": 64,
     "metadata": {},
     "output_type": "execute_result"
    }
   ],
   "source": [
    "6 in s"
   ]
  },
  {
   "cell_type": "code",
   "execution_count": 65,
   "id": "df9da81b-34db-448c-91ae-057db93ada2c",
   "metadata": {},
   "outputs": [
    {
     "data": {
      "text/plain": [
       "False"
      ]
     },
     "execution_count": 65,
     "metadata": {},
     "output_type": "execute_result"
    }
   ],
   "source": [
    "16 in s"
   ]
  },
  {
   "cell_type": "code",
   "execution_count": 66,
   "id": "b26033e6-af48-415e-a821-a7ddd6095e30",
   "metadata": {},
   "outputs": [
    {
     "data": {
      "text/plain": [
       "True"
      ]
     },
     "execution_count": 66,
     "metadata": {},
     "output_type": "execute_result"
    }
   ],
   "source": [
    "16 not in s"
   ]
  },
  {
   "cell_type": "code",
   "execution_count": 67,
   "id": "95f5e713-2aec-40fa-86ea-7ada3d4ffb92",
   "metadata": {},
   "outputs": [
    {
     "data": {
      "text/plain": [
       "False"
      ]
     },
     "execution_count": 67,
     "metadata": {},
     "output_type": "execute_result"
    }
   ],
   "source": [
    "6 not in s"
   ]
  },
  {
   "cell_type": "markdown",
   "id": "0481dfb3-cc27-4402-9901-a156ad0652ba",
   "metadata": {},
   "source": [
    "### atama operatorleri "
   ]
  },
  {
   "cell_type": "code",
   "execution_count": 92,
   "id": "57166cbe-13d7-4d27-a6bc-d4d9b1d0943c",
   "metadata": {},
   "outputs": [],
   "source": [
    "g = 5"
   ]
  },
  {
   "cell_type": "code",
   "execution_count": 93,
   "id": "d041d3b0-f693-4c01-a465-9f83e9e62b10",
   "metadata": {},
   "outputs": [],
   "source": [
    "g = g + 5"
   ]
  },
  {
   "cell_type": "code",
   "execution_count": 94,
   "id": "b68612d8-46ab-4def-a186-a677f14b625b",
   "metadata": {},
   "outputs": [
    {
     "data": {
      "text/plain": [
       "10"
      ]
     },
     "execution_count": 94,
     "metadata": {},
     "output_type": "execute_result"
    }
   ],
   "source": [
    "g"
   ]
  },
  {
   "cell_type": "code",
   "execution_count": 95,
   "id": "0209d644-05ea-4fa3-85d7-4dbc1efb90a4",
   "metadata": {},
   "outputs": [],
   "source": [
    "g += 5"
   ]
  },
  {
   "cell_type": "code",
   "execution_count": 96,
   "id": "424539c6-2cf9-47ba-ab3c-d3bfc739b115",
   "metadata": {},
   "outputs": [
    {
     "data": {
      "text/plain": [
       "15"
      ]
     },
     "execution_count": 96,
     "metadata": {},
     "output_type": "execute_result"
    }
   ],
   "source": [
    "g\n"
   ]
  },
  {
   "cell_type": "code",
   "execution_count": 97,
   "id": "6be507f3-e235-4cf2-8a9c-c93e76c1e961",
   "metadata": {},
   "outputs": [],
   "source": [
    "g -= 5"
   ]
  },
  {
   "cell_type": "code",
   "execution_count": 98,
   "id": "26d133e5-0b15-4074-8260-897fb86936e9",
   "metadata": {},
   "outputs": [
    {
     "data": {
      "text/plain": [
       "10"
      ]
     },
     "execution_count": 98,
     "metadata": {},
     "output_type": "execute_result"
    }
   ],
   "source": [
    "\n",
    "g"
   ]
  },
  {
   "cell_type": "code",
   "execution_count": 99,
   "id": "3720d83f-8ecf-4ea2-9e47-b180caf44de0",
   "metadata": {},
   "outputs": [],
   "source": [
    "g = g * 2 "
   ]
  },
  {
   "cell_type": "code",
   "execution_count": 100,
   "id": "2d08bb94-c8a2-4666-b2c2-092cfa87e257",
   "metadata": {},
   "outputs": [
    {
     "data": {
      "text/plain": [
       "20"
      ]
     },
     "execution_count": 100,
     "metadata": {},
     "output_type": "execute_result"
    }
   ],
   "source": [
    "g"
   ]
  },
  {
   "cell_type": "code",
   "execution_count": 101,
   "id": "3268a1ba-3c86-4b04-8f86-c12039b5965f",
   "metadata": {},
   "outputs": [],
   "source": [
    "g *= 10"
   ]
  },
  {
   "cell_type": "code",
   "execution_count": 102,
   "id": "5880745b-33a7-4d7d-a4c7-c27e5b81a77f",
   "metadata": {},
   "outputs": [
    {
     "data": {
      "text/plain": [
       "200"
      ]
     },
     "execution_count": 102,
     "metadata": {},
     "output_type": "execute_result"
    }
   ],
   "source": [
    "g"
   ]
  },
  {
   "cell_type": "code",
   "execution_count": 103,
   "id": "09a9ab5f-5648-4bd1-9946-6e0fb77c10aa",
   "metadata": {},
   "outputs": [],
   "source": [
    "g /= 2"
   ]
  },
  {
   "cell_type": "code",
   "execution_count": 104,
   "id": "e7ca3bc5-a729-4eb2-8df3-91309807b189",
   "metadata": {},
   "outputs": [
    {
     "data": {
      "text/plain": [
       "100.0"
      ]
     },
     "execution_count": 104,
     "metadata": {},
     "output_type": "execute_result"
    }
   ],
   "source": [
    "g\n"
   ]
  },
  {
   "cell_type": "code",
   "execution_count": 105,
   "id": "692dbff9-b275-4bfc-8ec4-8d9ae0a4ff54",
   "metadata": {},
   "outputs": [],
   "source": [
    "\n",
    "g //= 3"
   ]
  },
  {
   "cell_type": "code",
   "execution_count": 106,
   "id": "67cb70e2-8440-46da-a4db-f80f930a2f02",
   "metadata": {},
   "outputs": [
    {
     "data": {
      "text/plain": [
       "33.0"
      ]
     },
     "execution_count": 106,
     "metadata": {},
     "output_type": "execute_result"
    }
   ],
   "source": [
    "g"
   ]
  },
  {
   "cell_type": "code",
   "execution_count": 107,
   "id": "63b4bab4-fcd2-4101-a72c-709654365257",
   "metadata": {},
   "outputs": [],
   "source": [
    "g %= 14"
   ]
  },
  {
   "cell_type": "code",
   "execution_count": 108,
   "id": "5119d2f8-4492-41ab-b303-0ddb7db2f903",
   "metadata": {},
   "outputs": [
    {
     "data": {
      "text/plain": [
       "5.0"
      ]
     },
     "execution_count": 108,
     "metadata": {},
     "output_type": "execute_result"
    }
   ],
   "source": [
    "g"
   ]
  },
  {
   "cell_type": "markdown",
   "id": "ab2f8454-21e4-4e8f-bee6-f98713c27ef9",
   "metadata": {},
   "source": [
    "## If Operatoru "
   ]
  },
  {
   "cell_type": "code",
   "execution_count": 6,
   "id": "69d3ea4f-ae0d-4de5-8146-3ed5af11a348",
   "metadata": {},
   "outputs": [
    {
     "name": "stdout",
     "output_type": "stream",
     "text": [
      "bes buyuktur uc\n"
     ]
    }
   ],
   "source": [
    "if 5 > 3 :\n",
    "    print(\"bes buyuktur uc\")\n",
    "else :\n",
    "    print(\"yanlis\")"
   ]
  },
  {
   "cell_type": "code",
   "execution_count": 18,
   "id": "2a794b76-b5d3-4a11-81f2-85b7f469190d",
   "metadata": {},
   "outputs": [
    {
     "name": "stdin",
     "output_type": "stream",
     "text": [
      "enter your username : ozq\n",
      "enter your password : 12345\n"
     ]
    },
    {
     "name": "stdout",
     "output_type": "stream",
     "text": [
      " WELCOME!!!!\n"
     ]
    }
   ],
   "source": [
    "username = \"ozq\"\n",
    "password = \"12345\"\n",
    "\n",
    "ad_gir = input(\"enter your username :\" )\n",
    "sifre_gir = input(\"enter your password :\" )\n",
    "\n",
    "if username == ad_gir and password == sifre_gir :\n",
    "    print(\" WELCOME!!!!\")\n",
    "elif username != ad_gir :\n",
    "    print(\"username is wrong\")\n",
    "elif password != sifre_gir :\n",
    "    print(\"password is wrong\")    "
   ]
  },
  {
   "cell_type": "code",
   "execution_count": 10,
   "id": "0372fc9c-d16b-40dc-b1fa-250b806eb756",
   "metadata": {},
   "outputs": [
    {
     "name": "stdin",
     "output_type": "stream",
     "text": [
      "notunuzu girin :  -11\n"
     ]
    },
    {
     "name": "stdout",
     "output_type": "stream",
     "text": [
      "Lutfen Gecerli Bir Deger Giriniz\n"
     ]
    }
   ],
   "source": [
    "ders_notu = int(input(\"notunuzu girin : \"))\n",
    "\n",
    "if ders_notu >= 90 and ders_notu <= 100:\n",
    "    print(\"Ders Notunuz AA\")\n",
    "elif ders_notu >= 80 and ders_notu < 90:\n",
    "    print(\"Ders Notunuz BB\")\n",
    "elif ders_notu >= 70 and ders_notu < 80:\n",
    "    print(\"Ders Notunuz CC\")\n",
    "elif ders_notu >= 60 and ders_notu < 70:\n",
    "    print(\"Ders Notunuz DD\")\n",
    "elif ders_notu >= 50 and ders_notu < 60:\n",
    "    print(\"Ders Notunuz FF\")\n",
    "elif ders_notu >= 0 and ders_notu < 50:\n",
    "    print(\"Dersten Kaldiniz\")\n",
    "else:\n",
    "    print(\"Lutfen Gecerli Bir Deger Giriniz\")\n",
    "    "
   ]
  },
  {
   "cell_type": "code",
   "execution_count": 11,
   "id": "4140901a-7a02-4eda-978c-f1789836e9f6",
   "metadata": {},
   "outputs": [
    {
     "name": "stdout",
     "output_type": "stream",
     "text": [
      "5 buyuktur uc\n"
     ]
    }
   ],
   "source": [
    "if 5 >3 : print(\"5 buyuktur uc\")"
   ]
  },
  {
   "cell_type": "code",
   "execution_count": 13,
   "id": "a533e584-65b4-456c-9005-77303585304a",
   "metadata": {},
   "outputs": [
    {
     "name": "stdout",
     "output_type": "stream",
     "text": [
      "Yanlis\n"
     ]
    }
   ],
   "source": [
    "print(\"5 buyuktur uc\") if 5 > 30 else print(\"Yanlis\")"
   ]
  },
  {
   "cell_type": "code",
   "execution_count": 18,
   "id": "eaabce28-8987-48ed-8728-39c970b7ac8a",
   "metadata": {},
   "outputs": [
    {
     "name": "stdin",
     "output_type": "stream",
     "text": [
      "Bir sayi giriniz :  -0\n"
     ]
    },
    {
     "name": "stdout",
     "output_type": "stream",
     "text": [
      "sayi sifirdir\n"
     ]
    }
   ],
   "source": [
    "sayi = int(input(\"Bir sayi giriniz : \"))\n",
    "if sayi >= 0:\n",
    "    if sayi == 0:\n",
    "        print(\"sayi sifirdir\")\n",
    "    else:\n",
    "        print(\"Sayi pozitiftir\")\n",
    "else:\n",
    "    print(\"Sayi negatiftir\")"
   ]
  },
  {
   "cell_type": "code",
   "execution_count": 19,
   "id": "e6f51b4d-ef24-473b-a4e7-b21a4baf3178",
   "metadata": {},
   "outputs": [],
   "source": [
    "if 3 > 1:\n",
    "    pass"
   ]
  },
  {
   "cell_type": "markdown",
   "id": "f6e81bf3-65cf-4d08-8a53-7ae348d2cebb",
   "metadata": {},
   "source": [
    "# Donguler (Loops) For ve While"
   ]
  },
  {
   "cell_type": "code",
   "execution_count": 25,
   "id": "d9f88cfa-0eca-4010-8d4d-0983e193c8f0",
   "metadata": {},
   "outputs": [
    {
     "name": "stdout",
     "output_type": "stream",
     "text": [
      "Sayimiz =  0\n",
      "Sayimiz =  1\n",
      "Sayimiz =  2\n",
      "Sayimiz =  3\n",
      "Sayimiz =  4\n",
      "Sayimiz =  5\n",
      "Sayimiz =  6\n",
      "Sayimiz =  7\n",
      "Sayimiz =  8\n",
      "Sayimiz =  9\n",
      "Sayimiz =  10\n",
      "Sayimiz 10'dan buyuk\n"
     ]
    }
   ],
   "source": [
    "x = 0\n",
    "while x <= 10:\n",
    "    print(\"Sayimiz = \",x)\n",
    "    x+= 1\n",
    "else:\n",
    "    print(\"Sayimiz 10'dan buyuk\")\n",
    "\n"
   ]
  },
  {
   "cell_type": "code",
   "execution_count": 26,
   "id": "c1a43060-cca1-4a22-af55-6580b787591c",
   "metadata": {},
   "outputs": [
    {
     "name": "stdout",
     "output_type": "stream",
     "text": [
      "Sayimiz =  0\n",
      "Sayimiz =  1\n",
      "Sayimiz =  2\n",
      "Sayimiz =  3\n",
      "Sayimiz =  4\n",
      "Sayimiz =  5\n"
     ]
    }
   ],
   "source": [
    "x = 0\n",
    "while x <= 10:\n",
    "    print(\"Sayimiz = \",x)\n",
    "    if x == 5:\n",
    "        break\n",
    "    x+= 1\n",
    "else:\n",
    "    print(\"Sayimiz 10'dan buyuk\")\n",
    "\n"
   ]
  },
  {
   "cell_type": "code",
   "execution_count": 30,
   "id": "49ac0736-cfb6-493e-98f6-98b3ba8a0290",
   "metadata": {},
   "outputs": [
    {
     "name": "stdout",
     "output_type": "stream",
     "text": [
      "Sayimiz =  1\n",
      "Sayimiz =  2\n",
      "Sayimiz =  3\n",
      "Sayimiz =  4\n",
      "Sayimiz =  6\n",
      "Sayimiz =  7\n",
      "Sayimiz =  8\n",
      "Sayimiz =  9\n",
      "Sayimiz =  10\n",
      "Sayimiz =  11\n",
      "Sayimiz 10'dan buyuk\n"
     ]
    }
   ],
   "source": [
    "x = 0\n",
    "while x <= 10:\n",
    "    x+= 1\n",
    "    if x == 5:\n",
    "        continue\n",
    "    print(\"Sayimiz = \",x)\n",
    "else:\n",
    "    print(\"Sayimiz 10'dan buyuk\")\n",
    "\n"
   ]
  },
  {
   "cell_type": "code",
   "execution_count": 33,
   "id": "f539215f-544f-4d5b-9d6c-71151e2a4d13",
   "metadata": {},
   "outputs": [],
   "source": [
    "sayilar = [1,2,3,4,5,6,7,8,9,10,11,12,13,14,15,16]"
   ]
  },
  {
   "cell_type": "code",
   "execution_count": 34,
   "id": "496d5710-c0e1-4bb9-9ac0-5e3b25c43958",
   "metadata": {},
   "outputs": [
    {
     "data": {
      "text/plain": [
       "True"
      ]
     },
     "execution_count": 34,
     "metadata": {},
     "output_type": "execute_result"
    }
   ],
   "source": [
    "1 in sayilar"
   ]
  },
  {
   "cell_type": "code",
   "execution_count": 36,
   "id": "2276f1d2-5f58-4116-8c8e-ba67c05f6b28",
   "metadata": {},
   "outputs": [
    {
     "name": "stdout",
     "output_type": "stream",
     "text": [
      "Sayimiz =  1\n",
      "Sayimiz =  2\n",
      "Sayimiz =  3\n",
      "Sayimiz =  4\n",
      "Sayimiz =  5\n",
      "Sayimiz =  6\n",
      "Sayimiz =  7\n",
      "Sayimiz =  8\n",
      "Sayimiz =  9\n",
      "Sayimiz =  10\n",
      "Sayimiz =  11\n",
      "Sayimiz =  12\n",
      "Sayimiz =  13\n",
      "Sayimiz =  14\n",
      "Sayimiz =  15\n",
      "Sayimiz =  16\n",
      "Dongu bitti\n"
     ]
    }
   ],
   "source": [
    "for sayi in sayilar:\n",
    "    print(\"Sayimiz = \", sayi)\n",
    "else:\n",
    "    print(\"Dongu bitti\")"
   ]
  },
  {
   "cell_type": "code",
   "execution_count": 37,
   "id": "0f73d994-216b-4b86-a53e-989249592159",
   "metadata": {},
   "outputs": [
    {
     "name": "stdout",
     "output_type": "stream",
     "text": [
      "Sayimiz =  1\n"
     ]
    }
   ],
   "source": [
    "for sayi in sayilar:\n",
    "    print(\"Sayimiz = \", sayi)\n",
    "    break\n",
    "else:\n",
    "    print(\"Dongu bitti\")"
   ]
  },
  {
   "cell_type": "code",
   "execution_count": 38,
   "id": "d7072b41-efb0-4fff-8873-9ddb29932646",
   "metadata": {},
   "outputs": [
    {
     "name": "stdout",
     "output_type": "stream",
     "text": [
      "Sayimiz =  1\n",
      "Sayimiz =  2\n",
      "Sayimiz =  3\n",
      "Sayimiz =  4\n",
      "Sayimiz =  5\n",
      "Sayimiz =  6\n",
      "Sayimiz =  7\n",
      "Sayimiz =  8\n",
      "Sayimiz =  9\n",
      "Sayimiz =  10\n"
     ]
    }
   ],
   "source": [
    "for sayi in sayilar:\n",
    "    print(\"Sayimiz = \", sayi)\n",
    "    if sayi == 10:\n",
    "        break\n",
    "else:\n",
    "    print(\"Dongu bitti\")"
   ]
  },
  {
   "cell_type": "code",
   "execution_count": 42,
   "id": "8587f582-63ab-453b-99ff-3e976555247c",
   "metadata": {},
   "outputs": [
    {
     "name": "stdout",
     "output_type": "stream",
     "text": [
      "Sayimiz =  1\n",
      "Sayimiz =  2\n",
      "Sayimiz =  3\n",
      "Sayimiz =  4\n",
      "Sayimiz =  5\n",
      "Sayimiz =  6\n",
      "Sayimiz =  7\n",
      "Sayimiz =  8\n",
      "Sayimiz =  9\n",
      "Sayimiz =  11\n",
      "Sayimiz =  12\n",
      "Sayimiz =  13\n",
      "Sayimiz =  14\n",
      "Sayimiz =  15\n",
      "Sayimiz =  16\n",
      "Dongu bitti\n"
     ]
    }
   ],
   "source": [
    "for sayi in sayilar:\n",
    "    if sayi == 10:\n",
    "        continue\n",
    "    print(\"Sayimiz = \", sayi)\n",
    "else:\n",
    "    print(\"Dongu bitti\")"
   ]
  },
  {
   "cell_type": "code",
   "execution_count": 41,
   "id": "eea1e6c0-081a-44ce-90ce-042338da617b",
   "metadata": {},
   "outputs": [],
   "source": [
    "yeni = [1,2,3]"
   ]
  },
  {
   "cell_type": "code",
   "execution_count": 45,
   "id": "ed259eda-aad3-4f09-b600-5c6104293e84",
   "metadata": {},
   "outputs": [],
   "source": [
    "sayilar_yeni = [1,2,3,4]"
   ]
  },
  {
   "cell_type": "code",
   "execution_count": 46,
   "id": "19436bae-0875-4780-83a3-63ca6debde51",
   "metadata": {},
   "outputs": [
    {
     "name": "stdout",
     "output_type": "stream",
     "text": [
      "1\n",
      "2\n",
      "3\n",
      "1\n",
      "2\n",
      "3\n",
      "1\n",
      "2\n",
      "3\n",
      "1\n",
      "2\n",
      "3\n",
      "Dongu bitti\n"
     ]
    }
   ],
   "source": [
    "for sayi in sayilar_yeni:\n",
    "    for x in yeni:\n",
    "       print(x)\n",
    "else:\n",
    "    print(\"Dongu bitti\")"
   ]
  },
  {
   "cell_type": "code",
   "execution_count": 53,
   "id": "b1296e45-284c-4a81-bd14-61ccc0894673",
   "metadata": {},
   "outputs": [
    {
     "name": "stdout",
     "output_type": "stream",
     "text": [
      "1\n",
      "3\n",
      "5\n",
      "7\n",
      "9\n",
      "11\n",
      "13\n",
      "15\n",
      "17\n",
      "19\n"
     ]
    }
   ],
   "source": [
    "for i in range(1,20,2):\n",
    "     print(i)"
   ]
  },
  {
   "cell_type": "code",
   "execution_count": 49,
   "id": "0072da62-20a5-492a-9b5f-914d7a19820e",
   "metadata": {},
   "outputs": [
    {
     "data": {
      "text/plain": [
       "[0, 1, 2, 3, 4, 5, 6, 7, 8, 9, 10]"
      ]
     },
     "execution_count": 49,
     "metadata": {},
     "output_type": "execute_result"
    }
   ],
   "source": [
    "list(range(11))"
   ]
  },
  {
   "cell_type": "code",
   "execution_count": 50,
   "id": "95f327bd-2e86-474b-bbd4-468601c73ce5",
   "metadata": {},
   "outputs": [
    {
     "data": {
      "text/plain": [
       "[5, 7, 9, 11, 13, 15, 17, 19]"
      ]
     },
     "execution_count": 50,
     "metadata": {},
     "output_type": "execute_result"
    }
   ],
   "source": [
    "list(range(5,20,2))"
   ]
  },
  {
   "cell_type": "code",
   "execution_count": 54,
   "id": "a67225d8-871c-4a81-affc-fc73bb36684f",
   "metadata": {},
   "outputs": [],
   "source": [
    "renkler =[\"sari\",\"yesil\",\"kirmizi\",\"mavi\",\"beyaz\",\"siyah\"]"
   ]
  },
  {
   "cell_type": "code",
   "execution_count": 56,
   "id": "a72c095d-251f-4a60-a722-5b0b96b8c547",
   "metadata": {},
   "outputs": [
    {
     "name": "stdout",
     "output_type": "stream",
     "text": [
      "sari\n",
      "yesil\n",
      "kirmizi\n",
      "mavi\n",
      "beyaz\n",
      "siyah\n"
     ]
    }
   ],
   "source": [
    "for r in renkler:\n",
    "    print(r)"
   ]
  },
  {
   "cell_type": "code",
   "execution_count": 59,
   "id": "f8ce4854-e889-414d-9ddc-607ba7aad5aa",
   "metadata": {},
   "outputs": [],
   "source": [
    "gelirler = [2000,3000,4000,5000,6000,7000,8000]"
   ]
  },
  {
   "cell_type": "code",
   "execution_count": 60,
   "id": "2ce5581e-08ce-4f08-8945-215f51aa798d",
   "metadata": {},
   "outputs": [
    {
     "name": "stdout",
     "output_type": "stream",
     "text": [
      "4000\n",
      "6000\n",
      "8000\n",
      "10000\n",
      "12000\n",
      "14000\n",
      "16000\n"
     ]
    }
   ],
   "source": [
    "for gelir in gelirler:\n",
    "    print(gelir * 2)"
   ]
  },
  {
   "cell_type": "markdown",
   "id": "52cf293e-57ed-4562-ab4c-30243ea6e1ec",
   "metadata": {},
   "source": [
    "# Fonksiyonlar"
   ]
  },
  {
   "cell_type": "code",
   "execution_count": null,
   "id": "08848ce5-ab4a-49e1-8077-4871cdefcdc4",
   "metadata": {},
   "outputs": [],
   "source": []
  },
  {
   "cell_type": "code",
   "execution_count": null,
   "id": "99114e64-6a69-4692-b2fe-b96a63aa32e0",
   "metadata": {},
   "outputs": [],
   "source": []
  },
  {
   "cell_type": "code",
   "execution_count": null,
   "id": "9a978d68-6f0a-43bc-94d4-4870c23b3aa2",
   "metadata": {},
   "outputs": [],
   "source": []
  },
  {
   "cell_type": "code",
   "execution_count": null,
   "id": "5666a148-9ce1-41be-85bb-519439e5c31d",
   "metadata": {},
   "outputs": [],
   "source": []
  },
  {
   "cell_type": "code",
   "execution_count": null,
   "id": "69bcb431-a0df-4fb2-b489-dcb73811f812",
   "metadata": {},
   "outputs": [],
   "source": []
  },
  {
   "cell_type": "code",
   "execution_count": null,
   "id": "15439b0d-2fa4-44c2-8e7f-1a5633e2ce72",
   "metadata": {},
   "outputs": [],
   "source": []
  },
  {
   "cell_type": "code",
   "execution_count": null,
   "id": "b1961d4f-6d79-454a-9462-6d305fb2a022",
   "metadata": {},
   "outputs": [],
   "source": []
  },
  {
   "cell_type": "code",
   "execution_count": null,
   "id": "72b1f2ad-3567-4ce9-abfc-dd0b45395638",
   "metadata": {},
   "outputs": [],
   "source": []
  },
  {
   "cell_type": "code",
   "execution_count": null,
   "id": "dcfda3f3-c996-49ce-91a1-2738fb02e8eb",
   "metadata": {},
   "outputs": [],
   "source": []
  },
  {
   "cell_type": "code",
   "execution_count": null,
   "id": "9fb90f28-3287-4da1-a443-41f5ed8c56d3",
   "metadata": {},
   "outputs": [],
   "source": []
  },
  {
   "cell_type": "code",
   "execution_count": null,
   "id": "39ac672b-75b8-47c7-b460-a42de01e0d18",
   "metadata": {},
   "outputs": [],
   "source": []
  },
  {
   "cell_type": "code",
   "execution_count": null,
   "id": "3fc9ab7d-ff61-4935-9b94-9ac81f2f7822",
   "metadata": {},
   "outputs": [],
   "source": []
  },
  {
   "cell_type": "code",
   "execution_count": null,
   "id": "9146f54d-32a1-41be-a193-ec9a4a8505f8",
   "metadata": {},
   "outputs": [],
   "source": []
  },
  {
   "cell_type": "code",
   "execution_count": null,
   "id": "b545caf2-f7df-46d9-8501-1362fa1b0d7b",
   "metadata": {},
   "outputs": [],
   "source": []
  },
  {
   "cell_type": "code",
   "execution_count": null,
   "id": "f09b18b1-0a61-4b85-abba-f8305d96c970",
   "metadata": {},
   "outputs": [],
   "source": []
  },
  {
   "cell_type": "code",
   "execution_count": null,
   "id": "f3463906-3f0a-49a1-aef7-507adc580ef1",
   "metadata": {},
   "outputs": [],
   "source": []
  },
  {
   "cell_type": "code",
   "execution_count": null,
   "id": "6258f2c8-d0f7-479b-9b25-698e51563d66",
   "metadata": {},
   "outputs": [],
   "source": []
  },
  {
   "cell_type": "code",
   "execution_count": null,
   "id": "07ce032c-5fe8-4c0b-ae73-7fb6987d09b4",
   "metadata": {},
   "outputs": [],
   "source": []
  },
  {
   "cell_type": "code",
   "execution_count": null,
   "id": "031fa17e-5f05-4758-a254-56311204a017",
   "metadata": {},
   "outputs": [],
   "source": []
  },
  {
   "cell_type": "code",
   "execution_count": null,
   "id": "4efe756c-b464-4409-89fb-b2db53e4ed14",
   "metadata": {},
   "outputs": [],
   "source": []
  },
  {
   "cell_type": "code",
   "execution_count": null,
   "id": "ee869b12-8552-4073-8edb-8a1cc790f740",
   "metadata": {},
   "outputs": [],
   "source": []
  },
  {
   "cell_type": "code",
   "execution_count": null,
   "id": "15ec46f4-957e-4ce0-b641-8b24313eb55a",
   "metadata": {},
   "outputs": [],
   "source": []
  },
  {
   "cell_type": "code",
   "execution_count": null,
   "id": "605bc302-5c0f-4ed7-a104-ed767377380f",
   "metadata": {},
   "outputs": [],
   "source": []
  },
  {
   "cell_type": "code",
   "execution_count": null,
   "id": "8295f0f0-2945-4f98-8013-7bf8a0aa7871",
   "metadata": {},
   "outputs": [],
   "source": []
  },
  {
   "cell_type": "code",
   "execution_count": null,
   "id": "ab0ad4a2-ff94-41e3-bccc-d0ad446f32b1",
   "metadata": {},
   "outputs": [],
   "source": []
  }
 ],
 "metadata": {
  "kernelspec": {
   "display_name": "Python 3 (ipykernel)",
   "language": "python",
   "name": "python3"
  },
  "language_info": {
   "codemirror_mode": {
    "name": "ipython",
    "version": 3
   },
   "file_extension": ".py",
   "mimetype": "text/x-python",
   "name": "python",
   "nbconvert_exporter": "python",
   "pygments_lexer": "ipython3",
   "version": "3.12.4"
  }
 },
 "nbformat": 4,
 "nbformat_minor": 5
}
