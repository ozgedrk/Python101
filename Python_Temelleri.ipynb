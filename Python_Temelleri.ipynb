{
 "cells": [
  {
   "cell_type": "markdown",
   "id": "5cf7155b-ccbe-48d3-89e0-be8e33c45dd0",
   "metadata": {},
   "source": [
    "# PYTHON PROGRAMLAMA DİLİ TEMELLERİ"
   ]
  },
  {
   "cell_type": "markdown",
   "id": "564fcf5a-bdde-4052-978f-3529909a4144",
   "metadata": {},
   "source": [
    "Best way to learn a language is to use it."
   ]
  },
  {
   "cell_type": "code",
   "execution_count": 1,
   "id": "318dd342-482b-45be-9c18-da425732888c",
   "metadata": {},
   "outputs": [
    {
     "name": "stdout",
     "output_type": "stream",
     "text": [
      "Ozge Dirik\n"
     ]
    }
   ],
   "source": [
    "print(\"Ozge Dirik\")"
   ]
  },
  {
   "cell_type": "code",
   "execution_count": null,
   "id": "ad14ea46-01ce-444b-8c24-c0002903558c",
   "metadata": {},
   "outputs": [],
   "source": []
  },
  {
   "cell_type": "raw",
   "id": "d35c9ec2-38eb-4022-9ac4-660c53558947",
   "metadata": {},
   "source": []
  },
  {
   "cell_type": "raw",
   "id": "db072f26-b601-483f-8a99-427099c96b71",
   "metadata": {},
   "source": [
    "input (\"isminiz nedir ?\")\n",
    "input (\"isminiz nedir ?\")"
   ]
  },
  {
   "cell_type": "markdown",
   "id": "fb0df2ee-8115-4a1f-bb3c-546b98fb767b",
   "metadata": {},
   "source": [
    "### Degiskenler Ve Sabitler (Variables And Constants)"
   ]
  },
  {
   "cell_type": "code",
   "execution_count": 7,
   "id": "934abb39-9838-420e-86ac-014c7bf2e2d5",
   "metadata": {},
   "outputs": [
    {
     "name": "stdout",
     "output_type": "stream",
     "text": [
      "ozge\n",
      "Dirik\n"
     ]
    }
   ],
   "source": [
    "isim = \"ozge\"\n",
    "soyisim = \"Dirik\"\n",
    "\n",
    "print(isim)\n",
    "print(soyisim)"
   ]
  },
  {
   "cell_type": "code",
   "execution_count": 8,
   "id": "765a358f-d3f7-4a5f-847a-a6a1c6a0cac3",
   "metadata": {},
   "outputs": [],
   "source": [
    "PI = 3.14"
   ]
  },
  {
   "cell_type": "code",
   "execution_count": 14,
   "id": "244b342e-bad9-4dba-99af-0ae30bef24df",
   "metadata": {},
   "outputs": [],
   "source": [
    "isim = \"Ozgeee\""
   ]
  },
  {
   "cell_type": "code",
   "execution_count": 15,
   "id": "6f152f52-e3f9-464c-8232-dc3c1066f99b",
   "metadata": {},
   "outputs": [
    {
     "name": "stdout",
     "output_type": "stream",
     "text": [
      "Ozgeee\n"
     ]
    }
   ],
   "source": [
    "print(isim)"
   ]
  },
  {
   "cell_type": "code",
   "execution_count": 30,
   "id": "0963b633-c2af-4823-b6c9-5494817e63a1",
   "metadata": {},
   "outputs": [],
   "source": [
    "isim,soyisim = \"Ozge\",\"Dirikkk\""
   ]
  },
  {
   "cell_type": "code",
   "execution_count": 31,
   "id": "073f2cfd-3352-4387-8281-b58eeb64ea84",
   "metadata": {},
   "outputs": [
    {
     "name": "stdout",
     "output_type": "stream",
     "text": [
      "Ozge\n"
     ]
    }
   ],
   "source": [
    "print(isim)"
   ]
  },
  {
   "cell_type": "code",
   "execution_count": 32,
   "id": "ccdf775a-9c8a-497f-ac1a-e468d234e523",
   "metadata": {},
   "outputs": [],
   "source": [
    "isim,soyisim = soyisim, isim"
   ]
  },
  {
   "cell_type": "code",
   "execution_count": 33,
   "id": "a29b26e9-24d1-4ce3-9b29-c918b801f7a3",
   "metadata": {},
   "outputs": [
    {
     "name": "stdout",
     "output_type": "stream",
     "text": [
      "Dirikkk\n"
     ]
    }
   ],
   "source": [
    "print(isim)"
   ]
  },
  {
   "cell_type": "markdown",
   "id": "10d67786-e689-49bf-9e63-9bd3141451cb",
   "metadata": {},
   "source": [
    "#### Veri Tipleri (Data Types)"
   ]
  },
  {
   "cell_type": "code",
   "execution_count": 28,
   "id": "62b5dd58-29ee-4a69-bfef-5875941a63a7",
   "metadata": {},
   "outputs": [],
   "source": [
    "Yas = 29 "
   ]
  },
  {
   "cell_type": "code",
   "execution_count": 34,
   "id": "32da430f-69e6-4f82-9f09-1818c95dd5cb",
   "metadata": {},
   "outputs": [
    {
     "name": "stdout",
     "output_type": "stream",
     "text": [
      "29\n"
     ]
    }
   ],
   "source": [
    "print(yas)"
   ]
  },
  {
   "cell_type": "markdown",
   "id": "e5609d82-6c63-4ea0-a6c1-93f884e1eb42",
   "metadata": {},
   "source": [
    "# Karesini ve kupunu alma\n"
   ]
  },
  {
   "cell_type": "code",
   "execution_count": 37,
   "id": "0cda3121-4a55-4b29-9e85-ccdcfadf791c",
   "metadata": {},
   "outputs": [
    {
     "data": {
      "text/plain": [
       "16"
      ]
     },
     "execution_count": 37,
     "metadata": {},
     "output_type": "execute_result"
    }
   ],
   "source": [
    "4 ** 2"
   ]
  },
  {
   "cell_type": "code",
   "execution_count": 38,
   "id": "9a0c0473-47cd-46fd-9e6b-8c786174b1b0",
   "metadata": {},
   "outputs": [
    {
     "data": {
      "text/plain": [
       "64"
      ]
     },
     "execution_count": 38,
     "metadata": {},
     "output_type": "execute_result"
    }
   ],
   "source": [
    "4 ** 3"
   ]
  },
  {
   "cell_type": "markdown",
   "id": "049bee8b-4305-42f4-9db9-c364aa5b8f63",
   "metadata": {},
   "source": [
    "# Kalansiz bolme\n"
   ]
  },
  {
   "cell_type": "code",
   "execution_count": 39,
   "id": "f83a84b4-8463-4a75-8bb7-2ff45f45d59c",
   "metadata": {},
   "outputs": [
    {
     "data": {
      "text/plain": [
       "6"
      ]
     },
     "execution_count": 39,
     "metadata": {},
     "output_type": "execute_result"
    }
   ],
   "source": [
    "40 // 6"
   ]
  },
  {
   "cell_type": "code",
   "execution_count": 40,
   "id": "47b721da-9685-4de4-93af-a79335c136bf",
   "metadata": {},
   "outputs": [
    {
     "data": {
      "text/plain": [
       "6.666666666666667"
      ]
     },
     "execution_count": 40,
     "metadata": {},
     "output_type": "execute_result"
    }
   ],
   "source": [
    "40 / 6"
   ]
  },
  {
   "cell_type": "markdown",
   "id": "7ccecd1a-b979-42b8-b5df-8308cb3b0b9f",
   "metadata": {},
   "source": [
    "## Stringler\n"
   ]
  },
  {
   "cell_type": "code",
   "execution_count": 44,
   "id": "8dbb0343-9b87-40fd-bfc8-e3f35be035fd",
   "metadata": {},
   "outputs": [
    {
     "data": {
      "text/plain": [
       "'tek satir icin tek veya cift tirnak'"
      ]
     },
     "execution_count": 44,
     "metadata": {},
     "output_type": "execute_result"
    }
   ],
   "source": [
    "\"tek satir icin tek veya cift tirnak\"\n"
   ]
  },
  {
   "cell_type": "code",
   "execution_count": 45,
   "id": "3001c6f8-ce63-403c-a0be-f406e849a8be",
   "metadata": {},
   "outputs": [
    {
     "data": {
      "text/plain": [
       "'ornek'"
      ]
     },
     "execution_count": 45,
     "metadata": {},
     "output_type": "execute_result"
    }
   ],
   "source": [
    "'ornek'"
   ]
  },
  {
   "cell_type": "code",
   "execution_count": 49,
   "id": "38acf9ea-d182-4b0a-a04f-85eb40be1097",
   "metadata": {},
   "outputs": [
    {
     "data": {
      "text/plain": [
       "' PARAGRAF ICIN\\nkbhkfrjkrtfjtgr\\ngtr\\ngtr\\ngtr\\ngt\\ngt\\ntrgt\\nr\\nr\\nt\\ntgr\\ntrjldvgfljdv1!!!       '"
      ]
     },
     "execution_count": 49,
     "metadata": {},
     "output_type": "execute_result"
    }
   ],
   "source": [
    "\"\"\" PARAGRAF ICIN\n",
    "kbhkfrjkrtfjtgr\n",
    "gtr\n",
    "gtr\n",
    "gtr\n",
    "gt\n",
    "gt\n",
    "trgt\n",
    "r\n",
    "r\n",
    "t\n",
    "tgr\n",
    "trjldvgfljdv1!!!       \"\"\""
   ]
  },
  {
   "cell_type": "code",
   "execution_count": 51,
   "id": "42f3de5b-3b35-44bc-960a-7154af4f6fe0",
   "metadata": {},
   "outputs": [],
   "source": [
    "isim = \"Ozge Dirik\""
   ]
  },
  {
   "cell_type": "code",
   "execution_count": 55,
   "id": "1c04366e-f513-4f4c-89bc-52ed2068d485",
   "metadata": {},
   "outputs": [
    {
     "data": {
      "text/plain": [
       "'e'"
      ]
     },
     "execution_count": 55,
     "metadata": {},
     "output_type": "execute_result"
    }
   ],
   "source": [
    "isim[3]"
   ]
  },
  {
   "cell_type": "code",
   "execution_count": 56,
   "id": "294568de-da8d-45c2-882c-8f05b5a70ae0",
   "metadata": {},
   "outputs": [
    {
     "data": {
      "text/plain": [
       "'i'"
      ]
     },
     "execution_count": 56,
     "metadata": {},
     "output_type": "execute_result"
    }
   ],
   "source": [
    "isim[-2]"
   ]
  },
  {
   "cell_type": "code",
   "execution_count": 60,
   "id": "4ac73abf-0857-41bb-9493-80caab1cbbe0",
   "metadata": {},
   "outputs": [
    {
     "data": {
      "text/plain": [
       "'Ozg'"
      ]
     },
     "execution_count": 60,
     "metadata": {},
     "output_type": "execute_result"
    }
   ],
   "source": [
    "isim[0:3]"
   ]
  },
  {
   "cell_type": "code",
   "execution_count": 61,
   "id": "21c7b375-2025-427a-a770-c8f495853ad2",
   "metadata": {},
   "outputs": [
    {
     "data": {
      "text/plain": [
       "'Og'"
      ]
     },
     "execution_count": 61,
     "metadata": {},
     "output_type": "execute_result"
    }
   ],
   "source": [
    "isim[0:3:2]"
   ]
  },
  {
   "cell_type": "code",
   "execution_count": 64,
   "id": "c05c21c7-5bf5-487c-ab6b-189dbc7c1903",
   "metadata": {},
   "outputs": [
    {
     "data": {
      "text/plain": [
       "\"Turkiye'nin en buyuk sehri Ankara\""
      ]
     },
     "execution_count": 64,
     "metadata": {},
     "output_type": "execute_result"
    }
   ],
   "source": [
    "'Turkiye\\'nin en buyuk sehri Ankara'"
   ]
  },
  {
   "cell_type": "code",
   "execution_count": 65,
   "id": "0102a5b6-ed30-4124-8d41-3429c92232bd",
   "metadata": {},
   "outputs": [
    {
     "data": {
      "text/plain": [
       "\"Turkiye'nin en buyuk sehri Ankara\""
      ]
     },
     "execution_count": 65,
     "metadata": {},
     "output_type": "execute_result"
    }
   ],
   "source": [
    "\"Turkiye'nin en buyuk sehri Ankara\""
   ]
  },
  {
   "cell_type": "code",
   "execution_count": 1,
   "id": "b74e5deb-88fc-41b8-85ea-39ea38880643",
   "metadata": {},
   "outputs": [
    {
     "name": "stdout",
     "output_type": "stream",
     "text": [
      "Turkiye'\t nin en buyuk sehri Ankara\n"
     ]
    }
   ],
   "source": [
    "print(\"Turkiye'\\t nin en buyuk sehri Ankara\")"
   ]
  },
  {
   "cell_type": "code",
   "execution_count": 2,
   "id": "1dd15a34-8a25-4484-b723-568e167597d4",
   "metadata": {},
   "outputs": [
    {
     "name": "stdout",
     "output_type": "stream",
     "text": [
      "Turkiye'nin en buyuk \n",
      " sehri Ankara\n"
     ]
    }
   ],
   "source": [
    "print(\"Turkiye'nin en buyuk \\n sehri Ankara\")"
   ]
  },
  {
   "cell_type": "code",
   "execution_count": 5,
   "id": "64f2f539-c1eb-4a44-b0ec-15f9fa73fc5f",
   "metadata": {},
   "outputs": [
    {
     "data": {
      "text/plain": [
       "'ozge ozge ozge '"
      ]
     },
     "execution_count": 5,
     "metadata": {},
     "output_type": "execute_result"
    }
   ],
   "source": [
    "\"ozge \" * 3"
   ]
  },
  {
   "cell_type": "code",
   "execution_count": 8,
   "id": "13828790-8c40-413b-a952-262470c8975c",
   "metadata": {},
   "outputs": [
    {
     "data": {
      "text/plain": [
       "'ozge dirik'"
      ]
     },
     "execution_count": 8,
     "metadata": {},
     "output_type": "execute_result"
    }
   ],
   "source": [
    "\"ozge \" + \"dirik\""
   ]
  },
  {
   "cell_type": "markdown",
   "id": "1c9f02d9-e677-4f94-b90b-488384fd19de",
   "metadata": {},
   "source": [
    "# Metodlar\n"
   ]
  },
  {
   "cell_type": "code",
   "execution_count": 9,
   "id": "f21dd3f4-71d3-4dcd-8c19-c5ed346cbc5d",
   "metadata": {},
   "outputs": [
    {
     "data": {
      "text/plain": [
       "'OZGE DIRIK'"
      ]
     },
     "execution_count": 9,
     "metadata": {},
     "output_type": "execute_result"
    }
   ],
   "source": [
    "\"ozge dirik\".upper()"
   ]
  },
  {
   "cell_type": "code",
   "execution_count": 11,
   "id": "72450200-ae78-449c-9cf7-69fffd663186",
   "metadata": {},
   "outputs": [
    {
     "data": {
      "text/plain": [
       "'ozge dirik'"
      ]
     },
     "execution_count": 11,
     "metadata": {},
     "output_type": "execute_result"
    }
   ],
   "source": [
    "\"OZGE DIRIK\".lower()"
   ]
  },
  {
   "cell_type": "code",
   "execution_count": 12,
   "id": "65e8ea2e-abe4-49d1-b3b7-e3e55cbfa9bf",
   "metadata": {},
   "outputs": [
    {
     "data": {
      "text/plain": [
       "'Ozge dirik'"
      ]
     },
     "execution_count": 12,
     "metadata": {},
     "output_type": "execute_result"
    }
   ],
   "source": [
    "\"ozge dirik\".capitalize()"
   ]
  },
  {
   "cell_type": "code",
   "execution_count": 13,
   "id": "340aa97c-f6ed-40e5-b5b8-8f943907dde5",
   "metadata": {},
   "outputs": [],
   "source": [
    "name = 'ozge dirik'"
   ]
  },
  {
   "cell_type": "code",
   "execution_count": 15,
   "id": "f8f8d59e-48b8-4306-b5f1-32150156ad2f",
   "metadata": {},
   "outputs": [
    {
     "data": {
      "text/plain": [
       "1"
      ]
     },
     "execution_count": 15,
     "metadata": {},
     "output_type": "execute_result"
    }
   ],
   "source": [
    "name.count(\"e\")"
   ]
  },
  {
   "cell_type": "code",
   "execution_count": 19,
   "id": "76c973cb-5a93-44ef-8ce9-ffac744e5e65",
   "metadata": {},
   "outputs": [
    {
     "data": {
      "text/plain": [
       "5"
      ]
     },
     "execution_count": 19,
     "metadata": {},
     "output_type": "execute_result"
    }
   ],
   "source": [
    "name.find(\"di\")"
   ]
  },
  {
   "cell_type": "code",
   "execution_count": 18,
   "id": "3477f8d9-0758-4c6c-94bc-134eaccd6157",
   "metadata": {},
   "outputs": [
    {
     "data": {
      "text/plain": [
       "6"
      ]
     },
     "execution_count": 18,
     "metadata": {},
     "output_type": "execute_result"
    }
   ],
   "source": [
    "name.index(\"i\")"
   ]
  },
  {
   "cell_type": "code",
   "execution_count": 20,
   "id": "de0d6efb-26c9-4e81-a232-98c14e4f7fd5",
   "metadata": {},
   "outputs": [
    {
     "data": {
      "text/plain": [
       "0"
      ]
     },
     "execution_count": 20,
     "metadata": {},
     "output_type": "execute_result"
    }
   ],
   "source": [
    "name.index(\"o\")"
   ]
  },
  {
   "cell_type": "code",
   "execution_count": 22,
   "id": "65e9eb9c-cec6-4389-ab12-e0236baa9a9a",
   "metadata": {},
   "outputs": [],
   "source": [
    "new = \"          Ozge Dirik         \""
   ]
  },
  {
   "cell_type": "code",
   "execution_count": 23,
   "id": "f4609619-0f44-4dcd-96e1-f565d322d865",
   "metadata": {},
   "outputs": [
    {
     "data": {
      "text/plain": [
       "'Ozge Dirik         '"
      ]
     },
     "execution_count": 23,
     "metadata": {},
     "output_type": "execute_result"
    }
   ],
   "source": [
    "new.lstrip()"
   ]
  },
  {
   "cell_type": "code",
   "execution_count": 24,
   "id": "57b81036-5105-4882-b4e3-cc909b7b256c",
   "metadata": {},
   "outputs": [
    {
     "data": {
      "text/plain": [
       "'          Ozge Dirik'"
      ]
     },
     "execution_count": 24,
     "metadata": {},
     "output_type": "execute_result"
    }
   ],
   "source": [
    "new.rstrip()"
   ]
  },
  {
   "cell_type": "code",
   "execution_count": 25,
   "id": "2a9c84af-fd18-4db9-964c-dd5973822059",
   "metadata": {},
   "outputs": [
    {
     "data": {
      "text/plain": [
       "'Ozge Dirik'"
      ]
     },
     "execution_count": 25,
     "metadata": {},
     "output_type": "execute_result"
    }
   ],
   "source": [
    "new.strip()"
   ]
  },
  {
   "cell_type": "code",
   "execution_count": 26,
   "id": "ae1c53b1-4f79-4aaf-9f95-211648a856b9",
   "metadata": {},
   "outputs": [
    {
     "data": {
      "text/plain": [
       "'ozge kirik'"
      ]
     },
     "execution_count": 26,
     "metadata": {},
     "output_type": "execute_result"
    }
   ],
   "source": [
    "name.replace(\"dir\",\"kir\")"
   ]
  },
  {
   "cell_type": "code",
   "execution_count": 29,
   "id": "469c6dbf-e146-4e63-bb97-f8dbfcede9ca",
   "metadata": {},
   "outputs": [],
   "source": [
    "name = \"ozge\""
   ]
  },
  {
   "cell_type": "code",
   "execution_count": 30,
   "id": "063ef93d-531d-4c4e-9e4e-7369866fbaca",
   "metadata": {},
   "outputs": [],
   "source": [
    "surname =\"dirik\""
   ]
  },
  {
   "cell_type": "code",
   "execution_count": 32,
   "id": "b66b864a-1fd2-4b21-bbb4-806fda249d0c",
   "metadata": {},
   "outputs": [
    {
     "name": "stdout",
     "output_type": "stream",
     "text": [
      "Benim ismin ozge soyadim dirik \n"
     ]
    }
   ],
   "source": [
    "print(\"Benim ismin {} soyadim {} \".format(name,surname))"
   ]
  },
  {
   "cell_type": "markdown",
   "id": "9da0b95d-cda1-4c8f-ba8c-c9a40989e984",
   "metadata": {},
   "source": [
    "### Boolean Veri Tipi\n"
   ]
  },
  {
   "cell_type": "code",
   "execution_count": 33,
   "id": "77496b0d-fe0a-48b6-ae0d-164fc957fcb2",
   "metadata": {},
   "outputs": [
    {
     "data": {
      "text/plain": [
       "True"
      ]
     },
     "execution_count": 33,
     "metadata": {},
     "output_type": "execute_result"
    }
   ],
   "source": [
    "5 > 4"
   ]
  },
  {
   "cell_type": "code",
   "execution_count": 34,
   "id": "b379a3d2-ecf7-4b09-a3c9-6e46a01e42d3",
   "metadata": {},
   "outputs": [
    {
     "data": {
      "text/plain": [
       "False"
      ]
     },
     "execution_count": 34,
     "metadata": {},
     "output_type": "execute_result"
    }
   ],
   "source": [
    "4>5"
   ]
  },
  {
   "cell_type": "markdown",
   "id": "d8d6ac2c-04ce-44ed-83af-8e854b0d6d3f",
   "metadata": {},
   "source": [
    "##### Karsilastirma operatoru olan esittir == seklinde\n"
   ]
  },
  {
   "cell_type": "code",
   "execution_count": 1,
   "id": "d30af9dd-849c-46e6-ab10-7c2f5e08f3c1",
   "metadata": {},
   "outputs": [
    {
     "data": {
      "text/plain": [
       "True"
      ]
     },
     "execution_count": 1,
     "metadata": {},
     "output_type": "execute_result"
    }
   ],
   "source": [
    " 5 == 5"
   ]
  },
  {
   "cell_type": "code",
   "execution_count": 2,
   "id": "ada50971-a3d9-4fd5-9257-129cbddfd28d",
   "metadata": {},
   "outputs": [
    {
     "data": {
      "text/plain": [
       "False"
      ]
     },
     "execution_count": 2,
     "metadata": {},
     "output_type": "execute_result"
    }
   ],
   "source": [
    "6 != 6"
   ]
  },
  {
   "cell_type": "markdown",
   "id": "dc1a850f-237e-4a51-ab60-39aa2e6489aa",
   "metadata": {},
   "source": [
    "## Lists "
   ]
  },
  {
   "cell_type": "code",
   "execution_count": 15,
   "id": "ac9c3cd7-a228-4b9a-965e-7c26ca468ef1",
   "metadata": {},
   "outputs": [],
   "source": [
    " people = [\"Ozge\",\"Dirik\",23,\"Python\"]"
   ]
  },
  {
   "cell_type": "code",
   "execution_count": 16,
   "id": "dd3ce79b-c177-4aeb-8539-41ecbaa9eb96",
   "metadata": {},
   "outputs": [
    {
     "data": {
      "text/plain": [
       "['Ozge', 'Dirik', 23, 'Python']"
      ]
     },
     "execution_count": 16,
     "metadata": {},
     "output_type": "execute_result"
    }
   ],
   "source": [
    "people"
   ]
  },
  {
   "cell_type": "code",
   "execution_count": 17,
   "id": "27ca9319-1b6e-44cd-bdee-8bd4c2798c53",
   "metadata": {},
   "outputs": [
    {
     "data": {
      "text/plain": [
       "['Ozge', 'Dirik']"
      ]
     },
     "execution_count": 17,
     "metadata": {},
     "output_type": "execute_result"
    }
   ],
   "source": [
    "people[0:2]"
   ]
  },
  {
   "cell_type": "code",
   "execution_count": 13,
   "id": "2f6ad97c-e001-4056-874c-db86886af1ba",
   "metadata": {},
   "outputs": [],
   "source": [
    "people[0] = \"OZQ\""
   ]
  },
  {
   "cell_type": "code",
   "execution_count": 18,
   "id": "c78f95e9-ffa8-4f9b-b346-629a12d8d1e8",
   "metadata": {},
   "outputs": [],
   "source": [
    "peoples = [[\"Ozge\",\"Dirik\"],[\"Gulender\",\"Simsek\"],[\"Sude\",\"Arslan\"]]"
   ]
  },
  {
   "cell_type": "code",
   "execution_count": 20,
   "id": "65b4ef51-9185-4ba7-92e9-86435ae135f2",
   "metadata": {},
   "outputs": [
    {
     "data": {
      "text/plain": [
       "['Ozge', 'Dirik']"
      ]
     },
     "execution_count": 20,
     "metadata": {},
     "output_type": "execute_result"
    }
   ],
   "source": [
    "peoples[0]"
   ]
  },
  {
   "cell_type": "code",
   "execution_count": 22,
   "id": "cbb6d211-6929-4fa4-bb76-4010e908cc49",
   "metadata": {},
   "outputs": [
    {
     "data": {
      "text/plain": [
       "'Ozge'"
      ]
     },
     "execution_count": 22,
     "metadata": {},
     "output_type": "execute_result"
    }
   ],
   "source": [
    "peoples[0][0]"
   ]
  },
  {
   "cell_type": "code",
   "execution_count": 23,
   "id": "3044504e-bd40-4532-a353-ea5471d798c0",
   "metadata": {},
   "outputs": [
    {
     "data": {
      "text/plain": [
       "'Dirik'"
      ]
     },
     "execution_count": 23,
     "metadata": {},
     "output_type": "execute_result"
    }
   ],
   "source": [
    "peoples[0][1]"
   ]
  },
  {
   "cell_type": "code",
   "execution_count": 24,
   "id": "394d5ded-d107-44a8-b2dd-614cc205fc8f",
   "metadata": {},
   "outputs": [
    {
     "data": {
      "text/plain": [
       "'Gulender'"
      ]
     },
     "execution_count": 24,
     "metadata": {},
     "output_type": "execute_result"
    }
   ],
   "source": [
    "peoples[1][0]"
   ]
  },
  {
   "cell_type": "code",
   "execution_count": 25,
   "id": "9ef9e995-8410-42c4-b4f8-5fac38d6f2d1",
   "metadata": {},
   "outputs": [
    {
     "data": {
      "text/plain": [
       "'Simsek'"
      ]
     },
     "execution_count": 25,
     "metadata": {},
     "output_type": "execute_result"
    }
   ],
   "source": [
    "peoples[1][1]"
   ]
  },
  {
   "cell_type": "code",
   "execution_count": 26,
   "id": "cc00f042-2445-4dc6-8290-511bca2f919e",
   "metadata": {},
   "outputs": [
    {
     "data": {
      "text/plain": [
       "3"
      ]
     },
     "execution_count": 26,
     "metadata": {},
     "output_type": "execute_result"
    }
   ],
   "source": [
    "len(peoples)"
   ]
  },
  {
   "cell_type": "code",
   "execution_count": 27,
   "id": "b2a34e6f-2653-43a4-8e3c-a76737e89951",
   "metadata": {},
   "outputs": [
    {
     "data": {
      "text/plain": [
       "4"
      ]
     },
     "execution_count": 27,
     "metadata": {},
     "output_type": "execute_result"
    }
   ],
   "source": [
    "len(people)"
   ]
  },
  {
   "cell_type": "code",
   "execution_count": 29,
   "id": "8fe99f7c-a58b-4d4e-ab22-89fd7a6beecf",
   "metadata": {},
   "outputs": [],
   "source": [
    "numbers = [1,2,3,4,5,6,7,8,887,544,4,444,449]"
   ]
  },
  {
   "cell_type": "code",
   "execution_count": 30,
   "id": "ea5e511a-512f-4b78-8740-9dec0269cf15",
   "metadata": {},
   "outputs": [
    {
     "data": {
      "text/plain": [
       "13"
      ]
     },
     "execution_count": 30,
     "metadata": {},
     "output_type": "execute_result"
    }
   ],
   "source": [
    "len(numbers)"
   ]
  },
  {
   "cell_type": "code",
   "execution_count": 33,
   "id": "3d965f5a-eac0-4f0b-a886-87f72ae29d7d",
   "metadata": {},
   "outputs": [
    {
     "data": {
      "text/plain": [
       "887"
      ]
     },
     "execution_count": 33,
     "metadata": {},
     "output_type": "execute_result"
    }
   ],
   "source": [
    "numbers[-5]"
   ]
  },
  {
   "cell_type": "code",
   "execution_count": 34,
   "id": "7e300710-e715-4bf4-b814-fa276fe580d9",
   "metadata": {},
   "outputs": [
    {
     "data": {
      "text/plain": [
       "[8, 887, 544, 4]"
      ]
     },
     "execution_count": 34,
     "metadata": {},
     "output_type": "execute_result"
    }
   ],
   "source": [
    "numbers[-6:-2]"
   ]
  },
  {
   "cell_type": "code",
   "execution_count": 35,
   "id": "6743372a-8e68-482c-a0b6-af1df48d3bf8",
   "metadata": {},
   "outputs": [
    {
     "data": {
      "text/plain": [
       "[8, 544]"
      ]
     },
     "execution_count": 35,
     "metadata": {},
     "output_type": "execute_result"
    }
   ],
   "source": [
    "numbers[-6:-2:2]"
   ]
  },
  {
   "cell_type": "code",
   "execution_count": 36,
   "id": "64766e56-de04-43c5-a0d8-de997b784d46",
   "metadata": {},
   "outputs": [
    {
     "data": {
      "text/plain": [
       "[3, 4, 5, 6, 7, 8, 887, 544, 4, 444, 449]"
      ]
     },
     "execution_count": 36,
     "metadata": {},
     "output_type": "execute_result"
    }
   ],
   "source": [
    "numbers[2:]"
   ]
  },
  {
   "cell_type": "code",
   "execution_count": 37,
   "id": "312d747a-5bdd-434a-afc8-19591e9874b5",
   "metadata": {},
   "outputs": [],
   "source": [
    "isim = \"Ozge\""
   ]
  },
  {
   "cell_type": "code",
   "execution_count": 38,
   "id": "03d83f4e-5b5c-4570-b055-d2d519cfa0ef",
   "metadata": {},
   "outputs": [
    {
     "data": {
      "text/plain": [
       "4"
      ]
     },
     "execution_count": 38,
     "metadata": {},
     "output_type": "execute_result"
    }
   ],
   "source": [
    "len(isim)"
   ]
  },
  {
   "cell_type": "markdown",
   "id": "6e1b7b82-00f7-46fb-9179-f055643f5f51",
   "metadata": {},
   "source": [
    "## listeye ekleme metodu"
   ]
  },
  {
   "cell_type": "code",
   "execution_count": 39,
   "id": "ed2aedfd-8c15-4e9c-8624-c256d701a22b",
   "metadata": {},
   "outputs": [],
   "source": [
    "numbers.append(1000)"
   ]
  },
  {
   "cell_type": "code",
   "execution_count": 40,
   "id": "8172b980-9356-426e-8826-292378dea419",
   "metadata": {},
   "outputs": [
    {
     "data": {
      "text/plain": [
       "[1, 2, 3, 4, 5, 6, 7, 8, 887, 544, 4, 444, 449, 1000]"
      ]
     },
     "execution_count": 40,
     "metadata": {},
     "output_type": "execute_result"
    }
   ],
   "source": [
    "numbers"
   ]
  },
  {
   "cell_type": "markdown",
   "id": "20b6366c-0e4d-4d70-8f1e-897074b73035",
   "metadata": {},
   "source": [
    "## listeden silme metodu\n"
   ]
  },
  {
   "cell_type": "code",
   "execution_count": 41,
   "id": "76352c6e-9a01-4354-b9d1-fc57b47b523d",
   "metadata": {},
   "outputs": [],
   "source": [
    "numbers.remove(4)"
   ]
  },
  {
   "cell_type": "code",
   "execution_count": 42,
   "id": "2de5b691-ff70-4157-8f67-458d9834c382",
   "metadata": {},
   "outputs": [
    {
     "data": {
      "text/plain": [
       "[1, 2, 3, 5, 6, 7, 8, 887, 544, 4, 444, 449, 1000]"
      ]
     },
     "execution_count": 42,
     "metadata": {},
     "output_type": "execute_result"
    }
   ],
   "source": [
    "numbers"
   ]
  },
  {
   "cell_type": "markdown",
   "id": "b9d94d51-c4e8-48d9-ad9b-1c9229019932",
   "metadata": {},
   "source": [
    "## son sayiyi cikartan metod"
   ]
  },
  {
   "cell_type": "code",
   "execution_count": 43,
   "id": "c3b6b195-30fe-4233-a234-84b4d2a8024b",
   "metadata": {},
   "outputs": [
    {
     "data": {
      "text/plain": [
       "1000"
      ]
     },
     "execution_count": 43,
     "metadata": {},
     "output_type": "execute_result"
    }
   ],
   "source": [
    "numbers.pop()"
   ]
  },
  {
   "cell_type": "code",
   "execution_count": 44,
   "id": "50fb53db-fe66-4b4a-9180-298d557b0211",
   "metadata": {},
   "outputs": [
    {
     "data": {
      "text/plain": [
       "[1, 2, 3, 5, 6, 7, 8, 887, 544, 4, 444, 449]"
      ]
     },
     "execution_count": 44,
     "metadata": {},
     "output_type": "execute_result"
    }
   ],
   "source": [
    "numbers"
   ]
  },
  {
   "cell_type": "code",
   "execution_count": 45,
   "id": "7218e84f-23b2-4c06-a78e-ab8c5b5876a0",
   "metadata": {},
   "outputs": [
    {
     "data": {
      "text/plain": [
       "449"
      ]
     },
     "execution_count": 45,
     "metadata": {},
     "output_type": "execute_result"
    }
   ],
   "source": [
    "numbers.pop()"
   ]
  },
  {
   "cell_type": "code",
   "execution_count": 46,
   "id": "e889ccc3-3ad3-4c05-a1a8-15dbd723fcc8",
   "metadata": {},
   "outputs": [
    {
     "data": {
      "text/plain": [
       "[1, 2, 3, 5, 6, 7, 8, 887, 544, 4, 444]"
      ]
     },
     "execution_count": 46,
     "metadata": {},
     "output_type": "execute_result"
    }
   ],
   "source": [
    "numbers"
   ]
  },
  {
   "cell_type": "code",
   "execution_count": 47,
   "id": "698a1125-db37-44c2-afc2-a0a5ecb5a88f",
   "metadata": {},
   "outputs": [],
   "source": [
    "yeni = numbers.copy()"
   ]
  },
  {
   "cell_type": "code",
   "execution_count": 48,
   "id": "5459f0f1-0104-4556-b777-eb1cf4435451",
   "metadata": {},
   "outputs": [
    {
     "data": {
      "text/plain": [
       "[1, 2, 3, 5, 6, 7, 8, 887, 544, 4, 444]"
      ]
     },
     "execution_count": 48,
     "metadata": {},
     "output_type": "execute_result"
    }
   ],
   "source": [
    "yeni"
   ]
  },
  {
   "cell_type": "code",
   "execution_count": 50,
   "id": "a2440ec4-c832-498b-a50f-986292cde147",
   "metadata": {},
   "outputs": [],
   "source": [
    "a = [1,2,3,4]\n",
    "b = [5,6,7,8]"
   ]
  },
  {
   "cell_type": "code",
   "execution_count": 51,
   "id": "8bff1e6e-c488-47fb-990c-f1e35d7ff85b",
   "metadata": {},
   "outputs": [
    {
     "data": {
      "text/plain": [
       "[1, 2, 3, 4, 5, 6, 7, 8]"
      ]
     },
     "execution_count": 51,
     "metadata": {},
     "output_type": "execute_result"
    }
   ],
   "source": [
    "a + b"
   ]
  },
  {
   "cell_type": "code",
   "execution_count": 52,
   "id": "8a42583c-6d08-40ae-822b-9259dc305f5f",
   "metadata": {},
   "outputs": [
    {
     "data": {
      "text/plain": [
       "[5, 6, 7, 8, 1, 2, 3, 4]"
      ]
     },
     "execution_count": 52,
     "metadata": {},
     "output_type": "execute_result"
    }
   ],
   "source": [
    "b + a"
   ]
  },
  {
   "cell_type": "code",
   "execution_count": 54,
   "id": "0f60f5f3-c689-4751-846d-3217c0cb6ca2",
   "metadata": {},
   "outputs": [],
   "source": [
    "c = [1,2,3,4]\n",
    "d = [5,6,7,8,9,66,33,683,58]"
   ]
  },
  {
   "cell_type": "code",
   "execution_count": 55,
   "id": "16a7928b-17c8-4cdb-a776-4045a9f5f871",
   "metadata": {},
   "outputs": [],
   "source": [
    "c.extend(d)"
   ]
  },
  {
   "cell_type": "code",
   "execution_count": 56,
   "id": "9ff890a4-f62c-4d92-af59-da99f06b839f",
   "metadata": {},
   "outputs": [
    {
     "data": {
      "text/plain": [
       "[1, 2, 3, 4, 5, 6, 7, 8, 9, 66, 33, 683, 58]"
      ]
     },
     "execution_count": 56,
     "metadata": {},
     "output_type": "execute_result"
    }
   ],
   "source": [
    "c\n"
   ]
  },
  {
   "cell_type": "code",
   "execution_count": 57,
   "id": "0fbecede-ab81-42a1-9cb9-c341ab66ef82",
   "metadata": {},
   "outputs": [],
   "source": [
    "d = [5,6,7,8,9,66,33,683,58,5,5,5,5,5,5]"
   ]
  },
  {
   "cell_type": "code",
   "execution_count": 58,
   "id": "e3eb724d-25f3-4866-afa2-f75550028628",
   "metadata": {},
   "outputs": [
    {
     "data": {
      "text/plain": [
       "7"
      ]
     },
     "execution_count": 58,
     "metadata": {},
     "output_type": "execute_result"
    }
   ],
   "source": [
    "d.count(5)"
   ]
  },
  {
   "cell_type": "code",
   "execution_count": 60,
   "id": "5b9ee427-6e8c-4b6f-9733-16d5174903d2",
   "metadata": {},
   "outputs": [
    {
     "data": {
      "text/plain": [
       "1"
      ]
     },
     "execution_count": 60,
     "metadata": {},
     "output_type": "execute_result"
    }
   ],
   "source": [
    "d.index(6)"
   ]
  },
  {
   "cell_type": "code",
   "execution_count": 61,
   "id": "b9e0a240-b8f7-4e8f-a8e4-248d876ffb86",
   "metadata": {},
   "outputs": [],
   "source": [
    "d.insert(3,\"tek\")"
   ]
  },
  {
   "cell_type": "code",
   "execution_count": 62,
   "id": "502d4d7a-3356-4dca-9361-c17629d72584",
   "metadata": {},
   "outputs": [
    {
     "data": {
      "text/plain": [
       "[5, 6, 7, 'tek', 8, 9, 66, 33, 683, 58, 5, 5, 5, 5, 5, 5]"
      ]
     },
     "execution_count": 62,
     "metadata": {},
     "output_type": "execute_result"
    }
   ],
   "source": [
    "d"
   ]
  },
  {
   "cell_type": "code",
   "execution_count": 63,
   "id": "c374404e-515c-4267-9509-1da0a6014f1c",
   "metadata": {},
   "outputs": [
    {
     "data": {
      "text/plain": [
       "'tek'"
      ]
     },
     "execution_count": 63,
     "metadata": {},
     "output_type": "execute_result"
    }
   ],
   "source": [
    "d.pop(3)"
   ]
  },
  {
   "cell_type": "code",
   "execution_count": 64,
   "id": "8db8518d-06c1-482e-b51e-203d0bcf48bd",
   "metadata": {},
   "outputs": [
    {
     "data": {
      "text/plain": [
       "[5, 6, 7, 8, 9, 66, 33, 683, 58, 5, 5, 5, 5, 5, 5]"
      ]
     },
     "execution_count": 64,
     "metadata": {},
     "output_type": "execute_result"
    }
   ],
   "source": [
    "d"
   ]
  },
  {
   "cell_type": "code",
   "execution_count": 65,
   "id": "e7de0453-1728-4e5b-919b-796b724a1db8",
   "metadata": {},
   "outputs": [],
   "source": [
    "g = [3,5,2,8,23,55,1,54,26,33]"
   ]
  },
  {
   "cell_type": "code",
   "execution_count": 66,
   "id": "f10c4d4e-7e23-4c07-8888-4430bee3550a",
   "metadata": {},
   "outputs": [],
   "source": [
    "g.sort()"
   ]
  },
  {
   "cell_type": "code",
   "execution_count": 67,
   "id": "43431848-4919-4238-b53b-543fc23080ed",
   "metadata": {},
   "outputs": [
    {
     "data": {
      "text/plain": [
       "[1, 2, 3, 5, 8, 23, 26, 33, 54, 55]"
      ]
     },
     "execution_count": 67,
     "metadata": {},
     "output_type": "execute_result"
    }
   ],
   "source": [
    "g\n"
   ]
  },
  {
   "cell_type": "code",
   "execution_count": 68,
   "id": "b1541189-03e9-483c-b174-fe07ce7c0c8c",
   "metadata": {},
   "outputs": [],
   "source": [
    "g.sort(reverse = True)"
   ]
  },
  {
   "cell_type": "code",
   "execution_count": 69,
   "id": "8e2d24f2-c2d9-4b2a-aecd-cfda41efc818",
   "metadata": {},
   "outputs": [
    {
     "data": {
      "text/plain": [
       "[55, 54, 33, 26, 23, 8, 5, 3, 2, 1]"
      ]
     },
     "execution_count": 69,
     "metadata": {},
     "output_type": "execute_result"
    }
   ],
   "source": [
    "g"
   ]
  },
  {
   "cell_type": "code",
   "execution_count": 70,
   "id": "0f5b17f9-fbe0-48f7-88a8-c2b3237a472b",
   "metadata": {},
   "outputs": [],
   "source": [
    "isimler = [ \"Mehmet\" , \"Ali\" , \"Ozge\" , \"Cemil\" ]"
   ]
  },
  {
   "cell_type": "code",
   "execution_count": 71,
   "id": "a1fb6493-5931-4144-ad21-3c48beaaf186",
   "metadata": {},
   "outputs": [],
   "source": [
    "isimler.reverse()"
   ]
  },
  {
   "cell_type": "code",
   "execution_count": 72,
   "id": "b612ff79-a6e2-4248-8200-f083c73825a9",
   "metadata": {},
   "outputs": [
    {
     "data": {
      "text/plain": [
       "['Cemil', 'Ozge', 'Ali', 'Mehmet']"
      ]
     },
     "execution_count": 72,
     "metadata": {},
     "output_type": "execute_result"
    }
   ],
   "source": [
    "isimler"
   ]
  },
  {
   "cell_type": "code",
   "execution_count": 73,
   "id": "9e2843e4-004f-40ae-be4e-8540d82b0f6c",
   "metadata": {},
   "outputs": [],
   "source": [
    "isimler.sort(reverse = True)"
   ]
  },
  {
   "cell_type": "code",
   "execution_count": 74,
   "id": "7704ffa3-4ad8-4fc0-bbc8-8c39975e49e8",
   "metadata": {},
   "outputs": [
    {
     "data": {
      "text/plain": [
       "['Ozge', 'Mehmet', 'Cemil', 'Ali']"
      ]
     },
     "execution_count": 74,
     "metadata": {},
     "output_type": "execute_result"
    }
   ],
   "source": [
    "isimler"
   ]
  },
  {
   "cell_type": "code",
   "execution_count": 77,
   "id": "cbe07786-4076-45f1-a0f8-1bbb8d529bca",
   "metadata": {},
   "outputs": [],
   "source": [
    "isimler.sort()"
   ]
  },
  {
   "cell_type": "code",
   "execution_count": 78,
   "id": "1a1151c2-4183-4d0f-96b5-5e8e1e495da5",
   "metadata": {},
   "outputs": [
    {
     "data": {
      "text/plain": [
       "['Ali', 'Cemil', 'Mehmet', 'Ozge']"
      ]
     },
     "execution_count": 78,
     "metadata": {},
     "output_type": "execute_result"
    }
   ],
   "source": [
    "isimler"
   ]
  },
  {
   "cell_type": "code",
   "execution_count": 79,
   "id": "c9914df5-4870-4da9-9ba7-28be65a4560d",
   "metadata": {},
   "outputs": [],
   "source": [
    "isimler.clear()"
   ]
  },
  {
   "cell_type": "code",
   "execution_count": 80,
   "id": "8aa657c1-9a96-4bf7-8604-6e38ffe249a6",
   "metadata": {},
   "outputs": [
    {
     "data": {
      "text/plain": [
       "[]"
      ]
     },
     "execution_count": 80,
     "metadata": {},
     "output_type": "execute_result"
    }
   ],
   "source": [
    "isimler"
   ]
  },
  {
   "cell_type": "markdown",
   "id": "370b0726-2554-4d28-9438-ebad8334d73c",
   "metadata": {},
   "source": [
    "# Dictionaries -- Sozlukler\n",
    "(sirasizlardir indexe gore calismaz)"
   ]
  },
  {
   "cell_type": "code",
   "execution_count": 83,
   "id": "4b819d1c-83bd-4429-8a38-88292b852109",
   "metadata": {},
   "outputs": [],
   "source": [
    "kimlik = {\n",
    "          \"isim\":\"Ozge\",\n",
    "          \"soyisim\":\"Dirik\",\n",
    "          \"tc_no\":465723427729,\n",
    "          \"yer\": \"Ankara\"\n",
    "         }"
   ]
  },
  {
   "cell_type": "code",
   "execution_count": 84,
   "id": "d4276f72-01ab-459d-87c2-a59c8f55204b",
   "metadata": {},
   "outputs": [
    {
     "data": {
      "text/plain": [
       "'Ozge'"
      ]
     },
     "execution_count": 84,
     "metadata": {},
     "output_type": "execute_result"
    }
   ],
   "source": [
    "kimlik [\"isim\"]"
   ]
  },
  {
   "cell_type": "code",
   "execution_count": 86,
   "id": "f3513a48-e1e3-4242-930f-d1c40a555e9d",
   "metadata": {},
   "outputs": [
    {
     "data": {
      "text/plain": [
       "'Ankara'"
      ]
     },
     "execution_count": 86,
     "metadata": {},
     "output_type": "execute_result"
    }
   ],
   "source": [
    "kimlik [\"yer\"]"
   ]
  },
  {
   "cell_type": "code",
   "execution_count": 88,
   "id": "ed9f761f-cd2f-4971-9da3-7701d236c08d",
   "metadata": {},
   "outputs": [],
   "source": [
    "kimlik [\"soyisim\"] = \"Simsek\""
   ]
  },
  {
   "cell_type": "code",
   "execution_count": 89,
   "id": "034018e3-840b-4f56-83ee-7dbc139520b0",
   "metadata": {},
   "outputs": [
    {
     "data": {
      "text/plain": [
       "{'isim': 'Ozge', 'soyisim': 'Simsek', 'tc_no': 465723427729, 'yer': 'Ankara'}"
      ]
     },
     "execution_count": 89,
     "metadata": {},
     "output_type": "execute_result"
    }
   ],
   "source": [
    "kimlik"
   ]
  },
  {
   "cell_type": "code",
   "execution_count": 90,
   "id": "0301cd45-6615-4a4f-80fb-13b3b24317c3",
   "metadata": {},
   "outputs": [
    {
     "data": {
      "text/plain": [
       "4"
      ]
     },
     "execution_count": 90,
     "metadata": {},
     "output_type": "execute_result"
    }
   ],
   "source": [
    "len(kimlik)"
   ]
  },
  {
   "cell_type": "code",
   "execution_count": 91,
   "id": "a81772e1-87ea-482f-9c89-4f194c8d084c",
   "metadata": {},
   "outputs": [],
   "source": [
    "kimlik[\"yil\"] = 2000"
   ]
  },
  {
   "cell_type": "code",
   "execution_count": 92,
   "id": "dc761751-1f35-424a-9b4c-ad36311de616",
   "metadata": {},
   "outputs": [
    {
     "data": {
      "text/plain": [
       "{'isim': 'Ozge',\n",
       " 'soyisim': 'Simsek',\n",
       " 'tc_no': 465723427729,\n",
       " 'yer': 'Ankara',\n",
       " 'yil': 2000}"
      ]
     },
     "execution_count": 92,
     "metadata": {},
     "output_type": "execute_result"
    }
   ],
   "source": [
    "kimlik\n"
   ]
  },
  {
   "cell_type": "code",
   "execution_count": 97,
   "id": "f135f9a3-f273-476d-9b88-ab578a126781",
   "metadata": {},
   "outputs": [],
   "source": [
    "kimlik = {\n",
    "          \"isim\":\"Ozge\",\n",
    "          \"soyisim\":\"Dirik\",\n",
    "          \"tc_no\":465723427729,\n",
    "          \"yer\": [\"Ankara\",\"Istanul\"],\n",
    "          \"bilgiler\" : {\n",
    "              \"email\" : \"ozge.dirik@gmail.com\",\n",
    "              \"kardes_sayisi\" : 2,\n",
    "              \"dogum_tarihi\" : 2000,\n",
    "              \"ikamet\" : \"Ankara\"\n",
    "          }\n",
    "         }"
   ]
  },
  {
   "cell_type": "code",
   "execution_count": 98,
   "id": "6a184c37-e8ca-40dc-a17c-c7d442afe7f1",
   "metadata": {},
   "outputs": [
    {
     "data": {
      "text/plain": [
       "{'isim': 'Ozge',\n",
       " 'soyisim': 'Dirik',\n",
       " 'tc_no': 465723427729,\n",
       " 'yer': ['Ankara', 'Istanul'],\n",
       " 'bilgiler': {'email': 'ozge.dirik@gmail.com',\n",
       "  'kardes_sayisi': 2,\n",
       "  'dogum_tarihi': 2000,\n",
       "  'ikamet': 'Ankara'}}"
      ]
     },
     "execution_count": 98,
     "metadata": {},
     "output_type": "execute_result"
    }
   ],
   "source": [
    "kimlik"
   ]
  },
  {
   "cell_type": "code",
   "execution_count": 99,
   "id": "7b5c67f0-aa8c-4034-964e-d31f60257c8d",
   "metadata": {},
   "outputs": [
    {
     "data": {
      "text/plain": [
       "dict_keys(['isim', 'soyisim', 'tc_no', 'yer', 'bilgiler'])"
      ]
     },
     "execution_count": 99,
     "metadata": {},
     "output_type": "execute_result"
    }
   ],
   "source": [
    "kimlik.keys()"
   ]
  },
  {
   "cell_type": "code",
   "execution_count": 100,
   "id": "b067189b-eddd-44fd-b2c4-a079df907f17",
   "metadata": {},
   "outputs": [
    {
     "data": {
      "text/plain": [
       "dict_values(['Ozge', 'Dirik', 465723427729, ['Ankara', 'Istanul'], {'email': 'ozge.dirik@gmail.com', 'kardes_sayisi': 2, 'dogum_tarihi': 2000, 'ikamet': 'Ankara'}])"
      ]
     },
     "execution_count": 100,
     "metadata": {},
     "output_type": "execute_result"
    }
   ],
   "source": [
    "kimlik.values()"
   ]
  },
  {
   "cell_type": "code",
   "execution_count": 101,
   "id": "6707830e-7bcb-4fd4-b07c-576f75f389dc",
   "metadata": {},
   "outputs": [
    {
     "data": {
      "text/plain": [
       "dict_items([('isim', 'Ozge'), ('soyisim', 'Dirik'), ('tc_no', 465723427729), ('yer', ['Ankara', 'Istanul']), ('bilgiler', {'email': 'ozge.dirik@gmail.com', 'kardes_sayisi': 2, 'dogum_tarihi': 2000, 'ikamet': 'Ankara'})])"
      ]
     },
     "execution_count": 101,
     "metadata": {},
     "output_type": "execute_result"
    }
   ],
   "source": [
    "kimlik.items()"
   ]
  },
  {
   "cell_type": "code",
   "execution_count": 102,
   "id": "2c0e551e-dfae-411e-8f66-e8c21f21132f",
   "metadata": {},
   "outputs": [
    {
     "data": {
      "text/plain": [
       "['Ankara', 'Istanul']"
      ]
     },
     "execution_count": 102,
     "metadata": {},
     "output_type": "execute_result"
    }
   ],
   "source": [
    "kimlik.get(\"yer\")"
   ]
  },
  {
   "cell_type": "code",
   "execution_count": 103,
   "id": "280105b9-41fa-450f-9d85-adbdae04a46e",
   "metadata": {},
   "outputs": [],
   "source": [
    "kimlik.update({\"anne_adi\": \"Gulender\"})"
   ]
  },
  {
   "cell_type": "code",
   "execution_count": 104,
   "id": "09bfc24e-60f0-4409-96a6-e064de371f25",
   "metadata": {},
   "outputs": [
    {
     "data": {
      "text/plain": [
       "{'isim': 'Ozge',\n",
       " 'soyisim': 'Dirik',\n",
       " 'tc_no': 465723427729,\n",
       " 'yer': ['Ankara', 'Istanul'],\n",
       " 'bilgiler': {'email': 'ozge.dirik@gmail.com',\n",
       "  'kardes_sayisi': 2,\n",
       "  'dogum_tarihi': 2000,\n",
       "  'ikamet': 'Ankara'},\n",
       " 'anne_adi': 'Gulender'}"
      ]
     },
     "execution_count": 104,
     "metadata": {},
     "output_type": "execute_result"
    }
   ],
   "source": [
    "kimlik"
   ]
  },
  {
   "cell_type": "code",
   "execution_count": 108,
   "id": "95214a9f-4c6a-4b82-a43e-d181e30d90a9",
   "metadata": {},
   "outputs": [],
   "source": [
    "copy = kimlik.copy()"
   ]
  },
  {
   "cell_type": "code",
   "execution_count": 109,
   "id": "4c630a55-3116-4230-b959-5ed7eb702463",
   "metadata": {},
   "outputs": [
    {
     "data": {
      "text/plain": [
       "{'isim': 'Ozge',\n",
       " 'soyisim': 'Dirik',\n",
       " 'tc_no': 465723427729,\n",
       " 'yer': ['Ankara', 'Istanul'],\n",
       " 'bilgiler': {'email': 'ozge.dirik@gmail.com',\n",
       "  'kardes_sayisi': 2,\n",
       "  'dogum_tarihi': 2000,\n",
       "  'ikamet': 'Ankara'},\n",
       " 'anne_adi': 'Gulender'}"
      ]
     },
     "execution_count": 109,
     "metadata": {},
     "output_type": "execute_result"
    }
   ],
   "source": [
    "copy"
   ]
  },
  {
   "cell_type": "code",
   "execution_count": 111,
   "id": "315c8bfe-c146-4fe3-a06d-a921ec84b5fb",
   "metadata": {},
   "outputs": [
    {
     "data": {
      "text/plain": [
       "'Ozge'"
      ]
     },
     "execution_count": 111,
     "metadata": {},
     "output_type": "execute_result"
    }
   ],
   "source": [
    "copy.pop(\"isim\")"
   ]
  },
  {
   "cell_type": "code",
   "execution_count": 112,
   "id": "984a1283-e8af-4554-80af-f01a426e8448",
   "metadata": {},
   "outputs": [
    {
     "data": {
      "text/plain": [
       "{'soyisim': 'Dirik',\n",
       " 'tc_no': 465723427729,\n",
       " 'yer': ['Ankara', 'Istanul'],\n",
       " 'bilgiler': {'email': 'ozge.dirik@gmail.com',\n",
       "  'kardes_sayisi': 2,\n",
       "  'dogum_tarihi': 2000,\n",
       "  'ikamet': 'Ankara'},\n",
       " 'anne_adi': 'Gulender'}"
      ]
     },
     "execution_count": 112,
     "metadata": {},
     "output_type": "execute_result"
    }
   ],
   "source": [
    "copy"
   ]
  },
  {
   "cell_type": "code",
   "execution_count": 113,
   "id": "3df440b6-271c-44f6-9f01-8de5dae0939d",
   "metadata": {},
   "outputs": [],
   "source": [
    "copy.clear()"
   ]
  },
  {
   "cell_type": "code",
   "execution_count": 114,
   "id": "cbcd50c1-a3cf-48b0-b69b-7d4c8d6fd08d",
   "metadata": {},
   "outputs": [
    {
     "data": {
      "text/plain": [
       "{}"
      ]
     },
     "execution_count": 114,
     "metadata": {},
     "output_type": "execute_result"
    }
   ],
   "source": [
    "copy"
   ]
  },
  {
   "cell_type": "markdown",
   "id": "5e374c0b-3b77-4559-8f61-50429e2f7cc8",
   "metadata": {},
   "source": [
    "## Demetler (TUPLES)\n",
    "listelerden farki degistirilemiyo olmalari - - - -\n",
    "indexleri vardir"
   ]
  },
  {
   "cell_type": "code",
   "execution_count": 115,
   "id": "5d56bba2-f301-452f-b2b8-d8f2d6f25765",
   "metadata": {},
   "outputs": [],
   "source": [
    "zamirler = (\"ben\", \"sen\" , \"o\" , \"biz\" , \"siz\" , \"onlar\")"
   ]
  },
  {
   "cell_type": "code",
   "execution_count": 116,
   "id": "f8ced805-8ed3-46e7-a517-956bfe0d60fb",
   "metadata": {},
   "outputs": [
    {
     "ename": "AttributeError",
     "evalue": "'tuple' object has no attribute 'pop'",
     "output_type": "error",
     "traceback": [
      "\u001b[1;31m---------------------------------------------------------------------------\u001b[0m",
      "\u001b[1;31mAttributeError\u001b[0m                            Traceback (most recent call last)",
      "Cell \u001b[1;32mIn[116], line 1\u001b[0m\n\u001b[1;32m----> 1\u001b[0m \u001b[43mzamirler\u001b[49m\u001b[38;5;241;43m.\u001b[39;49m\u001b[43mpop\u001b[49m()\n",
      "\u001b[1;31mAttributeError\u001b[0m: 'tuple' object has no attribute 'pop'"
     ]
    }
   ],
   "source": [
    "zamirler.pop()"
   ]
  },
  {
   "cell_type": "code",
   "execution_count": 117,
   "id": "4df31360-1412-4a8d-a359-807b44f74d3d",
   "metadata": {},
   "outputs": [
    {
     "data": {
      "text/plain": [
       "'ben'"
      ]
     },
     "execution_count": 117,
     "metadata": {},
     "output_type": "execute_result"
    }
   ],
   "source": [
    "zamirler[0]"
   ]
  },
  {
   "cell_type": "code",
   "execution_count": 119,
   "id": "367de1af-bf94-4230-9b47-eb805f2e48af",
   "metadata": {},
   "outputs": [
    {
     "data": {
      "text/plain": [
       "('ben', 'sen', 'o')"
      ]
     },
     "execution_count": 119,
     "metadata": {},
     "output_type": "execute_result"
    }
   ],
   "source": [
    "zamirler[0:3]"
   ]
  },
  {
   "cell_type": "code",
   "execution_count": 122,
   "id": "f089ef66-05bf-42d4-8b46-87a4f4c6eb70",
   "metadata": {},
   "outputs": [
    {
     "data": {
      "text/plain": [
       "('biz', 'siz')"
      ]
     },
     "execution_count": 122,
     "metadata": {},
     "output_type": "execute_result"
    }
   ],
   "source": [
    "zamirler[-3:-1]"
   ]
  },
  {
   "cell_type": "code",
   "execution_count": 123,
   "id": "7223d6a8-be36-47a2-aa2e-b3d6ec761dda",
   "metadata": {},
   "outputs": [
    {
     "data": {
      "text/plain": [
       "6"
      ]
     },
     "execution_count": 123,
     "metadata": {},
     "output_type": "execute_result"
    }
   ],
   "source": [
    "len(zamirler)"
   ]
  },
  {
   "cell_type": "code",
   "execution_count": 124,
   "id": "6e5353e5-6a79-4386-9907-53905a3db405",
   "metadata": {},
   "outputs": [],
   "source": [
    "sayilars = (1,2,3,6,33,6,63,56,32)"
   ]
  },
  {
   "cell_type": "code",
   "execution_count": 125,
   "id": "8ce2e0dd-b809-4827-b32f-16abc19c3e75",
   "metadata": {},
   "outputs": [
    {
     "data": {
      "text/plain": [
       "('ben', 'sen', 'o', 'biz', 'siz', 'onlar', 1, 2, 3, 6, 33, 6, 63, 56, 32)"
      ]
     },
     "execution_count": 125,
     "metadata": {},
     "output_type": "execute_result"
    }
   ],
   "source": [
    "zamirler + sayilars"
   ]
  },
  {
   "cell_type": "code",
   "execution_count": 126,
   "id": "ed61acd0-62c6-4634-b319-c115b35452a2",
   "metadata": {},
   "outputs": [
    {
     "data": {
      "text/plain": [
       "0"
      ]
     },
     "execution_count": 126,
     "metadata": {},
     "output_type": "execute_result"
    }
   ],
   "source": [
    "sayilars.count(7)"
   ]
  },
  {
   "cell_type": "code",
   "execution_count": 128,
   "id": "91af6346-b2a2-4032-8990-540305b233ae",
   "metadata": {},
   "outputs": [
    {
     "data": {
      "text/plain": [
       "2"
      ]
     },
     "execution_count": 128,
     "metadata": {},
     "output_type": "execute_result"
    }
   ],
   "source": [
    "sayilars.index(3)"
   ]
  },
  {
   "cell_type": "markdown",
   "id": "084e7061-743a-4b5b-a7d5-d44c860b546f",
   "metadata": {},
   "source": [
    "# tek elemanli tuple olusturma"
   ]
  },
  {
   "cell_type": "code",
   "execution_count": 52,
   "id": "205fd2cd-e82a-471b-9bb8-f75193768cc7",
   "metadata": {},
   "outputs": [],
   "source": [
    "t = (4)"
   ]
  },
  {
   "cell_type": "code",
   "execution_count": 53,
   "id": "0236efd5-0b1f-445e-8474-27192a5a24d6",
   "metadata": {},
   "outputs": [
    {
     "data": {
      "text/plain": [
       "4"
      ]
     },
     "execution_count": 53,
     "metadata": {},
     "output_type": "execute_result"
    }
   ],
   "source": [
    "t"
   ]
  },
  {
   "cell_type": "code",
   "execution_count": 54,
   "id": "c8344b9f-b64b-42f2-a9c0-cf551344feeb",
   "metadata": {},
   "outputs": [],
   "source": [
    "f = (4,)"
   ]
  },
  {
   "cell_type": "code",
   "execution_count": 55,
   "id": "a3f4f004-4e2d-46ac-8b71-206830169ec5",
   "metadata": {},
   "outputs": [
    {
     "data": {
      "text/plain": [
       "(4,)"
      ]
     },
     "execution_count": 55,
     "metadata": {},
     "output_type": "execute_result"
    }
   ],
   "source": [
    "f"
   ]
  },
  {
   "cell_type": "markdown",
   "id": "9a52838b-fa7d-48f1-9d83-9882b002ccc4",
   "metadata": {},
   "source": [
    "# Sets (Kumeler)\n",
    "kullanimlari farkli bir listedir------suslu parantez kullanilir ---ayni elemanlari dahil etmez----indexlenemez"
   ]
  },
  {
   "cell_type": "code",
   "execution_count": 131,
   "id": "725035a7-be3e-4e8f-b470-efd4aafddfb7",
   "metadata": {},
   "outputs": [],
   "source": [
    "sayi = {1,2,3,4,5,6,6,6,6,7,8,9,90,33,45,32,67}"
   ]
  },
  {
   "cell_type": "code",
   "execution_count": 132,
   "id": "cd415078-554a-41c0-b25c-2d3e6a766a54",
   "metadata": {},
   "outputs": [
    {
     "data": {
      "text/plain": [
       "{1, 2, 3, 4, 5, 6, 7, 8, 9, 32, 33, 45, 67, 90}"
      ]
     },
     "execution_count": 132,
     "metadata": {},
     "output_type": "execute_result"
    }
   ],
   "source": [
    "sayi"
   ]
  },
  {
   "cell_type": "code",
   "execution_count": 133,
   "id": "b112e541-6ebe-4473-87ae-f581dc855b54",
   "metadata": {},
   "outputs": [
    {
     "ename": "TypeError",
     "evalue": "'set' object is not subscriptable",
     "output_type": "error",
     "traceback": [
      "\u001b[1;31m---------------------------------------------------------------------------\u001b[0m",
      "\u001b[1;31mTypeError\u001b[0m                                 Traceback (most recent call last)",
      "Cell \u001b[1;32mIn[133], line 1\u001b[0m\n\u001b[1;32m----> 1\u001b[0m \u001b[43msayi\u001b[49m\u001b[43m[\u001b[49m\u001b[38;5;241;43m1\u001b[39;49m\u001b[43m]\u001b[49m\n",
      "\u001b[1;31mTypeError\u001b[0m: 'set' object is not subscriptable"
     ]
    }
   ],
   "source": [
    "sayi[1]"
   ]
  },
  {
   "cell_type": "code",
   "execution_count": 134,
   "id": "30cb0388-8359-4848-9260-96c930d50887",
   "metadata": {},
   "outputs": [],
   "source": [
    "sayi.add(100)"
   ]
  },
  {
   "cell_type": "code",
   "execution_count": 135,
   "id": "f7755dd9-9750-4944-abef-bc5ddac7ecdc",
   "metadata": {},
   "outputs": [
    {
     "data": {
      "text/plain": [
       "{1, 2, 3, 4, 5, 6, 7, 8, 9, 32, 33, 45, 67, 90, 100}"
      ]
     },
     "execution_count": 135,
     "metadata": {},
     "output_type": "execute_result"
    }
   ],
   "source": [
    "sayi"
   ]
  },
  {
   "cell_type": "code",
   "execution_count": 136,
   "id": "8aca45d6-6d1f-4734-9540-8be9bdf73e86",
   "metadata": {},
   "outputs": [],
   "source": [
    "sayi.discard(7)"
   ]
  },
  {
   "cell_type": "code",
   "execution_count": 137,
   "id": "16b4345b-9c85-406a-a45b-d3816affe524",
   "metadata": {},
   "outputs": [
    {
     "data": {
      "text/plain": [
       "{1, 2, 3, 4, 5, 6, 8, 9, 32, 33, 45, 67, 90, 100}"
      ]
     },
     "execution_count": 137,
     "metadata": {},
     "output_type": "execute_result"
    }
   ],
   "source": [
    "sayi"
   ]
  },
  {
   "cell_type": "code",
   "execution_count": 138,
   "id": "ff6659c1-8070-4f05-8578-0cb98dba6dd7",
   "metadata": {},
   "outputs": [],
   "source": [
    "sayi.remove(6)"
   ]
  },
  {
   "cell_type": "code",
   "execution_count": 139,
   "id": "1a179e36-dbf8-4b91-a961-37f3a933f842",
   "metadata": {},
   "outputs": [
    {
     "data": {
      "text/plain": [
       "{1, 2, 3, 4, 5, 8, 9, 32, 33, 45, 67, 90, 100}"
      ]
     },
     "execution_count": 139,
     "metadata": {},
     "output_type": "execute_result"
    }
   ],
   "source": [
    "sayi"
   ]
  },
  {
   "cell_type": "code",
   "execution_count": 140,
   "id": "78851361-df23-4c55-a1eb-c6b9402fda27",
   "metadata": {},
   "outputs": [],
   "source": [
    "yeni = {11,12,13,14,15,16,16,16,16,17,18,19,1901,313,145,132,167}\n",
    "sayi.update(yeni)"
   ]
  },
  {
   "cell_type": "code",
   "execution_count": 141,
   "id": "8b11ef48-6690-4456-ab2a-5019a53ee6d7",
   "metadata": {},
   "outputs": [
    {
     "data": {
      "text/plain": [
       "{1,\n",
       " 2,\n",
       " 3,\n",
       " 4,\n",
       " 5,\n",
       " 8,\n",
       " 9,\n",
       " 11,\n",
       " 12,\n",
       " 13,\n",
       " 14,\n",
       " 15,\n",
       " 16,\n",
       " 17,\n",
       " 18,\n",
       " 19,\n",
       " 32,\n",
       " 33,\n",
       " 45,\n",
       " 67,\n",
       " 90,\n",
       " 100,\n",
       " 132,\n",
       " 145,\n",
       " 167,\n",
       " 313,\n",
       " 1901}"
      ]
     },
     "execution_count": 141,
     "metadata": {},
     "output_type": "execute_result"
    }
   ],
   "source": [
    "sayi"
   ]
  },
  {
   "cell_type": "code",
   "execution_count": 142,
   "id": "4e459ec1-d017-4a94-97e2-04352137a527",
   "metadata": {},
   "outputs": [],
   "source": [
    "a = {1,2,3,4,5,6}\n",
    "b = {4,5,6,8,9}"
   ]
  },
  {
   "cell_type": "code",
   "execution_count": 143,
   "id": "bcc47c23-79fa-43ee-b7e2-956c6efeccf2",
   "metadata": {},
   "outputs": [
    {
     "data": {
      "text/plain": [
       "{1, 2, 3}"
      ]
     },
     "execution_count": 143,
     "metadata": {},
     "output_type": "execute_result"
    }
   ],
   "source": [
    "a.difference(b)"
   ]
  },
  {
   "cell_type": "code",
   "execution_count": 144,
   "id": "14176567-9ade-494c-bd7f-e8fc7e15a26b",
   "metadata": {},
   "outputs": [
    {
     "data": {
      "text/plain": [
       "{4, 5, 6}"
      ]
     },
     "execution_count": 144,
     "metadata": {},
     "output_type": "execute_result"
    }
   ],
   "source": [
    "a.intersection(b)"
   ]
  },
  {
   "cell_type": "code",
   "execution_count": 145,
   "id": "2fcc8fdc-6e9d-46c9-84bc-c27f3f4f2bad",
   "metadata": {},
   "outputs": [
    {
     "data": {
      "text/plain": [
       "{8, 9}"
      ]
     },
     "execution_count": 145,
     "metadata": {},
     "output_type": "execute_result"
    }
   ],
   "source": [
    "b.difference(a)"
   ]
  },
  {
   "cell_type": "code",
   "execution_count": 147,
   "id": "58fe5ff1-c6a3-4962-a176-d00f32b4ed71",
   "metadata": {},
   "outputs": [
    {
     "data": {
      "text/plain": [
       "{1, 2, 3, 4, 5, 6, 8, 9}"
      ]
     },
     "execution_count": 147,
     "metadata": {},
     "output_type": "execute_result"
    }
   ],
   "source": [
    "a.union(b)"
   ]
  },
  {
   "cell_type": "code",
   "execution_count": 148,
   "id": "a9d1fa0d-0a73-489d-b688-33cd274abffa",
   "metadata": {},
   "outputs": [
    {
     "data": {
      "text/plain": [
       "6"
      ]
     },
     "execution_count": 148,
     "metadata": {},
     "output_type": "execute_result"
    }
   ],
   "source": [
    "len(a)"
   ]
  },
  {
   "cell_type": "code",
   "execution_count": 3,
   "id": "68cab246-cb06-4d13-8207-7c84eb5a7196",
   "metadata": {},
   "outputs": [],
   "source": [
    "x = 9.9"
   ]
  },
  {
   "cell_type": "code",
   "execution_count": 9,
   "id": "1dbddc06-8a9e-4071-9545-0b35b578c114",
   "metadata": {},
   "outputs": [
    {
     "data": {
      "text/plain": [
       "float"
      ]
     },
     "execution_count": 9,
     "metadata": {},
     "output_type": "execute_result"
    }
   ],
   "source": [
    "type(x)"
   ]
  },
  {
   "cell_type": "code",
   "execution_count": 13,
   "id": "07010a96-fa0c-426a-a75f-ade18a243827",
   "metadata": {},
   "outputs": [],
   "source": [
    "y = str(x)"
   ]
  },
  {
   "cell_type": "code",
   "execution_count": 14,
   "id": "b25bc92e-2ede-4ff3-80f3-668f9728d02f",
   "metadata": {},
   "outputs": [
    {
     "data": {
      "text/plain": [
       "'9.95'"
      ]
     },
     "execution_count": 14,
     "metadata": {},
     "output_type": "execute_result"
    }
   ],
   "source": [
    "y + \"5\""
   ]
  },
  {
   "cell_type": "code",
   "execution_count": 15,
   "id": "8810e99e-207b-4cf9-af7b-738688e3dcad",
   "metadata": {},
   "outputs": [
    {
     "ename": "TypeError",
     "evalue": "can only concatenate str (not \"int\") to str",
     "output_type": "error",
     "traceback": [
      "\u001b[1;31m---------------------------------------------------------------------------\u001b[0m",
      "\u001b[1;31mTypeError\u001b[0m                                 Traceback (most recent call last)",
      "Cell \u001b[1;32mIn[15], line 1\u001b[0m\n\u001b[1;32m----> 1\u001b[0m \u001b[43my\u001b[49m\u001b[43m \u001b[49m\u001b[38;5;241;43m+\u001b[39;49m\u001b[43m \u001b[49m\u001b[38;5;241;43m5\u001b[39;49m\n",
      "\u001b[1;31mTypeError\u001b[0m: can only concatenate str (not \"int\") to str"
     ]
    }
   ],
   "source": [
    "y + 5"
   ]
  },
  {
   "cell_type": "code",
   "execution_count": 18,
   "id": "c24aef3b-d765-4225-82d4-c801e33e6ecf",
   "metadata": {},
   "outputs": [],
   "source": [
    "d = float(y)"
   ]
  },
  {
   "cell_type": "code",
   "execution_count": 19,
   "id": "2fe13561-d0ab-47a5-91d9-4ee43f3e61f0",
   "metadata": {},
   "outputs": [
    {
     "data": {
      "text/plain": [
       "9"
      ]
     },
     "execution_count": 19,
     "metadata": {},
     "output_type": "execute_result"
    }
   ],
   "source": [
    "int(d)"
   ]
  },
  {
   "cell_type": "code",
   "execution_count": 20,
   "id": "10b0d26d-2bfb-47f4-85c2-ed89c8283cea",
   "metadata": {},
   "outputs": [
    {
     "data": {
      "text/plain": [
       "float"
      ]
     },
     "execution_count": 20,
     "metadata": {},
     "output_type": "execute_result"
    }
   ],
   "source": [
    "type(d)"
   ]
  },
  {
   "cell_type": "code",
   "execution_count": 46,
   "id": "2a8df827-1a47-44db-a1ed-fdccdb756386",
   "metadata": {},
   "outputs": [],
   "source": [
    "a = [3,6,8,9,4,3]"
   ]
  },
  {
   "cell_type": "code",
   "execution_count": 24,
   "id": "6e0fd93e-61f7-40e8-8365-899fd6631baf",
   "metadata": {},
   "outputs": [
    {
     "data": {
      "text/plain": [
       "(3, 6, 8, 9, 4, 3)"
      ]
     },
     "execution_count": 24,
     "metadata": {},
     "output_type": "execute_result"
    }
   ],
   "source": [
    "tuple(list)"
   ]
  },
  {
   "cell_type": "code",
   "execution_count": 25,
   "id": "7bbc0318-2f3d-4c77-a94a-c66d3e58f892",
   "metadata": {},
   "outputs": [
    {
     "data": {
      "text/plain": [
       "{3, 4, 6, 8, 9}"
      ]
     },
     "execution_count": 25,
     "metadata": {},
     "output_type": "execute_result"
    }
   ],
   "source": [
    "set(list)"
   ]
  },
  {
   "cell_type": "code",
   "execution_count": 26,
   "id": "c67444e4-ace5-4ecf-a23d-6fdae7b3b40e",
   "metadata": {},
   "outputs": [
    {
     "data": {
      "text/plain": [
       "{'x': 7, 'y': 9}"
      ]
     },
     "execution_count": 26,
     "metadata": {},
     "output_type": "execute_result"
    }
   ],
   "source": [
    "dict(x = 7 , y =9)"
   ]
  },
  {
   "cell_type": "code",
   "execution_count": 47,
   "id": "d63f4bfc-6f53-45f7-88d4-0daf89cafa44",
   "metadata": {},
   "outputs": [],
   "source": [
    "t = (5,6,7,9,4,3)"
   ]
  },
  {
   "cell_type": "code",
   "execution_count": 49,
   "id": "b5aae411-c2a2-4dd8-add6-b227d3d6989c",
   "metadata": {},
   "outputs": [],
   "source": [
    "y = list(t)"
   ]
  },
  {
   "cell_type": "code",
   "execution_count": 50,
   "id": "60d43375-f7c5-494b-84ed-f02d53e8da69",
   "metadata": {},
   "outputs": [
    {
     "data": {
      "text/plain": [
       "[5, 6, 7, 9, 4, 3]"
      ]
     },
     "execution_count": 50,
     "metadata": {},
     "output_type": "execute_result"
    }
   ],
   "source": [
    "y"
   ]
  },
  {
   "cell_type": "code",
   "execution_count": 51,
   "id": "8a932d73-7df5-4616-b686-ceba6a37c8c5",
   "metadata": {},
   "outputs": [
    {
     "data": {
      "text/plain": [
       "list"
      ]
     },
     "execution_count": 51,
     "metadata": {},
     "output_type": "execute_result"
    }
   ],
   "source": [
    "type(y)"
   ]
  },
  {
   "cell_type": "markdown",
   "id": "14a291ff-68fa-4297-b9f1-e8d86c106847",
   "metadata": {},
   "source": [
    "# Mantik Operatorleri"
   ]
  },
  {
   "cell_type": "code",
   "execution_count": 56,
   "id": "b8776508-cff6-4ade-b274-2a6b5f61b0aa",
   "metadata": {},
   "outputs": [
    {
     "data": {
      "text/plain": [
       "True"
      ]
     },
     "execution_count": 56,
     "metadata": {},
     "output_type": "execute_result"
    }
   ],
   "source": [
    "5 < 10 and 3 < 8"
   ]
  },
  {
   "cell_type": "code",
   "execution_count": 57,
   "id": "e5ef0c11-34d9-4d3c-a1d2-0178d70ac839",
   "metadata": {},
   "outputs": [
    {
     "data": {
      "text/plain": [
       "False"
      ]
     },
     "execution_count": 57,
     "metadata": {},
     "output_type": "execute_result"
    }
   ],
   "source": [
    "5 > 10 and 3 < 9 "
   ]
  },
  {
   "cell_type": "code",
   "execution_count": 58,
   "id": "5c42d4b1-7c70-4a33-8364-a1bb6fcb869e",
   "metadata": {},
   "outputs": [
    {
     "data": {
      "text/plain": [
       "True"
      ]
     },
     "execution_count": 58,
     "metadata": {},
     "output_type": "execute_result"
    }
   ],
   "source": [
    "5 > 10 or 3 < 9 "
   ]
  },
  {
   "cell_type": "code",
   "execution_count": 60,
   "id": "f6d634ab-07dd-40b7-ba0f-2d5f003eef19",
   "metadata": {},
   "outputs": [
    {
     "data": {
      "text/plain": [
       "False"
      ]
     },
     "execution_count": 60,
     "metadata": {},
     "output_type": "execute_result"
    }
   ],
   "source": [
    "not 10 > 1"
   ]
  },
  {
   "cell_type": "code",
   "execution_count": 61,
   "id": "5b0554fe-de0c-4910-96e1-323aebdc3358",
   "metadata": {},
   "outputs": [
    {
     "data": {
      "text/plain": [
       "True"
      ]
     },
     "execution_count": 61,
     "metadata": {},
     "output_type": "execute_result"
    }
   ],
   "source": [
    "not 10 < 1"
   ]
  },
  {
   "cell_type": "markdown",
   "id": "7c6a6283-e57b-422d-8833-bbcdd86429e3",
   "metadata": {},
   "source": [
    "### aitlik operatoru (in)"
   ]
  },
  {
   "cell_type": "code",
   "execution_count": 62,
   "id": "a716dd83-2b38-4f41-9d86-b83f3a1abd81",
   "metadata": {},
   "outputs": [],
   "source": [
    "s = [1,2,3,4,5,6,7,8,9]"
   ]
  },
  {
   "cell_type": "code",
   "execution_count": 64,
   "id": "96ac45a0-b153-4dbd-804f-d35779822d28",
   "metadata": {},
   "outputs": [
    {
     "data": {
      "text/plain": [
       "True"
      ]
     },
     "execution_count": 64,
     "metadata": {},
     "output_type": "execute_result"
    }
   ],
   "source": [
    "6 in s"
   ]
  },
  {
   "cell_type": "code",
   "execution_count": 65,
   "id": "df9da81b-34db-448c-91ae-057db93ada2c",
   "metadata": {},
   "outputs": [
    {
     "data": {
      "text/plain": [
       "False"
      ]
     },
     "execution_count": 65,
     "metadata": {},
     "output_type": "execute_result"
    }
   ],
   "source": [
    "16 in s"
   ]
  },
  {
   "cell_type": "code",
   "execution_count": 66,
   "id": "b26033e6-af48-415e-a821-a7ddd6095e30",
   "metadata": {},
   "outputs": [
    {
     "data": {
      "text/plain": [
       "True"
      ]
     },
     "execution_count": 66,
     "metadata": {},
     "output_type": "execute_result"
    }
   ],
   "source": [
    "16 not in s"
   ]
  },
  {
   "cell_type": "code",
   "execution_count": 67,
   "id": "95f5e713-2aec-40fa-86ea-7ada3d4ffb92",
   "metadata": {},
   "outputs": [
    {
     "data": {
      "text/plain": [
       "False"
      ]
     },
     "execution_count": 67,
     "metadata": {},
     "output_type": "execute_result"
    }
   ],
   "source": [
    "6 not in s"
   ]
  },
  {
   "cell_type": "markdown",
   "id": "0481dfb3-cc27-4402-9901-a156ad0652ba",
   "metadata": {},
   "source": [
    "### atama operatorleri "
   ]
  },
  {
   "cell_type": "code",
   "execution_count": 92,
   "id": "57166cbe-13d7-4d27-a6bc-d4d9b1d0943c",
   "metadata": {},
   "outputs": [],
   "source": [
    "g = 5"
   ]
  },
  {
   "cell_type": "code",
   "execution_count": 93,
   "id": "d041d3b0-f693-4c01-a465-9f83e9e62b10",
   "metadata": {},
   "outputs": [],
   "source": [
    "g = g + 5"
   ]
  },
  {
   "cell_type": "code",
   "execution_count": 94,
   "id": "b68612d8-46ab-4def-a186-a677f14b625b",
   "metadata": {},
   "outputs": [
    {
     "data": {
      "text/plain": [
       "10"
      ]
     },
     "execution_count": 94,
     "metadata": {},
     "output_type": "execute_result"
    }
   ],
   "source": [
    "g"
   ]
  },
  {
   "cell_type": "code",
   "execution_count": 95,
   "id": "0209d644-05ea-4fa3-85d7-4dbc1efb90a4",
   "metadata": {},
   "outputs": [],
   "source": [
    "g += 5"
   ]
  },
  {
   "cell_type": "code",
   "execution_count": 96,
   "id": "424539c6-2cf9-47ba-ab3c-d3bfc739b115",
   "metadata": {},
   "outputs": [
    {
     "data": {
      "text/plain": [
       "15"
      ]
     },
     "execution_count": 96,
     "metadata": {},
     "output_type": "execute_result"
    }
   ],
   "source": [
    "g\n"
   ]
  },
  {
   "cell_type": "code",
   "execution_count": 97,
   "id": "6be507f3-e235-4cf2-8a9c-c93e76c1e961",
   "metadata": {},
   "outputs": [],
   "source": [
    "g -= 5"
   ]
  },
  {
   "cell_type": "code",
   "execution_count": 98,
   "id": "26d133e5-0b15-4074-8260-897fb86936e9",
   "metadata": {},
   "outputs": [
    {
     "data": {
      "text/plain": [
       "10"
      ]
     },
     "execution_count": 98,
     "metadata": {},
     "output_type": "execute_result"
    }
   ],
   "source": [
    "\n",
    "g"
   ]
  },
  {
   "cell_type": "code",
   "execution_count": 99,
   "id": "3720d83f-8ecf-4ea2-9e47-b180caf44de0",
   "metadata": {},
   "outputs": [],
   "source": [
    "g = g * 2 "
   ]
  },
  {
   "cell_type": "code",
   "execution_count": 100,
   "id": "2d08bb94-c8a2-4666-b2c2-092cfa87e257",
   "metadata": {},
   "outputs": [
    {
     "data": {
      "text/plain": [
       "20"
      ]
     },
     "execution_count": 100,
     "metadata": {},
     "output_type": "execute_result"
    }
   ],
   "source": [
    "g"
   ]
  },
  {
   "cell_type": "code",
   "execution_count": 101,
   "id": "3268a1ba-3c86-4b04-8f86-c12039b5965f",
   "metadata": {},
   "outputs": [],
   "source": [
    "g *= 10"
   ]
  },
  {
   "cell_type": "code",
   "execution_count": 102,
   "id": "5880745b-33a7-4d7d-a4c7-c27e5b81a77f",
   "metadata": {},
   "outputs": [
    {
     "data": {
      "text/plain": [
       "200"
      ]
     },
     "execution_count": 102,
     "metadata": {},
     "output_type": "execute_result"
    }
   ],
   "source": [
    "g"
   ]
  },
  {
   "cell_type": "code",
   "execution_count": 103,
   "id": "09a9ab5f-5648-4bd1-9946-6e0fb77c10aa",
   "metadata": {},
   "outputs": [],
   "source": [
    "g /= 2"
   ]
  },
  {
   "cell_type": "code",
   "execution_count": 104,
   "id": "e7ca3bc5-a729-4eb2-8df3-91309807b189",
   "metadata": {},
   "outputs": [
    {
     "data": {
      "text/plain": [
       "100.0"
      ]
     },
     "execution_count": 104,
     "metadata": {},
     "output_type": "execute_result"
    }
   ],
   "source": [
    "g\n"
   ]
  },
  {
   "cell_type": "code",
   "execution_count": 105,
   "id": "692dbff9-b275-4bfc-8ec4-8d9ae0a4ff54",
   "metadata": {},
   "outputs": [],
   "source": [
    "\n",
    "g //= 3"
   ]
  },
  {
   "cell_type": "code",
   "execution_count": 106,
   "id": "67cb70e2-8440-46da-a4db-f80f930a2f02",
   "metadata": {},
   "outputs": [
    {
     "data": {
      "text/plain": [
       "33.0"
      ]
     },
     "execution_count": 106,
     "metadata": {},
     "output_type": "execute_result"
    }
   ],
   "source": [
    "g"
   ]
  },
  {
   "cell_type": "code",
   "execution_count": 107,
   "id": "63b4bab4-fcd2-4101-a72c-709654365257",
   "metadata": {},
   "outputs": [],
   "source": [
    "g %= 14"
   ]
  },
  {
   "cell_type": "code",
   "execution_count": 108,
   "id": "5119d2f8-4492-41ab-b303-0ddb7db2f903",
   "metadata": {},
   "outputs": [
    {
     "data": {
      "text/plain": [
       "5.0"
      ]
     },
     "execution_count": 108,
     "metadata": {},
     "output_type": "execute_result"
    }
   ],
   "source": [
    "g"
   ]
  },
  {
   "cell_type": "markdown",
   "id": "ab2f8454-21e4-4e8f-bee6-f98713c27ef9",
   "metadata": {},
   "source": [
    "## If Operatoru "
   ]
  },
  {
   "cell_type": "code",
   "execution_count": 6,
   "id": "69d3ea4f-ae0d-4de5-8146-3ed5af11a348",
   "metadata": {},
   "outputs": [
    {
     "name": "stdout",
     "output_type": "stream",
     "text": [
      "bes buyuktur uc\n"
     ]
    }
   ],
   "source": [
    "if 5 > 3 :\n",
    "    print(\"bes buyuktur uc\")\n",
    "else :\n",
    "    print(\"yanlis\")"
   ]
  },
  {
   "cell_type": "code",
   "execution_count": 18,
   "id": "2a794b76-b5d3-4a11-81f2-85b7f469190d",
   "metadata": {},
   "outputs": [
    {
     "name": "stdin",
     "output_type": "stream",
     "text": [
      "enter your username : ozq\n",
      "enter your password : 12345\n"
     ]
    },
    {
     "name": "stdout",
     "output_type": "stream",
     "text": [
      " WELCOME!!!!\n"
     ]
    }
   ],
   "source": [
    "username = \"ozq\"\n",
    "password = \"12345\"\n",
    "\n",
    "ad_gir = input(\"enter your username :\" )\n",
    "sifre_gir = input(\"enter your password :\" )\n",
    "\n",
    "if username == ad_gir and password == sifre_gir :\n",
    "    print(\" WELCOME!!!!\")\n",
    "elif username != ad_gir :\n",
    "    print(\"username is wrong\")\n",
    "elif password != sifre_gir :\n",
    "    print(\"password is wrong\")    "
   ]
  },
  {
   "cell_type": "code",
   "execution_count": 10,
   "id": "0372fc9c-d16b-40dc-b1fa-250b806eb756",
   "metadata": {},
   "outputs": [
    {
     "name": "stdin",
     "output_type": "stream",
     "text": [
      "notunuzu girin :  -11\n"
     ]
    },
    {
     "name": "stdout",
     "output_type": "stream",
     "text": [
      "Lutfen Gecerli Bir Deger Giriniz\n"
     ]
    }
   ],
   "source": [
    "ders_notu = int(input(\"notunuzu girin : \"))\n",
    "\n",
    "if ders_notu >= 90 and ders_notu <= 100:\n",
    "    print(\"Ders Notunuz AA\")\n",
    "elif ders_notu >= 80 and ders_notu < 90:\n",
    "    print(\"Ders Notunuz BB\")\n",
    "elif ders_notu >= 70 and ders_notu < 80:\n",
    "    print(\"Ders Notunuz CC\")\n",
    "elif ders_notu >= 60 and ders_notu < 70:\n",
    "    print(\"Ders Notunuz DD\")\n",
    "elif ders_notu >= 50 and ders_notu < 60:\n",
    "    print(\"Ders Notunuz FF\")\n",
    "elif ders_notu >= 0 and ders_notu < 50:\n",
    "    print(\"Dersten Kaldiniz\")\n",
    "else:\n",
    "    print(\"Lutfen Gecerli Bir Deger Giriniz\")\n",
    "    "
   ]
  },
  {
   "cell_type": "code",
   "execution_count": 11,
   "id": "4140901a-7a02-4eda-978c-f1789836e9f6",
   "metadata": {},
   "outputs": [
    {
     "name": "stdout",
     "output_type": "stream",
     "text": [
      "5 buyuktur uc\n"
     ]
    }
   ],
   "source": [
    "if 5 >3 : print(\"5 buyuktur uc\")"
   ]
  },
  {
   "cell_type": "code",
   "execution_count": 13,
   "id": "a533e584-65b4-456c-9005-77303585304a",
   "metadata": {},
   "outputs": [
    {
     "name": "stdout",
     "output_type": "stream",
     "text": [
      "Yanlis\n"
     ]
    }
   ],
   "source": [
    "print(\"5 buyuktur uc\") if 5 > 30 else print(\"Yanlis\")"
   ]
  },
  {
   "cell_type": "code",
   "execution_count": 18,
   "id": "eaabce28-8987-48ed-8728-39c970b7ac8a",
   "metadata": {},
   "outputs": [
    {
     "name": "stdin",
     "output_type": "stream",
     "text": [
      "Bir sayi giriniz :  -0\n"
     ]
    },
    {
     "name": "stdout",
     "output_type": "stream",
     "text": [
      "sayi sifirdir\n"
     ]
    }
   ],
   "source": [
    "sayi = int(input(\"Bir sayi giriniz : \"))\n",
    "if sayi >= 0:\n",
    "    if sayi == 0:\n",
    "        print(\"sayi sifirdir\")\n",
    "    else:\n",
    "        print(\"Sayi pozitiftir\")\n",
    "else:\n",
    "    print(\"Sayi negatiftir\")"
   ]
  },
  {
   "cell_type": "code",
   "execution_count": 19,
   "id": "e6f51b4d-ef24-473b-a4e7-b21a4baf3178",
   "metadata": {},
   "outputs": [],
   "source": [
    "if 3 > 1:\n",
    "    pass"
   ]
  },
  {
   "cell_type": "markdown",
   "id": "f6e81bf3-65cf-4d08-8a53-7ae348d2cebb",
   "metadata": {},
   "source": [
    "# Donguler (Loops) For ve While"
   ]
  },
  {
   "cell_type": "code",
   "execution_count": 25,
   "id": "d9f88cfa-0eca-4010-8d4d-0983e193c8f0",
   "metadata": {},
   "outputs": [
    {
     "name": "stdout",
     "output_type": "stream",
     "text": [
      "Sayimiz =  0\n",
      "Sayimiz =  1\n",
      "Sayimiz =  2\n",
      "Sayimiz =  3\n",
      "Sayimiz =  4\n",
      "Sayimiz =  5\n",
      "Sayimiz =  6\n",
      "Sayimiz =  7\n",
      "Sayimiz =  8\n",
      "Sayimiz =  9\n",
      "Sayimiz =  10\n",
      "Sayimiz 10'dan buyuk\n"
     ]
    }
   ],
   "source": [
    "x = 0\n",
    "while x <= 10:\n",
    "    print(\"Sayimiz = \",x)\n",
    "    x+= 1\n",
    "else:\n",
    "    print(\"Sayimiz 10'dan buyuk\")\n",
    "\n"
   ]
  },
  {
   "cell_type": "code",
   "execution_count": 26,
   "id": "c1a43060-cca1-4a22-af55-6580b787591c",
   "metadata": {},
   "outputs": [
    {
     "name": "stdout",
     "output_type": "stream",
     "text": [
      "Sayimiz =  0\n",
      "Sayimiz =  1\n",
      "Sayimiz =  2\n",
      "Sayimiz =  3\n",
      "Sayimiz =  4\n",
      "Sayimiz =  5\n"
     ]
    }
   ],
   "source": [
    "x = 0\n",
    "while x <= 10:\n",
    "    print(\"Sayimiz = \",x)\n",
    "    if x == 5:\n",
    "        break\n",
    "    x+= 1\n",
    "else:\n",
    "    print(\"Sayimiz 10'dan buyuk\")\n",
    "\n"
   ]
  },
  {
   "cell_type": "code",
   "execution_count": 30,
   "id": "49ac0736-cfb6-493e-98f6-98b3ba8a0290",
   "metadata": {},
   "outputs": [
    {
     "name": "stdout",
     "output_type": "stream",
     "text": [
      "Sayimiz =  1\n",
      "Sayimiz =  2\n",
      "Sayimiz =  3\n",
      "Sayimiz =  4\n",
      "Sayimiz =  6\n",
      "Sayimiz =  7\n",
      "Sayimiz =  8\n",
      "Sayimiz =  9\n",
      "Sayimiz =  10\n",
      "Sayimiz =  11\n",
      "Sayimiz 10'dan buyuk\n"
     ]
    }
   ],
   "source": [
    "x = 0\n",
    "while x <= 10:\n",
    "    x+= 1\n",
    "    if x == 5:\n",
    "        continue\n",
    "    print(\"Sayimiz = \",x)\n",
    "else:\n",
    "    print(\"Sayimiz 10'dan buyuk\")\n",
    "\n"
   ]
  },
  {
   "cell_type": "code",
   "execution_count": 33,
   "id": "f539215f-544f-4d5b-9d6c-71151e2a4d13",
   "metadata": {},
   "outputs": [],
   "source": [
    "sayilar = [1,2,3,4,5,6,7,8,9,10,11,12,13,14,15,16]"
   ]
  },
  {
   "cell_type": "code",
   "execution_count": 34,
   "id": "496d5710-c0e1-4bb9-9ac0-5e3b25c43958",
   "metadata": {},
   "outputs": [
    {
     "data": {
      "text/plain": [
       "True"
      ]
     },
     "execution_count": 34,
     "metadata": {},
     "output_type": "execute_result"
    }
   ],
   "source": [
    "1 in sayilar"
   ]
  },
  {
   "cell_type": "code",
   "execution_count": 36,
   "id": "2276f1d2-5f58-4116-8c8e-ba67c05f6b28",
   "metadata": {},
   "outputs": [
    {
     "name": "stdout",
     "output_type": "stream",
     "text": [
      "Sayimiz =  1\n",
      "Sayimiz =  2\n",
      "Sayimiz =  3\n",
      "Sayimiz =  4\n",
      "Sayimiz =  5\n",
      "Sayimiz =  6\n",
      "Sayimiz =  7\n",
      "Sayimiz =  8\n",
      "Sayimiz =  9\n",
      "Sayimiz =  10\n",
      "Sayimiz =  11\n",
      "Sayimiz =  12\n",
      "Sayimiz =  13\n",
      "Sayimiz =  14\n",
      "Sayimiz =  15\n",
      "Sayimiz =  16\n",
      "Dongu bitti\n"
     ]
    }
   ],
   "source": [
    "for sayi in sayilar:\n",
    "    print(\"Sayimiz = \", sayi)\n",
    "else:\n",
    "    print(\"Dongu bitti\")"
   ]
  },
  {
   "cell_type": "code",
   "execution_count": 37,
   "id": "0f73d994-216b-4b86-a53e-989249592159",
   "metadata": {},
   "outputs": [
    {
     "name": "stdout",
     "output_type": "stream",
     "text": [
      "Sayimiz =  1\n"
     ]
    }
   ],
   "source": [
    "for sayi in sayilar:\n",
    "    print(\"Sayimiz = \", sayi)\n",
    "    break\n",
    "else:\n",
    "    print(\"Dongu bitti\")"
   ]
  },
  {
   "cell_type": "code",
   "execution_count": 38,
   "id": "d7072b41-efb0-4fff-8873-9ddb29932646",
   "metadata": {},
   "outputs": [
    {
     "name": "stdout",
     "output_type": "stream",
     "text": [
      "Sayimiz =  1\n",
      "Sayimiz =  2\n",
      "Sayimiz =  3\n",
      "Sayimiz =  4\n",
      "Sayimiz =  5\n",
      "Sayimiz =  6\n",
      "Sayimiz =  7\n",
      "Sayimiz =  8\n",
      "Sayimiz =  9\n",
      "Sayimiz =  10\n"
     ]
    }
   ],
   "source": [
    "for sayi in sayilar:\n",
    "    print(\"Sayimiz = \", sayi)\n",
    "    if sayi == 10:\n",
    "        break\n",
    "else:\n",
    "    print(\"Dongu bitti\")"
   ]
  },
  {
   "cell_type": "code",
   "execution_count": 42,
   "id": "8587f582-63ab-453b-99ff-3e976555247c",
   "metadata": {},
   "outputs": [
    {
     "name": "stdout",
     "output_type": "stream",
     "text": [
      "Sayimiz =  1\n",
      "Sayimiz =  2\n",
      "Sayimiz =  3\n",
      "Sayimiz =  4\n",
      "Sayimiz =  5\n",
      "Sayimiz =  6\n",
      "Sayimiz =  7\n",
      "Sayimiz =  8\n",
      "Sayimiz =  9\n",
      "Sayimiz =  11\n",
      "Sayimiz =  12\n",
      "Sayimiz =  13\n",
      "Sayimiz =  14\n",
      "Sayimiz =  15\n",
      "Sayimiz =  16\n",
      "Dongu bitti\n"
     ]
    }
   ],
   "source": [
    "for sayi in sayilar:\n",
    "    if sayi == 10:\n",
    "        continue\n",
    "    print(\"Sayimiz = \", sayi)\n",
    "else:\n",
    "    print(\"Dongu bitti\")"
   ]
  },
  {
   "cell_type": "code",
   "execution_count": 41,
   "id": "eea1e6c0-081a-44ce-90ce-042338da617b",
   "metadata": {},
   "outputs": [],
   "source": [
    "yeni = [1,2,3]"
   ]
  },
  {
   "cell_type": "code",
   "execution_count": 45,
   "id": "ed259eda-aad3-4f09-b600-5c6104293e84",
   "metadata": {},
   "outputs": [],
   "source": [
    "sayilar_yeni = [1,2,3,4]"
   ]
  },
  {
   "cell_type": "code",
   "execution_count": 46,
   "id": "19436bae-0875-4780-83a3-63ca6debde51",
   "metadata": {},
   "outputs": [
    {
     "name": "stdout",
     "output_type": "stream",
     "text": [
      "1\n",
      "2\n",
      "3\n",
      "1\n",
      "2\n",
      "3\n",
      "1\n",
      "2\n",
      "3\n",
      "1\n",
      "2\n",
      "3\n",
      "Dongu bitti\n"
     ]
    }
   ],
   "source": [
    "for sayi in sayilar_yeni:\n",
    "    for x in yeni:\n",
    "       print(x)\n",
    "else:\n",
    "    print(\"Dongu bitti\")"
   ]
  },
  {
   "cell_type": "code",
   "execution_count": 53,
   "id": "b1296e45-284c-4a81-bd14-61ccc0894673",
   "metadata": {},
   "outputs": [
    {
     "name": "stdout",
     "output_type": "stream",
     "text": [
      "1\n",
      "3\n",
      "5\n",
      "7\n",
      "9\n",
      "11\n",
      "13\n",
      "15\n",
      "17\n",
      "19\n"
     ]
    }
   ],
   "source": [
    "for i in range(1,20,2):\n",
    "     print(i)"
   ]
  },
  {
   "cell_type": "code",
   "execution_count": 49,
   "id": "0072da62-20a5-492a-9b5f-914d7a19820e",
   "metadata": {},
   "outputs": [
    {
     "data": {
      "text/plain": [
       "[0, 1, 2, 3, 4, 5, 6, 7, 8, 9, 10]"
      ]
     },
     "execution_count": 49,
     "metadata": {},
     "output_type": "execute_result"
    }
   ],
   "source": [
    "list(range(11))"
   ]
  },
  {
   "cell_type": "code",
   "execution_count": 50,
   "id": "95f327bd-2e86-474b-bbd4-468601c73ce5",
   "metadata": {},
   "outputs": [
    {
     "data": {
      "text/plain": [
       "[5, 7, 9, 11, 13, 15, 17, 19]"
      ]
     },
     "execution_count": 50,
     "metadata": {},
     "output_type": "execute_result"
    }
   ],
   "source": [
    "list(range(5,20,2))"
   ]
  },
  {
   "cell_type": "code",
   "execution_count": 54,
   "id": "a67225d8-871c-4a81-affc-fc73bb36684f",
   "metadata": {},
   "outputs": [],
   "source": [
    "renkler =[\"sari\",\"yesil\",\"kirmizi\",\"mavi\",\"beyaz\",\"siyah\"]"
   ]
  },
  {
   "cell_type": "code",
   "execution_count": 56,
   "id": "a72c095d-251f-4a60-a722-5b0b96b8c547",
   "metadata": {},
   "outputs": [
    {
     "name": "stdout",
     "output_type": "stream",
     "text": [
      "sari\n",
      "yesil\n",
      "kirmizi\n",
      "mavi\n",
      "beyaz\n",
      "siyah\n"
     ]
    }
   ],
   "source": [
    "for r in renkler:\n",
    "    print(r)"
   ]
  },
  {
   "cell_type": "code",
   "execution_count": 59,
   "id": "f8ce4854-e889-414d-9ddc-607ba7aad5aa",
   "metadata": {},
   "outputs": [],
   "source": [
    "gelirler = [2000,3000,4000,5000,6000,7000,8000]"
   ]
  },
  {
   "cell_type": "code",
   "execution_count": 60,
   "id": "2ce5581e-08ce-4f08-8945-215f51aa798d",
   "metadata": {},
   "outputs": [
    {
     "name": "stdout",
     "output_type": "stream",
     "text": [
      "4000\n",
      "6000\n",
      "8000\n",
      "10000\n",
      "12000\n",
      "14000\n",
      "16000\n"
     ]
    }
   ],
   "source": [
    "for gelir in gelirler:\n",
    "    print(gelir * 2)"
   ]
  },
  {
   "cell_type": "markdown",
   "id": "52cf293e-57ed-4562-ab4c-30243ea6e1ec",
   "metadata": {},
   "source": [
    "# Fonksiyonlar  (def ile tanimlanir)"
   ]
  },
  {
   "cell_type": "code",
   "execution_count": 82,
   "id": "9e83ea85-73aa-47ec-bbc8-529b173a4e06",
   "metadata": {},
   "outputs": [
    {
     "name": "stdout",
     "output_type": "stream",
     "text": [
      "Ozge-Dirik\n",
      "Ozge-Dirik\n",
      "Ozge-Dirik:"
     ]
    }
   ],
   "source": [
    "print(\"Ozge\",\"Dirik\",sep=\"-\",end=\"\\n\")\n",
    "print(\"Ozge\",\"Dirik\",sep=\"-\")\n",
    "print(\"Ozge\",\"Dirik\",sep=\"-\",end=\":\")\n"
   ]
  },
  {
   "cell_type": "code",
   "execution_count": 61,
   "id": "08848ce5-ab4a-49e1-8077-4871cdefcdc4",
   "metadata": {},
   "outputs": [],
   "source": [
    "def kare_al(x):\n",
    "    print(x**2)"
   ]
  },
  {
   "cell_type": "code",
   "execution_count": 62,
   "id": "99114e64-6a69-4692-b2fe-b96a63aa32e0",
   "metadata": {},
   "outputs": [
    {
     "name": "stdout",
     "output_type": "stream",
     "text": [
      "9\n"
     ]
    }
   ],
   "source": [
    "kare_al(3)"
   ]
  },
  {
   "cell_type": "code",
   "execution_count": 84,
   "id": "9a978d68-6f0a-43bc-94d4-4870c23b3aa2",
   "metadata": {},
   "outputs": [],
   "source": [
    "def alan(r,pi):\n",
    "    print(pi*r**2)"
   ]
  },
  {
   "cell_type": "code",
   "execution_count": 68,
   "id": "5666a148-9ce1-41be-85bb-519439e5c31d",
   "metadata": {},
   "outputs": [
    {
     "name": "stdout",
     "output_type": "stream",
     "text": [
      "50.24\n"
     ]
    }
   ],
   "source": [
    "alan(4,3.14)"
   ]
  },
  {
   "cell_type": "code",
   "execution_count": 79,
   "id": "69bcb431-a0df-4fb2-b489-dcb73811f812",
   "metadata": {},
   "outputs": [
    {
     "name": "stdout",
     "output_type": "stream",
     "text": [
      "314.0\n"
     ]
    }
   ],
   "source": [
    "alan1 = alan(10,3.14)"
   ]
  },
  {
   "cell_type": "code",
   "execution_count": 70,
   "id": "15439b0d-2fa4-44c2-8e7f-1a5633e2ce72",
   "metadata": {},
   "outputs": [],
   "source": [
    "def alan_(r,pi=3.14):\n",
    "    print(pi*r**2)"
   ]
  },
  {
   "cell_type": "code",
   "execution_count": 80,
   "id": "b1961d4f-6d79-454a-9462-6d305fb2a022",
   "metadata": {},
   "outputs": [
    {
     "name": "stdout",
     "output_type": "stream",
     "text": [
      "113.04\n"
     ]
    }
   ],
   "source": [
    "alan2 = alan_(6)"
   ]
  },
  {
   "cell_type": "code",
   "execution_count": 81,
   "id": "dcfda3f3-c996-49ce-91a1-2738fb02e8eb",
   "metadata": {},
   "outputs": [
    {
     "ename": "TypeError",
     "evalue": "unsupported operand type(s) for +: 'NoneType' and 'NoneType'",
     "output_type": "error",
     "traceback": [
      "\u001b[1;31m---------------------------------------------------------------------------\u001b[0m",
      "\u001b[1;31mTypeError\u001b[0m                                 Traceback (most recent call last)",
      "Cell \u001b[1;32mIn[81], line 1\u001b[0m\n\u001b[1;32m----> 1\u001b[0m \u001b[43malan1\u001b[49m\u001b[43m \u001b[49m\u001b[38;5;241;43m+\u001b[39;49m\u001b[43m \u001b[49m\u001b[43malan2\u001b[49m \n",
      "\u001b[1;31mTypeError\u001b[0m: unsupported operand type(s) for +: 'NoneType' and 'NoneType'"
     ]
    }
   ],
   "source": [
    "alan1 + alan2 "
   ]
  },
  {
   "cell_type": "code",
   "execution_count": 86,
   "id": "9fb90f28-3287-4da1-a443-41f5ed8c56d3",
   "metadata": {},
   "outputs": [],
   "source": [
    "def alan(r,pi=3.14):\n",
    "    return pi*r**2"
   ]
  },
  {
   "cell_type": "code",
   "execution_count": 90,
   "id": "39ac672b-75b8-47c7-b460-a42de01e0d18",
   "metadata": {},
   "outputs": [],
   "source": [
    "alan1 = alan(6)"
   ]
  },
  {
   "cell_type": "code",
   "execution_count": 91,
   "id": "3fc9ab7d-ff61-4935-9b94-9ac81f2f7822",
   "metadata": {},
   "outputs": [],
   "source": [
    "alan2 = alan(8)"
   ]
  },
  {
   "cell_type": "code",
   "execution_count": 92,
   "id": "9146f54d-32a1-41be-a193-ec9a4a8505f8",
   "metadata": {},
   "outputs": [
    {
     "data": {
      "text/plain": [
       "314.0"
      ]
     },
     "execution_count": 92,
     "metadata": {},
     "output_type": "execute_result"
    }
   ],
   "source": [
    "alan1 + alan2"
   ]
  },
  {
   "cell_type": "code",
   "execution_count": 93,
   "id": "b545caf2-f7df-46d9-8501-1362fa1b0d7b",
   "metadata": {},
   "outputs": [
    {
     "data": {
      "text/plain": [
       "113.04"
      ]
     },
     "execution_count": 93,
     "metadata": {},
     "output_type": "execute_result"
    }
   ],
   "source": [
    "alan(6)"
   ]
  },
  {
   "cell_type": "code",
   "execution_count": 94,
   "id": "f09b18b1-0a61-4b85-abba-f8305d96c970",
   "metadata": {},
   "outputs": [
    {
     "data": {
      "text/plain": [
       "200.96"
      ]
     },
     "execution_count": 94,
     "metadata": {},
     "output_type": "execute_result"
    }
   ],
   "source": [
    "alan(8)"
   ]
  },
  {
   "cell_type": "code",
   "execution_count": 104,
   "id": "f3463906-3f0a-49a1-aef7-507adc580ef1",
   "metadata": {},
   "outputs": [],
   "source": [
    "def cift_mi(x):\n",
    "    if x % 2 == 0:\n",
    "        return\"Bu Sayi Cifttir.\""
   ]
  },
  {
   "cell_type": "code",
   "execution_count": 105,
   "id": "7e271f87-e3a7-4dc8-8b70-d30252259464",
   "metadata": {},
   "outputs": [],
   "source": [
    "cift = cift_mi(10)"
   ]
  },
  {
   "cell_type": "code",
   "execution_count": 106,
   "id": "1f0c191a-bf22-4d4c-b1f2-3d23ff423038",
   "metadata": {},
   "outputs": [
    {
     "data": {
      "text/plain": [
       "str"
      ]
     },
     "execution_count": 106,
     "metadata": {},
     "output_type": "execute_result"
    }
   ],
   "source": [
    "type(cift)"
   ]
  },
  {
   "cell_type": "code",
   "execution_count": 107,
   "id": "18d58e58-76fd-4ab1-bd12-3bc4c0f36ab9",
   "metadata": {},
   "outputs": [
    {
     "name": "stdout",
     "output_type": "stream",
     "text": [
      "Help on built-in function print in module builtins:\n",
      "\n",
      "print(*args, sep=' ', end='\\n', file=None, flush=False)\n",
      "    Prints the values to a stream, or to sys.stdout by default.\n",
      "\n",
      "    sep\n",
      "      string inserted between values, default a space.\n",
      "    end\n",
      "      string appended after the last value, default a newline.\n",
      "    file\n",
      "      a file-like object (stream); defaults to the current sys.stdout.\n",
      "    flush\n",
      "      whether to forcibly flush the stream.\n",
      "\n"
     ]
    }
   ],
   "source": [
    "help(print)"
   ]
  },
  {
   "cell_type": "code",
   "execution_count": 116,
   "id": "2a0fa53e-6025-4d72-b29b-e4c1b2d094ce",
   "metadata": {},
   "outputs": [],
   "source": [
    "def kimlik(isim=\"null\",soyisim=\"null\",yas=\"null\",kimlik =\"null\"):\n",
    "    print(\"isim :\",isim, \"soyisim :\",soyisim, \"yas :\",yas, \"kimlik :\",kimlik)"
   ]
  },
  {
   "cell_type": "code",
   "execution_count": 117,
   "id": "58c89244-d6a4-4c9d-8f84-07169cb9d1c1",
   "metadata": {},
   "outputs": [
    {
     "name": "stdout",
     "output_type": "stream",
     "text": [
      "isim : ozge soyisim : dirik yas : 23 kimlik : 44444444444\n"
     ]
    }
   ],
   "source": [
    "kimlik(\"ozge\",\"dirik\",23,44444444444)"
   ]
  },
  {
   "cell_type": "code",
   "execution_count": 118,
   "id": "fffc7605-ac4d-41e2-8b65-0f107bba1e85",
   "metadata": {},
   "outputs": [
    {
     "name": "stdout",
     "output_type": "stream",
     "text": [
      "isim : ozge soyisim : dirik yas : 23 kimlik : null\n"
     ]
    }
   ],
   "source": [
    "kimlik(\"ozge\",\"dirik\",23)"
   ]
  },
  {
   "cell_type": "code",
   "execution_count": 119,
   "id": "c23a094e-27c0-41e2-b99f-e50360ab397e",
   "metadata": {},
   "outputs": [
    {
     "name": "stdout",
     "output_type": "stream",
     "text": [
      "isim : null soyisim : null yas : 29 kimlik : 3939393939393\n"
     ]
    }
   ],
   "source": [
    "kimlik(yas=29,kimlik=3939393939393)"
   ]
  },
  {
   "cell_type": "markdown",
   "id": "65c54a18-bff4-4441-925b-f358f88f21bd",
   "metadata": {},
   "source": [
    "# OOP - CLASS"
   ]
  },
  {
   "cell_type": "code",
   "execution_count": 1,
   "id": "a7e61f9f-28e6-4ecc-87bb-32a11fffd314",
   "metadata": {},
   "outputs": [],
   "source": [
    "class Ogrenci:\n",
    "    isim = \"Ozge\"\n",
    "    soyisim = \"Dirik\"\n",
    "    yas = 23\n",
    "    not_ort = 93"
   ]
  },
  {
   "cell_type": "code",
   "execution_count": 2,
   "id": "a4382437-7371-45a3-a541-4381268216a5",
   "metadata": {
    "scrolled": true
   },
   "outputs": [],
   "source": [
    "bir = Ogrenci()"
   ]
  },
  {
   "cell_type": "code",
   "execution_count": 3,
   "id": "568c2df2-9351-4dd4-b2c9-c224a1f58de6",
   "metadata": {},
   "outputs": [
    {
     "data": {
      "text/plain": [
       "'Ozge'"
      ]
     },
     "execution_count": 3,
     "metadata": {},
     "output_type": "execute_result"
    }
   ],
   "source": [
    "bir.isim"
   ]
  },
  {
   "cell_type": "code",
   "execution_count": 4,
   "id": "26117e13-db60-4b03-a052-a6fb63562763",
   "metadata": {},
   "outputs": [
    {
     "data": {
      "text/plain": [
       "'Dirik'"
      ]
     },
     "execution_count": 4,
     "metadata": {},
     "output_type": "execute_result"
    }
   ],
   "source": [
    "bir.soyisim"
   ]
  },
  {
   "cell_type": "code",
   "execution_count": 5,
   "id": "4df68f56-eb41-4994-812c-b4e07c596567",
   "metadata": {},
   "outputs": [],
   "source": [
    "iki = Ogrenci()"
   ]
  },
  {
   "cell_type": "code",
   "execution_count": 6,
   "id": "0a46bc62-b012-4b10-8148-c490052573d1",
   "metadata": {},
   "outputs": [
    {
     "data": {
      "text/plain": [
       "'Ozge'"
      ]
     },
     "execution_count": 6,
     "metadata": {},
     "output_type": "execute_result"
    }
   ],
   "source": [
    "iki.isim"
   ]
  },
  {
   "cell_type": "markdown",
   "id": "feea41cf-5d85-4bfa-b55a-5900456f4e8e",
   "metadata": {},
   "source": [
    "### Initializer or Constructor\n",
    "Sinifin ana yapisini olusturan metod ====> __init__()\n"
   ]
  },
  {
   "cell_type": "code",
   "execution_count": 45,
   "id": "39e4ee96-8a9f-43ab-b4b7-a75b34c8da90",
   "metadata": {},
   "outputs": [],
   "source": [
    "class Ogrenci:\n",
    "    def __init__(self,isim,soyisim,yas,not_ort):\n",
    "        self.isim = isim\n",
    "        self.soyisim = soyisim \n",
    "        self.yas = yas\n",
    "        self.not_ort = not_ort"
   ]
  },
  {
   "cell_type": "code",
   "execution_count": 32,
   "id": "f1924095-155f-42cd-94fa-38c40271acad",
   "metadata": {},
   "outputs": [],
   "source": [
    "bir = Ogrenci(\"Kalender\",\"Dirik\",\"56\",\"87\")"
   ]
  },
  {
   "cell_type": "code",
   "execution_count": 33,
   "id": "fc1c7cf2-ba26-4937-ae61-4b01860ad13d",
   "metadata": {},
   "outputs": [
    {
     "data": {
      "text/plain": [
       "'Kalender'"
      ]
     },
     "execution_count": 33,
     "metadata": {},
     "output_type": "execute_result"
    }
   ],
   "source": [
    "bir.isim"
   ]
  },
  {
   "cell_type": "code",
   "execution_count": 34,
   "id": "3fd7f673-1cba-4545-8d0b-4109318ecd0c",
   "metadata": {},
   "outputs": [],
   "source": [
    "iki = Ogrenci(\"Ozge\",\"Sari\",\"24\",\"98\")"
   ]
  },
  {
   "cell_type": "code",
   "execution_count": 35,
   "id": "6d9e71c2-06e9-4c34-8a2f-d95ba1e5949c",
   "metadata": {},
   "outputs": [
    {
     "data": {
      "text/plain": [
       "'Ozge'"
      ]
     },
     "execution_count": 35,
     "metadata": {},
     "output_type": "execute_result"
    }
   ],
   "source": [
    "iki.isim"
   ]
  },
  {
   "cell_type": "code",
   "execution_count": 36,
   "id": "926098b1-9e58-46af-a860-cfcb36e10aa6",
   "metadata": {},
   "outputs": [
    {
     "data": {
      "text/plain": [
       "'Kalender'"
      ]
     },
     "execution_count": 36,
     "metadata": {},
     "output_type": "execute_result"
    }
   ],
   "source": [
    "bir.isim"
   ]
  },
  {
   "cell_type": "code",
   "execution_count": 47,
   "id": "af9ba388-65a5-45c8-ac87-8c350468f4c9",
   "metadata": {},
   "outputs": [],
   "source": [
    "class Ogrenci:\n",
    "    def __init__(self,isim,soyisim,yas,not_ort):\n",
    "        self.isim = isim\n",
    "        self.soyisim = soyisim \n",
    "        self.yas = yas\n",
    "        self.not_ort = not_ort\n",
    "\n",
    "    def info(self):\n",
    "            print(\"{} {} {} yasinda ve {} ortalamaya sahip bir ogrencidir\".format(self.isim,self.soyisim,self.yas,self.not_ort))"
   ]
  },
  {
   "cell_type": "code",
   "execution_count": 48,
   "id": "a63a7704-102e-4759-b0fe-85ce4be7ae94",
   "metadata": {},
   "outputs": [],
   "source": [
    "uc = Ogrenci(\"Ali\",\"Yilmaz\",\"22\",\"54\")"
   ]
  },
  {
   "cell_type": "code",
   "execution_count": 49,
   "id": "01f4dbb4-1b44-4a3b-bf29-cb551a945e23",
   "metadata": {},
   "outputs": [
    {
     "data": {
      "text/plain": [
       "'Ali'"
      ]
     },
     "execution_count": 49,
     "metadata": {},
     "output_type": "execute_result"
    }
   ],
   "source": [
    "uc.isim"
   ]
  },
  {
   "cell_type": "code",
   "execution_count": 50,
   "id": "caf255e3-3256-4e98-910c-c4ed7d685d83",
   "metadata": {},
   "outputs": [
    {
     "name": "stdout",
     "output_type": "stream",
     "text": [
      "Ali Yilmaz 22 yasinda ve 54 ortalamaya sahip bir ogrencidir\n"
     ]
    }
   ],
   "source": [
    "uc.info()"
   ]
  },
  {
   "cell_type": "code",
   "execution_count": 61,
   "id": "cf8b230b-806b-4f3d-9de4-58de5bbfae8d",
   "metadata": {},
   "outputs": [],
   "source": [
    "class Ogretmen:\n",
    "    def __init__(self,isim,soyisim,yas,maas,uzmanlik):\n",
    "        self.isim = isim\n",
    "        self.soyisim = soyisim \n",
    "        self.yas = yas\n",
    "        self.maas = maas\n",
    "        self.uzmanlik = uzmanlik\n",
    "\n",
    "    def info(self):\n",
    "        print(\"{} {} {} yasinda ve {} maasi olan bir {} ogretmenidir\".format(self.isim,self.soyisim,self.yas,self.maas,self.uzmanlik))\n",
    "\n",
    "    def zam(self):\n",
    "        return self.maas * 1.2   "
   ]
  },
  {
   "cell_type": "code",
   "execution_count": 62,
   "id": "add8d3a8-ce03-4f0d-a329-7ff2d425c72f",
   "metadata": {},
   "outputs": [],
   "source": [
    "dort = Ogretmen(\"Sude\",\"Yildiz\",33,5000, \"Fizik\")"
   ]
  },
  {
   "cell_type": "code",
   "execution_count": 63,
   "id": "77da6fc4-93ac-498d-a92d-896765931f66",
   "metadata": {},
   "outputs": [
    {
     "name": "stdout",
     "output_type": "stream",
     "text": [
      "Sude Yildiz 33 yasinda ve 5000 maasi olan bir Fizik ogretmenidir\n"
     ]
    }
   ],
   "source": [
    "dort.info()"
   ]
  },
  {
   "cell_type": "code",
   "execution_count": 64,
   "id": "89d82ba5-01ee-4a7c-a997-e4f2ceeb395f",
   "metadata": {},
   "outputs": [
    {
     "data": {
      "text/plain": [
       "6000.0"
      ]
     },
     "execution_count": 64,
     "metadata": {},
     "output_type": "execute_result"
    }
   ],
   "source": [
    "dort.zam()"
   ]
  },
  {
   "cell_type": "markdown",
   "id": "65386a69-1502-420d-be0f-17bf5544b119",
   "metadata": {},
   "source": [
    "## Encapsulation -- Kapsulleme(Erisim Engelleme)\n",
    "__maas seklinde tanimlanir"
   ]
  },
  {
   "cell_type": "code",
   "execution_count": 68,
   "id": "f32f2792-9386-41b8-840a-b623fb42794d",
   "metadata": {},
   "outputs": [],
   "source": [
    "class Ogretmen:\n",
    "    def __init__(self,isim,soyisim,yas,maas,uzmanlik):\n",
    "        self.isim = isim\n",
    "        self.soyisim = soyisim \n",
    "        self.yas = yas\n",
    "        self.__maas = maas\n",
    "        self.uzmanlik = uzmanlik\n",
    "\n",
    "    def info(self):\n",
    "        print(\"{} {} {} yasinda ve {} maasi olan bir {} ogretmenidir\".format(self.isim,self.soyisim,self.yas,self.maas,self.uzmanlik))\n",
    "\n",
    "    def zam(self):\n",
    "        return self.maas * 1.2   "
   ]
  },
  {
   "cell_type": "code",
   "execution_count": 69,
   "id": "955ee335-fc59-4300-a910-047a507293bd",
   "metadata": {},
   "outputs": [],
   "source": [
    "dort = Ogretmen(\"Sude\",\"Yildiz\",33,5000, \"Fizik\")"
   ]
  },
  {
   "cell_type": "code",
   "execution_count": 70,
   "id": "f4ebfd75-46ce-4cbc-b19c-e9bc07749f04",
   "metadata": {},
   "outputs": [
    {
     "ename": "AttributeError",
     "evalue": "'Ogretmen' object has no attribute '__maas'",
     "output_type": "error",
     "traceback": [
      "\u001b[1;31m---------------------------------------------------------------------------\u001b[0m",
      "\u001b[1;31mAttributeError\u001b[0m                            Traceback (most recent call last)",
      "Cell \u001b[1;32mIn[70], line 1\u001b[0m\n\u001b[1;32m----> 1\u001b[0m \u001b[43mdort\u001b[49m\u001b[38;5;241;43m.\u001b[39;49m\u001b[43m__maas\u001b[49m\n",
      "\u001b[1;31mAttributeError\u001b[0m: 'Ogretmen' object has no attribute '__maas'"
     ]
    }
   ],
   "source": [
    "dort.__maas"
   ]
  },
  {
   "cell_type": "code",
   "execution_count": 71,
   "id": "38f0c854-8935-4bb2-b50f-f03742e1dd64",
   "metadata": {},
   "outputs": [],
   "source": [
    "class Ogretmen:\n",
    "    def __init__(self,isim,soyisim,yas,maas,uzmanlik):\n",
    "        self.isim = isim\n",
    "        self.soyisim = soyisim \n",
    "        self.yas = yas\n",
    "        self.__maas = maas\n",
    "        self.uzmanlik = uzmanlik\n",
    "\n",
    "    def info(self):\n",
    "        print(\"{} {} {} yasinda ve {} maasi olan bir {} ogretmenidir\".format(self.isim,self.soyisim,self.yas,self.maas,self.uzmanlik))\n",
    "\n",
    "    def zam(self):\n",
    "        return self.maas * 1.2   \n",
    "    def getMaas(self):\n",
    "        return self.__maas\n",
    "    def setMaas(self,yeni_maas):\n",
    "        self.__maas = yeni_maas"
   ]
  },
  {
   "cell_type": "code",
   "execution_count": 72,
   "id": "74986a51-b209-4b40-95c8-757659fe05a1",
   "metadata": {},
   "outputs": [],
   "source": [
    "dort = Ogretmen(\"Sude\",\"Yildiz\",33,5000, \"Fizik\")"
   ]
  },
  {
   "cell_type": "code",
   "execution_count": 73,
   "id": "6258f2c8-d0f7-479b-9b25-698e51563d66",
   "metadata": {},
   "outputs": [
    {
     "ename": "AttributeError",
     "evalue": "'Ogretmen' object has no attribute '__maas'",
     "output_type": "error",
     "traceback": [
      "\u001b[1;31m---------------------------------------------------------------------------\u001b[0m",
      "\u001b[1;31mAttributeError\u001b[0m                            Traceback (most recent call last)",
      "Cell \u001b[1;32mIn[73], line 1\u001b[0m\n\u001b[1;32m----> 1\u001b[0m \u001b[43mdort\u001b[49m\u001b[38;5;241;43m.\u001b[39;49m\u001b[43m__maas\u001b[49m\n",
      "\u001b[1;31mAttributeError\u001b[0m: 'Ogretmen' object has no attribute '__maas'"
     ]
    }
   ],
   "source": [
    "dort.__maas"
   ]
  },
  {
   "cell_type": "code",
   "execution_count": 74,
   "id": "07ce032c-5fe8-4c0b-ae73-7fb6987d09b4",
   "metadata": {},
   "outputs": [
    {
     "data": {
      "text/plain": [
       "5000"
      ]
     },
     "execution_count": 74,
     "metadata": {},
     "output_type": "execute_result"
    }
   ],
   "source": [
    "dort.getMaas()"
   ]
  },
  {
   "cell_type": "code",
   "execution_count": 75,
   "id": "031fa17e-5f05-4758-a254-56311204a017",
   "metadata": {},
   "outputs": [],
   "source": [
    "dort.setMaas(10000)"
   ]
  },
  {
   "cell_type": "code",
   "execution_count": 76,
   "id": "4efe756c-b464-4409-89fb-b2db53e4ed14",
   "metadata": {},
   "outputs": [
    {
     "data": {
      "text/plain": [
       "10000"
      ]
     },
     "execution_count": 76,
     "metadata": {},
     "output_type": "execute_result"
    }
   ],
   "source": [
    "dort.getMaas()"
   ]
  },
  {
   "cell_type": "code",
   "execution_count": 113,
   "id": "ee869b12-8552-4073-8edb-8a1cc790f740",
   "metadata": {},
   "outputs": [],
   "source": [
    "class Ogretmen:\n",
    "    def __init__(self,isim,soyisim,yas,maas,uzmanlik):\n",
    "        self.isim = isim\n",
    "        self.soyisim = soyisim \n",
    "        self.yas = yas\n",
    "        self.__maas = maas\n",
    "        self.uzmanlik = uzmanlik\n",
    "\n",
    "    def info(self):\n",
    "        print(\"{} {} {} yasinda ve {} maasi olan bir {} ogretmenidir\".format(self.isim,self.soyisim,self.yas,self.maas,self.uzmanlik))\n",
    "\n",
    "    def __zam(self):\n",
    "        return self.__maas * 1.2   \n",
    "    def getMaas(self):\n",
    "        return self.__maas\n",
    "    def setMaas(self,yeni_maas):\n",
    "        self.__maas = yeni_maas"
   ]
  },
  {
   "cell_type": "code",
   "execution_count": 114,
   "id": "15ec46f4-957e-4ce0-b641-8b24313eb55a",
   "metadata": {},
   "outputs": [],
   "source": [
    "dort = Ogretmen(\"Sude\",\"Yildiz\",33,5000, \"Fizik\")"
   ]
  },
  {
   "cell_type": "code",
   "execution_count": 115,
   "id": "605bc302-5c0f-4ed7-a104-ed767377380f",
   "metadata": {},
   "outputs": [
    {
     "ename": "AttributeError",
     "evalue": "'Ogretmen' object has no attribute '__zam'",
     "output_type": "error",
     "traceback": [
      "\u001b[1;31m---------------------------------------------------------------------------\u001b[0m",
      "\u001b[1;31mAttributeError\u001b[0m                            Traceback (most recent call last)",
      "Cell \u001b[1;32mIn[115], line 1\u001b[0m\n\u001b[1;32m----> 1\u001b[0m \u001b[43mdort\u001b[49m\u001b[38;5;241;43m.\u001b[39;49m\u001b[43m__zam\u001b[49m()\n",
      "\u001b[1;31mAttributeError\u001b[0m: 'Ogretmen' object has no attribute '__zam'"
     ]
    }
   ],
   "source": [
    "dort.__zam()"
   ]
  },
  {
   "cell_type": "markdown",
   "id": "c5e8b5a3-2752-423b-9299-98a4fa52950d",
   "metadata": {},
   "source": [
    "# Inheritance (Kalitim)"
   ]
  },
  {
   "cell_type": "code",
   "execution_count": 95,
   "id": "b0bb3d23-fb36-4b76-a782-f9d20894fd22",
   "metadata": {},
   "outputs": [],
   "source": [
    "class Okul:\n",
    "    def __init__(self,isim,soyisim,yas):\n",
    "        self.isim = isim\n",
    "        self.soyisim = soyisim\n",
    "        self.yas = yas\n",
    "        print(\"Okul sinifi calisti\")"
   ]
  },
  {
   "cell_type": "code",
   "execution_count": 96,
   "id": "31103252-9d09-4961-b30f-11567f0464b6",
   "metadata": {},
   "outputs": [
    {
     "name": "stdout",
     "output_type": "stream",
     "text": [
      "Okul sinifi calisti\n"
     ]
    }
   ],
   "source": [
    "ahmet = Okul(\"Ahmet\",\"Saglam\",45)"
   ]
  },
  {
   "cell_type": "code",
   "execution_count": 97,
   "id": "12bae3a0-fb68-4277-9bf1-9b7c40db6a76",
   "metadata": {},
   "outputs": [
    {
     "data": {
      "text/plain": [
       "'Ahmet'"
      ]
     },
     "execution_count": 97,
     "metadata": {},
     "output_type": "execute_result"
    }
   ],
   "source": [
    "ahmet.isim"
   ]
  },
  {
   "cell_type": "code",
   "execution_count": 102,
   "id": "440e43e9-f012-4a8b-bfe5-70d6ff0875da",
   "metadata": {},
   "outputs": [],
   "source": [
    "class Ogretmen(Okul):\n",
    "    def __init__(self,isim,soyisim,yas):\n",
    "        super().__init__(isim,soyisim,yas)\n",
    "        print(\"Ogretmen sinifi calisti\")\n",
    "    def info(self):\n",
    "        print(\"{} {} {} yasinda bir ogretmendir\".format(self.isim,self.soyisim,self.yas))\n"
   ]
  },
  {
   "cell_type": "code",
   "execution_count": 103,
   "id": "983369f2-64d5-4475-8115-40c80a32369f",
   "metadata": {},
   "outputs": [
    {
     "name": "stdout",
     "output_type": "stream",
     "text": [
      "Okul sinifi calisti\n",
      "Ogretmen sinifi calisti\n"
     ]
    }
   ],
   "source": [
    "Ogretmen1 = Ogretmen(\"Semih\",\"Saygin\",33)"
   ]
  },
  {
   "cell_type": "code",
   "execution_count": 104,
   "id": "b2489bf2-8daf-4a47-9c04-1d0a71f816a7",
   "metadata": {},
   "outputs": [
    {
     "name": "stdout",
     "output_type": "stream",
     "text": [
      "Semih Saygin 33 yasinda bir ogretmendir\n"
     ]
    }
   ],
   "source": [
    "Ogretmen1.info()"
   ]
  },
  {
   "cell_type": "code",
   "execution_count": 116,
   "id": "5832ad80-f4b1-43b3-802b-69e4700df444",
   "metadata": {},
   "outputs": [],
   "source": [
    "class Ogretmen(Okul):\n",
    "    def __init__(self,isim,soyisim,yas,maas,uzmanlik):\n",
    "        super().__init__(isim,soyisim,yas)\n",
    "        self.maas = maas\n",
    "        self.uzmanlik = uzmanlik\n",
    "        print(\"Ogretmen sinifi calisti\")\n",
    "    def info(self):\n",
    "        print(\"{} {} {} yasinda {} TL maasi olan bir {} ogretmendir\".format(self.isim,self.soyisim,self.yas,self.maas,self.uzmanlik))\n",
    "    def zam(self):\n",
    "        return self.maas * 1.5   "
   ]
  },
  {
   "cell_type": "code",
   "execution_count": 117,
   "id": "62c3f4ac-2b19-44fc-8f1a-ac36e3c269b3",
   "metadata": {},
   "outputs": [
    {
     "name": "stdout",
     "output_type": "stream",
     "text": [
      "Okul sinifi calisti\n",
      "Ogretmen sinifi calisti\n"
     ]
    }
   ],
   "source": [
    "Ogretmen1 = Ogretmen(\"Semih\",\"Saygin\",33,54000,\"Fizik\")"
   ]
  },
  {
   "cell_type": "code",
   "execution_count": 118,
   "id": "dffb0058-e6c8-4652-9fc4-48a1411eac42",
   "metadata": {},
   "outputs": [
    {
     "name": "stdout",
     "output_type": "stream",
     "text": [
      "Semih Saygin 33 yasinda 54000 TL maasi olan bir Fizik ogretmendir\n"
     ]
    }
   ],
   "source": [
    "\n",
    "Ogretmen1.info()"
   ]
  },
  {
   "cell_type": "code",
   "execution_count": 119,
   "id": "fc954341-823a-4176-ba00-7b0205432d7f",
   "metadata": {},
   "outputs": [
    {
     "data": {
      "text/plain": [
       "81000.0"
      ]
     },
     "execution_count": 119,
     "metadata": {},
     "output_type": "execute_result"
    }
   ],
   "source": [
    "Ogretmen1.zam()"
   ]
  },
  {
   "cell_type": "code",
   "execution_count": 120,
   "id": "1bf1d72a-ceb4-4704-9f2e-519e6898069e",
   "metadata": {},
   "outputs": [],
   "source": [
    "class Ogrenci(Okul):\n",
    "    def __init__(self,isim,soyisim,yas,not_ort):\n",
    "        super().__init__(isim,soyisim,yas)\n",
    "        self.not_ort = not_ort\n",
    "        print(\"Ogrenci sinifi calisti\")\n",
    "    def info(self):\n",
    "        print(\"{} {} {} yasinda ve {} not ortalamasi olan bir ogrencidir\".format(self.isim,self.soyisim,self.yas,self.not_ort))"
   ]
  },
  {
   "cell_type": "code",
   "execution_count": 121,
   "id": "2ad55f5f-baf5-4552-b0cd-ef765dee8255",
   "metadata": {},
   "outputs": [
    {
     "name": "stdout",
     "output_type": "stream",
     "text": [
      "Okul sinifi calisti\n",
      "Ogrenci sinifi calisti\n"
     ]
    }
   ],
   "source": [
    "Ogrenci1 = Ogrenci(\"Ayse\",\"Kilinc\",18,95)"
   ]
  },
  {
   "cell_type": "code",
   "execution_count": 122,
   "id": "b58062d1-47f0-48a8-a5e3-7f26f0860e5a",
   "metadata": {},
   "outputs": [
    {
     "name": "stdout",
     "output_type": "stream",
     "text": [
      "Ayse Kilinc 18 yasinda ve 95 not ortalamasi olan bir ogrencidir\n"
     ]
    }
   ],
   "source": [
    "Ogrenci1.info()"
   ]
  },
  {
   "cell_type": "markdown",
   "id": "ba1bea36-d477-44ed-951a-ddd4575e890d",
   "metadata": {},
   "source": [
    "### Abstract Class (Soyut Siniflar)\n",
    "Abstract siniflardan nesne uretilemez alt siniflarindan nesne uretilir\n",
    "Sablon olarak dusunebiliriz\n"
   ]
  },
  {
   "cell_type": "code",
   "execution_count": 137,
   "id": "12db49f3-e984-4dd2-9547-ff31cfd7e0a5",
   "metadata": {},
   "outputs": [],
   "source": [
    "from abc import ABC,abstractmethod\n",
    "class Hayvan(ABC):\n",
    "    @abstractmethod\n",
    "    def yuru(self):\n",
    "        print(\"hayvan yuruyor\")\n",
    "    @abstractmethod\n",
    "    def kos(self):\n",
    "        print(\"hayvan kosuyor\")"
   ]
  },
  {
   "cell_type": "code",
   "execution_count": 138,
   "id": "78b855a6-0c38-4706-8142-68abd8c95942",
   "metadata": {},
   "outputs": [
    {
     "ename": "TypeError",
     "evalue": "Can't instantiate abstract class Hayvan without an implementation for abstract methods 'kos', 'yuru'",
     "output_type": "error",
     "traceback": [
      "\u001b[1;31m---------------------------------------------------------------------------\u001b[0m",
      "\u001b[1;31mTypeError\u001b[0m                                 Traceback (most recent call last)",
      "Cell \u001b[1;32mIn[138], line 1\u001b[0m\n\u001b[1;32m----> 1\u001b[0m aslan \u001b[38;5;241m=\u001b[39m \u001b[43mHayvan\u001b[49m\u001b[43m(\u001b[49m\u001b[43m)\u001b[49m\n",
      "\u001b[1;31mTypeError\u001b[0m: Can't instantiate abstract class Hayvan without an implementation for abstract methods 'kos', 'yuru'"
     ]
    }
   ],
   "source": [
    "aslan = Hayvan()"
   ]
  },
  {
   "cell_type": "code",
   "execution_count": 139,
   "id": "db866efa-82b2-48d3-b01a-ed3956929771",
   "metadata": {},
   "outputs": [
    {
     "name": "stdout",
     "output_type": "stream",
     "text": [
      "hayvan yuruyor\n"
     ]
    }
   ],
   "source": [
    "aslan.yuru()"
   ]
  },
  {
   "cell_type": "code",
   "execution_count": 140,
   "id": "de5e6be0-7d40-431f-ab2a-14a797439b86",
   "metadata": {},
   "outputs": [
    {
     "name": "stdout",
     "output_type": "stream",
     "text": [
      "hayvan kosuyor\n"
     ]
    }
   ],
   "source": [
    "aslan.kos()"
   ]
  },
  {
   "cell_type": "code",
   "execution_count": 141,
   "id": "dffc75cf-2873-46f9-83a4-04b7b3e4812c",
   "metadata": {},
   "outputs": [],
   "source": [
    "from abc import ABC,abstractmethod\n",
    "class Hayvan(ABC):\n",
    "    @abstractmethod\n",
    "    def yuru(self):\n",
    "        print(\"hayvan yuruyor\")\n",
    "    @abstractmethod\n",
    "    def kos(self):\n",
    "        print(\"hayvan kosuyor\")\n",
    "class Aslan(Hayvan):\n",
    "    def yuru(self):\n",
    "        print(\"aslan yuruyor\")\n",
    "    def kos(self):\n",
    "        print(\"aslan kosuyor\")"
   ]
  },
  {
   "cell_type": "code",
   "execution_count": 142,
   "id": "9712a5c5-a854-48ed-9472-0753aad625a1",
   "metadata": {},
   "outputs": [],
   "source": [
    "aslan_nesnesi = Aslan()"
   ]
  },
  {
   "cell_type": "code",
   "execution_count": 143,
   "id": "925184a8-2de0-4ad1-a782-6fa2b802d747",
   "metadata": {},
   "outputs": [
    {
     "name": "stdout",
     "output_type": "stream",
     "text": [
      "aslan kosuyor\n"
     ]
    }
   ],
   "source": [
    "aslan_nesnesi.kos()"
   ]
  },
  {
   "cell_type": "code",
   "execution_count": 144,
   "id": "af70054f-1dbf-41c3-b0c7-561857fd0059",
   "metadata": {},
   "outputs": [
    {
     "name": "stdout",
     "output_type": "stream",
     "text": [
      "aslan yuruyor\n"
     ]
    }
   ],
   "source": [
    "aslan_nesnesi.yuru()"
   ]
  },
  {
   "cell_type": "markdown",
   "id": "9c8dbb2c-7544-4b8b-adee-e6b6015c97a5",
   "metadata": {},
   "source": [
    "# Polymorphism"
   ]
  },
  {
   "cell_type": "code",
   "execution_count": 161,
   "id": "6c858385-8b9f-47ef-8107-d4c8f1ae99d3",
   "metadata": {},
   "outputs": [],
   "source": [
    "class Okul:\n",
    "    def __init__(self,isim,soyisim,yas,maas):\n",
    "        self.isim = isim\n",
    "        self.soyisim = soyisim\n",
    "        self.yas = yas\n",
    "        self.maas = maas\n",
    "        print(\"Okul sinifi calisti\")\n",
    "        \n",
    "    def info(self):\n",
    "        print(\"{} {} {} yasinda bir okul elemanidir\".format(self.isim,self.soyisim,self.yas))\n",
    "        \n",
    "    def zam(self):\n",
    "        return self.maas * 1.2 \n",
    "\n",
    "class Ogretmen(Okul):\n",
    "    def __init__(self,isim,soyisim,yas,maas,uzmanlik):\n",
    "        super().__init__(isim,soyisim,yas,maas)\n",
    "        self.uzmanlik = uzmanlik\n",
    "        print(\"Ogretmen sinifi calisti\")\n",
    "    def info(self):\n",
    "        print(\"{} {} {} yasinda {} TL maasi olan bir {} ogretmendir\".format(self.isim,self.soyisim,self.yas,self.maas,self.uzmanlik))\n",
    "    def zam(self):\n",
    "        return self.maas * 1.5   \n",
    "\n",
    "class Yonetim(Okul):\n",
    "    def __init__(self,isim,soyisim,yas,maas,birim):\n",
    "        super().__init__(isim,soyisim,yas,maas)\n",
    "        self.birim = birim\n",
    "        print(\"Yonetim sinifi calisti\")\n",
    "    def info(self):\n",
    "        print(\"{} {} {} yasinda {} TL maasi olan bir ve {} olarak gorev yapan bir yonetim elemanidir\".format(self.isim,self.soyisim,self.yas,self.maas,self.birim))\n",
    "    def zam(self):\n",
    "        return self.maas * 2\n",
    "\n",
    "\n",
    "class Hizmetli(Okul):\n",
    "    def __init__(self,isim,soyisim,yas,maas):\n",
    "        super().__init__(isim,soyisim,yas,maas)\n",
    "        print(\"Hizmetli sinifi calisti\")\n",
    "    def info(self):\n",
    "        print(\"{} {} {} yasinda {} TL maasi olan bir okul elemanidir\".format(self.isim,self.soyisim,self.yas,self.maas))\n",
    "    def zam(self):\n",
    "        return self.maas * 3\n"
   ]
  },
  {
   "cell_type": "code",
   "execution_count": 162,
   "id": "0dacf037-1479-457e-b53e-714601b28158",
   "metadata": {},
   "outputs": [
    {
     "name": "stdout",
     "output_type": "stream",
     "text": [
      "Okul sinifi calisti\n"
     ]
    }
   ],
   "source": [
    "ahmet = Okul(\"ahmet\",\"korkmaz\",45,5000)"
   ]
  },
  {
   "cell_type": "code",
   "execution_count": 163,
   "id": "7dd95d4c-b7e3-4242-936f-4d7861a74406",
   "metadata": {},
   "outputs": [
    {
     "name": "stdout",
     "output_type": "stream",
     "text": [
      "Okul sinifi calisti\n",
      "Ogretmen sinifi calisti\n"
     ]
    }
   ],
   "source": [
    "ali = Ogretmen(\"ali\",\"cesur\",33,5000,\"beden\")"
   ]
  },
  {
   "cell_type": "code",
   "execution_count": 164,
   "id": "1bd2be14-5ab5-44ba-85f7-d5c738db521e",
   "metadata": {},
   "outputs": [
    {
     "name": "stdout",
     "output_type": "stream",
     "text": [
      "Okul sinifi calisti\n",
      "Yonetim sinifi calisti\n"
     ]
    }
   ],
   "source": [
    "sude = Yonetim(\"Sude\",\"Buyuk\",44,5000,\"Mudur\")"
   ]
  },
  {
   "cell_type": "code",
   "execution_count": 165,
   "id": "49db1360-fbc7-467f-aaaf-9729c7092dad",
   "metadata": {},
   "outputs": [
    {
     "name": "stdout",
     "output_type": "stream",
     "text": [
      "Okul sinifi calisti\n",
      "Hizmetli sinifi calisti\n"
     ]
    }
   ],
   "source": [
    "Selim = Hizmetli(\"selim\",\"sarar\",44,5000)"
   ]
  },
  {
   "cell_type": "code",
   "execution_count": 166,
   "id": "b6092d5c-850b-429a-9d33-40b67ce091f2",
   "metadata": {},
   "outputs": [
    {
     "data": {
      "text/plain": [
       "6000.0"
      ]
     },
     "execution_count": 166,
     "metadata": {},
     "output_type": "execute_result"
    }
   ],
   "source": [
    "ahmet.zam()"
   ]
  },
  {
   "cell_type": "code",
   "execution_count": 167,
   "id": "cec23c20-5de2-412a-86f0-1d8cdc92eff0",
   "metadata": {},
   "outputs": [
    {
     "data": {
      "text/plain": [
       "7500.0"
      ]
     },
     "execution_count": 167,
     "metadata": {},
     "output_type": "execute_result"
    }
   ],
   "source": [
    "ali.zam()"
   ]
  },
  {
   "cell_type": "code",
   "execution_count": 168,
   "id": "2ad1e679-1a49-42c1-8480-23c969153eca",
   "metadata": {},
   "outputs": [
    {
     "data": {
      "text/plain": [
       "10000"
      ]
     },
     "execution_count": 168,
     "metadata": {},
     "output_type": "execute_result"
    }
   ],
   "source": [
    "sude.zam()"
   ]
  },
  {
   "cell_type": "code",
   "execution_count": 169,
   "id": "e315f9aa-e157-4a70-9104-89adf04a16c9",
   "metadata": {},
   "outputs": [
    {
     "data": {
      "text/plain": [
       "15000"
      ]
     },
     "execution_count": 169,
     "metadata": {},
     "output_type": "execute_result"
    }
   ],
   "source": [
    "Selim.zam()"
   ]
  },
  {
   "cell_type": "markdown",
   "id": "c0e50fdf-29f8-47b6-ab3b-162cc9adb6d8",
   "metadata": {},
   "source": [
    "# Overriding"
   ]
  },
  {
   "cell_type": "code",
   "execution_count": 3,
   "id": "0ce4083b-a6dc-4226-87a8-fa63cedc8253",
   "metadata": {},
   "outputs": [],
   "source": [
    "class Okul:\n",
    "    def __init__(self,isim,soyisim,yas):\n",
    "        self.isim = isim\n",
    "        self.soyisim = soyisim\n",
    "        self.yas = yas\n",
    "        print(\"Okul sinifi calisti\")\n",
    "    def info(self):\n",
    "        print(\"{} {} {} yasinda bir okul elemanidir. \".format(self.isim,self.soyisim,self.yas))\n"
   ]
  },
  {
   "cell_type": "code",
   "execution_count": 4,
   "id": "c9266e4e-dfd9-4b91-9b6a-633a75cc2203",
   "metadata": {},
   "outputs": [
    {
     "name": "stdout",
     "output_type": "stream",
     "text": [
      "Okul sinifi calisti\n"
     ]
    }
   ],
   "source": [
    "ozge = Okul(\"Ozge\",\"Dirik\",24)"
   ]
  },
  {
   "cell_type": "code",
   "execution_count": 13,
   "id": "7e4f71ec-4d70-4e9a-8043-3a25b345b2c5",
   "metadata": {},
   "outputs": [],
   "source": [
    "class Okul:\n",
    "    def __init__(self,isim,soyisim,yas):\n",
    "        self.isim = isim\n",
    "        self.soyisim = soyisim\n",
    "        self.yas = yas\n",
    "        print(\"Okul sinifi calisti\")\n",
    "    def info(self):\n",
    "        print(\"{} {} {} yasinda bir okul elemanidir. \".format(self.isim,self.soyisim,self.yas))\n",
    "class Ogretmen(Okul):\n",
    "    def __init__(self,isim,soyisim,yas,maas,uzmanlik):\n",
    "        super().__init__(isim,soyisim,yas)\n",
    "        self.maas = maas\n",
    "        self.uzmanlik = uzmanlik\n",
    "        print(\"Ogretmen sinifi calisti\")\n",
    "        \n",
    "    def info(self):\n",
    "        print(\"{} {} {} yasinda {} TL maasi olan bir {} ogretmenidir. \".format(self.isim,self.soyisim,self.yas,self.maas,self.uzmanlik))\n"
   ]
  },
  {
   "cell_type": "code",
   "execution_count": 14,
   "id": "936006cc-80d4-4fd7-9d36-1c16784c7805",
   "metadata": {},
   "outputs": [
    {
     "name": "stdout",
     "output_type": "stream",
     "text": [
      "Okul sinifi calisti\n"
     ]
    }
   ],
   "source": [
    "ozge = Okul(\"Ozge\",\"Dirik\",24)"
   ]
  },
  {
   "cell_type": "code",
   "execution_count": 15,
   "id": "e95816e0-a6ec-49c1-b67e-1b315c86a5cb",
   "metadata": {},
   "outputs": [
    {
     "name": "stdout",
     "output_type": "stream",
     "text": [
      "Okul sinifi calisti\n",
      "Ogretmen sinifi calisti\n"
     ]
    }
   ],
   "source": [
    "selin = Ogretmen(\"selin\",\"simsek\",25,3000,\"resim\")"
   ]
  },
  {
   "cell_type": "code",
   "execution_count": 16,
   "id": "ce84cf44-2c29-45cb-8ed9-0406bb234a5c",
   "metadata": {},
   "outputs": [
    {
     "name": "stdout",
     "output_type": "stream",
     "text": [
      "selin simsek 25 yasinda 3000 TL maasi olan bir resim ogretmenidir. \n"
     ]
    }
   ],
   "source": [
    "selin.info()"
   ]
  },
  {
   "cell_type": "code",
   "execution_count": null,
   "id": "2372e7b1-7ce0-4ccf-b585-06b49f0307bd",
   "metadata": {},
   "outputs": [],
   "source": []
  },
  {
   "cell_type": "markdown",
   "id": "0c63a167-0994-48b9-9172-d12da9c42991",
   "metadata": {},
   "source": [
    "# Arbitrary Arguments , *args"
   ]
  },
  {
   "cell_type": "code",
   "execution_count": 17,
   "id": "318ca967-112b-4fed-8032-02d356d23001",
   "metadata": {},
   "outputs": [],
   "source": [
    "def topla(x,y):\n",
    "    print(x + y)"
   ]
  },
  {
   "cell_type": "code",
   "execution_count": 18,
   "id": "871188fb-b102-4e4c-9003-602c8a50d9f2",
   "metadata": {},
   "outputs": [
    {
     "name": "stdout",
     "output_type": "stream",
     "text": [
      "9\n"
     ]
    }
   ],
   "source": [
    "topla(5,4)"
   ]
  },
  {
   "cell_type": "code",
   "execution_count": 23,
   "id": "44098654-f2e5-479e-9dee-cde89781995a",
   "metadata": {},
   "outputs": [],
   "source": [
    "def topla(*args):\n",
    "    toplam = 0\n",
    "    for i in args:\n",
    "        toplam = toplam + i\n",
    "    print(toplam)"
   ]
  },
  {
   "cell_type": "code",
   "execution_count": 24,
   "id": "2125f681-43a3-4456-9e3c-62084e7ff9cd",
   "metadata": {},
   "outputs": [
    {
     "name": "stdout",
     "output_type": "stream",
     "text": [
      "26\n"
     ]
    }
   ],
   "source": [
    "topla(5,6,7,8)"
   ]
  },
  {
   "cell_type": "code",
   "execution_count": 31,
   "id": "cd543b1c-4d51-40b9-b217-46d9cbbe6ac0",
   "metadata": {},
   "outputs": [],
   "source": [
    "def isim(*args):\n",
    "    print(\"{} {} Python dersi ogrencisi\".format(args[0],args[1]))"
   ]
  },
  {
   "cell_type": "code",
   "execution_count": 32,
   "id": "f32d66e2-ad24-4f30-94c4-906db2ade287",
   "metadata": {},
   "outputs": [
    {
     "name": "stdout",
     "output_type": "stream",
     "text": [
      "Ozge Dirik Python dersi ogrencisi\n"
     ]
    }
   ],
   "source": [
    "isim(\"Ozge\",\"Dirik\")"
   ]
  },
  {
   "cell_type": "markdown",
   "id": "6d302291-fc60-4b9e-acbd-0232bd6d5623",
   "metadata": {},
   "source": [
    "# Arbitrary Keyword Arguments, **kwargs"
   ]
  },
  {
   "cell_type": "code",
   "execution_count": 33,
   "id": "69fc632b-6e89-47d7-9fb3-b4ea2f843733",
   "metadata": {},
   "outputs": [],
   "source": [
    "def kimlik(**kwargs):\n",
    "    print(\"kwargs\" , kwargs)"
   ]
  },
  {
   "cell_type": "code",
   "execution_count": 34,
   "id": "218b5625-78c7-45b7-98c0-e9eae2c73555",
   "metadata": {},
   "outputs": [
    {
     "name": "stdout",
     "output_type": "stream",
     "text": [
      "kwargs {'isim': 'Ozge', 'soyisim': 'Dirik'}\n"
     ]
    }
   ],
   "source": [
    "kimlik(isim = \"Ozge\", soyisim = \"Dirik\" )"
   ]
  },
  {
   "cell_type": "code",
   "execution_count": 48,
   "id": "bf9e00b8-1b1e-48af-8649-a7b20714857d",
   "metadata": {},
   "outputs": [],
   "source": [
    "def kimlik(**kwargs):\n",
    "    for key,value in kwargs.items():\n",
    "        print(\"keys : \" , key , \" ---- values : \" , value)"
   ]
  },
  {
   "cell_type": "code",
   "execution_count": 51,
   "id": "06cf8951-ac1f-4604-b82c-209a4ab00a72",
   "metadata": {},
   "outputs": [
    {
     "name": "stdout",
     "output_type": "stream",
     "text": [
      "keys :  isim  ---- values :  Ozge\n",
      "keys :  soyisim  ---- values :  Dirik\n"
     ]
    }
   ],
   "source": [
    "kimlik(isim = \"Ozge\", soyisim = \"Dirik\" )"
   ]
  },
  {
   "cell_type": "code",
   "execution_count": 52,
   "id": "d6cac015-9028-44c2-9674-f738c446edd3",
   "metadata": {},
   "outputs": [],
   "source": [
    "def kimlik(**kwargs):\n",
    "    for key,value in kwargs.items():\n",
    "        print(\" {} = {} \".format(key,value))"
   ]
  },
  {
   "cell_type": "code",
   "execution_count": 54,
   "id": "80d3e16c-d2f2-44e4-b7a5-aa54a01a37a4",
   "metadata": {},
   "outputs": [
    {
     "name": "stdout",
     "output_type": "stream",
     "text": [
      " isim = Ozge \n",
      " soyisim = Dirik \n",
      " yas = 24 \n",
      " tc = 46835582123 \n",
      " email = hdjsgsj@gmail.com \n",
      " anne_adi = Gulender \n"
     ]
    }
   ],
   "source": [
    "kimlik(isim = \"Ozge\", soyisim = \"Dirik\", yas = 24, tc = 46835582123, email = \"hdjsgsj@gmail.com\" , anne_adi = \"Gulender\"  )"
   ]
  },
  {
   "cell_type": "code",
   "execution_count": 59,
   "id": "93d7aaca-3eb9-4129-aa7e-6f880cbbc222",
   "metadata": {},
   "outputs": [],
   "source": [
    "def yeni(*args, **kwargs):\n",
    "    print(\"args :\" ,args , \"kwargs : \", kwargs)"
   ]
  },
  {
   "cell_type": "code",
   "execution_count": 60,
   "id": "6d44e5fe-855b-4ede-b76b-39fb33a8c11f",
   "metadata": {},
   "outputs": [
    {
     "name": "stdout",
     "output_type": "stream",
     "text": [
      "args : (1, 2, 3, 4, 5, 6, 7, 8, 9) kwargs :  {'isim': 'Ozge', 'soyisim': 'Dirik'}\n"
     ]
    }
   ],
   "source": [
    "yeni(1,2,3,4,5,6,7,8,9, isim = \"Ozge\", soyisim = \"Dirik\")"
   ]
  },
  {
   "cell_type": "code",
   "execution_count": 62,
   "id": "14bad3d1-32fc-4b0b-bd9a-f4dfc3428591",
   "metadata": {},
   "outputs": [],
   "source": [
    "def birlestir(**kwargs):\n",
    "    son = \"\"\n",
    "    for kelime in kwargs.values():\n",
    "        son = son + kelime\n",
    "    return son"
   ]
  },
  {
   "cell_type": "code",
   "execution_count": 67,
   "id": "6e5994af-54c6-4737-bc17-152222db98f6",
   "metadata": {},
   "outputs": [
    {
     "data": {
      "text/plain": [
       "'Python dunyanin en cok kullanilan programlama dilidir. '"
      ]
     },
     "execution_count": 67,
     "metadata": {},
     "output_type": "execute_result"
    }
   ],
   "source": [
    "birlestir(a=\"Python \", b=\"dunyanin \",c=\"en cok kullanilan \", d=\"programlama dilidir. \")"
   ]
  },
  {
   "cell_type": "markdown",
   "id": "32eeb31c-ca05-4823-80e3-af830388d7ae",
   "metadata": {},
   "source": [
    "# Local and Global Variables\n",
    "degisken fonksiyon icinde tanimlanirsa local disinda tanimlanirsa global degiskendir"
   ]
  },
  {
   "cell_type": "code",
   "execution_count": 69,
   "id": "cfe67bec-f41e-4372-836e-d22aad35a7c2",
   "metadata": {},
   "outputs": [
    {
     "name": "stdout",
     "output_type": "stream",
     "text": [
      "20\n"
     ]
    }
   ],
   "source": [
    "x = 20\n",
    "print(x)"
   ]
  },
  {
   "cell_type": "code",
   "execution_count": 5,
   "id": "479d06fc-30ce-42ea-be4e-bd8a9e2613ab",
   "metadata": {},
   "outputs": [
    {
     "name": "stdout",
     "output_type": "stream",
     "text": [
      "20\n"
     ]
    }
   ],
   "source": [
    "x = 20\n",
    "def fonksiyon():\n",
    "    x = 5\n",
    "    print(x)\n",
    "print(x)"
   ]
  },
  {
   "cell_type": "code",
   "execution_count": 6,
   "id": "7cfefa7c-ca27-4816-be71-87660d5ecf2e",
   "metadata": {},
   "outputs": [
    {
     "name": "stdout",
     "output_type": "stream",
     "text": [
      "5\n"
     ]
    }
   ],
   "source": [
    "fonksiyon()"
   ]
  },
  {
   "cell_type": "markdown",
   "id": "21736a98-d03a-4318-a045-06dd7f3bb632",
   "metadata": {},
   "source": [
    "# Python Lambda Function\n",
    "isimsiz fonskiyon"
   ]
  },
  {
   "cell_type": "code",
   "execution_count": 8,
   "id": "faae1855-ac1b-44ad-a65a-065a75cb2892",
   "metadata": {},
   "outputs": [],
   "source": [
    "def kare(x):\n",
    "    return x**2"
   ]
  },
  {
   "cell_type": "code",
   "execution_count": 9,
   "id": "581e7be7-67ad-4023-996f-49df300acee1",
   "metadata": {},
   "outputs": [
    {
     "data": {
      "text/plain": [
       "64"
      ]
     },
     "execution_count": 9,
     "metadata": {},
     "output_type": "execute_result"
    }
   ],
   "source": [
    "kare(8)"
   ]
  },
  {
   "cell_type": "code",
   "execution_count": 12,
   "id": "c26ec208-234a-4e94-9a3c-b56c596d797b",
   "metadata": {},
   "outputs": [],
   "source": [
    "x = lambda x:x**2"
   ]
  },
  {
   "cell_type": "code",
   "execution_count": 13,
   "id": "f6c552b7-b757-4579-83e5-7300ac60edfd",
   "metadata": {},
   "outputs": [
    {
     "data": {
      "text/plain": [
       "100"
      ]
     },
     "execution_count": 13,
     "metadata": {},
     "output_type": "execute_result"
    }
   ],
   "source": [
    "x(10)"
   ]
  },
  {
   "cell_type": "code",
   "execution_count": 20,
   "id": "b8487443-8f82-4ca6-ad07-211566d66d8b",
   "metadata": {},
   "outputs": [
    {
     "data": {
      "text/plain": [
       "[1, 3, 5, 7, 9]"
      ]
     },
     "execution_count": 20,
     "metadata": {},
     "output_type": "execute_result"
    }
   ],
   "source": [
    "x = [1,2,3,4,5,6,7,8,9,10]\n",
    "list(filter (lambda x:(x%2==1) , x ))"
   ]
  },
  {
   "cell_type": "code",
   "execution_count": 22,
   "id": "3fd740c7-e675-44ac-9188-e770b038a5e0",
   "metadata": {},
   "outputs": [
    {
     "data": {
      "text/plain": [
       "[1, 4, 9, 16, 25, 36, 49, 64, 81, 100]"
      ]
     },
     "execution_count": 22,
     "metadata": {},
     "output_type": "execute_result"
    }
   ],
   "source": [
    "x = [1,2,3,4,5,6,7,8,9,10]\n",
    "list(map(lambda x:x**2 , x))\n"
   ]
  },
  {
   "cell_type": "markdown",
   "id": "ba7a4070-6461-43f3-98cb-1102271d4c6a",
   "metadata": {},
   "source": [
    "# Some Built-in Functions"
   ]
  },
  {
   "cell_type": "markdown",
   "id": "f7163152-af2e-468a-81d0-861953ab7d58",
   "metadata": {},
   "source": [
    "##### abs() mutlak deger aliyor gibi dusunebiliriz"
   ]
  },
  {
   "cell_type": "code",
   "execution_count": 24,
   "id": "87f81541-6eaa-4dc1-9c07-02c7223bce6c",
   "metadata": {},
   "outputs": [
    {
     "data": {
      "text/plain": [
       "7.5"
      ]
     },
     "execution_count": 24,
     "metadata": {},
     "output_type": "execute_result"
    }
   ],
   "source": [
    "abs(-7.5)"
   ]
  },
  {
   "cell_type": "markdown",
   "id": "5eb0d1fc-f8f2-4fcd-96d2-7ccd8a14bf5a",
   "metadata": {},
   "source": [
    "##### bin() binary versiyonunu verir"
   ]
  },
  {
   "cell_type": "code",
   "execution_count": 25,
   "id": "f554ba32-983b-417a-83aa-7142f90ee9c1",
   "metadata": {},
   "outputs": [
    {
     "data": {
      "text/plain": [
       "'0b100'"
      ]
     },
     "execution_count": 25,
     "metadata": {},
     "output_type": "execute_result"
    }
   ],
   "source": [
    "bin(4)"
   ]
  },
  {
   "cell_type": "markdown",
   "id": "469d855e-6067-4580-87db-77be0c6c9c53",
   "metadata": {},
   "source": [
    "##### enumerate() tuple verdigimizde icindeki elemanlari ve indekslerini verir"
   ]
  },
  {
   "cell_type": "code",
   "execution_count": 26,
   "id": "5b77859e-b3f0-4096-8150-f8f57d1787dc",
   "metadata": {},
   "outputs": [],
   "source": [
    "renkler = [\"sari\",\"kirmizi\",\"beyaz\",\"yesil\",\"siyah\"]"
   ]
  },
  {
   "cell_type": "code",
   "execution_count": 28,
   "id": "27fc3b6e-bb5e-48d2-a64b-5732b7671851",
   "metadata": {},
   "outputs": [],
   "source": [
    "x = enumerate(renkler)"
   ]
  },
  {
   "cell_type": "code",
   "execution_count": 29,
   "id": "a03526b1-ef76-4ba3-8037-30359ecc7b2c",
   "metadata": {},
   "outputs": [
    {
     "data": {
      "text/plain": [
       "[(0, 'sari'), (1, 'kirmizi'), (2, 'beyaz'), (3, 'yesil'), (4, 'siyah')]"
      ]
     },
     "execution_count": 29,
     "metadata": {},
     "output_type": "execute_result"
    }
   ],
   "source": [
    "list(x)"
   ]
  },
  {
   "cell_type": "code",
   "execution_count": 30,
   "id": "efbc00e7-ca36-42bc-a145-cd130b671d75",
   "metadata": {},
   "outputs": [
    {
     "name": "stdout",
     "output_type": "stream",
     "text": [
      "0 sari\n",
      "1 kirmizi\n",
      "2 beyaz\n",
      "3 yesil\n",
      "4 siyah\n"
     ]
    }
   ],
   "source": [
    "for index,renk in enumerate(renkler):\n",
    "    print(index,renk)"
   ]
  },
  {
   "cell_type": "markdown",
   "id": "b88c701a-8303-42d1-adc7-f1d224326e59",
   "metadata": {},
   "source": [
    "##### max() ve min()"
   ]
  },
  {
   "cell_type": "code",
   "execution_count": 38,
   "id": "4f8ae9a9-dc31-40d5-8177-ece86c7ebf71",
   "metadata": {},
   "outputs": [],
   "source": [
    "x = [2,3,4,5,7,8,9,1,23,44,56,79]"
   ]
  },
  {
   "cell_type": "code",
   "execution_count": 39,
   "id": "2c8f63d8-d5ad-4a35-884a-fbb40fd95fe7",
   "metadata": {},
   "outputs": [
    {
     "data": {
      "text/plain": [
       "79"
      ]
     },
     "execution_count": 39,
     "metadata": {},
     "output_type": "execute_result"
    }
   ],
   "source": [
    "max(x)"
   ]
  },
  {
   "cell_type": "code",
   "execution_count": 40,
   "id": "02b812ef-c80b-4e21-a6bd-d8a29c115737",
   "metadata": {},
   "outputs": [
    {
     "data": {
      "text/plain": [
       "1"
      ]
     },
     "execution_count": 40,
     "metadata": {},
     "output_type": "execute_result"
    }
   ],
   "source": [
    "min(x)"
   ]
  },
  {
   "cell_type": "code",
   "execution_count": 41,
   "id": "f394b7a5-f9f8-4f43-8c3f-e17cc57a6680",
   "metadata": {},
   "outputs": [],
   "source": [
    "y = [\"c\",\"s\",\"h\",\"l\",\"v\"]"
   ]
  },
  {
   "cell_type": "code",
   "execution_count": 42,
   "id": "8abb4d88-b8db-49c2-a1c6-43fd770adfd7",
   "metadata": {},
   "outputs": [
    {
     "data": {
      "text/plain": [
       "'v'"
      ]
     },
     "execution_count": 42,
     "metadata": {},
     "output_type": "execute_result"
    }
   ],
   "source": [
    "max(y)"
   ]
  },
  {
   "cell_type": "code",
   "execution_count": 43,
   "id": "4545c568-a179-439a-b665-8307998d666f",
   "metadata": {},
   "outputs": [
    {
     "data": {
      "text/plain": [
       "'c'"
      ]
     },
     "execution_count": 43,
     "metadata": {},
     "output_type": "execute_result"
    }
   ],
   "source": [
    "min(y)"
   ]
  },
  {
   "cell_type": "markdown",
   "id": "865c0a42-3379-4531-b77a-22c1da1585f6",
   "metadata": {},
   "source": [
    "##### pow() power off (ussu gibi dusunebiliriz)\n",
    "pow(2,5,10) seklinde ucuncu verilen modunu alir"
   ]
  },
  {
   "cell_type": "code",
   "execution_count": 46,
   "id": "774ba9c7-1f06-4076-9ce2-462c9530043b",
   "metadata": {},
   "outputs": [
    {
     "data": {
      "text/plain": [
       "32"
      ]
     },
     "execution_count": 46,
     "metadata": {},
     "output_type": "execute_result"
    }
   ],
   "source": [
    "pow(2,5)"
   ]
  },
  {
   "cell_type": "code",
   "execution_count": 47,
   "id": "c87205c4-9326-4475-899f-96d1468152c8",
   "metadata": {},
   "outputs": [
    {
     "data": {
      "text/plain": [
       "2"
      ]
     },
     "execution_count": 47,
     "metadata": {},
     "output_type": "execute_result"
    }
   ],
   "source": [
    "pow(2,5,10)"
   ]
  },
  {
   "cell_type": "markdown",
   "id": "3e1861a9-0b45-4f2a-9956-80f5694494ab",
   "metadata": {},
   "source": [
    "##### reversed() \n",
    "siralama yapmadan tamamen ters hale getirir "
   ]
  },
  {
   "cell_type": "code",
   "execution_count": 48,
   "id": "2145dec6-e035-4b85-9e78-d0197bfc8503",
   "metadata": {},
   "outputs": [],
   "source": [
    "x = [2,3,4,5,7,8,9,1,23,44,56,79]"
   ]
  },
  {
   "cell_type": "code",
   "execution_count": 50,
   "id": "8c860968-4c0c-4e82-aaf4-732d536c279f",
   "metadata": {},
   "outputs": [],
   "source": [
    "y = reversed(x)"
   ]
  },
  {
   "cell_type": "code",
   "execution_count": 52,
   "id": "ab0ad4a2-ff94-41e3-bccc-d0ad446f32b1",
   "metadata": {},
   "outputs": [
    {
     "data": {
      "text/plain": [
       "[79, 56, 44, 23, 1, 9, 8, 7, 5, 4, 3, 2]"
      ]
     },
     "execution_count": 52,
     "metadata": {},
     "output_type": "execute_result"
    }
   ],
   "source": [
    "list(y)"
   ]
  },
  {
   "cell_type": "markdown",
   "id": "afdcec45-a0a5-47e4-8c7a-c31644b8695e",
   "metadata": {},
   "source": [
    "##### round() \n",
    "yuvarlar"
   ]
  },
  {
   "cell_type": "code",
   "execution_count": 56,
   "id": "1b8ca3c2-1245-41a4-a8c5-6be5df51d5f9",
   "metadata": {},
   "outputs": [
    {
     "data": {
      "text/plain": [
       "3.1"
      ]
     },
     "execution_count": 56,
     "metadata": {},
     "output_type": "execute_result"
    }
   ],
   "source": [
    "round(3.14567,1)"
   ]
  },
  {
   "cell_type": "code",
   "execution_count": 57,
   "id": "6e313037-48ef-432c-ad46-6c5a17010ebe",
   "metadata": {},
   "outputs": [
    {
     "data": {
      "text/plain": [
       "3.15"
      ]
     },
     "execution_count": 57,
     "metadata": {},
     "output_type": "execute_result"
    }
   ],
   "source": [
    "round(3.14567,2)"
   ]
  },
  {
   "cell_type": "code",
   "execution_count": 58,
   "id": "d0272554-277d-479e-b278-76bd33c2ce74",
   "metadata": {},
   "outputs": [
    {
     "data": {
      "text/plain": [
       "3.1457"
      ]
     },
     "execution_count": 58,
     "metadata": {},
     "output_type": "execute_result"
    }
   ],
   "source": [
    "round(3.14567,4)"
   ]
  },
  {
   "cell_type": "code",
   "execution_count": 59,
   "id": "c7e7fb61-a8af-4b61-ab23-5852405efebe",
   "metadata": {},
   "outputs": [
    {
     "data": {
      "text/plain": [
       "3.55"
      ]
     },
     "execution_count": 59,
     "metadata": {},
     "output_type": "execute_result"
    }
   ],
   "source": [
    "round(3.54567,2)"
   ]
  },
  {
   "cell_type": "markdown",
   "id": "a68a0a33-3cc1-4639-9713-351030b597af",
   "metadata": {},
   "source": [
    "##### sorted()\n",
    "siralar"
   ]
  },
  {
   "cell_type": "code",
   "execution_count": 60,
   "id": "8e069730-40d5-44b8-86a2-2cf970d94f8b",
   "metadata": {},
   "outputs": [],
   "source": [
    "x = [2,3,4,5,7,8,9,1,23,44,56,79]"
   ]
  },
  {
   "cell_type": "code",
   "execution_count": 65,
   "id": "6942b195-a015-4182-8488-2d92530dfd8a",
   "metadata": {},
   "outputs": [
    {
     "data": {
      "text/plain": [
       "[1, 2, 3, 4, 5, 7, 8, 9, 23, 44, 56, 79]"
      ]
     },
     "execution_count": 65,
     "metadata": {},
     "output_type": "execute_result"
    }
   ],
   "source": [
    "sorted(x , reverse = False)"
   ]
  },
  {
   "cell_type": "code",
   "execution_count": 66,
   "id": "6f2154a6-b999-4c1a-bcdf-e1d84fbc84bc",
   "metadata": {},
   "outputs": [
    {
     "data": {
      "text/plain": [
       "[79, 56, 44, 23, 9, 8, 7, 5, 4, 3, 2, 1]"
      ]
     },
     "execution_count": 66,
     "metadata": {},
     "output_type": "execute_result"
    }
   ],
   "source": [
    "sorted(x , reverse = True)"
   ]
  },
  {
   "cell_type": "code",
   "execution_count": null,
   "id": "497a264b-3e12-4265-a142-359534bd3c6f",
   "metadata": {},
   "outputs": [],
   "source": [
    "##### "
   ]
  },
  {
   "cell_type": "code",
   "execution_count": null,
   "id": "35a51acc-141a-4344-8da9-6c794e5dedd6",
   "metadata": {},
   "outputs": [],
   "source": [
    "x = [2,3,4,5,7,8,9,1,23,44,56,79]"
   ]
  },
  {
   "cell_type": "code",
   "execution_count": 67,
   "id": "42e06674-f14c-4c91-b1dd-41d301449293",
   "metadata": {},
   "outputs": [
    {
     "data": {
      "text/plain": [
       "241"
      ]
     },
     "execution_count": 67,
     "metadata": {},
     "output_type": "execute_result"
    }
   ],
   "source": [
    "sum(x)"
   ]
  },
  {
   "cell_type": "markdown",
   "id": "bc1496d6-2a65-40c0-8b23-9c4f95ca1d71",
   "metadata": {},
   "source": [
    "##### zip()\n",
    "ikiden fazla olan donebilir tuple gibi nesneleri birlestirir eslestirir"
   ]
  },
  {
   "cell_type": "code",
   "execution_count": 70,
   "id": "0ba1a88b-c160-4991-b78c-0f25862f7828",
   "metadata": {},
   "outputs": [],
   "source": [
    "x = [1,2,3,4]\n",
    "renkler = [\"sari\",\"kirmizi\",\"beyaz\",\"yesil\"]"
   ]
  },
  {
   "cell_type": "code",
   "execution_count": 71,
   "id": "8298eca7-cc76-4fe6-8e51-402a6d91f9db",
   "metadata": {},
   "outputs": [
    {
     "data": {
      "text/plain": [
       "[(1, 'sari'), (2, 'kirmizi'), (3, 'beyaz'), (4, 'yesil')]"
      ]
     },
     "execution_count": 71,
     "metadata": {},
     "output_type": "execute_result"
    }
   ],
   "source": [
    "list(zip(x,renkler))"
   ]
  },
  {
   "cell_type": "code",
   "execution_count": null,
   "id": "9f438a3d-7254-43d2-a68b-7e295286c417",
   "metadata": {},
   "outputs": [],
   "source": []
  }
 ],
 "metadata": {
  "kernelspec": {
   "display_name": "Python 3 (ipykernel)",
   "language": "python",
   "name": "python3"
  },
  "language_info": {
   "codemirror_mode": {
    "name": "ipython",
    "version": 3
   },
   "file_extension": ".py",
   "mimetype": "text/x-python",
   "name": "python",
   "nbconvert_exporter": "python",
   "pygments_lexer": "ipython3",
   "version": "3.12.4"
  }
 },
 "nbformat": 4,
 "nbformat_minor": 5
}
