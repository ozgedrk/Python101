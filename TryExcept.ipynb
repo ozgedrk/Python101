{
 "cells": [
  {
   "cell_type": "markdown",
   "id": "eb2fd97f-2cc5-4384-8b9d-267fc937fc2a",
   "metadata": {},
   "source": [
    "# Hatalar ve Istisnalar\n"
   ]
  },
  {
   "cell_type": "code",
   "execution_count": 3,
   "id": "db8e1317-c488-44ca-98f0-10c1b5e8d7e1",
   "metadata": {},
   "outputs": [
    {
     "ename": "IndentationError",
     "evalue": "expected an indented block after function definition on line 1 (3396009160.py, line 2)",
     "output_type": "error",
     "traceback": [
      "\u001b[1;36m  Cell \u001b[1;32mIn[3], line 2\u001b[1;36m\u001b[0m\n\u001b[1;33m    print(x+y)\u001b[0m\n\u001b[1;37m    ^\u001b[0m\n\u001b[1;31mIndentationError\u001b[0m\u001b[1;31m:\u001b[0m expected an indented block after function definition on line 1\n"
     ]
    }
   ],
   "source": [
    "def topla(x,y):\n",
    "print(x+y)"
   ]
  },
  {
   "cell_type": "code",
   "execution_count": 5,
   "id": "ee890c7b-4727-41a5-a284-c347df6db890",
   "metadata": {},
   "outputs": [
    {
     "ename": "SyntaxError",
     "evalue": "expected ':' (1349777263.py, line 1)",
     "output_type": "error",
     "traceback": [
      "\u001b[1;36m  Cell \u001b[1;32mIn[5], line 1\u001b[1;36m\u001b[0m\n\u001b[1;33m    if 5 > 1\u001b[0m\n\u001b[1;37m             ^\u001b[0m\n\u001b[1;31mSyntaxError\u001b[0m\u001b[1;31m:\u001b[0m expected ':'\n"
     ]
    }
   ],
   "source": [
    "if 5 > 1 \n",
    "    print(\"5 buyuktur 1\")"
   ]
  },
  {
   "cell_type": "code",
   "execution_count": 6,
   "id": "dbafb20d-4010-4289-8b51-3407cf5fd671",
   "metadata": {},
   "outputs": [
    {
     "ename": "TypeError",
     "evalue": "unsupported operand type(s) for +: 'int' and 'str'",
     "output_type": "error",
     "traceback": [
      "\u001b[1;31m---------------------------------------------------------------------------\u001b[0m",
      "\u001b[1;31mTypeError\u001b[0m                                 Traceback (most recent call last)",
      "Cell \u001b[1;32mIn[6], line 3\u001b[0m\n\u001b[0;32m      1\u001b[0m x \u001b[38;5;241m=\u001b[39m \u001b[38;5;241m5\u001b[39m\n\u001b[0;32m      2\u001b[0m y \u001b[38;5;241m=\u001b[39m \u001b[38;5;124m\"\u001b[39m\u001b[38;5;124m10\u001b[39m\u001b[38;5;124m\"\u001b[39m\n\u001b[1;32m----> 3\u001b[0m \u001b[43mx\u001b[49m\u001b[43m \u001b[49m\u001b[38;5;241;43m+\u001b[39;49m\u001b[43m \u001b[49m\u001b[43my\u001b[49m \n",
      "\u001b[1;31mTypeError\u001b[0m: unsupported operand type(s) for +: 'int' and 'str'"
     ]
    }
   ],
   "source": [
    "x = 5\n",
    "y = \"10\"\n",
    "x + y "
   ]
  },
  {
   "cell_type": "code",
   "execution_count": 11,
   "id": "8efe3ee9-341e-4853-a5a6-9ebe72e8515f",
   "metadata": {},
   "outputs": [
    {
     "name": "stdin",
     "output_type": "stream",
     "text": [
      "Bir sayi giriniz :  11\n",
      "Ikinci sayiyi giriniz :  ss\n"
     ]
    },
    {
     "ename": "ValueError",
     "evalue": "invalid literal for int() with base 10: 'ss'",
     "output_type": "error",
     "traceback": [
      "\u001b[1;31m---------------------------------------------------------------------------\u001b[0m",
      "\u001b[1;31mValueError\u001b[0m                                Traceback (most recent call last)",
      "Cell \u001b[1;32mIn[11], line 2\u001b[0m\n\u001b[0;32m      1\u001b[0m x \u001b[38;5;241m=\u001b[39m \u001b[38;5;28mint\u001b[39m(\u001b[38;5;28minput\u001b[39m(\u001b[38;5;124m\"\u001b[39m\u001b[38;5;124mBir sayi giriniz : \u001b[39m\u001b[38;5;124m\"\u001b[39m))\n\u001b[1;32m----> 2\u001b[0m y \u001b[38;5;241m=\u001b[39m \u001b[38;5;28;43mint\u001b[39;49m\u001b[43m(\u001b[49m\u001b[38;5;28;43minput\u001b[39;49m\u001b[43m(\u001b[49m\u001b[38;5;124;43m\"\u001b[39;49m\u001b[38;5;124;43mIkinci sayiyi giriniz : \u001b[39;49m\u001b[38;5;124;43m\"\u001b[39;49m\u001b[43m)\u001b[49m\u001b[43m)\u001b[49m\n\u001b[0;32m      4\u001b[0m x \u001b[38;5;241m+\u001b[39m y\n",
      "\u001b[1;31mValueError\u001b[0m: invalid literal for int() with base 10: 'ss'"
     ]
    }
   ],
   "source": [
    "x = int(input(\"Bir sayi giriniz : \"))\n",
    "y = int(input(\"Ikinci sayiyi giriniz : \"))\n",
    "\n",
    "x + y"
   ]
  },
  {
   "cell_type": "code",
   "execution_count": 12,
   "id": "46cb40bb-9dce-4d41-8f71-db48a65c82e8",
   "metadata": {},
   "outputs": [
    {
     "name": "stdin",
     "output_type": "stream",
     "text": [
      "Bir sayi giriniz :  10\n",
      "Ikinci sayiyi giriniz :  0\n"
     ]
    },
    {
     "ename": "ZeroDivisionError",
     "evalue": "division by zero",
     "output_type": "error",
     "traceback": [
      "\u001b[1;31m---------------------------------------------------------------------------\u001b[0m",
      "\u001b[1;31mZeroDivisionError\u001b[0m                         Traceback (most recent call last)",
      "Cell \u001b[1;32mIn[12], line 4\u001b[0m\n\u001b[0;32m      1\u001b[0m x \u001b[38;5;241m=\u001b[39m \u001b[38;5;28mint\u001b[39m(\u001b[38;5;28minput\u001b[39m(\u001b[38;5;124m\"\u001b[39m\u001b[38;5;124mBir sayi giriniz : \u001b[39m\u001b[38;5;124m\"\u001b[39m))\n\u001b[0;32m      2\u001b[0m y \u001b[38;5;241m=\u001b[39m \u001b[38;5;28mint\u001b[39m(\u001b[38;5;28minput\u001b[39m(\u001b[38;5;124m\"\u001b[39m\u001b[38;5;124mIkinci sayiyi giriniz : \u001b[39m\u001b[38;5;124m\"\u001b[39m))\n\u001b[1;32m----> 4\u001b[0m \u001b[43mx\u001b[49m\u001b[43m \u001b[49m\u001b[38;5;241;43m/\u001b[39;49m\u001b[43m \u001b[49m\u001b[43my\u001b[49m\n",
      "\u001b[1;31mZeroDivisionError\u001b[0m: division by zero"
     ]
    }
   ],
   "source": [
    "x = int(input(\"Bir sayi giriniz : \"))\n",
    "y = int(input(\"Ikinci sayiyi giriniz : \"))\n",
    "\n",
    "x / y"
   ]
  },
  {
   "cell_type": "code",
   "execution_count": 29,
   "id": "d4a2c1d4-19ac-480d-baa8-1bca58e2e539",
   "metadata": {},
   "outputs": [
    {
     "name": "stdin",
     "output_type": "stream",
     "text": [
      "Bir sayi giriniz :  34\n",
      "Ikinci sayiyi giriniz :  0\n"
     ]
    },
    {
     "name": "stdout",
     "output_type": "stream",
     "text": [
      "34\n",
      "Sifirdan farkli bir deger giriniz\n"
     ]
    }
   ],
   "source": [
    "try:\n",
    "    x = int(input(\"Bir sayi giriniz : \"))\n",
    "    y = int(input(\"Ikinci sayiyi giriniz : \"))\n",
    "    print( x + y)\n",
    "    print( x /y)\n",
    "\n",
    "except ValueError:\n",
    "    print(\"Lutfen bir sayi giriniz\")\n",
    "except TypeError:\n",
    "    print(\"Hatali veri tipi\")\n",
    "except ZeroDivisionError:\n",
    "    print(\"Sifirdan farkli bir deger giriniz\")\n"
   ]
  },
  {
   "cell_type": "code",
   "execution_count": 34,
   "id": "b64bcf90-7fd3-4d14-ab79-5bc97bc42119",
   "metadata": {},
   "outputs": [
    {
     "name": "stdin",
     "output_type": "stream",
     "text": [
      "Bir sayi giriniz :  11\n",
      "Ikinci sayiyi giriniz :  0\n"
     ]
    },
    {
     "name": "stdout",
     "output_type": "stream",
     "text": [
      "11\n",
      "Hata olustu\n"
     ]
    }
   ],
   "source": [
    "try:\n",
    "    x = int(input(\"Bir sayi giriniz : \"))\n",
    "    y = int(input(\"Ikinci sayiyi giriniz : \"))\n",
    "    print( x + y)\n",
    "    print( x / y)\n",
    "\n",
    "except (ValueError,TypeError,ZeroDivisionError):\n",
    "    print(\"Hata olustu\")\n"
   ]
  },
  {
   "cell_type": "code",
   "execution_count": 41,
   "id": "ac465e42-6bea-4d95-812f-1f235c274ed3",
   "metadata": {},
   "outputs": [
    {
     "name": "stdin",
     "output_type": "stream",
     "text": [
      "Bir sayi giriniz :  11\n",
      "Ikinci sayiyi giriniz :  11\n"
     ]
    },
    {
     "name": "stdout",
     "output_type": "stream",
     "text": [
      "toplam =  22\n",
      "bolum =  1.0\n",
      "Problem yok\n"
     ]
    }
   ],
   "source": [
    "try:\n",
    "    x = int(input(\"Bir sayi giriniz : \"))\n",
    "    y = int(input(\"Ikinci sayiyi giriniz : \"))\n",
    "    print( \"toplam = \" ,  x + y)\n",
    "    print( \"bolum = \" , x / y)\n",
    "except :\n",
    "    print(\"Hata olustu\")\n",
    "else :\n",
    "    print(\"Problem yok\")"
   ]
  },
  {
   "cell_type": "code",
   "execution_count": 44,
   "id": "f2297ca9-53fd-43aa-a57a-1455026d0f4f",
   "metadata": {},
   "outputs": [
    {
     "name": "stdin",
     "output_type": "stream",
     "text": [
      "Bir sayi giriniz :  11\n",
      "Ikinci sayiyi giriniz :  0\n"
     ]
    },
    {
     "name": "stdout",
     "output_type": "stream",
     "text": [
      "Hata olustu\n",
      "Ne olursa olsun calisacak\n"
     ]
    }
   ],
   "source": [
    "try:\n",
    "    x = int(input(\"Bir sayi giriniz : \"))\n",
    "    y = int(input(\"Ikinci sayiyi giriniz : \"))\n",
    "    print( \"bolum = \" , x / y)\n",
    "except :\n",
    "    print(\"Hata olustu\")\n",
    "finally:\n",
    "    print(\"Ne olursa olsun calisacak\")"
   ]
  },
  {
   "cell_type": "code",
   "execution_count": 48,
   "id": "905f4b24-fbb9-4432-a618-bf87891051f4",
   "metadata": {},
   "outputs": [
    {
     "name": "stdin",
     "output_type": "stream",
     "text": [
      "Bir sayi giriniz :  0\n"
     ]
    },
    {
     "ename": "Exception",
     "evalue": "Lutfen sifirdan farkli bir deger giriniz",
     "output_type": "error",
     "traceback": [
      "\u001b[1;31m---------------------------------------------------------------------------\u001b[0m",
      "\u001b[1;31mException\u001b[0m                                 Traceback (most recent call last)",
      "Cell \u001b[1;32mIn[48], line 4\u001b[0m\n\u001b[0;32m      1\u001b[0m x \u001b[38;5;241m=\u001b[39m \u001b[38;5;28mint\u001b[39m(\u001b[38;5;28minput\u001b[39m(\u001b[38;5;124m\"\u001b[39m\u001b[38;5;124mBir sayi giriniz : \u001b[39m\u001b[38;5;124m\"\u001b[39m))\n\u001b[0;32m      3\u001b[0m \u001b[38;5;28;01mif\u001b[39;00m x \u001b[38;5;241m==\u001b[39m \u001b[38;5;241m0\u001b[39m:\n\u001b[1;32m----> 4\u001b[0m     \u001b[38;5;28;01mraise\u001b[39;00m \u001b[38;5;167;01mException\u001b[39;00m(\u001b[38;5;124m\"\u001b[39m\u001b[38;5;124mLutfen sifirdan farkli bir deger giriniz\u001b[39m\u001b[38;5;124m\"\u001b[39m)\n\u001b[0;32m      5\u001b[0m \u001b[38;5;28;01melse\u001b[39;00m:\n\u001b[0;32m      6\u001b[0m     \u001b[38;5;28mprint\u001b[39m(x)\n",
      "\u001b[1;31mException\u001b[0m: Lutfen sifirdan farkli bir deger giriniz"
     ]
    }
   ],
   "source": [
    "x = int(input(\"Bir sayi giriniz : \"))\n",
    "\n",
    "if x == 0:\n",
    "    raise Exception(\"Lutfen sifirdan farkli bir deger giriniz\")\n",
    "else:\n",
    "    print(x)"
   ]
  },
  {
   "cell_type": "code",
   "execution_count": 49,
   "id": "c30b8623-74ec-41cf-8788-a6897ae3154d",
   "metadata": {},
   "outputs": [],
   "source": [
    "class SifirHatasi(Exception):\n",
    "    pass"
   ]
  },
  {
   "cell_type": "code",
   "execution_count": 50,
   "id": "b5c3d6a7-9cea-4cc5-a277-f3532a220ae5",
   "metadata": {},
   "outputs": [
    {
     "name": "stdin",
     "output_type": "stream",
     "text": [
      "Bir sayi giriniz :  0\n"
     ]
    },
    {
     "ename": "SifirHatasi",
     "evalue": "Lutfen sifirdan farkli bir deger giriniz",
     "output_type": "error",
     "traceback": [
      "\u001b[1;31m---------------------------------------------------------------------------\u001b[0m",
      "\u001b[1;31mSifirHatasi\u001b[0m                               Traceback (most recent call last)",
      "Cell \u001b[1;32mIn[50], line 4\u001b[0m\n\u001b[0;32m      1\u001b[0m x \u001b[38;5;241m=\u001b[39m \u001b[38;5;28mint\u001b[39m(\u001b[38;5;28minput\u001b[39m(\u001b[38;5;124m\"\u001b[39m\u001b[38;5;124mBir sayi giriniz : \u001b[39m\u001b[38;5;124m\"\u001b[39m))\n\u001b[0;32m      3\u001b[0m \u001b[38;5;28;01mif\u001b[39;00m x \u001b[38;5;241m==\u001b[39m \u001b[38;5;241m0\u001b[39m:\n\u001b[1;32m----> 4\u001b[0m     \u001b[38;5;28;01mraise\u001b[39;00m SifirHatasi(\u001b[38;5;124m\"\u001b[39m\u001b[38;5;124mLutfen sifirdan farkli bir deger giriniz\u001b[39m\u001b[38;5;124m\"\u001b[39m)\n\u001b[0;32m      5\u001b[0m \u001b[38;5;28;01melse\u001b[39;00m:\n\u001b[0;32m      6\u001b[0m     \u001b[38;5;28mprint\u001b[39m(x)\n",
      "\u001b[1;31mSifirHatasi\u001b[0m: Lutfen sifirdan farkli bir deger giriniz"
     ]
    }
   ],
   "source": [
    "x = int(input(\"Bir sayi giriniz : \"))\n",
    "\n",
    "if x == 0:\n",
    "    raise SifirHatasi(\"Lutfen sifirdan farkli bir deger giriniz\")\n",
    "else:\n",
    "    print(x)"
   ]
  },
  {
   "cell_type": "code",
   "execution_count": null,
   "id": "58a9832c-937c-4d1f-969f-97c6786e992f",
   "metadata": {},
   "outputs": [],
   "source": []
  }
 ],
 "metadata": {
  "kernelspec": {
   "display_name": "Python 3 (ipykernel)",
   "language": "python",
   "name": "python3"
  },
  "language_info": {
   "codemirror_mode": {
    "name": "ipython",
    "version": 3
   },
   "file_extension": ".py",
   "mimetype": "text/x-python",
   "name": "python",
   "nbconvert_exporter": "python",
   "pygments_lexer": "ipython3",
   "version": "3.12.4"
  }
 },
 "nbformat": 4,
 "nbformat_minor": 5
}
